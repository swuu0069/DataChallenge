{
 "cells": [
  {
   "cell_type": "markdown",
   "metadata": {},
   "source": [
    "# Introducing Python, Part 2"
   ]
  },
  {
   "cell_type": "markdown",
   "metadata": {},
   "source": [
    "## Contents"
   ]
  },
  {
   "cell_type": "markdown",
   "metadata": {},
   "source": [
    "* Getting Help\n",
    "* Variables\n",
    "* Functions\n",
    "* Exercises"
   ]
  },
  {
   "cell_type": "markdown",
   "metadata": {},
   "source": [
    "## Getting Help"
   ]
  },
  {
   "cell_type": "markdown",
   "metadata": {},
   "source": [
    "### Python Help"
   ]
  },
  {
   "cell_type": "markdown",
   "metadata": {},
   "source": [
    "The simplest form of help is to use the Python `help()` command. This displays the `docstring` associated with\n",
    "a function or object. We will discuss *docstrings* in more detail later. For example, if we want to know about the builtin `len` function we can type:"
   ]
  },
  {
   "cell_type": "code",
   "execution_count": 1,
   "metadata": {},
   "outputs": [
    {
     "name": "stdout",
     "output_type": "stream",
     "text": [
      "Help on built-in function len in module builtins:\n",
      "\n",
      "len(obj, /)\n",
      "    Return the number of items in a container.\n",
      "\n"
     ]
    }
   ],
   "source": [
    "help(len)"
   ]
  },
  {
   "cell_type": "markdown",
   "metadata": {},
   "source": [
    "You might have noticed this before, but you can see here that Jupyter displays the output for the last command in the cell.\n",
    "\n",
    "This tells us details about the function, as well as the arguments and what the functions returns."
   ]
  },
  {
   "cell_type": "markdown",
   "metadata": {},
   "source": [
    "### Jupyter Shortcuts"
   ]
  },
  {
   "cell_type": "markdown",
   "metadata": {},
   "source": [
    "As `help()` is so useful, Jupyter uses the shorthand `?` for the help documentation. Rather than output to the Jupyter notebook, this will open a window with the details of the object. To find out about the `print` function, \n",
    "we can type (you will need to run the cell to see the output):"
   ]
  },
  {
   "cell_type": "code",
   "execution_count": 2,
   "metadata": {},
   "outputs": [],
   "source": [
    "print?"
   ]
  },
  {
   "cell_type": "markdown",
   "metadata": {},
   "source": [
    "This can also be used to find documentation for object methods. To find the documentation for the `count()` method for strings run the following cell:"
   ]
  },
  {
   "cell_type": "code",
   "execution_count": 3,
   "metadata": {},
   "outputs": [],
   "source": [
    "str.count?"
   ]
  },
  {
   "cell_type": "markdown",
   "metadata": {},
   "source": [
    "Alternatively we could assign a variable and then find the documentation for a method for that object. In the following case `L` is a list:"
   ]
  },
  {
   "cell_type": "code",
   "execution_count": 4,
   "metadata": {},
   "outputs": [],
   "source": [
    "L = [1, 2, 3]\n",
    "L.insert?"
   ]
  },
  {
   "cell_type": "markdown",
   "metadata": {},
   "source": [
    "Now we know how to add a variable to the list using (recall that `index=2` is the third position in the list):"
   ]
  },
  {
   "cell_type": "code",
   "execution_count": 5,
   "metadata": {},
   "outputs": [
    {
     "name": "stdout",
     "output_type": "stream",
     "text": [
      "[1, 2, 5, 3]\n"
     ]
    }
   ],
   "source": [
    "L.insert(2,5)\n",
    "print(L)"
   ]
  },
  {
   "cell_type": "markdown",
   "metadata": {},
   "source": [
    "We can even find the documentation about the object:"
   ]
  },
  {
   "cell_type": "code",
   "execution_count": 6,
   "metadata": {},
   "outputs": [],
   "source": [
    "L?"
   ]
  },
  {
   "cell_type": "markdown",
   "metadata": {},
   "source": [
    "To find out the methods that are associated with an object we can use tab completion. In the following cell, type `L.<TAB>` to see the methods associated with lists. A popup menu will appear with the various methods."
   ]
  },
  {
   "cell_type": "code",
   "execution_count": null,
   "metadata": {},
   "outputs": [],
   "source": []
  },
  {
   "cell_type": "markdown",
   "metadata": {},
   "source": [
    "This can be refined by typing the first or several characters of the name. In the following cell type `L.c<TAB>` to see the methods starting with `c`. Then type `L.cou<TAB>` which will complete the line as there is only one method starting with `cou`."
   ]
  },
  {
   "cell_type": "code",
   "execution_count": null,
   "metadata": {},
   "outputs": [],
   "source": []
  },
  {
   "cell_type": "markdown",
   "metadata": {},
   "source": [
    "To find objects or methods which contain a particular string we can use wildcard matching using the * character. The * character will match any string, including the empty string. For example, to find builtin functions or objects which start with `m`, run the following cell:"
   ]
  },
  {
   "cell_type": "code",
   "execution_count": 7,
   "metadata": {},
   "outputs": [],
   "source": [
    "m*?"
   ]
  },
  {
   "cell_type": "markdown",
   "metadata": {},
   "source": [
    "To find builtin functions which contain the string `all`, run the following cell:"
   ]
  },
  {
   "cell_type": "code",
   "execution_count": 8,
   "metadata": {},
   "outputs": [],
   "source": [
    "*all*?"
   ]
  },
  {
   "cell_type": "markdown",
   "metadata": {},
   "source": [
    "Then, we can view the documentation for any of these objects by using the `help` function or the ? shortcut."
   ]
  },
  {
   "cell_type": "markdown",
   "metadata": {},
   "source": [
    "## Variables"
   ]
  },
  {
   "cell_type": "markdown",
   "metadata": {},
   "source": [
    "Last week we introduced the basic types of variables such as strings, integers and floats. This week we will investigate some of the more complex types of variables that Python supports to store data collections."
   ]
  },
  {
   "cell_type": "markdown",
   "metadata": {},
   "source": [
    "### Sets"
   ]
  },
  {
   "cell_type": "markdown",
   "metadata": {},
   "source": [
    "A set is an unordered data collection without any duplicates. The sets can have any type of variables such as string, integers, floats or Boolean, or they can be made up of mixtures of these types of variables. Sets are useful for finding the unique elements in a list, and because they are unordered, for calculating set properties such as intersections, unions and differences."
   ]
  },
  {
   "cell_type": "code",
   "execution_count": 9,
   "metadata": {},
   "outputs": [],
   "source": [
    "# in this cell lookup the documentation for sets and find out the methods associated with sets\n"
   ]
  },
  {
   "cell_type": "markdown",
   "metadata": {},
   "source": [
    "We can define a set variable using parentheses (curly brackets) as:"
   ]
  },
  {
   "cell_type": "code",
   "execution_count": 10,
   "metadata": {},
   "outputs": [
    {
     "name": "stdout",
     "output_type": "stream",
     "text": [
      "{1, 2, 3, 5, 8, 9, -1}\n"
     ]
    }
   ],
   "source": [
    "set1 = {9,1,-1,5,2,8,3, 8}\n",
    "print(set1) # Note duplicates are removed."
   ]
  },
  {
   "cell_type": "markdown",
   "metadata": {},
   "source": [
    "Alternatively we can use the `set` function (note that round brackets are now used):"
   ]
  },
  {
   "cell_type": "code",
   "execution_count": 11,
   "metadata": {},
   "outputs": [
    {
     "name": "stdout",
     "output_type": "stream",
     "text": [
      "{False, True}\n"
     ]
    }
   ],
   "source": [
    "set2 = set((True, False, True, True, False))\n",
    "print(set2)"
   ]
  },
  {
   "cell_type": "markdown",
   "metadata": {},
   "source": [
    "Set allows `if item in set`, `len(set)` and `for item in set` operations. However it does not support indexing and \n",
    "slicing like lists. Hence we check on whether an item is in a set, or iterate over the elements of a set:"
   ]
  },
  {
   "cell_type": "code",
   "execution_count": 12,
   "metadata": {},
   "outputs": [
    {
     "name": "stdout",
     "output_type": "stream",
     "text": [
      "1\n",
      "4\n",
      "9\n",
      "25\n",
      "64\n",
      "81\n",
      "1\n"
     ]
    }
   ],
   "source": [
    "for number in set1:\n",
    "    print(number**2)"
   ]
  },
  {
   "cell_type": "code",
   "execution_count": 13,
   "metadata": {},
   "outputs": [
    {
     "name": "stdout",
     "output_type": "stream",
     "text": [
      "Set contains a truth.\n"
     ]
    }
   ],
   "source": [
    "if True in set2:\n",
    "    print('Set contains a truth.')"
   ]
  },
  {
   "cell_type": "markdown",
   "metadata": {},
   "source": [
    "Some of the most important set operations are:\n",
    "* `set.add(item)` — adds item to the set\n",
    "* `set.remove(item)` — removes item from the set and raises error if it is not present\n",
    "* `set.discard(item)` — removes item from the set if it is present\n",
    "* `set.pop()` — returns any item from the set, raises an error if the set is empty\n",
    "* `set.clear()` - clears the set"
   ]
  },
  {
   "cell_type": "markdown",
   "metadata": {},
   "source": [
    "To obtain what is common in two sets we can calculate their intersection:"
   ]
  },
  {
   "cell_type": "code",
   "execution_count": 14,
   "metadata": {},
   "outputs": [
    {
     "name": "stdout",
     "output_type": "stream",
     "text": [
      "intersection of a and b is {3}\n"
     ]
    }
   ],
   "source": [
    "a = {1,2,3}\n",
    "b = {3,4,5}\n",
    "print('intersection of a and b is',a.intersection(b))"
   ]
  },
  {
   "cell_type": "markdown",
   "metadata": {},
   "source": [
    "To discover the elements in `a`, which are not in `b`, the difference can be calculated:"
   ]
  },
  {
   "cell_type": "code",
   "execution_count": 15,
   "metadata": {},
   "outputs": [
    {
     "name": "stdout",
     "output_type": "stream",
     "text": [
      "difference of a and b is {1, 2}\n"
     ]
    }
   ],
   "source": [
    "a = {1,2,3}\n",
    "b = {3,4,5}\n",
    "print('difference of a and b is',a.difference(b))"
   ]
  },
  {
   "cell_type": "markdown",
   "metadata": {},
   "source": [
    "Finally to get the combination of two sets, the union can be calculated:"
   ]
  },
  {
   "cell_type": "code",
   "execution_count": 16,
   "metadata": {},
   "outputs": [
    {
     "name": "stdout",
     "output_type": "stream",
     "text": [
      "union of a and b is {1, 2, 3, 4, 5}\n"
     ]
    }
   ],
   "source": [
    "a = {1,2,3}\n",
    "b = {3,4,5}\n",
    "print('union of a and b is',a.union(b))"
   ]
  },
  {
   "cell_type": "markdown",
   "metadata": {},
   "source": [
    "### Lists"
   ]
  },
  {
   "cell_type": "markdown",
   "metadata": {},
   "source": [
    "Lists are data structures that can hold a sequence of values of any data types. They are mutable (update-able). Lists are indexed by integers. For examples, arrays of numbers are simply a list, and a multiple character string is just a list of single character strings."
   ]
  },
  {
   "cell_type": "code",
   "execution_count": 17,
   "metadata": {},
   "outputs": [],
   "source": [
    "# in this cell lookup the documentation for lists and find out the methods associated with lists\n"
   ]
  },
  {
   "cell_type": "markdown",
   "metadata": {},
   "source": [
    "To create a list, we use square brackets:"
   ]
  },
  {
   "cell_type": "code",
   "execution_count": 18,
   "metadata": {},
   "outputs": [],
   "source": [
    "my_list = ['A', 'B', 'C', 'D']"
   ]
  },
  {
   "cell_type": "markdown",
   "metadata": {},
   "source": [
    "To add, update or delete an item, use the index or the list methods:"
   ]
  },
  {
   "cell_type": "code",
   "execution_count": 19,
   "metadata": {},
   "outputs": [
    {
     "name": "stdout",
     "output_type": "stream",
     "text": [
      "['A', 'B', 'C', 'D', 'E']\n",
      "['A', 'F', 'C', 'D', 'E']\n",
      "['A', 'C', 'D', 'E']\n",
      "['A', 'D', 'E']\n",
      "['A', 'D', 'E', 'X', 'Y', 'Z']\n"
     ]
    }
   ],
   "source": [
    "my_list.append('E') #adds at the end\n",
    "print(my_list)\n",
    "my_list[1] = 'F' #update the entry at index=1\n",
    "print(my_list)\n",
    "my_list.pop(1) # removes the entry at index=1\n",
    "print(my_list)\n",
    "del my_list[1:2] # removes the entry at index=1 (recall the end position is not included)\n",
    "print(my_list)\n",
    "another_list = ['X','Y','Z']\n",
    "my_list.extend(another_list) # adds second list at end\n",
    "print(my_list)"
   ]
  },
  {
   "cell_type": "markdown",
   "metadata": {},
   "source": [
    "Addition, repetition and slices can be applied to lists (just like strings):"
   ]
  },
  {
   "cell_type": "code",
   "execution_count": 20,
   "metadata": {},
   "outputs": [
    {
     "name": "stdout",
     "output_type": "stream",
     "text": [
      "['a', 'x', 'y']\n",
      "['x', 'y', 'x', 'y', 'x', 'y']\n",
      "['A', 'E', 'Y']\n",
      "['D', 'E', 'X']\n"
     ]
    }
   ],
   "source": [
    "print(['a']+['x','y'])\n",
    "print(3*['x','y'])\n",
    "print(my_list[0::2])\n",
    "print(my_list[1:4])"
   ]
  },
  {
   "cell_type": "markdown",
   "metadata": {},
   "source": [
    "We can also sort lists:"
   ]
  },
  {
   "cell_type": "code",
   "execution_count": 21,
   "metadata": {},
   "outputs": [
    {
     "name": "stdout",
     "output_type": "stream",
     "text": [
      "['A', 'D', 'E', 'X', 'Y', 'Z']\n"
     ]
    }
   ],
   "source": [
    "my_list.sort() #this is an inplace sort\n",
    "print(my_list)"
   ]
  },
  {
   "cell_type": "markdown",
   "metadata": {},
   "source": [
    "### Tuples"
   ]
  },
  {
   "cell_type": "markdown",
   "metadata": {},
   "source": [
    "Tuples are like lists in the sense that they can store a sequence of objects. The objects, again, can be of any type.\n",
    "However, tuples are immutable (non-update-able) and so, are much faster to calculate with than lists.\n",
    "As for lists, these collections are indexed by integers. Tuples are commonly used for returning multiple arguments for a function."
   ]
  },
  {
   "cell_type": "code",
   "execution_count": 22,
   "metadata": {},
   "outputs": [],
   "source": [
    "# in this cell lookup the documentation for tuples and find out the methods associated with tuples\n"
   ]
  },
  {
   "cell_type": "markdown",
   "metadata": {},
   "source": [
    "To define tuples, we use the `tuple` construct, use round brackets or just separate the sequence by commas."
   ]
  },
  {
   "cell_type": "code",
   "execution_count": 23,
   "metadata": {},
   "outputs": [
    {
     "name": "stdout",
     "output_type": "stream",
     "text": [
      "()\n",
      "('f', 1)\n",
      "('f', 'm', True)\n"
     ]
    }
   ],
   "source": [
    "my_tuple = tuple()\n",
    "print(my_tuple)\n",
    "my_tuple = 'f',1\n",
    "print(my_tuple)\n",
    "my_tuple = ('f', 'm', True)\n",
    "print(my_tuple)"
   ]
  },
  {
   "cell_type": "markdown",
   "metadata": {},
   "source": [
    "If a tuple contains a list of items then we can modify the list. "
   ]
  },
  {
   "cell_type": "code",
   "execution_count": 68,
   "metadata": {},
   "outputs": [
    {
     "name": "stdout",
     "output_type": "stream",
     "text": [
      "([1, 2, 3], ['a', 'b'])\n",
      "([1, 5, 3], ['a', 'b'])\n"
     ]
    }
   ],
   "source": [
    "list1 = [1,2,3]\n",
    "list2 = ['a','b']\n",
    "my_tuple = (list1,list2)\n",
    "print(my_tuple)\n",
    "my_tuple[0][1] = 5 # change the second element in the first list of the tuple\n",
    "print(my_tuple)"
   ]
  },
  {
   "cell_type": "markdown",
   "metadata": {},
   "source": [
    "### Dictionaries"
   ]
  },
  {
   "cell_type": "markdown",
   "metadata": {},
   "source": [
    "Dictionaries are one of the most important data structure in the programming world. They stores key/value pair objects, and can be thought of as a simple database. They have many benefits, e.g., optimised data retrieval."
   ]
  },
  {
   "cell_type": "code",
   "execution_count": 25,
   "metadata": {},
   "outputs": [],
   "source": [
    "# in this cell lookup the documentation for dictionaires and find out the methods associated with them\n"
   ]
  },
  {
   "cell_type": "markdown",
   "metadata": {},
   "source": [
    "Dictionaries are unordered, hence you cannot refer to positions by index. Rather values are referred to by their key."
   ]
  },
  {
   "cell_type": "code",
   "execution_count": 26,
   "metadata": {},
   "outputs": [
    {
     "name": "stdout",
     "output_type": "stream",
     "text": [
      "{'my_key': 1, 'another_key': 2}\n"
     ]
    }
   ],
   "source": [
    "my_dictionary = dict()\n",
    "my_dictionary['my_key'] = 1\n",
    "my_dictionary['another_key'] = 2\n",
    "print(my_dictionary)"
   ]
  },
  {
   "cell_type": "code",
   "execution_count": 27,
   "metadata": {},
   "outputs": [
    {
     "name": "stdout",
     "output_type": "stream",
     "text": [
      "1\n"
     ]
    }
   ],
   "source": [
    "print(my_dictionary['my_key'])"
   ]
  },
  {
   "cell_type": "markdown",
   "metadata": {},
   "source": [
    "You can also create the same dictionary as:"
   ]
  },
  {
   "cell_type": "code",
   "execution_count": 90,
   "metadata": {},
   "outputs": [],
   "source": [
    "my_dictionary = {'my_key':1, 'another_key':2}"
   ]
  },
  {
   "cell_type": "markdown",
   "metadata": {},
   "source": [
    "Directories can have multiple elements and the values can be any type of variable (including a dictionary)."
   ]
  },
  {
   "cell_type": "code",
   "execution_count": 29,
   "metadata": {},
   "outputs": [],
   "source": [
    "Australia = {\n",
    "    \"States\" : ['NSW','QLD','SA','TAS','VIC','WA'],\n",
    "    \"Territories\" : ['NT','ACT'],\n",
    "    \"Population\" : 25758300,\n",
    "    \"Area (sq km)\" : 7692024,\n",
    "    \"Government\" : \"Federal parliamentary constitutional monarchy\",\n",
    "}"
   ]
  },
  {
   "cell_type": "markdown",
   "metadata": {},
   "source": [
    "To print dictionary contents"
   ]
  },
  {
   "cell_type": "code",
   "execution_count": 30,
   "metadata": {},
   "outputs": [
    {
     "name": "stdout",
     "output_type": "stream",
     "text": [
      "States ['NSW', 'QLD', 'SA', 'TAS', 'VIC', 'WA']\n",
      "Territories ['NT', 'ACT']\n",
      "Population 25758300\n",
      "Area (sq km) 7692024\n",
      "Government Federal parliamentary constitutional monarchy\n"
     ]
    }
   ],
   "source": [
    "for key in Australia:\n",
    "  print(key, Australia[key])"
   ]
  },
  {
   "cell_type": "markdown",
   "metadata": {},
   "source": [
    "To update the population, we can use the key:"
   ]
  },
  {
   "cell_type": "code",
   "execution_count": 31,
   "metadata": {},
   "outputs": [],
   "source": [
    "Australia['Population'] = 26351200"
   ]
  },
  {
   "cell_type": "markdown",
   "metadata": {},
   "source": [
    "A few of the important functions for dictionaries are:\n",
    "* `get(key, default)`: returns value for key else returns default\n",
    "* `pop(key, default)`: returns value for key and deletes the item with key else returns default\n",
    "* `popitem()`: removes random item from the dictionary\n",
    "* `dictionary1.update(dictionary2)`: merges two dictionaries\n"
   ]
  },
  {
   "cell_type": "markdown",
   "metadata": {},
   "source": [
    "## Functions"
   ]
  },
  {
   "cell_type": "markdown",
   "metadata": {},
   "source": [
    "* Functions are sequence of statements that you can execute in your code. If you see repetition in your code then create a reusable function and use it in your program.\n",
    "* Functions can also reference other functions.\n",
    "* Functions eliminate repetition in your code. They make it easier to debug and find issues.\n",
    "* Finally, functions enable code to be understandable and easier to manage.\n",
    "* In short, functions allow us to split a large application into smaller chunks."
   ]
  },
  {
   "cell_type": "markdown",
   "metadata": {},
   "source": [
    "### Define New Function"
   ]
  },
  {
   "cell_type": "markdown",
   "metadata": {},
   "source": [
    "The first line of the function begins with `def` and defines the function name and arguments. The first line is completed with a colon and the following lines, to the end of the function, are uniformly indented."
   ]
  },
  {
   "cell_type": "code",
   "execution_count": 82,
   "metadata": {},
   "outputs": [],
   "source": [
    "def my_new_function():\n",
    "    print('this is my new function')"
   ]
  },
  {
   "cell_type": "markdown",
   "metadata": {},
   "source": [
    "### Calling Function\n"
   ]
  },
  {
   "cell_type": "markdown",
   "metadata": {},
   "source": [
    "To call the function we now just need to type the name with the arguments. In this case there are no arguments, \n",
    "so we use `()`."
   ]
  },
  {
   "cell_type": "code",
   "execution_count": 59,
   "metadata": {},
   "outputs": [
    {
     "name": "stdout",
     "output_type": "stream",
     "text": [
      "this is my new function\n"
     ]
    }
   ],
   "source": [
    "my_new_function()"
   ]
  },
  {
   "cell_type": "markdown",
   "metadata": {},
   "source": [
    "To find the length of a string we can call the len(x) function:"
   ]
  },
  {
   "cell_type": "code",
   "execution_count": 19,
   "metadata": {},
   "outputs": [],
   "source": [
    "S= { 'Name':'Siming','DateofBirth': ['fifteenth of December'],\n",
    "         'PlaceofBirth' : 'China',\n",
    "         'Eyecolour' : 'Black'}\n",
    "J ={'Name':'Joshua','DateofBirth' : ['eighth of June'],\n",
    "         'PlaceofBirth' : 'Australia',\n",
    "         'Eyecolour' :' Blue'}\n",
    "L = {'Name':'Leah','DateofBirth ': ['twelfth of May'],\n",
    "        'PlaceofBirth ':'France',\n",
    "        'Eyecolour' :'Brown'}\n",
    "informationofpeople = dict()\n",
    "for key in informationofpeople:\n",
    "    print(key,informationofpeople[key])# loop over through dictionary\n",
    "\n"
   ]
  },
  {
   "cell_type": "markdown",
   "metadata": {},
   "source": [
    "### Arguments"
   ]
  },
  {
   "cell_type": "markdown",
   "metadata": {},
   "source": [
    "Arguments can be added to a function to make it generic. These can then be used within the function:"
   ]
  },
  {
   "cell_type": "code",
   "execution_count": 35,
   "metadata": {},
   "outputs": [
    {
     "name": "stdout",
     "output_type": "stream",
     "text": [
      "this is my new function with added zest\n"
     ]
    }
   ],
   "source": [
    "def my_new_function(my_value):\n",
    "    print('this is my new function with ' + my_value)\n",
    "    \n",
    "my_new_function('added zest')"
   ]
  },
  {
   "cell_type": "markdown",
   "metadata": {},
   "source": [
    "Information about the function can be included in a `docstring` starting on the first line after the function declaration and enclosed in triple quotes (single or double)."
   ]
  },
  {
   "cell_type": "code",
   "execution_count": 85,
   "metadata": {},
   "outputs": [],
   "source": [
    "def my_new_function(my_value):\n",
    "    '''This function takes the input argument, concatenates it with a fixed string and\n",
    "    prints the output.'''\n",
    "    print('this is my new function with ' + my_value)"
   ]
  },
  {
   "cell_type": "markdown",
   "metadata": {},
   "source": [
    "Then using `help()` will give you the arguments and information about the function."
   ]
  },
  {
   "cell_type": "code",
   "execution_count": 86,
   "metadata": {},
   "outputs": [
    {
     "name": "stdout",
     "output_type": "stream",
     "text": [
      "Help on function my_new_function in module __main__:\n",
      "\n",
      "my_new_function(my_value)\n",
      "    This function takes the input argument, concatenates it with a fixed string and\n",
      "    prints the output.\n",
      "\n"
     ]
    }
   ],
   "source": [
    "help(my_new_function)"
   ]
  },
  {
   "cell_type": "markdown",
   "metadata": {},
   "source": [
    "#### Return"
   ]
  },
  {
   "cell_type": "markdown",
   "metadata": {},
   "source": [
    "Functions can return values using the return statement:"
   ]
  },
  {
   "cell_type": "code",
   "execution_count": 38,
   "metadata": {},
   "outputs": [
    {
     "data": {
      "text/plain": [
       "7"
      ]
     },
     "execution_count": 38,
     "metadata": {},
     "output_type": "execute_result"
    }
   ],
   "source": [
    "def my_minus(a,b):\n",
    "    return a-b\n",
    "\n",
    "my_minus(10,3)"
   ]
  },
  {
   "cell_type": "markdown",
   "metadata": {},
   "source": [
    "If a function is required to return multiple values then it is returned as a tuple (comma separated values)."
   ]
  },
  {
   "cell_type": "code",
   "execution_count": 39,
   "metadata": {},
   "outputs": [
    {
     "name": "stdout",
     "output_type": "stream",
     "text": [
      "13 7\n"
     ]
    }
   ],
   "source": [
    "def my_plus_minus(a,b):\n",
    "    plus = a+b\n",
    "    minus = a-b\n",
    "    return a+b, a-b\n",
    "\n",
    "resultA,resultB = my_plus_minus(10,3)\n",
    "print(resultA,resultB)"
   ]
  },
  {
   "cell_type": "markdown",
   "metadata": {},
   "source": [
    "#### In-class Exercise\n",
    "\n",
    "In the cell below, write a function to compute the factorial of a given number (think back to exercise 2 from last weeks homework). Use the function to return the factorial of 4 and the factorial of 9"
   ]
  },
  {
   "cell_type": "code",
   "execution_count": 51,
   "metadata": {},
   "outputs": [
    {
     "name": "stdout",
     "output_type": "stream",
     "text": [
      "4! = 24\n",
      "9! = 362880\n",
      "\n"
     ]
    }
   ],
   "source": [
    "factorial = lambda n : eval(''.join(list(map(str,list(range(1,n+1))))[i]+'*'for i in range(n))[:-1])\n",
    "print(''.join('{}! = {}\\n'.format(i,str(factorial(i)))for j, i in enumerate([4, 9])))"
   ]
  },
  {
   "cell_type": "markdown",
   "metadata": {},
   "source": [
    "### Lambda Function"
   ]
  },
  {
   "cell_type": "markdown",
   "metadata": {},
   "source": [
    "Lambda functions are simple one-line functions, also known as anonymous functions.\n",
    "\n",
    "The syntax for a lambda function is:\n",
    "`variable = lambda arguments: expression`\n",
    "where the arguments are a single argument or a tuple.\n",
    "\n",
    "For example to define and use a function for division:"
   ]
  },
  {
   "cell_type": "code",
   "execution_count": 40,
   "metadata": {},
   "outputs": [
    {
     "data": {
      "text/plain": [
       "0.35294117647058826"
      ]
     },
     "execution_count": 40,
     "metadata": {},
     "output_type": "execute_result"
    }
   ],
   "source": [
    "div = lambda a,b : a/b\n",
    "div(6,17)"
   ]
  },
  {
   "cell_type": "markdown",
   "metadata": {},
   "source": [
    "Lamda functions are are typically used when we need to pass a function as an argument to another function. For example, the `map()` function takes a list and a function as input and applies the function to every element in the list below\n"
   ]
  },
  {
   "cell_type": "code",
   "execution_count": 8,
   "metadata": {},
   "outputs": [
    {
     "name": "stdout",
     "output_type": "stream",
     "text": [
      "[2, 10, 8, 12, 16, 22, 6, 24]\n"
     ]
    }
   ],
   "source": [
    "my_list = [1, 5, 4, 6, 8, 11, 3, 12]\n",
    "print(list(map(lambda x: x*2, my_list)))\n"
   ]
  },
  {
   "cell_type": "markdown",
   "metadata": {},
   "source": [
    "#### In-class Exercise\n",
    "\n",
    "In the cell below, write a lambda function to determine if a number is even (divisible by 2). Use the `filter()` function (which works similar to the `map()` to filter the list below to only even numbers"
   ]
  },
  {
   "cell_type": "code",
   "execution_count": 9,
   "metadata": {},
   "outputs": [
    {
     "name": "stdout",
     "output_type": "stream",
     "text": [
      "[4, 6, 8, 12]\n"
     ]
    }
   ],
   "source": [
    "my_list = [1, 5, 4, 6, 8, 11, 3, 12]\n",
    "print(list(filter(lambda x:x%2==0, my_list)))"
   ]
  },
  {
   "cell_type": "markdown",
   "metadata": {},
   "source": [
    "## Exercises"
   ]
  },
  {
   "cell_type": "markdown",
   "metadata": {},
   "source": [
    "### Exercise 1 (Sets)"
   ]
  },
  {
   "cell_type": "markdown",
   "metadata": {},
   "source": [
    "In the following cell:\n",
    "* Add `4` to `set1`,\n",
    "* Remove `2` from `set1`,\n",
    "* Return a random element from `set1`.\n",
    "* Calculate the difference of `a` from `b`.\n",
    "* Determine whether `a` or `b` are a subset of the final version of `set1`.\n"
   ]
  },
  {
   "cell_type": "code",
   "execution_count": 68,
   "metadata": {},
   "outputs": [
    {
     "name": "stdout",
     "output_type": "stream",
     "text": [
      "{1, 2, 3, 4, 5, 8, 9, -1}\n",
      "{1, 3, 4, 5, 8, 9, -1}\n",
      "{3, 4, 5, 8, 9, -1}\n",
      "The difference of a from b is {1, 2}\n",
      "{3, 4, 5, 8, 9, -1}\n",
      "False\n",
      "True\n"
     ]
    }
   ],
   "source": [
    "set1 = {9,1,-1,5,2,8,3, 8}\n",
    "a = {1,2,3}\n",
    "b = {3,4,5}\n",
    "set1.add(4)\n",
    "print(set1)\n",
    "set1.remove(2)\n",
    "print(set1)\n",
    "set1.pop()\n",
    "print(set1) #set.pop() — returns any item from the set, raises an error if the set is empty\n",
    "print('The difference of a from b is',a.difference(b))\n",
    "print(set1)\n",
    "print(a.issubset(set1))# a is not a subset of set1\n",
    "print(b.issubset(set1))# b is a subset of set1\n",
    "\n",
    "\n",
    "\n"
   ]
  },
  {
   "cell_type": "markdown",
   "metadata": {},
   "source": [
    "### Exercise 2 (Lists)"
   ]
  },
  {
   "cell_type": "markdown",
   "metadata": {},
   "source": [
    "In the following cell:\n",
    "* Sort my_list in reverse order,\n",
    "* Change the fourth element to 'W',\n",
    "* Print the last two elements in reverse order."
   ]
  },
  {
   "cell_type": "code",
   "execution_count": 43,
   "metadata": {},
   "outputs": [
    {
     "name": "stdout",
     "output_type": "stream",
     "text": [
      "['Z', 'Y', 'X', 'E', 'D', 'A']\n",
      "['A', 'D', 'E', 'W', 'Y', 'Z']\n",
      "['Z', 'Y']\n"
     ]
    }
   ],
   "source": [
    "my_list = ['A', 'D', 'E', 'X', 'Y', 'Z']\n",
    "print(my_list[::-1])#Sort my_list in reverse order\n",
    "my_list[3]='W'\n",
    "print(my_list)#Change the fourth element to 'W'\n",
    "print(my_list[5:3:-1])#Print the last two elements in reverse order.\n",
    "\n",
    "\n",
    "\n",
    "\n",
    "\n",
    "\n",
    "\n",
    "\n"
   ]
  },
  {
   "cell_type": "markdown",
   "metadata": {},
   "source": [
    "### Exercise 3 (Tuples and Dictionaries)"
   ]
  },
  {
   "cell_type": "markdown",
   "metadata": {},
   "source": [
    "In the following cell create a tuple of tuples with the elements (1,2,3) and (6,7,8), iterate over the outer tuple and print the inner tuples."
   ]
  },
  {
   "cell_type": "code",
   "execution_count": 16,
   "metadata": {},
   "outputs": [
    {
     "name": "stdout",
     "output_type": "stream",
     "text": [
      "1\n",
      "2\n",
      "3\n",
      "6\n",
      "7\n",
      "8\n"
     ]
    }
   ],
   "source": [
    "a = {1,2,3}\n",
    "b = {6,7,8}\n",
    "a.update(b)\n",
    "c = a\n",
    "for i in c:\n",
    "    print(i)\n",
    "\n",
    " \n",
    "     \n",
    "     "
   ]
  },
  {
   "cell_type": "markdown",
   "metadata": {},
   "source": [
    "In the following cell create a dictionary for yourself and two other people with the keys Date of Birth, Place of Birth and Eye Colour. Create a list of the dictionaries, iterate over the three dictionaries and print the eye colour for each."
   ]
  },
  {
   "cell_type": "code",
   "execution_count": 44,
   "metadata": {},
   "outputs": [
    {
     "name": "stdout",
     "output_type": "stream",
     "text": [
      "{'Siming': {'DateofBirth': ['fifteenth of December'], 'PlaceofBirth': 'China', 'Eyecolour': 'Black'}, 'Joshua': {'DateofBirth': ['eighth of June'], 'PlaceofBirth': 'Australia', 'Eyecolour': ' Blue'}, 'Leah': {'DateofBirth ': ['twelfth of May'], 'PlaceofBirth ': 'France', 'Eyecolour': 'Brown'}}\n",
      "Siming {'DateofBirth': ['fifteenth of December'], 'PlaceofBirth': 'China', 'Eyecolour': 'Black'}\n",
      "Joshua {'DateofBirth': ['eighth of June'], 'PlaceofBirth': 'Australia', 'Eyecolour': ' Blue'}\n",
      "Leah {'DateofBirth ': ['twelfth of May'], 'PlaceofBirth ': 'France', 'Eyecolour': 'Brown'}\n",
      "Eyecolour {'DateofBirth ': ['twelfth of May'], 'PlaceofBirth ': 'France', 'Eyecolour': 'Brown'}\n",
      "Siming's eyecolour: Black\n",
      "Joshua's eyecolour:  Blue\n",
      "Leah's eyecolour: Brown\n"
     ]
    }
   ],
   "source": [
    "Siming= { 'DateofBirth': ['fifteenth of December'],\n",
    "         'PlaceofBirth' : 'China',\n",
    "         'Eyecolour' : 'Black',}\n",
    "Joshua ={'DateofBirth' : ['eighth of June'],\n",
    "         'PlaceofBirth' : 'Australia',\n",
    "         'Eyecolour' :' Blue',}\n",
    "Leah = {'DateofBirth ': ['twelfth of May'],\n",
    "        'PlaceofBirth ':'France',\n",
    "        'Eyecolour' :'Brown',}\n",
    "my_dic = dict()\n",
    "my_dic['Siming'] = Siming\n",
    "my_dic['Joshua'] =Joshua\n",
    "my_dic['Leah']=Leah\n",
    "print(my_dic)\n",
    "for key in my_dic:\n",
    "    print(key,my_dic[key])\n",
    "eyedic =dict()\n",
    "eyedic['Eyecolour']=Siming\n",
    "eyedic['Eyecolour']=Joshua\n",
    "eyedic['Eyecolour']=Leah\n",
    "for key in eyedic:\n",
    "    print(key,eyedic[key])\n",
    "   \n",
    "\n",
    "    \n",
    "print(\"Siming's eyecolour:\",Siming['Eyecolour'])\n",
    "print(\"Joshua's eyecolour:\",Joshua['Eyecolour'])\n",
    "print(\"Leah's eyecolour:\",Leah['Eyecolour'])\n",
    "\n",
    "\n",
    "\n",
    "\n",
    "\n",
    "\n",
    "\n",
    "\n",
    "\n",
    " \n",
    "\n",
    "\n",
    "\n",
    "\n"
   ]
  },
  {
   "cell_type": "markdown",
   "metadata": {},
   "source": [
    "### Exercise 4 (Functions)"
   ]
  },
  {
   "cell_type": "markdown",
   "metadata": {},
   "source": [
    "In the following cell create a function for which the input is a list and output is another list with the unique elements of the list. Your function should include a `docstring` to explain the function. Test the function on the list [1,2,3,3,4,4,8,-1]."
   ]
  },
  {
   "cell_type": "code",
   "execution_count": 41,
   "metadata": {
    "scrolled": true
   },
   "outputs": [
    {
     "ename": "IndentationError",
     "evalue": "expected an indented block (<ipython-input-41-db10023a07a7>, line 15)",
     "output_type": "error",
     "traceback": [
      "\u001b[1;36m  File \u001b[1;32m\"<ipython-input-41-db10023a07a7>\"\u001b[1;36m, line \u001b[1;32m15\u001b[0m\n\u001b[1;33m    print(key,my_dic[key])\u001b[0m\n\u001b[1;37m        ^\u001b[0m\n\u001b[1;31mIndentationError\u001b[0m\u001b[1;31m:\u001b[0m expected an indented block\n"
     ]
    }
   ],
   "source": [
    "a =[1,2,3,3,4,4,8,-1]\n",
    "def remove_dup_function(numbers):\n",
    "    \n",
    "    '''This is the function remove duplicates'''\n",
    "    return set(numbers)\n",
    "remove_dup_function(a) \n",
    "\n"
   ]
  },
  {
   "cell_type": "markdown",
   "metadata": {},
   "source": [
    "### Exercise 5 (Lambda Functions)"
   ]
  },
  {
   "cell_type": "markdown",
   "metadata": {},
   "source": [
    "In the following cell write a lambda function which finds the average of a list of numbers. Your function should use the `sum` and `len` functions. Test the function on the list [1,2,3,3,4,4,8,-1]."
   ]
  },
  {
   "cell_type": "code",
   "execution_count": 81,
   "metadata": {},
   "outputs": [
    {
     "data": {
      "text/plain": [
       "3.0"
      ]
     },
     "execution_count": 81,
     "metadata": {},
     "output_type": "execute_result"
    }
   ],
   "source": [
    "testlist =  [1,2,3,3,4,4,8,-1]\n",
    "outcome= lambda x :sum(x)/len(x)\n",
    "outcome(testlist)\n",
    "\n"
   ]
  },
  {
   "cell_type": "markdown",
   "metadata": {},
   "source": []
  }
 ],
 "metadata": {
  "kernelspec": {
   "display_name": "Python 3",
   "language": "python",
   "name": "python3"
  },
  "language_info": {
   "codemirror_mode": {
    "name": "ipython",
    "version": 3
   },
   "file_extension": ".py",
   "mimetype": "text/x-python",
   "name": "python",
   "nbconvert_exporter": "python",
   "pygments_lexer": "ipython3",
   "version": "3.6.4"
  }
 },
 "nbformat": 4,
 "nbformat_minor": 2
}
