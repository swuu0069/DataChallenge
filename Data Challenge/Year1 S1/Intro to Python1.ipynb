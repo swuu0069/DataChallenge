{
 "cells": [
  {
   "cell_type": "markdown",
   "metadata": {},
   "source": [
    "## Introducing Python\n",
    "\n",
    "Python is an interpreted, high-level, object-oriented, dynamically-typed, scripting language. \n",
    "What does each of these terms mean?\n",
    "\n",
    "An interpreted language is one where the instructions are compiled into machine code beforehand, \n",
    "and then are executed at run-time. This compares with a compiled language such as C or Fortran\n",
    "where the instructions are compiled into machine language and then run.\n",
    "\n",
    "A high-level language is one which is written in code which can be easily transferred from machine\n",
    "to machine. This is in contrast to low-level languages which deals with specific details of the\n",
    "computer architecture and must be optimized for each machine.\n",
    "\n",
    "An object-oriented language is one where the objects, e.g., variables, are the focus of the \n",
    "language. For example, objects can then have specific functions associated with them.\n",
    "\n",
    "A dynamically-typed language is one where the form of a variable is defined as you assign it, rather \n",
    "than having specific rules for variables or having to define the type of each variable at the \n",
    "beginning of your program.\n",
    "\n",
    "A scripting language is one where instructions can be typed and interpreted without having to write\n",
    "formal programs.\n",
    "\n",
    "### Why Python?\n",
    "\n",
    "* Python is the most popular language due to the fact that it’s easier to code and understand.\n",
    "* Python is an object-oriented programming language and can be used to write functional code too.\n",
    "* It is a suitable language that bridges the gaps between business and developers.\n",
    "* It takes less time to bring a Python program to market compared to other languages such as C#/Java.\n",
    "* There are a vast number of Python machine learning and analytical packages.\n",
    "* A large number of communities and books are available to support Python developers.\n",
    "* Nearly all types of applications, can be implemented in Python.\n",
    "* There is no need to declare variable types. Thus it is quicker to implement a Python application.\n",
    "\n",
    "### Why Not Python?\n",
    "\n",
    "* Python is slower than C++, C#, Java. This is due to the lack of Just In Time optimisers in Python.\n",
    "* Python syntactical white-space constraint makes it slightly difficult to implement for new coders.\n",
    "* Python does not offer advanced statistical features as R does.\n",
    "* Python is not suitable for low-level systems and hardware interaction."
   ]
  },
  {
   "cell_type": "markdown",
   "metadata": {},
   "source": [
    "## Variables\n",
    "\n",
    "* Variables store information that can be used and/or changed in your program or script. This information can be an integer, text, collection, etc.\n",
    "* Variables are used to hold user inputs, local states of your program, etc.\n",
    "* Variables have a name so that they can be referenced in the code.\n",
    "* The fundamental concept to understand is that everything is an object in Python.\n",
    "\n",
    "__Python supports numbers, strings, sets, lists, tuples, and dictionaries. These are the standard data types. We will explain some of these in detail in this lesson.__\n",
    "\n",
    "### Declare and Assign Value to a Variable\n",
    "\n",
    "Assignment sets a value to a variable.\n",
    "\n",
    "To assign variable a value, use the equals sign (=)"
   ]
  },
  {
   "cell_type": "code",
   "execution_count": 12,
   "metadata": {},
   "outputs": [
    {
     "name": "stdout",
     "output_type": "stream",
     "text": [
      "Hello World 2\n"
     ]
    }
   ],
   "source": [
    "myFirstVariable = 1\n",
    "mySecondVariable = 2\n",
    "myFirstVariable = \"Hello World\"\n",
    "print(myFirstVariable,mySecondVariable) # print arguments to standard output or screen"
   ]
  },
  {
   "cell_type": "markdown",
   "metadata": {},
   "source": [
    "Note that comments can be included in code by inserting a #. Everything after this on the line is ignored.\n",
    "\n",
    "Assigning a value is known as __binding__ in Python. In the example above, we have assigned the value of 2 to mySecondVariable.\n",
    "\n",
    "Note how we assigned an integer value of 1 and then a string value of “Hello You” to the same myFirstVariable variable. This is possible due to the fact that the data types are dynamically typed in python. This is why Python is known as a dynamically typed programming language.\n",
    "\n",
    "If you want to assign the same value to more than one variables then you can use the chained assignment:"
   ]
  },
  {
   "cell_type": "code",
   "execution_count": 6,
   "metadata": {},
   "outputs": [],
   "source": [
    "myFirstVariable = mySecondVariable = 1"
   ]
  },
  {
   "cell_type": "markdown",
   "metadata": {},
   "source": [
    "### Numeric\n",
    "\n",
    "Integers and floats (floating point numbers) are supported."
   ]
  },
  {
   "cell_type": "code",
   "execution_count": 24,
   "metadata": {},
   "outputs": [
    {
     "name": "stdout",
     "output_type": "stream",
     "text": [
      "An example of an integer is 1\n",
      "An example of a float is 1.2\n"
     ]
    }
   ],
   "source": [
    "value1 = 1 # integer\n",
    "value2 = 1.2 # float with a floating point\n",
    "print('An example of an integer is',value1)\n",
    "print('An example of a float is',value2)"
   ]
  },
  {
   "cell_type": "markdown",
   "metadata": {},
   "source": [
    "### Strings\n",
    "\n",
    "* Textual information. Not limited to letters.\n",
    "* A string is an list of characters.\n",
    "* A string value is enclosed in quotation marks: single, double or triple quotes."
   ]
  },
  {
   "cell_type": "code",
   "execution_count": 15,
   "metadata": {},
   "outputs": [],
   "source": [
    "name = 'jonathon'\n",
    "name = \"jonathon\"\n",
    "name = \"\"\"jonathon\"\"\""
   ]
  },
  {
   "cell_type": "markdown",
   "metadata": {},
   "source": [
    "* Strings are immutable. Once they are created, they cannot be changed, e.g., if we try to change the second character of the string (array notation will be explained later), we will get an error."
   ]
  },
  {
   "cell_type": "code",
   "execution_count": 20,
   "metadata": {},
   "outputs": [
    {
     "ename": "NameError",
     "evalue": "name 'me' is not defined",
     "output_type": "error",
     "traceback": [
      "\u001b[1;31m---------------------------------------------------------------------------\u001b[0m",
      "\u001b[1;31mNameError\u001b[0m                                 Traceback (most recent call last)",
      "\u001b[1;32m<ipython-input-20-2269b2475a8e>\u001b[0m in \u001b[0;36m<module>\u001b[1;34m\u001b[0m\n\u001b[1;32m----> 1\u001b[1;33m \u001b[0ma\u001b[0m \u001b[1;33m=\u001b[0m \u001b[0mme\u001b[0m \u001b[1;31m# Updating it will fail:\u001b[0m\u001b[1;33m\u001b[0m\u001b[1;33m\u001b[0m\u001b[0m\n\u001b[0m\u001b[0;32m      2\u001b[0m \u001b[0mprint\u001b[0m\u001b[1;33m(\u001b[0m\u001b[0ma\u001b[0m\u001b[1;33m[\u001b[0m\u001b[1;36m1\u001b[0m\u001b[1;33m]\u001b[0m\u001b[1;33m)\u001b[0m \u001b[1;31m# Will throw a Type Error\u001b[0m\u001b[1;33m\u001b[0m\u001b[1;33m\u001b[0m\u001b[0m\n",
      "\u001b[1;31mNameError\u001b[0m: name 'me' is not defined"
     ]
    }
   ],
   "source": [
    "a = me # Updating it will fail: \n",
    "print(a[1]) # Will throw a Type Error"
   ]
  },
  {
   "cell_type": "markdown",
   "metadata": {},
   "source": [
    "* When string variables are assigned a new value then Python creates a new object to store the value. Therefore a reference (pointer) to an object is created. This pointer is then assigned to the variable and as a result, the variable can be used.\n",
    "\n",
    "* We can also assign one variable to another variable. All it does is that a new pointer is created which points to the same object:\n"
   ]
  },
  {
   "cell_type": "code",
   "execution_count": 27,
   "metadata": {},
   "outputs": [
    {
     "name": "stdout",
     "output_type": "stream",
     "text": [
      "beta alpha\n"
     ]
    }
   ],
   "source": [
    "a = 'alpha' \n",
    "b = a \n",
    "a = 'beta'\n",
    "print(a,b)"
   ]
  },
  {
   "cell_type": "markdown",
   "metadata": {},
   "source": [
    "### Finding Variable Type\n",
    "\n",
    "If you want to find type of a variable, you can use the`type` function:\n"
   ]
  },
  {
   "cell_type": "code",
   "execution_count": 23,
   "metadata": {},
   "outputs": [
    {
     "data": {
      "text/plain": [
       "float"
      ]
     },
     "execution_count": 23,
     "metadata": {},
     "output_type": "execute_result"
    }
   ],
   "source": [
    "type(3.0) # Returns <type 'str'>"
   ]
  },
  {
   "cell_type": "markdown",
   "metadata": {},
   "source": [
    "## Operations\n",
    "\n",
    "* These allow us to perform computation on variables\n",
    "\n",
    "### Numeric Operations\n",
    "\n",
    "* Python supports the standard algebraic operations *, /, +, -\n",
    "* Python also supports floor division // (division rounded __down__ to the next integer)"
   ]
  },
  {
   "cell_type": "code",
   "execution_count": 29,
   "metadata": {},
   "outputs": [
    {
     "name": "stdout",
     "output_type": "stream",
     "text": [
      "0\n",
      "0.3333333333333333\n"
     ]
    }
   ],
   "source": [
    "print(1//3)  #returns 0\n",
    "print(1/3) #returns 0.333 "
   ]
  },
  {
   "cell_type": "markdown",
   "metadata": {},
   "source": [
    "Note: the return type of division is always float as shown below:"
   ]
  },
  {
   "cell_type": "code",
   "execution_count": 30,
   "metadata": {},
   "outputs": [
    {
     "name": "stdout",
     "output_type": "stream",
     "text": [
      "<class 'float'>\n"
     ]
    }
   ],
   "source": [
    "a = 10/5\n",
    "print(type(a)) # prints float"
   ]
  },
  {
   "cell_type": "markdown",
   "metadata": {},
   "source": [
    "Also, Python supports exponentiation via `**` operator:"
   ]
  },
  {
   "cell_type": "code",
   "execution_count": 31,
   "metadata": {},
   "outputs": [
    {
     "name": "stdout",
     "output_type": "stream",
     "text": [
      "8\n"
     ]
    }
   ],
   "source": [
    "print(2**3)"
   ]
  },
  {
   "cell_type": "markdown",
   "metadata": {},
   "source": [
    "and the Modulus (remainder) operator:"
   ]
  },
  {
   "cell_type": "code",
   "execution_count": 32,
   "metadata": {},
   "outputs": [
    {
     "name": "stdout",
     "output_type": "stream",
     "text": [
      "1\n"
     ]
    }
   ],
   "source": [
    "print(7%2) # (7/2-7//2)*2 = 1"
   ]
  },
  {
   "cell_type": "markdown",
   "metadata": {},
   "source": [
    "The common operators also support augmented expressions. For example, `a+1` can be written as"
   ]
  },
  {
   "cell_type": "code",
   "execution_count": 33,
   "metadata": {},
   "outputs": [
    {
     "name": "stdout",
     "output_type": "stream",
     "text": [
      "3\n"
     ]
    }
   ],
   "source": [
    "a = 2\n",
    "a += 1 # shorthand for a = a+1\n",
    "print(a)"
   ]
  },
  {
   "cell_type": "markdown",
   "metadata": {},
   "source": [
    "## Methods\n",
    "\n",
    "We have already seen examples of functions such as `print()` and `type()`.\n",
    "\n",
    "Each class or type of variable has a set of functions that are built in to their implementation. These are called *methods* and are invoked by first calling the variable and then following that with a period and then the function name. \n",
    "\n",
    "For example, there are number of methods for changing the case of strings:"
   ]
  },
  {
   "cell_type": "code",
   "execution_count": 25,
   "metadata": {},
   "outputs": [
    {
     "name": "stdout",
     "output_type": "stream",
     "text": [
      "hello world!\n",
      "HELLO WORLD!\n",
      "hEllO wORLd!\n"
     ]
    }
   ],
   "source": [
    "a = \"HeLLo WorlD!\"\n",
    "print(a.lower()) # convert string to lower case\n",
    "print(a.upper()) # convert string to upper case\n",
    "print(a.swapcase()) # swap the case of all the letters"
   ]
  },
  {
   "cell_type": "markdown",
   "metadata": {},
   "source": [
    "### String Operations\n",
    "\n",
    "Some other string operations include, concatenating strings, i.e., adding them together to create a new string:"
   ]
  },
  {
   "cell_type": "code",
   "execution_count": 35,
   "metadata": {},
   "outputs": [
    {
     "name": "stdout",
     "output_type": "stream",
     "text": [
      "AB\n"
     ]
    }
   ],
   "source": [
    "print('A' + 'B')"
   ]
  },
  {
   "cell_type": "markdown",
   "metadata": {},
   "source": [
    "Remember a string is an immutable data type, therefore, concatenating strings creates a new string object.\n",
    "\n",
    "Repeating strings, e.g., ‘A’*3 will repeat A three times:"
   ]
  },
  {
   "cell_type": "code",
   "execution_count": 36,
   "metadata": {},
   "outputs": [
    {
     "name": "stdout",
     "output_type": "stream",
     "text": [
      "AAA\n"
     ]
    }
   ],
   "source": [
    "print('A'*3)"
   ]
  },
  {
   "cell_type": "markdown",
   "metadata": {},
   "source": [
    "#### Slicing:\n",
    "\n",
    "Each element in a string or list gets two indexes:\n",
    "* From left to right, the index starts at 0 and increments by 1\n",
    "* From right to left, the index starts at -1 and decrements by 1\n",
    "* Therefore,  `y[0]` and `y[-len(y)]` both will return the same value:"
   ]
  },
  {
   "cell_type": "markdown",
   "metadata": {},
   "source": [
    "y = 'abc'\n",
    "print(y[0])\n",
    "print(y[-len(y)])"
   ]
  },
  {
   "cell_type": "markdown",
   "metadata": {},
   "source": [
    "We can access a substring of a string (or a list) using:\n",
    "\n",
    "`string[start:end:step]`\n",
    "\n",
    "This returns the characters in the string starting at `start` and up to, but not including, `end`, in steps of `step`. Each of the arguments, and the last semi-colon, are optional. The default values are `start=0`, `end=len(string)` and `step=1`."
   ]
  },
  {
   "cell_type": "code",
   "execution_count": 26,
   "metadata": {},
   "outputs": [
    {
     "name": "stdout",
     "output_type": "stream",
     "text": [
      "Ac\n",
      "bc\n",
      "Ab\n",
      "3\n"
     ]
    }
   ],
   "source": [
    "y = 'Abc'\n",
    "print(y[0::2]) # print every second character up to the end\n",
    "print(y[1:]) # print from the second character to the end\n",
    "print(y[:2]) # print up to the second character\n",
    "print(len(y))"
   ]
  },
  {
   "cell_type": "markdown",
   "metadata": {},
   "source": [
    "#### Reversing\n",
    "\n",
    "Using this slicing with negative steps we can reverse a string:"
   ]
  },
  {
   "cell_type": "code",
   "execution_count": 38,
   "metadata": {},
   "outputs": [
    {
     "name": "stdout",
     "output_type": "stream",
     "text": [
      "cba\n"
     ]
    }
   ],
   "source": [
    "x = 'abc'\n",
    "print(x[::-1]) # since the step is negative, start at the end and increment to the start"
   ]
  },
  {
   "cell_type": "markdown",
   "metadata": {},
   "source": [
    "#### Negative Index\n",
    "\n",
    "If you want to start from the last character then use negative index."
   ]
  },
  {
   "cell_type": "code",
   "execution_count": 28,
   "metadata": {},
   "outputs": [
    {
     "name": "stdout",
     "output_type": "stream",
     "text": [
      "\n"
     ]
    }
   ],
   "source": [
    "y = 'abc'\n",
    "print(y[-1:-1]) # will return cb, same as print(y[-1:-3:-1])"
   ]
  },
  {
   "cell_type": "markdown",
   "metadata": {},
   "source": [
    "#### Finding Index\n",
    "\n",
    "To find the occurence of a character in a string we can use the find method. The second and third arguments, which are optional, tell where to start and end the search. \n",
    "\n",
    "Remember indices start at 0, and this just tells you the first occurence of the character. For finding multiple characters, it tells where the character starts."
   ]
  },
  {
   "cell_type": "code",
   "execution_count": 40,
   "metadata": {},
   "outputs": [
    {
     "name": "stdout",
     "output_type": "stream",
     "text": [
      "7\n",
      "9\n",
      "11\n"
     ]
    }
   ],
   "source": [
    "name = \"rumpelstiltskin\"\n",
    "print(name.find('t')) \n",
    "print(name.find('l',7,10)) # finds index of l, starting at name[7] and ending at name[10]\n",
    "print(name.find('skin')) "
   ]
  },
  {
   "cell_type": "markdown",
   "metadata": {},
   "source": [
    "    \n",
    "#### Casting\n",
    "\n",
    "To __cast__ (convert between types cast) we can use the functions:\n",
    "\n",
    "* `str(x)`: convert to string\n",
    "* `int(x)`: convert to integer\n",
    "* `float(x)`: convert to floats\n",
    "    "
   ]
  },
  {
   "cell_type": "markdown",
   "metadata": {},
   "source": [
    "## Comments and Line Continuation\n",
    "\n",
    "Rule number of one of coding or programming is that your code should always be commented to explain what it does.\n",
    "\n",
    "### Single Line Comments"
   ]
  },
  {
   "cell_type": "code",
   "execution_count": 41,
   "metadata": {},
   "outputs": [],
   "source": [
    "# this is a single line comment"
   ]
  },
  {
   "cell_type": "markdown",
   "metadata": {},
   "source": [
    "### Multiple Line Comments\n",
    "\n",
    "For long comments we can use triple quotes. In the output \\n represents the carriage return character."
   ]
  },
  {
   "cell_type": "code",
   "execution_count": 42,
   "metadata": {},
   "outputs": [
    {
     "data": {
      "text/plain": [
       "'this is a multi\\nline\\ncomment'"
      ]
     },
     "execution_count": 42,
     "metadata": {},
     "output_type": "execute_result"
    }
   ],
   "source": [
    "'''this is a multi\n",
    "line\n",
    "comment'''"
   ]
  },
  {
   "cell_type": "markdown",
   "metadata": {},
   "source": [
    "### Line Continuation\n",
    "\n",
    "Long expressions can be continued over multiple lines by enclosing them in parentheses:"
   ]
  },
  {
   "cell_type": "code",
   "execution_count": 43,
   "metadata": {},
   "outputs": [
    {
     "name": "stdout",
     "output_type": "stream",
     "text": [
      "-197.0\n"
     ]
    }
   ],
   "source": [
    "a = (25*10+6/2\n",
    "     -450)\n",
    "print(a)"
   ]
  },
  {
   "cell_type": "markdown",
   "metadata": {},
   "source": [
    "or using a backslash: "
   ]
  },
  {
   "cell_type": "code",
   "execution_count": 44,
   "metadata": {},
   "outputs": [
    {
     "name": "stdout",
     "output_type": "stream",
     "text": [
      "-197.0\n"
     ]
    }
   ],
   "source": [
    "# no characters can appear after the backslash\n",
    "a = 25*10+6/2 \\\n",
    "    -450\n",
    "print(a)"
   ]
  },
  {
   "cell_type": "markdown",
   "metadata": {},
   "source": [
    "## Boolean Expressions\n",
    "\n",
    "Expressions can perform Boolean operations such as:\n",
    "* Equality: `==`\n",
    "* Not Equal: `!=`\n",
    "* Greater Than: `>`\n",
    "* Less Than: `<`\n",
    "* Greater Than Or Equal: `>=`\n",
    "* Less Than Or Equal: `<=`\n",
    "\n",
    "We can compare numbers and assign Boolean variables (True or False):"
   ]
  },
  {
   "cell_type": "code",
   "execution_count": 45,
   "metadata": {},
   "outputs": [
    {
     "name": "stdout",
     "output_type": "stream",
     "text": [
      "False\n",
      "True\n",
      "c =  False\n"
     ]
    }
   ],
   "source": [
    "a = 1\n",
    "b = 2\n",
    "print(a==b) # test whether a is equal to b\n",
    "print(a<=b) # test whether a is less than or equal to b\n",
    "c = a>b     # c is a Boolean variable\n",
    "print('c = ',c)"
   ]
  },
  {
   "cell_type": "markdown",
   "metadata": {},
   "source": [
    "## Conditions\n",
    "\n",
    "To write a process based on tests of the values of variables, we can use the if then else construct. The construct is created by including a colon at the conclusion of each test and indenting the statements to be performed by four characters immediately below the test. Once you enter the colon, Jupyter will automatically indent the following lines until the user chooses otherwise."
   ]
  },
  {
   "cell_type": "code",
   "execution_count": 46,
   "metadata": {},
   "outputs": [
    {
     "name": "stdout",
     "output_type": "stream",
     "text": [
      "a is greater than b\n",
      "5 4\n"
     ]
    }
   ],
   "source": [
    "a = 5\n",
    "b = 4\n",
    "if a == b:\n",
    "    print('a is b')\n",
    "elif a < b:\n",
    "    print('a is less than b')\n",
    "elif a > b:\n",
    "    print('a is greater than b') \n",
    "    print(a,b)\n",
    "else:\n",
    "    print('a is different') \n"
   ]
  },
  {
   "cell_type": "markdown",
   "metadata": {},
   "source": [
    "You can also add conditional logic in each part of the if then else construct. This is known as a nested condition."
   ]
  },
  {
   "cell_type": "code",
   "execution_count": 47,
   "metadata": {},
   "outputs": [
    {
     "name": "stdout",
     "output_type": "stream",
     "text": [
      "within else of else\n"
     ]
    }
   ],
   "source": [
    "a = 5\n",
    "b = 4\n",
    "if a == b:\n",
    "    print('a is b')\n",
    "#let's write conditions within else\n",
    "else:\n",
    "    if a == 2:\n",
    "        print('within if of else')\n",
    "    else:\n",
    "        print('within else of else')"
   ]
  },
  {
   "cell_type": "markdown",
   "metadata": {},
   "source": [
    "## Loops\n",
    "\n",
    "To repeat a process we can use while or for loops. Again these use indentation and colons to define the loop process.\n",
    "\n",
    "### While\n",
    "\n",
    "Here we provide a condition and run the loop until the condition is met:"
   ]
  },
  {
   "cell_type": "code",
   "execution_count": 48,
   "metadata": {},
   "outputs": [],
   "source": [
    "input=2\n",
    "while (input < 0): # test whether the input is negative\n",
    "    print(input)\n",
    "    input = input-1"
   ]
  },
  {
   "cell_type": "markdown",
   "metadata": {},
   "source": [
    "### For\n",
    "\n",
    "To loop over some statements a number of times, we can use the for loops. The object `[0,1,2,3,4]` is an array and what we are telling Python to do is let `i` be each element in that array, and stop when we get to the end of the array."
   ]
  },
  {
   "cell_type": "code",
   "execution_count": 49,
   "metadata": {},
   "outputs": [
    {
     "name": "stdout",
     "output_type": "stream",
     "text": [
      "0\n",
      "1\n",
      "2\n",
      "3\n",
      "4\n"
     ]
    }
   ],
   "source": [
    "for i in [0,1,2,3,4]:\n",
    "    print(i)"
   ]
  },
  {
   "cell_type": "markdown",
   "metadata": {},
   "source": [
    "Or we can use the range function:\n",
    "\n",
    "`range(start, stop, step):`\n",
    "\n",
    "This generates numerical values that commence at `start` (inclusive), finish at `stop` (exclusive) with the steps `step`. For example, to generate and view\n",
    "odd numbers from 1 to 9, do:"
   ]
  },
  {
   "cell_type": "code",
   "execution_count": 50,
   "metadata": {},
   "outputs": [
    {
     "data": {
      "text/plain": [
       "[1, 3, 5, 7, 9]"
      ]
     },
     "execution_count": 50,
     "metadata": {},
     "output_type": "execute_result"
    }
   ],
   "source": [
    "list(range(1,10,2))"
   ]
  },
  {
   "cell_type": "code",
   "execution_count": 51,
   "metadata": {},
   "outputs": [
    {
     "name": "stdout",
     "output_type": "stream",
     "text": [
      "0\n",
      "1\n",
      "2\n",
      "3\n",
      "4\n"
     ]
    }
   ],
   "source": [
    "for i in range(0,5):\n",
    "    print(i)"
   ]
  },
  {
   "cell_type": "markdown",
   "metadata": {},
   "source": [
    "We can loop over items or characters of a string, since strings are just arrays of characters. "
   ]
  },
  {
   "cell_type": "code",
   "execution_count": 52,
   "metadata": {},
   "outputs": [
    {
     "name": "stdout",
     "output_type": "stream",
     "text": [
      "h\n",
      "e\n",
      "l\n",
      "l\n",
      "o\n"
     ]
    }
   ],
   "source": [
    "for letter in 'hello':\n",
    "    print(letter)"
   ]
  },
  {
   "cell_type": "markdown",
   "metadata": {},
   "source": [
    "### Combine For with If\n",
    "\n",
    "Let’s do a simple exercise to find if a character is in two words"
   ]
  },
  {
   "cell_type": "code",
   "execution_count": 53,
   "metadata": {},
   "outputs": [
    {
     "name": "stdout",
     "output_type": "stream",
     "text": [
      "o\n",
      "n\n",
      "e\n",
      "n\n",
      "a\n",
      "m\n",
      "e\n"
     ]
    }
   ],
   "source": [
    "name = 'onename'\n",
    "anothername = 'onenameonename'\n",
    "for character in name: # loop through each character in the string name\n",
    "    if character in anothername: # check if the character is in the string anothername\n",
    "        print(character) # print the character if true"
   ]
  },
  {
   "cell_type": "markdown",
   "metadata": {},
   "source": [
    "### Break\n",
    "\n",
    "If you want to end a for or while loop we can use the break construct."
   ]
  },
  {
   "cell_type": "code",
   "execution_count": 54,
   "metadata": {},
   "outputs": [
    {
     "name": "stdout",
     "output_type": "stream",
     "text": [
      "0\n",
      "1\n",
      "2\n",
      "3\n",
      "4\n",
      "5\n"
     ]
    }
   ],
   "source": [
    "for i in range(0,10):\n",
    "    print(i)\n",
    "    if (i==5):\n",
    "        break"
   ]
  },
  {
   "cell_type": "code",
   "execution_count": 55,
   "metadata": {},
   "outputs": [
    {
     "name": "stdout",
     "output_type": "stream",
     "text": [
      "4\n",
      "3\n",
      "2\n",
      "1\n"
     ]
    }
   ],
   "source": [
    "x = 5\n",
    "while True: # do this while loop regardless, since it is always true\n",
    "    x -= 1 # decrease x by one\n",
    "    print(x)\n",
    "    if (x==1): # stop when x = 1\n",
    "        break"
   ]
  },
  {
   "cell_type": "markdown",
   "metadata": {},
   "source": [
    "### Exercises\n",
    "\n",
    "Please enter your solution in the cell below each exercise."
   ]
  },
  {
   "cell_type": "markdown",
   "metadata": {},
   "source": [
    "### Exercise 1\n",
    "\n",
    "For the numbers 13 and 22 write a script which tests whether the number is even or odd, and then prints out\n",
    "a statement such as:\n",
    "\n",
    "The number 13 is odd. (The print statement should use a variable, rather than an actual number.)\n",
    "\n",
    "Your solution should involve a for loop, an array, the % operator and an if-else statement."
   ]
  },
  {
   "cell_type": "code",
   "execution_count": 48,
   "metadata": {
    "scrolled": true
   },
   "outputs": [
    {
     "name": "stdout",
     "output_type": "stream",
     "text": [
      "13 is odd.\n",
      "22 is even.\n"
     ]
    }
   ],
   "source": [
    "\n",
    "Array_Of_Numbers =[13,22]\n",
    "for Value in Array_Of_Numbers:\n",
    "    if Value%2 ==0:\n",
    "        print('{} is even.'.format(Value))\n",
    "    else:\n",
    "        print('{} is odd.'.format(Value))\n",
    "\n",
    "   \n",
    "\n",
    "\n",
    "\n",
    "          \n",
    "   \n",
    "\n",
    "\n"
   ]
  },
  {
   "cell_type": "markdown",
   "metadata": {},
   "source": [
    "### Exercise 2\n",
    "\n",
    "Use a for loop to calculate the factorial of 9 and print out the result."
   ]
  },
  {
   "cell_type": "code",
   "execution_count": 10,
   "metadata": {},
   "outputs": [
    {
     "name": "stdout",
     "output_type": "stream",
     "text": [
      "1\n",
      "3\n",
      "9\n",
      "1\n",
      "2\n",
      "6\n",
      "24\n",
      "120\n",
      "720\n",
      "5040\n",
      "40320\n",
      "362880\n"
     ]
    }
   ],
   "source": [
    "n=9\n",
    "for i in range(1,n+1):\n",
    "    if n%i==0:\n",
    "        print(i)# if factorial means factor of 9\n",
    "\n",
    "a=1\n",
    "b=9\n",
    "for i in range(1,b+1):\n",
    "    a=a*i\n",
    "    print(a)   #if the factorial means (n+1)*(n)*(n-1)...*1(9!)\n",
    "\n",
    "\n",
    "        \n",
    "    \n",
    "        "
   ]
  },
  {
   "cell_type": "markdown",
   "metadata": {},
   "source": [
    "### Exercise 3\n",
    "\n",
    "For the string 'Supercalifragilisticexpialidocious', print the string in reverse order, print strings consisting of the characters in the odd and even positions, and find the number of occurences of the vowels in the string (you should loop over the vowels and use the `count()` method). Your answers should be explained and formatted using print statements."
   ]
  },
  {
   "cell_type": "code",
   "execution_count": 49,
   "metadata": {},
   "outputs": [
    {
     "name": "stdout",
     "output_type": "stream",
     "text": [
      "suoicodilaipxecitsiligarfilacrepuS\n",
      "Sprairglsiepaioiu\n",
      "ueclfaiitcxildcos\n",
      "['S', 'u', 'p', 'e', 'r', 'c', 'a', 'l', 'i', 'f', 'r', 'a', 'g', 'i', 'l', 'i', 's', 't', 'i', 'c', 'e', 'x', 'p', 'i', 'a', 'l', 'i', 'd', 'o', 'c', 'i', 'o', 'u', 's']\n",
      "['S', 'p', 'r', 'a', 'i', 'r', 'g', 'l', 's', 'i', 'e', 'p', 'a', 'i', 'o', 'i', 'u']\n",
      "['u', 'e', 'c', 'l', 'f', 'a', 'i', 'i', 't', 'c', 'x', 'i', 'l', 'd', 'c', 'o', 's']\n",
      "a occurs 3 times\n",
      "e occurs 2 times\n",
      "i occurs 7 times\n",
      "o occurs 2 times\n",
      "u occurs 2 times\n"
     ]
    }
   ],
   "source": [
    "string = 'Supercalifragilisticexpialidocious'# define string as  'Supercalifragilisticexpialidocious' with quote because it is a string\n",
    "print(string[-1::-1])#string in reverse order\n",
    "print(string[0::2])#print string in even position\n",
    "print(string[1::2])#print string in odd position\n",
    "print(list(string))\n",
    "print([i for j, i in enumerate(string) if j %2 == 0])#print string in even position\n",
    "print([i for j,  i in enumerate(string) if j %2 == 1])#print string in odd position\n",
    "vowels = ['a','e','i','o','u']\n",
    "for i in vowels:\n",
    "    print('{} occurs {} times'.format(i,string.count(i)))\n",
    "        \n",
    "       \n",
    "    \n",
    "\n",
    "\n",
    "\n",
    "\n",
    "\n",
    "\n",
    "\n"
   ]
  },
  {
   "cell_type": "markdown",
   "metadata": {},
   "source": [
    "### Exercise 4\n",
    "\n",
    "Use a for loop to print the 10 by 10 multiplication table."
   ]
  },
  {
   "cell_type": "code",
   "execution_count": 26,
   "metadata": {},
   "outputs": [
    {
     "name": "stdout",
     "output_type": "stream",
     "text": [
      "1*1=1\n",
      "1*2=2\n",
      "1*3=3\n",
      "1*4=4\n",
      "1*5=5\n",
      "1*6=6\n",
      "1*7=7\n",
      "1*8=8\n",
      "1*9=9\n",
      "1*10=10\n",
      "2*1=2\n",
      "2*2=4\n",
      "2*3=6\n",
      "2*4=8\n",
      "2*5=10\n",
      "2*6=12\n",
      "2*7=14\n",
      "2*8=16\n",
      "2*9=18\n",
      "2*10=20\n",
      "3*1=3\n",
      "3*2=6\n",
      "3*3=9\n",
      "3*4=12\n",
      "3*5=15\n",
      "3*6=18\n",
      "3*7=21\n",
      "3*8=24\n",
      "3*9=27\n",
      "3*10=30\n",
      "4*1=4\n",
      "4*2=8\n",
      "4*3=12\n",
      "4*4=16\n",
      "4*5=20\n",
      "4*6=24\n",
      "4*7=28\n",
      "4*8=32\n",
      "4*9=36\n",
      "4*10=40\n",
      "5*1=5\n",
      "5*2=10\n",
      "5*3=15\n",
      "5*4=20\n",
      "5*5=25\n",
      "5*6=30\n",
      "5*7=35\n",
      "5*8=40\n",
      "5*9=45\n",
      "5*10=50\n",
      "6*1=6\n",
      "6*2=12\n",
      "6*3=18\n",
      "6*4=24\n",
      "6*5=30\n",
      "6*6=36\n",
      "6*7=42\n",
      "6*8=48\n",
      "6*9=54\n",
      "6*10=60\n",
      "7*1=7\n",
      "7*2=14\n",
      "7*3=21\n",
      "7*4=28\n",
      "7*5=35\n",
      "7*6=42\n",
      "7*7=49\n",
      "7*8=56\n",
      "7*9=63\n",
      "7*10=70\n",
      "8*1=8\n",
      "8*2=16\n",
      "8*3=24\n",
      "8*4=32\n",
      "8*5=40\n",
      "8*6=48\n",
      "8*7=56\n",
      "8*8=64\n",
      "8*9=72\n",
      "8*10=80\n",
      "9*1=9\n",
      "9*2=18\n",
      "9*3=27\n",
      "9*4=36\n",
      "9*5=45\n",
      "9*6=54\n",
      "9*7=63\n",
      "9*8=72\n",
      "9*9=81\n",
      "9*10=90\n",
      "10*1=10\n",
      "10*2=20\n",
      "10*3=30\n",
      "10*4=40\n",
      "10*5=50\n",
      "10*6=60\n",
      "10*7=70\n",
      "10*8=80\n",
      "10*9=90\n",
      "10*10=100\n"
     ]
    }
   ],
   "source": [
    "n=10\n",
    "m=10\n",
    "for i in range(1,n+1):\n",
    "    for j in range(1,m+1):\n",
    "        print('{}*{}={}'.format(i,j,i*j))\n",
    "    \n"
   ]
  },
  {
   "cell_type": "markdown",
   "metadata": {},
   "source": [
    "### Exercise 5\n",
    "\n",
    "Given an integer 260221 reverse the order and print the output, i.e., 122062."
   ]
  },
  {
   "cell_type": "code",
   "execution_count": 11,
   "metadata": {},
   "outputs": [
    {
     "name": "stdout",
     "output_type": "stream",
     "text": [
      "122062\n"
     ]
    }
   ],
   "source": [
    "a = '260221'\n",
    "print(a[::-1])"
   ]
  }
 ],
 "metadata": {
  "kernelspec": {
   "display_name": "Python 3",
   "language": "python",
   "name": "python3"
  },
  "language_info": {
   "codemirror_mode": {
    "name": "ipython",
    "version": 3
   },
   "file_extension": ".py",
   "mimetype": "text/x-python",
   "name": "python",
   "nbconvert_exporter": "python",
   "pygments_lexer": "ipython3",
   "version": "3.8.5"
  }
 },
 "nbformat": 4,
 "nbformat_minor": 2
}
