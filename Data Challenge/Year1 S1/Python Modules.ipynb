{
 "cells": [
  {
   "cell_type": "markdown",
   "metadata": {},
   "source": [
    "# Python Libraries"
   ]
  },
  {
   "cell_type": "markdown",
   "metadata": {},
   "source": [
    "In this lesson we will discuss some useful shortcuts for Jupyter, however the main topic is an introduction to using Python libraries. These are packages of software written in Python or other languages, which allow you to vastly extend the capability of Python. Generally, if you want to program something, the first thing you should do is check whether there is a library which can assist. Not only will this save you time, but the libraries are usually optimized to run much faster than code you may write. We will focus here on the standard mathematics library and `numpy`, which is a package designed for performing algebra with vectors and matrices."
   ]
  },
  {
   "cell_type": "markdown",
   "metadata": {},
   "source": [
    "## Contents:"
   ]
  },
  {
   "cell_type": "markdown",
   "metadata": {},
   "source": [
    "* Jupyter Shortcuts\n",
    "* Jupyter Magic Commands\n",
    "* Importing and Using Libraries\n",
    "    * The math library\n",
    "    * Numpy\n",
    "* Exercises"
   ]
  },
  {
   "cell_type": "markdown",
   "metadata": {},
   "source": [
    "## Jupyter Shortcuts"
   ]
  },
  {
   "cell_type": "markdown",
   "metadata": {},
   "source": [
    "Jupyter provides many keyboard shortcuts to make the development of code and notebooks quicker. You can even define your own shortcuts. Below we list a few of the most useful ones. To see more about shortcuts see Menu -> Help -> Keyboard Shortcuts.\n",
    "\n",
    "You may already have noticed that Jupyter has two modes. These are:\n",
    "* Editing mode, where there is a green border around the cell. This mode is activated by clicking on the cell.\n",
    "* Command mode, where there is a blue border around the cell. This is activated by clicking on the cell border. \n",
    "Selecting cells and using the shortcuts occurs in Command mode.\n",
    "\n",
    "The most common shortcuts in Command mode are:\n",
    "* p - open command palette and search for commands (can also click on keyboard icon).\n",
    "* 1-6 - create a heading in the cell of that order. Heading 1 is the top heading, and higher numbers are subheadings.\n",
    "* m - convert the cell to Markdown (documentation mode).\n",
    "* y - convert the cell to code (Python).\n",
    "* r - convert the cell to raw (uninterpreted).\n",
    "* a - insert a cell above the current cell.\n",
    "* b - insert a cell below the current cell.\n",
    "* [Shift][Return] - run the cell and go to the next cell\n",
    "* [Shift]m - merge the selected cells\n",
    "* x - cut the selected cells.\n",
    "* v - paste the selected cells below.\n",
    "* [Shift]v - paste the selected cells above.\n",
    "* d,d - delete selected cells."
   ]
  },
  {
   "cell_type": "markdown",
   "metadata": {},
   "source": [
    "## Jupyter Magic Commands"
   ]
  },
  {
   "cell_type": "markdown",
   "metadata": {},
   "source": [
    "Jupyter allows users to interact with the operating system (OS) using the escape character '!'. For example, on Linux or MacOS I can find which directory I am working in and list the contents of the current directory using the following commands:"
   ]
  },
  {
   "cell_type": "code",
   "execution_count": 1,
   "metadata": {},
   "outputs": [
    {
     "name": "stderr",
     "output_type": "stream",
     "text": [
      "'pwd' 不是内部或外部命令，也不是可运行的程序\n",
      "或批处理文件。\n"
     ]
    }
   ],
   "source": [
    "!pwd # print current working directory"
   ]
  },
  {
   "cell_type": "code",
   "execution_count": 2,
   "metadata": {},
   "outputs": [
    {
     "name": "stderr",
     "output_type": "stream",
     "text": [
      "'ls' 不是内部或外部命令，也不是可运行的程序\n",
      "或批处理文件。\n"
     ]
    }
   ],
   "source": [
    "!ls # list contents of current directory"
   ]
  },
  {
   "cell_type": "markdown",
   "metadata": {},
   "source": [
    "Howevever if I am working in Windows, these commands will fail, since Windows does not use Unix commands. Instead Jupyter provides the following magic commands to interact with the OS:\n",
    "* %cat - print the contents of a file\n",
    "* %cd - change to another directory\n",
    "* %cp - copy a file to another file\n",
    "* %ls - list the contents of the current directory\n",
    "* %mkdir - create a sub-directory in the current directory\n",
    "* %mv - move or rename a file\n",
    "* %pwd - print the current directory\n",
    "* %rm - remove a file\n",
    "* %rmdir - remove a subdirectory\n",
    "The syntax for each of these can be found by using `help()` or `?`."
   ]
  },
  {
   "cell_type": "markdown",
   "metadata": {},
   "source": [
    "For example I can interact with the OS, in the following ways (of course there are easier ways to do this, like a GUI):"
   ]
  },
  {
   "cell_type": "code",
   "execution_count": 5,
   "metadata": {},
   "outputs": [
    {
     "name": "stdout",
     "output_type": "stream",
     "text": [
      " 驱动器 C 中的卷是 Windows-SSD\n",
      " 卷的序列号是 B84B-B82F\n",
      "\n",
      " C:\\Users\\wsm\\Downloads 的目录\n",
      "\n",
      "\n",
      " C:\\Users\\wsm\\Downloads 的目录\n",
      "\n",
      "\n",
      " C:\\Users\\wsm\\Downloads 的目录\n",
      "\n",
      "\n",
      " C:\\Users\\wsm\\Downloads 的目录\n",
      "\n",
      "\n",
      " C:\\Users\\wsm\\Downloads 的目录\n",
      "\n",
      "\n",
      " C:\\Users\\wsm\\Downloads 的目录\n",
      "\n",
      "\n",
      " C:\\Users\\wsm\\Downloads 的目录\n",
      "\n",
      "\n",
      " C:\\Users\\wsm\\Downloads 的目录\n",
      "\n"
     ]
    },
    {
     "name": "stderr",
     "output_type": "stream",
     "text": [
      "找不到文件\n"
     ]
    }
   ],
   "source": [
    "%ls # print the contents of the current directory"
   ]
  },
  {
   "cell_type": "code",
   "execution_count": 13,
   "metadata": {},
   "outputs": [
    {
     "name": "stderr",
     "output_type": "stream",
     "text": [
      "子目录或文件 make 已经存在。\n",
      "处理: make 时出错。\n",
      "子目录或文件 a 已经存在。\n",
      "处理: a 时出错。\n",
      "子目录或文件 temporary 已经存在。\n",
      "处理: temporary 时出错。\n",
      "子目录或文件 directory 已经存在。\n",
      "处理: directory 时出错。\n",
      "子目录或文件 call 已经存在。\n",
      "处理: call 时出错。\n",
      "子目录或文件 tmp 已经存在。\n",
      "处理: tmp 时出错。\n"
     ]
    }
   ],
   "source": [
    "%mkdir tmp# make a temporary directory call tmp"
   ]
  },
  {
   "cell_type": "code",
   "execution_count": 6,
   "metadata": {},
   "outputs": [
    {
     "name": "stdout",
     "output_type": "stream",
     "text": [
      "\u001b[31m01-PythonIntroduction.ipynb\u001b[m\u001b[m*    \u001b[31mADS1001-GettingStarted.pdf\u001b[m\u001b[m*\r\n",
      "\u001b[31m01-PythonIntroductionFin.ipynb\u001b[m\u001b[m* \u001b[31mBeginnerToAdvanced.ipynb\u001b[m\u001b[m*\r\n",
      "\u001b[31m02-PythonIntroduction.ipynb\u001b[m\u001b[m*    \u001b[31mPythonIntroduction.ipynb\u001b[m\u001b[m*\r\n",
      "03-PythonModules.ipynb          \u001b[31mUntitled.ipynb\u001b[m\u001b[m*\r\n",
      "\u001b[31mADS1001-GettingStarted.md\u001b[m\u001b[m*      \u001b[34mtmp\u001b[m\u001b[m/\r\n"
     ]
    }
   ],
   "source": [
    "%ls # print the contents again, notice there is the new sub-directory"
   ]
  },
  {
   "cell_type": "code",
   "execution_count": 14,
   "metadata": {},
   "outputs": [
    {
     "name": "stderr",
     "output_type": "stream",
     "text": [
      "UsageError: Line magic function `%cp` not found.\n"
     ]
    }
   ],
   "source": [
    "# copy a text file to the temporary directory (make sure you include the /)\n",
    "%cp 03-PythonModules.ipynb tmp/"
   ]
  },
  {
   "cell_type": "code",
   "execution_count": 8,
   "metadata": {},
   "outputs": [
    {
     "name": "stdout",
     "output_type": "stream",
     "text": [
      "03-PythonModules.ipynb\r\n"
     ]
    }
   ],
   "source": [
    "%ls tmp # view the contents of the temporary directory"
   ]
  },
  {
   "cell_type": "code",
   "execution_count": 9,
   "metadata": {},
   "outputs": [
    {
     "name": "stdout",
     "output_type": "stream",
     "text": [
      "/Users/src/BADS/ADS1001_2021/Lessons/tmp\n"
     ]
    }
   ],
   "source": [
    "# change to the temporary directory\n",
    "%cd tmp "
   ]
  },
  {
   "cell_type": "code",
   "execution_count": 8,
   "metadata": {
    "scrolled": true
   },
   "outputs": [
    {
     "name": "stderr",
     "output_type": "stream",
     "text": [
      "UsageError: Line magic function `%cat` not found.\n"
     ]
    }
   ],
   "source": [
    "%cat 03-PythonModules.ipynb # view the file in the current directory"
   ]
  },
  {
   "cell_type": "code",
   "execution_count": 11,
   "metadata": {},
   "outputs": [],
   "source": [
    "%rm 03-PythonModules.ipynb # remove the file we just viewed"
   ]
  },
  {
   "cell_type": "code",
   "execution_count": 12,
   "metadata": {},
   "outputs": [
    {
     "name": "stdout",
     "output_type": "stream",
     "text": [
      "/Users/src/BADS/ADS1001_2021/Lessons\n"
     ]
    }
   ],
   "source": [
    "# change to the parent directory\n",
    "%cd ../ "
   ]
  },
  {
   "cell_type": "code",
   "execution_count": 13,
   "metadata": {},
   "outputs": [],
   "source": [
    "%rmdir tmp/ # remove the temporary directory"
   ]
  },
  {
   "cell_type": "code",
   "execution_count": 14,
   "metadata": {
    "scrolled": true
   },
   "outputs": [
    {
     "name": "stdout",
     "output_type": "stream",
     "text": [
      "\u001b[31m01-PythonIntroduction.ipynb\u001b[m\u001b[m*    \u001b[31mADS1001-GettingStarted.pdf\u001b[m\u001b[m*\r\n",
      "\u001b[31m01-PythonIntroductionFin.ipynb\u001b[m\u001b[m* \u001b[31mBeginnerToAdvanced.ipynb\u001b[m\u001b[m*\r\n",
      "\u001b[31m02-PythonIntroduction.ipynb\u001b[m\u001b[m*    \u001b[31mPythonIntroduction.ipynb\u001b[m\u001b[m*\r\n",
      "03-PythonModules.ipynb          \u001b[31mUntitled.ipynb\u001b[m\u001b[m*\r\n",
      "\u001b[31mADS1001-GettingStarted.md\u001b[m\u001b[m*\r\n"
     ]
    }
   ],
   "source": [
    "%ls # print the contents of directory, which now does not have a tmp directory"
   ]
  },
  {
   "cell_type": "markdown",
   "metadata": {},
   "source": [
    "Jupyter has many other magic commands, which can be investigated using the command `%magic`."
   ]
  },
  {
   "cell_type": "code",
   "execution_count": 15,
   "metadata": {},
   "outputs": [],
   "source": [
    "%magic"
   ]
  },
  {
   "cell_type": "markdown",
   "metadata": {},
   "source": [
    "## Importing and Using Libraries"
   ]
  },
  {
   "cell_type": "markdown",
   "metadata": {},
   "source": [
    "Libraries, packages and modules are various objects for using pre-written code. They are slightly different, however there usage is generally similar. Here we when we refer to libraries, generally the same applies for modules and packages.\n",
    "\n",
    "There is only so much that can be done with the basic version of Python. The real power of Python comes from the libaries which have been developed for Python to perform specialised tasks. A few of the ones we will be dealing with in this studio are `numpy`, `matplotlib` and `pandas`. "
   ]
  },
  {
   "cell_type": "markdown",
   "metadata": {},
   "source": [
    "### The math library"
   ]
  },
  {
   "cell_type": "markdown",
   "metadata": {},
   "source": [
    "The `math` library performs basic mathematics. To import this library we use the syntax:\n",
    "* `import packagename`\n",
    "\n",
    "When we are importing libraries using `import` or `from` (see later) statement, tab completion can be used to find the matching libraries.\n",
    "\n",
    "For example to import the standard `math` package and access the help documentation we can use:"
   ]
  },
  {
   "cell_type": "code",
   "execution_count": 16,
   "metadata": {},
   "outputs": [
    {
     "name": "stdout",
     "output_type": "stream",
     "text": [
      "Help on module math:\n",
      "\n",
      "NAME\n",
      "    math\n",
      "\n",
      "MODULE REFERENCE\n",
      "    https://docs.python.org/3.7/library/math\n",
      "    \n",
      "    The following documentation is automatically generated from the Python\n",
      "    source files.  It may be incomplete, incorrect or include features that\n",
      "    are considered implementation detail and may vary between Python\n",
      "    implementations.  When in doubt, consult the module reference at the\n",
      "    location listed above.\n",
      "\n",
      "DESCRIPTION\n",
      "    This module provides access to the mathematical functions\n",
      "    defined by the C standard.\n",
      "\n",
      "FUNCTIONS\n",
      "    acos(x, /)\n",
      "        Return the arc cosine (measured in radians) of x.\n",
      "    \n",
      "    acosh(x, /)\n",
      "        Return the inverse hyperbolic cosine of x.\n",
      "    \n",
      "    asin(x, /)\n",
      "        Return the arc sine (measured in radians) of x.\n",
      "    \n",
      "    asinh(x, /)\n",
      "        Return the inverse hyperbolic sine of x.\n",
      "    \n",
      "    atan(x, /)\n",
      "        Return the arc tangent (measured in radians) of x.\n",
      "    \n",
      "    atan2(y, x, /)\n",
      "        Return the arc tangent (measured in radians) of y/x.\n",
      "        \n",
      "        Unlike atan(y/x), the signs of both x and y are considered.\n",
      "    \n",
      "    atanh(x, /)\n",
      "        Return the inverse hyperbolic tangent of x.\n",
      "    \n",
      "    ceil(x, /)\n",
      "        Return the ceiling of x as an Integral.\n",
      "        \n",
      "        This is the smallest integer >= x.\n",
      "    \n",
      "    copysign(x, y, /)\n",
      "        Return a float with the magnitude (absolute value) of x but the sign of y.\n",
      "        \n",
      "        On platforms that support signed zeros, copysign(1.0, -0.0)\n",
      "        returns -1.0.\n",
      "    \n",
      "    cos(x, /)\n",
      "        Return the cosine of x (measured in radians).\n",
      "    \n",
      "    cosh(x, /)\n",
      "        Return the hyperbolic cosine of x.\n",
      "    \n",
      "    degrees(x, /)\n",
      "        Convert angle x from radians to degrees.\n",
      "    \n",
      "    erf(x, /)\n",
      "        Error function at x.\n",
      "    \n",
      "    erfc(x, /)\n",
      "        Complementary error function at x.\n",
      "    \n",
      "    exp(x, /)\n",
      "        Return e raised to the power of x.\n",
      "    \n",
      "    expm1(x, /)\n",
      "        Return exp(x)-1.\n",
      "        \n",
      "        This function avoids the loss of precision involved in the direct evaluation of exp(x)-1 for small x.\n",
      "    \n",
      "    fabs(x, /)\n",
      "        Return the absolute value of the float x.\n",
      "    \n",
      "    factorial(x, /)\n",
      "        Find x!.\n",
      "        \n",
      "        Raise a ValueError if x is negative or non-integral.\n",
      "    \n",
      "    floor(x, /)\n",
      "        Return the floor of x as an Integral.\n",
      "        \n",
      "        This is the largest integer <= x.\n",
      "    \n",
      "    fmod(x, y, /)\n",
      "        Return fmod(x, y), according to platform C.\n",
      "        \n",
      "        x % y may differ.\n",
      "    \n",
      "    frexp(x, /)\n",
      "        Return the mantissa and exponent of x, as pair (m, e).\n",
      "        \n",
      "        m is a float and e is an int, such that x = m * 2.**e.\n",
      "        If x is 0, m and e are both 0.  Else 0.5 <= abs(m) < 1.0.\n",
      "    \n",
      "    fsum(seq, /)\n",
      "        Return an accurate floating point sum of values in the iterable seq.\n",
      "        \n",
      "        Assumes IEEE-754 floating point arithmetic.\n",
      "    \n",
      "    gamma(x, /)\n",
      "        Gamma function at x.\n",
      "    \n",
      "    gcd(x, y, /)\n",
      "        greatest common divisor of x and y\n",
      "    \n",
      "    hypot(x, y, /)\n",
      "        Return the Euclidean distance, sqrt(x*x + y*y).\n",
      "    \n",
      "    isclose(a, b, *, rel_tol=1e-09, abs_tol=0.0)\n",
      "        Determine whether two floating point numbers are close in value.\n",
      "        \n",
      "          rel_tol\n",
      "            maximum difference for being considered \"close\", relative to the\n",
      "            magnitude of the input values\n",
      "          abs_tol\n",
      "            maximum difference for being considered \"close\", regardless of the\n",
      "            magnitude of the input values\n",
      "        \n",
      "        Return True if a is close in value to b, and False otherwise.\n",
      "        \n",
      "        For the values to be considered close, the difference between them\n",
      "        must be smaller than at least one of the tolerances.\n",
      "        \n",
      "        -inf, inf and NaN behave similarly to the IEEE 754 Standard.  That\n",
      "        is, NaN is not close to anything, even itself.  inf and -inf are\n",
      "        only close to themselves.\n",
      "    \n",
      "    isfinite(x, /)\n",
      "        Return True if x is neither an infinity nor a NaN, and False otherwise.\n",
      "    \n",
      "    isinf(x, /)\n",
      "        Return True if x is a positive or negative infinity, and False otherwise.\n",
      "    \n",
      "    isnan(x, /)\n",
      "        Return True if x is a NaN (not a number), and False otherwise.\n",
      "    \n",
      "    ldexp(x, i, /)\n",
      "        Return x * (2**i).\n",
      "        \n",
      "        This is essentially the inverse of frexp().\n",
      "    \n",
      "    lgamma(x, /)\n",
      "        Natural logarithm of absolute value of Gamma function at x.\n",
      "    \n",
      "    log(...)\n",
      "        log(x, [base=math.e])\n",
      "        Return the logarithm of x to the given base.\n",
      "        \n",
      "        If the base not specified, returns the natural logarithm (base e) of x.\n",
      "    \n",
      "    log10(x, /)\n",
      "        Return the base 10 logarithm of x.\n",
      "    \n",
      "    log1p(x, /)\n",
      "        Return the natural logarithm of 1+x (base e).\n",
      "        \n",
      "        The result is computed in a way which is accurate for x near zero.\n",
      "    \n",
      "    log2(x, /)\n",
      "        Return the base 2 logarithm of x.\n",
      "    \n",
      "    modf(x, /)\n",
      "        Return the fractional and integer parts of x.\n",
      "        \n",
      "        Both results carry the sign of x and are floats.\n",
      "    \n",
      "    pow(x, y, /)\n",
      "        Return x**y (x to the power of y).\n",
      "    \n",
      "    radians(x, /)\n",
      "        Convert angle x from degrees to radians.\n",
      "    \n",
      "    remainder(x, y, /)\n",
      "        Difference between x and the closest integer multiple of y.\n",
      "        \n",
      "        Return x - n*y where n*y is the closest integer multiple of y.\n",
      "        In the case where x is exactly halfway between two multiples of\n",
      "        y, the nearest even value of n is used. The result is always exact.\n",
      "    \n",
      "    sin(x, /)\n",
      "        Return the sine of x (measured in radians).\n",
      "    \n",
      "    sinh(x, /)\n",
      "        Return the hyperbolic sine of x.\n",
      "    \n",
      "    sqrt(x, /)\n",
      "        Return the square root of x.\n",
      "    \n",
      "    tan(x, /)\n",
      "        Return the tangent of x (measured in radians).\n",
      "    \n",
      "    tanh(x, /)\n",
      "        Return the hyperbolic tangent of x.\n",
      "    \n",
      "    trunc(x, /)\n",
      "        Truncates the Real x to the nearest Integral toward 0.\n",
      "        \n",
      "        Uses the __trunc__ magic method.\n",
      "\n",
      "DATA\n",
      "    e = 2.718281828459045\n",
      "    inf = inf\n",
      "    nan = nan\n",
      "    pi = 3.141592653589793\n",
      "    tau = 6.283185307179586\n",
      "\n",
      "FILE\n",
      "    /opt/anaconda3/lib/python3.7/lib-dynload/math.cpython-37m-darwin.so\n",
      "\n",
      "\n"
     ]
    }
   ],
   "source": [
    "import math\n",
    "help(math)"
   ]
  },
  {
   "cell_type": "markdown",
   "metadata": {},
   "source": [
    "This lists all the commands in the `math` package. To see all commands the commands we could use tab completion. In the following cell type `math.<TAB>` to see a listing of all the math functions. Then type `math.s<TAB>` to see the functions which start with 's'."
   ]
  },
  {
   "cell_type": "code",
   "execution_count": 23,
   "metadata": {},
   "outputs": [
    {
     "ename": "SyntaxError",
     "evalue": "invalid syntax (<ipython-input-23-e21492e876f8>, line 1)",
     "output_type": "error",
     "traceback": [
      "\u001b[1;36m  File \u001b[1;32m\"<ipython-input-23-e21492e876f8>\"\u001b[1;36m, line \u001b[1;32m1\u001b[0m\n\u001b[1;33m    math.s<TAB>\u001b[0m\n\u001b[1;37m               ^\u001b[0m\n\u001b[1;31mSyntaxError\u001b[0m\u001b[1;31m:\u001b[0m invalid syntax\n"
     ]
    }
   ],
   "source": [
    "math.s<TAB>\n"
   ]
  },
  {
   "cell_type": "markdown",
   "metadata": {},
   "source": [
    "To use any of these functions or objects we use the syntax:\n",
    "* `math.functionname()` for a function\n",
    "* `math.object` for an object (e.g., a constant such as pi)\n",
    "\n",
    "Again this syntax can be used with the `help()` or `?`.\n",
    "\n",
    "In the following cell we can now perform some simple trigonometric calculations:"
   ]
  },
  {
   "cell_type": "code",
   "execution_count": 17,
   "metadata": {},
   "outputs": [
    {
     "name": "stdout",
     "output_type": "stream",
     "text": [
      "sin of pi/2 =  1.0\n",
      "sin squared and cos squared = 1.0\n"
     ]
    }
   ],
   "source": [
    "print('sin of pi/2 = ',math.sin(math.pi/2))\n",
    "print(\"sin squared and cos squared =\",math.sin(.6)**2+math.cos(.6)**2)\n"
   ]
  },
  {
   "cell_type": "markdown",
   "metadata": {},
   "source": [
    "If we don't want to write 'math' all the time for the functions we require, we can introduce an abbreviation for the package. Just make sure your abbreviation is not an already existing package, as this will create conflicts. For example in the following, `math` has been abbreviated to `m`:"
   ]
  },
  {
   "cell_type": "code",
   "execution_count": 18,
   "metadata": {},
   "outputs": [
    {
     "name": "stdout",
     "output_type": "stream",
     "text": [
      "Square root of 2 is 1.4142135623730951\n"
     ]
    }
   ],
   "source": [
    "import math as m\n",
    "\n",
    "print('Square root of 2 is',m.sqrt(2))"
   ]
  },
  {
   "cell_type": "markdown",
   "metadata": {},
   "source": [
    "If we only want a few functions or objects from a package we can import them using the `from` command. We then don't need to reference the package name before using them. Again tab completion can be used after `from` or `import`. For example if we want the natural exponent and logarithm, we can use:"
   ]
  },
  {
   "cell_type": "code",
   "execution_count": 19,
   "metadata": {},
   "outputs": [],
   "source": [
    "from math import exp, log"
   ]
  },
  {
   "cell_type": "markdown",
   "metadata": {},
   "source": [
    "The import list can be one function or object, or as long as we need. Now, we can use `exp` and `log` without the prefix:"
   ]
  },
  {
   "cell_type": "code",
   "execution_count": 20,
   "metadata": {},
   "outputs": [
    {
     "name": "stdout",
     "output_type": "stream",
     "text": [
      "Euler's constant is 2.718281828459045\n",
      "The natural logarithm of 10 is 2.302585092994046\n"
     ]
    }
   ],
   "source": [
    "print(\"Euler's constant is\",exp(1))\n",
    "print('The natural logarithm of 10 is',log(10))"
   ]
  },
  {
   "cell_type": "markdown",
   "metadata": {},
   "source": [
    "In the following cell import `sin`, `cos`, `tan` and `pi` using the `from` command, and calculate each of these for the arguments $0$, $\\pi/6$, $\\pi/4$, $\\pi/3$ and $\\pi/2$."
   ]
  },
  {
   "cell_type": "code",
   "execution_count": 5,
   "metadata": {},
   "outputs": [
    {
     "name": "stdout",
     "output_type": "stream",
     "text": [
      "cos(i)= 1.0 sin(i)= 0.0 tan(i)= 0.0\n",
      "cos(i)= 0.8660254037844387 sin(i)= 0.49999999999999994 tan(i)= 0.5773502691896257\n",
      "cos(i)= 0.7071067811865476 sin(i)= 0.7071067811865476 tan(i)= 0.9999999999999999\n",
      "cos(i)= 0.5000000000000001 sin(i)= 0.8660254037844386 tan(i)= 1.7320508075688767\n",
      "cos(i)= 6.123233995736766e-17 sin(i)= 1.0 tan(i)= 1.633123935319537e+16\n"
     ]
    }
   ],
   "source": [
    "arguments = [0,pi/6,pi/4,pi/3,pi/2]\n",
    "from math import sin,cos,tan,pi\n",
    "for i in arguments:\n",
    "    print('cos(i)=',cos(i),'sin(i)=',sin(i),'tan(i)=',tan(i))\n"
   ]
  },
  {
   "cell_type": "markdown",
   "metadata": {},
   "source": [
    "### Numpy"
   ]
  },
  {
   "cell_type": "markdown",
   "metadata": {},
   "source": [
    "`numpy` (short for Numerical Python) is the standard Python package for dealing with arrays and matrices, and is the basis for `pandas`, which is one of the standard libraries for Data Science. Hence, before dealing with `pandas` we will briefly introduce some of the features of `numpy`.\n",
    "\n",
    "The basis of `numpy` is `ndarray` or the n-dimensional array, which is like Python lists, but enhanced for numerical mathematics. These can used to create vectors (one-dimensional arrays), matrices (two-dimensional arrays) and higher dimensional objects. Typically `numpy` is abbreviated as `np`, so we import it as:"
   ]
  },
  {
   "cell_type": "code",
   "execution_count": 21,
   "metadata": {},
   "outputs": [],
   "source": [
    "import numpy as np"
   ]
  },
  {
   "cell_type": "markdown",
   "metadata": {},
   "source": [
    "Then to create arrays we use"
   ]
  },
  {
   "cell_type": "code",
   "execution_count": 22,
   "metadata": {},
   "outputs": [],
   "source": [
    "a = np.array([1,2,3,4])\n",
    "b = np.array([5,6,7,8])"
   ]
  },
  {
   "cell_type": "markdown",
   "metadata": {},
   "source": [
    "Compare this with creating a Python list"
   ]
  },
  {
   "cell_type": "code",
   "execution_count": 23,
   "metadata": {},
   "outputs": [],
   "source": [
    "aa = [1,2,3,4]\n",
    "bb = [5,6,7,8]"
   ]
  },
  {
   "cell_type": "markdown",
   "metadata": {},
   "source": [
    "Now we can compare the results for addition and multiplication of these two objects:"
   ]
  },
  {
   "cell_type": "code",
   "execution_count": 24,
   "metadata": {},
   "outputs": [
    {
     "name": "stdout",
     "output_type": "stream",
     "text": [
      "Numpy addition gives [ 6  8 10 12]\n",
      "Python addition gives [1, 2, 3, 4, 5, 6, 7, 8]\n",
      "Numpy multiplication gives [ 3  6  9 12]\n",
      "Python multiplication gives [1, 2, 3, 4, 1, 2, 3, 4, 1, 2, 3, 4]\n"
     ]
    }
   ],
   "source": [
    "print('Numpy addition gives',a+b)\n",
    "print('Python addition gives',aa+bb)\n",
    "\n",
    "print('Numpy multiplication gives',3*a)\n",
    "print('Python multiplication gives',3*aa)"
   ]
  },
  {
   "cell_type": "markdown",
   "metadata": {},
   "source": [
    "So, `numpy` gives algebraic operations, while Python lists give results which are consistent with the manipulation of strings. You can have `numpy` arrays which are strings, Boolean (True or False), floats or integers, but we will just deal with numbers here.\n",
    "\n",
    "In the following cell define a vector `c=[-1,5,3]` and try to add this to `a`."
   ]
  },
  {
   "cell_type": "code",
   "execution_count": 8,
   "metadata": {},
   "outputs": [
    {
     "ename": "ValueError",
     "evalue": "operands could not be broadcast together with shapes (4,) (3,) ",
     "output_type": "error",
     "traceback": [
      "\u001b[1;31m---------------------------------------------------------------------------\u001b[0m",
      "\u001b[1;31mValueError\u001b[0m                                Traceback (most recent call last)",
      "\u001b[1;32m<ipython-input-8-32cea086c44d>\u001b[0m in \u001b[0;36m<module>\u001b[1;34m()\u001b[0m\n\u001b[0;32m      2\u001b[0m \u001b[0ma\u001b[0m \u001b[1;33m=\u001b[0m\u001b[0mnp\u001b[0m\u001b[1;33m.\u001b[0m\u001b[0marray\u001b[0m\u001b[1;33m(\u001b[0m\u001b[1;33m[\u001b[0m\u001b[1;36m1\u001b[0m\u001b[1;33m,\u001b[0m\u001b[1;36m2\u001b[0m\u001b[1;33m,\u001b[0m\u001b[1;36m3\u001b[0m\u001b[1;33m,\u001b[0m\u001b[1;36m4\u001b[0m\u001b[1;33m]\u001b[0m\u001b[1;33m)\u001b[0m\u001b[1;33m\u001b[0m\u001b[0m\n\u001b[0;32m      3\u001b[0m \u001b[0mc\u001b[0m\u001b[1;33m=\u001b[0m \u001b[0mnp\u001b[0m\u001b[1;33m.\u001b[0m\u001b[0marray\u001b[0m\u001b[1;33m(\u001b[0m\u001b[1;33m[\u001b[0m\u001b[1;33m-\u001b[0m\u001b[1;36m1\u001b[0m\u001b[1;33m,\u001b[0m\u001b[1;36m5\u001b[0m\u001b[1;33m,\u001b[0m\u001b[1;36m3\u001b[0m\u001b[1;33m]\u001b[0m\u001b[1;33m)\u001b[0m\u001b[1;33m\u001b[0m\u001b[0m\n\u001b[1;32m----> 4\u001b[1;33m \u001b[0mprint\u001b[0m\u001b[1;33m(\u001b[0m\u001b[0ma\u001b[0m\u001b[1;33m+\u001b[0m\u001b[0mc\u001b[0m\u001b[1;33m)\u001b[0m\u001b[1;33m\u001b[0m\u001b[0m\n\u001b[0m",
      "\u001b[1;31mValueError\u001b[0m: operands could not be broadcast together with shapes (4,) (3,) "
     ]
    }
   ],
   "source": [
    "import numpy as np\n",
    "a =np.array([1,2,3,4])\n",
    "c= np.array([-1,5,3])\n",
    "print(a+c)"
   ]
  },
  {
   "cell_type": "markdown",
   "metadata": {},
   "source": [
    "Hence the algebraic operations must follow particular rules."
   ]
  },
  {
   "cell_type": "markdown",
   "metadata": {},
   "source": [
    "Multiplication and division of two vectors of the same size now follows the \"element-by-element\" rule. In the following cell calculate `a*b` and `a/b`. How is each element of the resultant vector calculated?"
   ]
  },
  {
   "cell_type": "code",
   "execution_count": null,
   "metadata": {},
   "outputs": [],
   "source": []
  },
  {
   "cell_type": "markdown",
   "metadata": {},
   "source": [
    "We can also multiply two vectors of the same length together to calculate the \"dot product\". This is the sum of the \"element-by-element\" terms and the result is a scalar. This can be calculated using `np.dot`, `np.matmul` and `@`, as in the following examples:"
   ]
  },
  {
   "cell_type": "code",
   "execution_count": 25,
   "metadata": {},
   "outputs": [
    {
     "name": "stdout",
     "output_type": "stream",
     "text": [
      "The dot product of a and b can be written in the following ways:\n",
      "Sum of element by element multiplication 70\n",
      "Using the dot product function 70\n",
      "Using the matrix multiplication function 70\n",
      "Using the shortcut for matrix muliplication 70\n"
     ]
    }
   ],
   "source": [
    "print('The dot product of a and b can be written in the following ways:')\n",
    "print('Sum of element by element multiplication',sum(a*b))\n",
    "print('Using the dot product function',np.dot(a,b))\n",
    "print('Using the matrix multiplication function',np.matmul(a,b))\n",
    "print('Using the shortcut for matrix muliplication',a@b)"
   ]
  },
  {
   "cell_type": "markdown",
   "metadata": {},
   "source": [
    "Two-dimensional arrays or matrices can be created by repeated use of square brackets. The inner elements define the first dimension or elements of each row, then the outer elements define the second dimension and move on to each row. The elements of each row, and each of the rows must be separated by commas. For example to define a 3 by 2 matrix we can use (typically capital letters are used for matrices):"
   ]
  },
  {
   "cell_type": "code",
   "execution_count": 26,
   "metadata": {},
   "outputs": [
    {
     "name": "stdout",
     "output_type": "stream",
     "text": [
      "[[ 3 -1]\n",
      " [ 2  5]\n",
      " [ 7 -3]]\n"
     ]
    }
   ],
   "source": [
    "A = np.array([[3,-1],[2,5],[7,-3]])\n",
    "print(A)"
   ]
  },
  {
   "cell_type": "markdown",
   "metadata": {},
   "source": [
    "To determine the number of dimensions of an array we can use the object `ndim`, to determine the size in each dimension we can use `shape` and to determine the total number of elements we can use `size`:"
   ]
  },
  {
   "cell_type": "code",
   "execution_count": 9,
   "metadata": {},
   "outputs": [
    {
     "name": "stdout",
     "output_type": "stream",
     "text": [
      "A has 2 dimensions\n",
      "A has the shape (3, 2)\n",
      "A has 6 elements\n",
      "a has 1 dimensions\n",
      "a has the shape (4,)\n",
      "a has 4 elements\n"
     ]
    }
   ],
   "source": [
    "a = np.array([1,2,3,4])\n",
    "A = np.array([[3,-1],[2,5],[7,-3]])\n",
    "print('A has',A.ndim,'dimensions')\n",
    "print('A has the shape',A.shape)\n",
    "print('A has',A.size,'elements')\n",
    "\n",
    "print('a has',a.ndim,'dimensions')\n",
    "print('a has the shape',a.shape)\n",
    "print('a has',a.size,'elements')"
   ]
  },
  {
   "cell_type": "markdown",
   "metadata": {},
   "source": [
    "Now if two objects are compatible we can define matrix multiplication. For those unfamiliar with matrix multiplication, this corresponds to taking the dot product of all the rows of the first matrix with the columns of the second matrix, and will be introduced in MTH1020. If we have two matrices: `A` with size (m,n), and `B` with size (p,q), then to calculate `A@B` we must have n=p to be able to calculate the dot products, and the resultant matrix will have size (m,q). For a brief introduction see [Maths is Fun](https://www.mathsisfun.com/algebra/matrix-multiplying.html) or other websites. \n",
    "\n",
    "Here we will create a second matrix and multiply it with `A`:"
   ]
  },
  {
   "cell_type": "code",
   "execution_count": 13,
   "metadata": {},
   "outputs": [
    {
     "name": "stdout",
     "output_type": "stream",
     "text": [
      "[[  9  -8]\n",
      " [  6   6]\n",
      " [ 21 -20]]\n",
      "(3, 2)\n",
      "(2, 2)\n"
     ]
    }
   ],
   "source": [
    "A = np.array([[3,-1],[2,5],[7,-3]])\n",
    "B = np.array([[3,-2],[0,2]])\n",
    "C = A@B\n",
    "print(C)\n",
    "print(A.shape)\n",
    "print(B.shape)\n"
   ]
  },
  {
   "cell_type": "markdown",
   "metadata": {},
   "source": [
    "In the following cell, determine the shape of `C`. In this what you expect?"
   ]
  },
  {
   "cell_type": "code",
   "execution_count": 14,
   "metadata": {},
   "outputs": [
    {
     "name": "stdout",
     "output_type": "stream",
     "text": [
      "(3, 2)\n"
     ]
    }
   ],
   "source": [
    "print(C.shape)\n",
    "#must satisfy m*n n*r  and the result will be m*r"
   ]
  },
  {
   "cell_type": "markdown",
   "metadata": {},
   "source": [
    "What occurs if you try to calculate `B@A`?"
   ]
  },
  {
   "cell_type": "code",
   "execution_count": 15,
   "metadata": {},
   "outputs": [
    {
     "ename": "ValueError",
     "evalue": "shapes (2,2) and (3,2) not aligned: 2 (dim 1) != 3 (dim 0)",
     "output_type": "error",
     "traceback": [
      "\u001b[1;31m---------------------------------------------------------------------------\u001b[0m",
      "\u001b[1;31mValueError\u001b[0m                                Traceback (most recent call last)",
      "\u001b[1;32m<ipython-input-15-2b961c7386ac>\u001b[0m in \u001b[0;36m<module>\u001b[1;34m()\u001b[0m\n\u001b[1;32m----> 1\u001b[1;33m \u001b[0mB\u001b[0m\u001b[1;33m@\u001b[0m\u001b[0mA\u001b[0m\u001b[1;33m\u001b[0m\u001b[0m\n\u001b[0m",
      "\u001b[1;31mValueError\u001b[0m: shapes (2,2) and (3,2) not aligned: 2 (dim 1) != 3 (dim 0)"
     ]
    }
   ],
   "source": [
    "B@A"
   ]
  },
  {
   "cell_type": "markdown",
   "metadata": {},
   "source": [
    "We can also multiply vectors with matrices. Since `A` has 3 rows and 2 columns and `d` is a vector of length 3, we can multiply `d` with `A` to get a matrix with 2 columns:"
   ]
  },
  {
   "cell_type": "code",
   "execution_count": 32,
   "metadata": {},
   "outputs": [
    {
     "ename": "IndentationError",
     "evalue": "unindent does not match any outer indentation level (<tokenize>, line 17)",
     "output_type": "error",
     "traceback": [
      "\u001b[1;36m  File \u001b[1;32m\"<tokenize>\"\u001b[1;36m, line \u001b[1;32m17\u001b[0m\n\u001b[1;33m    for i in range(2,num + 1):\u001b[0m\n\u001b[1;37m    ^\u001b[0m\n\u001b[1;31mIndentationError\u001b[0m\u001b[1;31m:\u001b[0m unindent does not match any outer indentation level\n"
     ]
    }
   ],
   "source": [
    "import numpy as np\n",
    "d = np.array([1,0,-1])\n",
    "A = np.array([[3,-1],[2,5],[7,-3]])\n",
    "print('The product of d and A is:')\n",
    "print(d@A)\n",
    "print(d.shape)\n",
    "print(A.shape)\n",
    "lower = int(input(\"输入区间最小值: \"))\n",
    "upper = int(input(\"输入区间最大值: \"))\n",
    " # TODO\n",
    " # 请修改下面代码中的2个None\n",
    " \n",
    "for num in range(lower,upper + 1):\n",
    "     # 因为素数是大于 1的，所以如果数小于等于1就跳过。\n",
    "    if num <= 1:\n",
    "         continue\n",
    "        for i in range(2,num + 1):\n",
    "            if i != num and num % i == 0:\n",
    "                break\n",
    "            if i == num:\n",
    "                print(num)\n",
    "\n",
    "# 输出指定范围内的素数\n",
    "lower = 3\n",
    "upper = 100\n",
    "\n",
    "# TODO\n",
    "# 请修改下面代码中的2个None\n",
    "\n",
    "for num in range(lower,upper + 1):\n",
    "    # 因为素数是大于 1的，所以如果数小于等于1就跳过。\n",
    "    if num <= 1:\n",
    "        continue\n",
    "    for i in range(2,num + 1):\n",
    "        if i != num and num % i == 0:\n",
    "            break\n",
    "        if i == num:\n",
    "            print(num)\n",
    "\n"
   ]
  },
  {
   "cell_type": "markdown",
   "metadata": {},
   "source": [
    "As with lists we can use Python's indexing syntax to refer to parts of vectors or matrices. For example to refer to part of a vector we can use:"
   ]
  },
  {
   "cell_type": "code",
   "execution_count": 30,
   "metadata": {},
   "outputs": [
    {
     "name": "stdout",
     "output_type": "stream",
     "text": [
      "First two elements of a are [1 2]\n",
      "Every second element of a are [1 3]\n",
      "a in reverse order is [4 3 2 1]\n"
     ]
    }
   ],
   "source": [
    "a = np.array([1,2,3,4])\n",
    "print('First two elements of a are',a[0:2]) # prints the first two elements of a\n",
    "print('Every second element of a are',a[0::2]) # prints every second element of a\n",
    "print('a in reverse order is',a[-1::-1]) # prints the elements of a in reverse order"
   ]
  },
  {
   "cell_type": "markdown",
   "metadata": {},
   "source": [
    "This can be extended to matrices by separating the indices with commas, as in:"
   ]
  },
  {
   "cell_type": "code",
   "execution_count": 22,
   "metadata": {
    "scrolled": true
   },
   "outputs": [
    {
     "name": "stdout",
     "output_type": "stream",
     "text": [
      "Original matrix is:\n",
      "[[ 3 -1]\n",
      " [ 2  5]\n",
      " [ 7 -3]]\n",
      "The matrix with shape (2,2) extracted from the top corner is:\n",
      "[[ 3 -1]\n",
      " [ 2  5]]\n",
      "The third row is:\n",
      "[[ 7 -3]]\n",
      "The second column is:\n",
      "[-1  5 -3]\n"
     ]
    }
   ],
   "source": [
    "print('Original matrix is:')\n",
    "print(A)\n",
    "print('The matrix with shape (2,2) extracted from the top corner is:')\n",
    "print(A[0:2,0:2]) # print the (2,2) matrix in the top corner of A\n",
    "print('The third row is:')\n",
    "print(A[2::]) #print the third row of A\n",
    "print('The second column is:')\n",
    "print(A[:,1]) # print the second column of A\n",
    "prime_numbers=[]\n",
    "min=3\n",
    "max=101\n",
    "\n",
    "for i in range(min,max):\n",
    "  if i>1:\n",
    "    for j in range(2,i):\n",
    "        if(math.gcd(i,j)>1): #if gcd other than 1 exists, number is not prime\n",
    "            break\n",
    "    else:\n",
    "        prime_numbers.append(i)\n",
    "\n",
    "print(prime_numbers)"
   ]
  },
  {
   "cell_type": "markdown",
   "metadata": {},
   "source": [
    "Print out the value in the first row and first column:"
   ]
  },
  {
   "cell_type": "markdown",
   "metadata": {},
   "source": [
    "## Exercises"
   ]
  },
  {
   "cell_type": "markdown",
   "metadata": {},
   "source": [
    "### Exercise 1"
   ]
  },
  {
   "cell_type": "markdown",
   "metadata": {},
   "source": [
    "Use `math.gcd()` to create and print a list of all the primes up to 100. If a number is prime, then it is not divisible by all the smaller primes. Initialize your list with 2, start your search at 3, and use `list.append()` to add numbers to the list. You should use the function `max`."
   ]
  },
  {
   "cell_type": "code",
   "execution_count": 15,
   "metadata": {},
   "outputs": [
    {
     "name": "stdout",
     "output_type": "stream",
     "text": [
      "[2, 3, 5, 7, 11, 13, 17, 19, 23, 29, 31, 37, 41, 43, 47, 53, 59, 61, 67, 71, 73, 79, 83, 89, 97]\n"
     ]
    }
   ],
   "source": [
    "lower = 3\n",
    "upper = 100\n",
    "\n",
    "\n",
    "primes =[2]\n",
    "for num in range(lower,upper + 1):\n",
    "   \n",
    "    if num <= 1:\n",
    "        continue\n",
    "    for i in range(2,num + 1):\n",
    "        if i != num and num % i == 0:\n",
    "            break\n",
    "        if i == num:\n",
    "            primes.append(num)\n",
    "print(primes)\n",
    "\n",
    "\n",
    "        \n",
    " \n",
    "     \n",
    "\n",
    "\n",
    "\n",
    "\n",
    "                 "
   ]
  },
  {
   "cell_type": "code",
   "execution_count": 2,
   "metadata": {},
   "outputs": [
    {
     "name": "stdout",
     "output_type": "stream",
     "text": [
      "[0, 1, 2, 3, 4, 5, 6, 7, 8, 9, 10, 11, 12, 13, 14, 15, 16, 17, 18, 19, 20, 21, 22, 23, 24, 25, 26, 27, 28, 29, 30, 31, 32, 33, 34, 35, 36, 37, 38, 39, 40, 41, 42, 43, 44, 45, 46, 47, 48, 49, 50, 51, 52, 53, 54, 55, 56, 57, 58, 59, 60, 61, 62, 63, 64, 65, 66, 67, 68, 69, 70, 71, 72, 73, 74, 75, 76, 77, 78, 79, 80, 81, 82, 83, 84, 85, 86, 87, 88, 89, 90, 91, 92, 93, 94, 95, 96, 97, 98, 99, 100]\n"
     ]
    },
    {
     "ename": "NameError",
     "evalue": "name 'num' is not defined",
     "output_type": "error",
     "traceback": [
      "\u001b[1;31m---------------------------------------------------------------------------\u001b[0m",
      "\u001b[1;31mNameError\u001b[0m                                 Traceback (most recent call last)",
      "\u001b[1;32m<ipython-input-2-0320a3ceb00a>\u001b[0m in \u001b[0;36m<module>\u001b[1;34m\u001b[0m\n\u001b[0;32m      5\u001b[0m \u001b[0mprint\u001b[0m\u001b[1;33m(\u001b[0m\u001b[0mallnumberin100\u001b[0m\u001b[1;33m)\u001b[0m\u001b[1;33m\u001b[0m\u001b[1;33m\u001b[0m\u001b[0m\n\u001b[0;32m      6\u001b[0m \u001b[1;32mfor\u001b[0m \u001b[0mx\u001b[0m \u001b[1;32min\u001b[0m \u001b[0mallnumberin100\u001b[0m\u001b[1;33m:\u001b[0m\u001b[1;33m\u001b[0m\u001b[1;33m\u001b[0m\u001b[0m\n\u001b[1;32m----> 7\u001b[1;33m     \u001b[1;32mif\u001b[0m \u001b[0mmath\u001b[0m\u001b[1;33m.\u001b[0m\u001b[0mgcd\u001b[0m\u001b[1;33m(\u001b[0m\u001b[0mx\u001b[0m\u001b[1;33m,\u001b[0m\u001b[0mnum\u001b[0m\u001b[1;33m)\u001b[0m\u001b[1;33m==\u001b[0m\u001b[1;36m1\u001b[0m\u001b[1;33m:\u001b[0m\u001b[1;33m\u001b[0m\u001b[1;33m\u001b[0m\u001b[0m\n\u001b[0m\u001b[0;32m      8\u001b[0m         \u001b[0mprint\u001b[0m\u001b[1;33m(\u001b[0m\u001b[0mx\u001b[0m\u001b[1;33m)\u001b[0m\u001b[1;33m\u001b[0m\u001b[1;33m\u001b[0m\u001b[0m\n",
      "\u001b[1;31mNameError\u001b[0m: name 'num' is not defined"
     ]
    }
   ],
   "source": [
    "import math as math\n",
    "allnumberin100=[]\n",
    "for allnum in range(101):\n",
    "    allnumberin100.append(allnum)\n",
    "print(allnumberin100)\n",
    "for x in allnumberin100:\n",
    "    if math.gcd(x,num)==1:\n",
    "        print(x)"
   ]
  },
  {
   "cell_type": "markdown",
   "metadata": {},
   "source": [
    "### Exercise 2"
   ]
  },
  {
   "cell_type": "markdown",
   "metadata": {},
   "source": [
    "For the function $f(x) = 4\\cos(3x)$, calculate the derivative and the approximation to the derivative $(f(x+h)-f(x-h))/(2h)$. Using $h=0.01$ find the maximum absolute difference between the derivative and the approximation for $x=[0,0.01,0.02,0.03,\\dots,1.]$. You should use the functions `range`, `max` and `abs`."
   ]
  },
  {
   "cell_type": "code",
   "execution_count": 31,
   "metadata": {},
   "outputs": [
    {
     "name": "stdout",
     "output_type": "stream",
     "text": [
      "-12*sin(3*x)\n",
      "4*cos(3*x)\n",
      "When  x=0.0, absolute difference between the derivative and the approximation is 0\n",
      "When  x=0.01, absolute difference between the derivative and the approximation is 0.359892012959162\n",
      "When  x=0.02, absolute difference between the derivative and the approximation is 0.719460147398654\n",
      "When  x=0.03, absolute difference between the derivative and the approximation is 1.07838081626759\n",
      "When  x=0.04, absolute difference between the derivative and the approximation is 1.43633101519041\n",
      "When  x=0.05, absolute difference between the derivative and the approximation is 1.79298861314896\n",
      "When  x=0.06, absolute difference between the derivative and the approximation is 2.14803264237879\n",
      "When  x=0.07, absolute difference between the derivative and the approximation is 2.50114358721836\n",
      "When  x=0.08, absolute difference between the derivative and the approximation is 2.85200367165155\n",
      "When  x=0.09, absolute difference between the derivative and the approximation is 3.20029714528474\n",
      "When  x=0.1, absolute difference between the derivative and the approximation is 3.54571056750070\n",
      "When  x=0.11, absolute difference between the derivative and the approximation is 3.88793308953423\n",
      "When  x=0.12, absolute difference between the derivative and the approximation is 4.22665673421478\n",
      "When  x=0.13, absolute difference between the derivative and the approximation is 4.56157667312531\n",
      "When  x=0.14, absolute difference between the derivative and the approximation is 4.89239150092724\n",
      "When  x=0.15, absolute difference between the derivative and the approximation is 5.21880350660482\n",
      "When  x=0.16, absolute difference between the derivative and the approximation is 5.54051894138514\n",
      "When  x=0.17, absolute difference between the derivative and the approximation is 5.85724828309200\n",
      "When  x=0.18, absolute difference between the derivative and the approximation is 6.16870649669652\n",
      "When  x=0.19, absolute difference between the derivative and the approximation is 6.47461329082919\n",
      "When  x=0.2, absolute difference between the derivative and the approximation is 6.77469337002339\n",
      "When  x=0.21, absolute difference between the derivative and the approximation is 7.06867668246265\n",
      "When  x=0.22, absolute difference between the derivative and the approximation is 7.35629866300906\n",
      "When  x=0.23, absolute difference between the derivative and the approximation is 7.63730047129403\n",
      "When  x=0.24, absolute difference between the derivative and the approximation is 7.91142922465715\n",
      "When  x=0.25, absolute difference between the derivative and the approximation is 8.17843822572355\n",
      "When  x=0.26, absolute difference between the derivative and the approximation is 8.43808718441479\n",
      "When  x=0.27, absolute difference between the derivative and the approximation is 8.69014243419386\n",
      "When  x=0.28, absolute difference between the derivative and the approximation is 8.93437714234917\n",
      "When  x=0.29, absolute difference between the derivative and the approximation is 9.17057151412874\n",
      "When  x=0.3, absolute difference between the derivative and the approximation is 9.39851299054060\n",
      "When  x=0.31, absolute difference between the derivative and the approximation is 9.61799643964156\n",
      "When  x=0.32, absolute difference between the derivative and the approximation is 9.82882434114216\n",
      "When  x=0.33, absolute difference between the derivative and the approximation is 10.0308069641614\n",
      "When  x=0.34, absolute difference between the derivative and the approximation is 10.2237625379721\n",
      "When  x=0.35, absolute difference between the derivative and the approximation is 10.4075174155819\n",
      "When  x=0.36, absolute difference between the derivative and the approximation is 10.5819062300040\n",
      "When  x=0.37, absolute difference between the derivative and the approximation is 10.7467720430764\n",
      "When  x=0.38, absolute difference between the derivative and the approximation is 10.9019664866953\n",
      "When  x=0.39, absolute difference between the derivative and the approximation is 11.0473498963369\n",
      "When  x=0.4, absolute difference between the derivative and the approximation is 11.1827914367455\n",
      "When  x=0.41, absolute difference between the derivative and the approximation is 11.3081692196769\n",
      "When  x=0.42, absolute difference between the derivative and the approximation is 11.4233704135890\n",
      "When  x=0.43, absolute difference between the derivative and the approximation is 11.5282913451833\n",
      "When  x=0.44, absolute difference between the derivative and the approximation is 11.6228375927032\n",
      "When  x=0.45, absolute difference between the derivative and the approximation is 11.7069240709077\n",
      "When  x=0.46, absolute difference between the derivative and the approximation is 11.7804751076421\n",
      "When  x=0.47, absolute difference between the derivative and the approximation is 11.8434245119378\n",
      "When  x=0.48, absolute difference between the derivative and the approximation is 11.8957156335799\n",
      "When  x=0.49, absolute difference between the derivative and the approximation is 11.9373014140885\n",
      "When  x=0.5, absolute difference between the derivative and the approximation is 11.9681444290681\n",
      "When  x=0.51, absolute difference between the derivative and the approximation is 11.9882169218871\n",
      "When  x=0.52, absolute difference between the derivative and the approximation is 11.9975008286567\n",
      "When  x=0.53, absolute difference between the derivative and the approximation is 11.9959877944876\n",
      "When  x=0.54, absolute difference between the derivative and the approximation is 11.9836791810083\n",
      "When  x=0.55, absolute difference between the derivative and the approximation is 11.9605860651402\n",
      "When  x=0.56, absolute difference between the derivative and the approximation is 11.9267292291287\n",
      "When  x=0.57, absolute difference between the derivative and the approximation is 11.8821391418412\n",
      "When  x=0.58, absolute difference between the derivative and the approximation is 11.8268559313463\n",
      "When  x=0.59, absolute difference between the derivative and the approximation is 11.7609293488020\n",
      "When  x=0.6, absolute difference between the derivative and the approximation is 11.6844187236827\n",
      "When  x=0.61, absolute difference between the derivative and the approximation is 11.5973929103868\n",
      "When  x=0.62, absolute difference between the derivative and the approximation is 11.4999302262719\n",
      "When  x=0.63, absolute difference between the derivative and the approximation is 11.3921183811755\n",
      "When  x=0.64, absolute difference between the derivative and the approximation is 11.2740543984809\n",
      "When  x=0.65, absolute difference between the derivative and the approximation is 11.1458445278036\n",
      "When  x=0.66, absolute difference between the derivative and the approximation is 11.0076041493731\n",
      "When  x=0.67, absolute difference between the derivative and the approximation is 10.8594576701992\n",
      "When  x=0.68, absolute difference between the derivative and the approximation is 10.7015384121135\n",
      "When  x=0.69, absolute difference between the derivative and the approximation is 10.5339884917890\n",
      "When  x=0.7, absolute difference between the derivative and the approximation is 10.3569586928450\n",
      "When  x=0.71, absolute difference between the derivative and the approximation is 10.1706083301511\n",
      "When  x=0.72, absolute difference between the derivative and the approximation is 9.97510510645541\n",
      "When  x=0.73, absolute difference between the derivative and the approximation is 9.77062496146332\n",
      "When  x=0.74, absolute difference between the derivative and the approximation is 9.55735191350346\n",
      "When  x=0.75, absolute difference between the derivative and the approximation is 9.33547789392330\n",
      "When  x=0.76, absolute difference between the derivative and the approximation is 9.10520257436436\n",
      "When  x=0.77, absolute difference between the derivative and the approximation is 8.86673318707125\n",
      "When  x=0.78, absolute difference between the derivative and the approximation is 8.62028433839639\n",
      "When  x=0.79, absolute difference between the derivative and the approximation is 8.36607781566874\n",
      "When  x=0.8, absolute difference between the derivative and the approximation is 8.10434238760018\n",
      "When  x=0.81, absolute difference between the derivative and the approximation is 7.83531359840945\n",
      "When  x=0.82, absolute difference between the derivative and the approximation is 7.55923355584811\n",
      "When  x=0.83, absolute difference between the derivative and the approximation is 7.27635071331938\n",
      "When  x=0.84, absolute difference between the derivative and the approximation is 6.98691964628761\n",
      "When  x=0.85, absolute difference between the derivative and the approximation is 6.69120082317713\n",
      "When  x=0.86, absolute difference between the derivative and the approximation is 6.38946037096828\n",
      "When  x=0.87, absolute difference between the derivative and the approximation is 6.08196983570117\n",
      "When  x=0.88, absolute difference between the derivative and the approximation is 5.76900593810259\n",
      "When  x=0.89, absolute difference between the derivative and the approximation is 5.45085032455594\n",
      "When  x=0.9, absolute difference between the derivative and the approximation is 5.12778931363858\n",
      "When  x=0.91, absolute difference between the derivative and the approximation is 4.80011363845430\n",
      "When  x=0.92, absolute difference between the derivative and the approximation is 4.46811818499337\n",
      "When  x=0.93, absolute difference between the derivative and the approximation is 4.13210172675491\n",
      "When  x=0.94, absolute difference between the derivative and the approximation is 3.79236665587082\n",
      "When  x=0.95, absolute difference between the derivative and the approximation is 3.44921871097355\n",
      "When  x=0.96, absolute difference between the derivative and the approximation is 3.10296670205168\n",
      "When  x=0.97, absolute difference between the derivative and the approximation is 2.75392223254189\n",
      "When  x=0.98, absolute difference between the derivative and the approximation is 2.40239941890701\n",
      "When  x=0.99, absolute difference between the derivative and the approximation is 2.04871460795224\n",
      "When  x=1.0, absolute difference between the derivative and the approximation is 1.69318609213438\n",
      "The maximum absolute value is 11.9975008286567\n"
     ]
    }
   ],
   "source": [
    "import numpy as np \n",
    "a=[]\n",
    "x = np.array(range(0,101))/100\n",
    "for val in x:\n",
    "    a.append(val)\n",
    "from math import cos,sin,pi\n",
    "import sympy as sp\n",
    "x= sp.Symbol('x')\n",
    "formula = sp.diff(4*sp.cos(3*x))\n",
    "print(formula)\n",
    "def f(x):\n",
    "    return 4*sp.cos(3*x)\n",
    "print(f(x))\n",
    "\n",
    "def absdiff(x):\n",
    "    \n",
    "     return sp.diff(4*sp.cos(3*x)) - (f(x+0.01)-f(x-0.01))/(2*0.01) \n",
    "b = []\n",
    "for i in a:\n",
    "    b.append(absdiff(i))\n",
    "    print('When  x={}, absolute difference between the derivative and the approximation is {}'.format(i,absdiff(i)))\n",
    "import numpy as np\n",
    "lst = np.array(b)\n",
    "absoluteva=abs(lst)\n",
    "print('The maximum absolute value is {}'.format(max(absoluteva)))\n",
    "\n",
    "\n",
    "\n",
    "\n",
    "\n"
   ]
  },
  {
   "cell_type": "markdown",
   "metadata": {},
   "source": [
    "### Exercise 3"
   ]
  },
  {
   "cell_type": "markdown",
   "metadata": {},
   "source": [
    "The height of a projectile with initial position $x=0$, height $y=y_0$, speed $v=v_0$ and angle $\\theta$ to the horizontal is given by $y(x) = x\\tan(\\theta)-\\frac12 g(x/(v_0\\cos(\\theta))^2+y_0$, where $x$ is the horizontal position in m and $g$ is the acceleration of gravity. For $\\theta = 45^\\circ$, $v_0 = 10 ms^{-1}$, $g=9.81 ms^{-2}$ and $y_0 = 10 m$, print the height of the projectile at $x=[0,1,2,\\dots,10]$."
   ]
  },
  {
   "cell_type": "code",
   "execution_count": 121,
   "metadata": {},
   "outputs": [
    {
     "name": "stdout",
     "output_type": "stream",
     "text": [
      "When x= 0m, height is 10.0m\n",
      "When x= 1m, height is 10.975475m\n",
      "When x= 2m, height is 11.9019m\n",
      "When x= 3m, height is 12.779275m\n",
      "When x= 4m, height is 13.6076m\n",
      "When x= 5m, height is 14.386875m\n",
      "When x= 6m, height is 15.117099999999999m\n",
      "When x= 7m, height is 15.798274999999999m\n",
      "When x= 8m, height is 16.4304m\n",
      "When x= 9m, height is 17.013475m\n",
      "When x= 10m, height is 17.5475m\n"
     ]
    }
   ],
   "source": [
    "x=[0,1,2,3,4,5,6,7,8,9,10]\n",
    "from math import cos,tan,pi\n",
    "def y(x):\n",
    "    return i*(math.tan(pi/4))-0.5*9.81*(i/(-10)*(math.cos(pi/4)))**2+10\n",
    "for i in x:\n",
    "    print('When x= {}m, height is {}m'.format(i,y(i)))\n",
    "\n",
    "                 \n",
    "    "
   ]
  },
  {
   "cell_type": "markdown",
   "metadata": {},
   "source": [
    "### Exercise 4"
   ]
  },
  {
   "cell_type": "markdown",
   "metadata": {},
   "source": [
    "Create a (3,3) array, $E$, which has values of 1 on the main diagonal, i.e., where the row and column number are the same, and values of 0 everywhere else. You should be able to do this using `np.array()` and `np.zeros()`. Create an arbitrary (3,3) matrix and a vector of length 3, and confirm that multiplying these arrays by $E$ does not change the arrays."
   ]
  },
  {
   "cell_type": "code",
   "execution_count": 50,
   "metadata": {},
   "outputs": [
    {
     "name": "stdout",
     "output_type": "stream",
     "text": [
      "[[0 0 0]\n",
      " [0 0 0]\n",
      " [0 0 0]]\n",
      "[[1 1 1]\n",
      " [1 1 1]\n",
      " [1 1 1]]\n",
      "[[0 0 0]\n",
      " [0 0 0]\n",
      " [0 0 0]]\n",
      "[[1 0 0]\n",
      " [0 1 0]\n",
      " [0 0 1]]\n",
      "[[ True  True  True]\n",
      " [ True  True  True]\n",
      " [ True  True  True]]\n"
     ]
    }
   ],
   "source": [
    "import numpy as np\n",
    "E =  np.array([[1,0,0],[0,1,0],[0,0,1]])\n",
    "\n",
    "a=np.zeros([3,3],dtype= int)\n",
    "b=np.ones([3,3],dtype= int)\n",
    "print(a)\n",
    "print(b)\n",
    "print(b@a)\n",
    "print(E@E)\n",
    "print(E ==E@E)\n",
    "\n",
    "\n",
    "\n",
    "\n",
    "\n"
   ]
  },
  {
   "cell_type": "markdown",
   "metadata": {},
   "source": [
    "### Exercise 5"
   ]
  },
  {
   "cell_type": "markdown",
   "metadata": {},
   "source": [
    "Repeat Exercise 3, but use `np.linspace()` to create 21 evenly spaced values of $x$ in the range $0\\le x\\le 10$. You should not need to use a loop to calculate the $y$ values."
   ]
  },
  {
   "cell_type": "code",
   "execution_count": 26,
   "metadata": {},
   "outputs": [
    {
     "name": "stdout",
     "output_type": "stream",
     "text": [
      "[ 0.   0.5  1.   1.5  2.   2.5  3.   3.5  4.   4.5  5.   5.5  6.   6.5\n",
      "  7.   7.5  8.   8.5  9.   9.5 10. ]\n",
      "[10.         10.49386875 10.975475   11.44481875 11.9019     12.34671875\n",
      " 12.779275   13.19956875 13.6076     14.00336875 14.386875   14.75811875\n",
      " 15.1171     15.46381875 15.798275   16.12046875 16.4304     16.72806875\n",
      " 17.013475   17.28661875 17.5475    ]\n",
      "When x =0.0m, y(x)= 10.0m\n",
      "When x =0.5m, y(x)= 10.49386875m\n",
      "When x =1.0m, y(x)= 10.975475m\n",
      "When x =1.5m, y(x)= 11.44481875m\n",
      "When x =2.0m, y(x)= 11.9019m\n",
      "When x =2.5m, y(x)= 12.346718749999999m\n",
      "When x =3.0m, y(x)= 12.779275m\n",
      "When x =3.5m, y(x)= 13.19956875m\n",
      "When x =4.0m, y(x)= 13.6076m\n",
      "When x =4.5m, y(x)= 14.00336875m\n",
      "When x =5.0m, y(x)= 14.386875m\n",
      "When x =5.5m, y(x)= 14.758118749999998m\n",
      "When x =6.0m, y(x)= 15.117099999999999m\n",
      "When x =6.5m, y(x)= 15.463818749999998m\n",
      "When x =7.0m, y(x)= 15.798274999999999m\n",
      "When x =7.5m, y(x)= 16.12046875m\n",
      "When x =8.0m, y(x)= 16.4304m\n",
      "When x =8.5m, y(x)= 16.72806875m\n",
      "When x =9.0m, y(x)= 17.013475m\n",
      "When x =9.5m, y(x)= 17.28661875m\n",
      "When x =10.0m, y(x)= 17.5475m\n"
     ]
    }
   ],
   "source": [
    "import numpy as np\n",
    "x= np.linspace(0,10,21)\n",
    "import math as math\n",
    "from math import pi,cos\n",
    "def y(x):\n",
    "    return  x*(math.tan(pi/4))-0.5*9.81*(x/(-10)*(math.cos(pi/4)))**2+10\n",
    "    \n",
    "print(x)\n",
    "print(y(x))\n",
    "for i in x:\n",
    "    print('When x ={}m, y(x)= {}m'.format(i,y(i)))\n",
    "  \n",
    "\n",
    "    \n",
    "\n",
    "\n",
    "\n",
    "\n",
    "\n",
    "\n"
   ]
  },
  {
   "cell_type": "code",
   "execution_count": null,
   "metadata": {},
   "outputs": [],
   "source": []
  }
 ],
 "metadata": {
  "kernelspec": {
   "display_name": "Python 3",
   "language": "python",
   "name": "python3"
  },
  "language_info": {
   "codemirror_mode": {
    "name": "ipython",
    "version": 3
   },
   "file_extension": ".py",
   "mimetype": "text/x-python",
   "name": "python",
   "nbconvert_exporter": "python",
   "pygments_lexer": "ipython3",
   "version": "3.8.5"
  }
 },
 "nbformat": 4,
 "nbformat_minor": 2
}
