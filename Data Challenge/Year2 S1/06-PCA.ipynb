{
 "cells": [
  {
   "cell_type": "markdown",
   "metadata": {},
   "source": [
    "## Principal Component Analysis\n",
    "\n",
    "In this lesson we will investigate Principal Component Analysis (PCA), which is a powerful technique for manipulating data. So far we have only considered supervised learning algorithms, where labels are predicted based on training data. For unsupervised learning algorithms we do not use labels, but rather investigate relationships within the data features. ###Cluster analysis is another class of unsupervised learning algorithms, which is particularly useful for  classification problems.### This will be considered next week.\n",
    "\n",
    "PCA can be used for unsupervised learning, but it can also be used for visualization, dimensionality reduction and noise filtering. These will be briefly discussed below.\n",
    "\n",
    "PCA treats the $n$ samples and $m$ features of the data as an $n\\times m$ matrix or table, and uses a linear algebra technique known as Singular Value Decomposition to split this into $m$ matrices which are ordered by the amount of variation they account for in the original matrix. As PCA deals with the variance of a matrix, the data should first be normalized so that each column has zero mean. However, the `sklearn` function `PCA` takes this into account, so this normalization does not need to occur.\n"
   ]
  },
  {
   "cell_type": "markdown",
   "metadata": {},
   "source": [
    "We first introduct the standard libraries."
   ]
  },
  {
   "cell_type": "code",
   "execution_count": 1,
   "metadata": {},
   "outputs": [],
   "source": [
    "import numpy as np\n",
    "import matplotlib.pyplot as plt\n",
    "import seaborn as sns\n",
    "sns.set();"
   ]
  },
  {
   "cell_type": "markdown",
   "metadata": {},
   "source": [
    "### A simple two-dimensional dataset\n",
    "\n",
    "To introduce PCA we create a simple two-dimensional data set that approximately lies on a straight line."
   ]
  },
  {
   "cell_type": "code",
   "execution_count": 2,
   "metadata": {},
   "outputs": [
    {
     "data": {
      "image/png": "[encoded data removed]",
      "text/plain": [
       "<Figure size 432x288 with 1 Axes>"
      ]
     },
     "metadata": {},
     "output_type": "display_data"
    }
   ],
   "source": [
    "rng = np.random.RandomState(1) # initializes a random number generator\n",
    "# rand(n,m) creates a (n,m) matrix with random numbers uniformly distributed in [0,1)\n",
    "# randn(n,m,mu,var) creates a (n,m) matrix with random numbers with mean mu and variance var\n",
    "# default values are mu=0 and var=1\n",
    "# dot multiplies a (p,q) and (q,r) matrix to produce a (p,r) matrix and T is the transpose\n",
    "# mean slope of the resultant line is dependent on the random seed\n",
    "X = np.dot(rng.rand(2,2), rng.randn(2,200)).T\n",
    "plt.scatter(X[:,0], X[:,1]) # scatter plot of dataset\n",
    "plt.axis('equal'); # keep the scale of the axes equal"
   ]
  },
  {
   "cell_type": "markdown",
   "metadata": {},
   "source": [
    "PCA has the same calling structure as other `sklearn` routines, so we first import the library, then instantatiate it with the chosen hyperparameters and finally fit the data to the model.\n",
    "\n",
    "Since this is unsupervised learning, there are two things we should note about fitting the data: \n",
    "1. We don't split the data into training and testing sets.\n",
    "2. We don't have target values.\n",
    "\n",
    "The argument for `PCA` in this case is the number of components to calculate. This must be an integer less than or equal to the number of features or a floating point number between 0 and 1. We will consider the floating point option later. If `n_components` is not specified, it is set equal to the number of features. Here we specify the `n_components=2`, which is equal to the number of features."
   ]
  },
  {
   "cell_type": "code",
   "execution_count": 3,
   "metadata": {},
   "outputs": [
    {
     "data": {
      "text/plain": [
       "PCA(n_components=2)"
      ]
     },
     "execution_count": 3,
     "metadata": {},
     "output_type": "execute_result"
    }
   ],
   "source": [
    "from sklearn.decomposition import PCA\n",
    "pca = PCA(n_components=2) #instantatiate PCA to calculate two PCs 2 columns\n",
    "pca.fit(X) # fit our data to the model"
   ]
  },
  {
   "cell_type": "markdown",
   "metadata": {},
   "source": [
    "We can now investigate the output of `PCA`. The first output of interest are the principal components. These are vectors in the feature space which are chosen to account for the primary variation in the data. The first principal component has a slope of approximately 1/3, which is the approximate slope of the scatter plot above. This is consistent with the observation that most of the variation in the data points occurs along the line $y \\approx x/3$. The second principal component is chosen as a vector which is orthogonal (at right-angles) to the first principal component. Since we are working in two-dimensions, there is only one direction (to within a plus or minus) which satisfies this. `PCA` normalizes the principal components so that their length is one, which can be seen by calculating their norm (without any other arguments this is the length of the vector)."
   ]
  },
  {
   "cell_type": "code",
   "execution_count": 4,
   "metadata": {},
   "outputs": [
    {
     "name": "stdout",
     "output_type": "stream",
     "text": [
      "First PC is: [-0.94446029 -0.32862557]\n",
      "Length of vector is: 1.0\n",
      "Second PC is: [-0.32862557  0.94446029]\n",
      "Length of vector is: 1.0\n"
     ]
    }
   ],
   "source": [
    "for ord, vector in zip(['First','Second'], pca.components_): #loop through the array of strings and the PCs\n",
    "    print('{0} PC is: {1}'.format(ord,vector)) # print the PC\n",
    "    print('Length of vector is: {0}'.format(np.linalg.norm(vector))) # print the length of the PC"
   ]
  },
  {
   "cell_type": "markdown",
   "metadata": {},
   "source": [
    "The second output is the explained variance or the explained variance ratio. The explained variance is the contribution of that principal component to the variance of the data matrix. Recall that the principal components are ordered based on their contribution to the variance of the data matrix, therefore the explained variance decreases with each principal component. An alternative version of this is the explained variance ratio, which is a rescaling of the explained variance such that the contributions sum to one. Hence for this example 97.6% of the variance can be explained by the first principal component, and the remaining 2.4% by the second principal component."
   ]
  },
  {
   "cell_type": "code",
   "execution_count": 5,
   "metadata": {},
   "outputs": [
    {
     "name": "stdout",
     "output_type": "stream",
     "text": [
      "First PC variance and variance ratio is: 0.763 0.976\n",
      "Second PC variance and variance ratio is: 0.018 0.024\n"
     ]
    }
   ],
   "source": [
    "#loop through the array of strings and the explained variance and explained variance ratio for the PCs\n",
    "for ord, var, ratio in zip(['First','Second'], pca.explained_variance_, pca.explained_variance_ratio_):\n",
    "    # print the explained variance and explained variance ratio for each PC\n",
    "    print('{0} PC variance and variance ratio is: {1} {2}'.format(ord, np.round(var,3), np.round(ratio,3)))"
   ]
  },
  {
   "cell_type": "code",
   "execution_count": 6,
   "metadata": {},
   "outputs": [
    {
     "data": {
      "text/plain": [
       "array([[-6.25301618e-01, -1.70063657e-01],\n",
       "       [ 9.60695033e-01,  5.90900597e-01],\n",
       "       [-5.98543385e-01, -4.02593393e-01],\n",
       "       [-2.22805938e+00, -5.32576740e-01],\n",
       "       [-4.61430060e-01, -4.98867244e-01],\n",
       "       [-9.58929028e-01, -2.69331024e-01],\n",
       "       [-6.73079909e-01, -3.38308547e-01],\n",
       "       [ 1.30501861e+00,  5.91357846e-01],\n",
       "       [ 3.74545597e-01, -9.85442049e-02],\n",
       "       [-1.82628627e+00, -4.06170254e-01],\n",
       "       [ 6.68262284e-01,  3.36877396e-01],\n",
       "       [-5.82646676e-01, -1.77369217e-01],\n",
       "       [-4.18128976e-01, -3.73811389e-01],\n",
       "       [ 1.72209371e-01,  2.64668836e-01],\n",
       "       [ 3.77116687e-01,  1.88442969e-01],\n",
       "       [-6.79396230e-01, -1.31601978e-01],\n",
       "       [ 1.03148960e+00,  4.25550018e-01],\n",
       "       [ 3.36041799e-01,  3.90982721e-02],\n",
       "       [ 7.05745985e-01,  4.88730649e-01],\n",
       "       [ 8.39511547e-01,  1.52125872e-01],\n",
       "       [ 1.49882898e+00,  4.71380809e-01],\n",
       "       [ 2.88356638e-01,  3.31334714e-02],\n",
       "       [-5.02935011e-01, -3.68665426e-01],\n",
       "       [ 1.47921067e+00,  7.40445724e-01],\n",
       "       [-4.44382429e-01, -1.65019364e-01],\n",
       "       [-5.33464228e-01, -6.02221911e-02],\n",
       "       [-6.16229422e-01, -2.11783922e-01],\n",
       "       [ 7.46598965e-02, -6.14321077e-02],\n",
       "       [-1.13637011e-01,  7.32877678e-02],\n",
       "       [-2.00717298e-02,  6.09744586e-02],\n",
       "       [ 1.89582967e-01,  1.99769369e-01],\n",
       "       [ 9.38466103e-01,  5.41731132e-01],\n",
       "       [-3.66697989e-01, -3.64971376e-02],\n",
       "       [-8.93528486e-01, -3.72814013e-01],\n",
       "       [-1.31759571e+00, -3.57581073e-01],\n",
       "       [-3.81802782e-01, -2.01252465e-01],\n",
       "       [-5.13790216e-01, -5.05974086e-01],\n",
       "       [ 9.03737934e-01,  2.49518260e-01],\n",
       "       [-4.38875079e-01, -1.50648130e-01],\n",
       "       [-5.94170907e-01, -9.41224109e-02],\n",
       "       [-3.12943931e-01, -6.57312966e-04],\n",
       "       [-3.00229089e-01, -4.22050272e-01],\n",
       "       [-5.99239320e-01, -2.60398180e-01],\n",
       "       [ 2.20370036e-01,  2.03914415e-01],\n",
       "       [ 5.25164844e-01,  1.87026363e-01],\n",
       "       [ 5.56625011e-01, -1.33745094e-01],\n",
       "       [ 1.35428157e+00,  5.47397422e-01],\n",
       "       [-6.83159806e-01, -3.94693187e-01],\n",
       "       [-1.23325109e-01, -1.04266539e-01],\n",
       "       [-3.13175458e-01, -6.98306619e-02],\n",
       "       [-2.48838277e+00, -8.44571249e-01],\n",
       "       [ 1.24996586e+00,  5.85738115e-01],\n",
       "       [ 1.76764431e-01,  1.10730208e-01],\n",
       "       [-5.07808538e-01, -3.15746300e-01],\n",
       "       [ 1.82738502e+00,  6.20232502e-01],\n",
       "       [ 8.10156740e-01,  1.77171194e-01],\n",
       "       [ 4.28494398e-01,  1.29892407e-01],\n",
       "       [-6.81124709e-02, -1.83414149e-01],\n",
       "       [-2.38085712e-01,  3.20283053e-02],\n",
       "       [-5.76511311e-01, -4.61119558e-01],\n",
       "       [ 7.86579791e-01,  2.40420951e-01],\n",
       "       [-3.94028364e-01, -1.13238995e-01],\n",
       "       [ 3.00281016e-01,  4.05830103e-02],\n",
       "       [ 8.34354492e-01,  3.63411695e-01],\n",
       "       [ 6.77025394e-01,  8.62180588e-02],\n",
       "       [ 8.22858785e-01,  7.95262868e-02],\n",
       "       [ 1.11060226e+00,  8.38447209e-02],\n",
       "       [-1.11056320e+00, -2.21851614e-01],\n",
       "       [-3.25581172e-05,  2.52586287e-01],\n",
       "       [ 9.01346004e-01,  4.66550032e-01],\n",
       "       [ 6.13325282e-01,  2.29429972e-01],\n",
       "       [ 1.00280321e+00,  2.67636970e-01],\n",
       "       [-5.00300647e-01, -2.65194678e-01],\n",
       "       [-1.46839080e+00, -2.62591632e-01],\n",
       "       [-1.16559210e+00, -4.35658777e-01],\n",
       "       [ 1.23290571e+00,  3.72644940e-01],\n",
       "       [-8.71374166e-02, -7.68205362e-02],\n",
       "       [ 1.32611731e+00,  4.23305575e-01],\n",
       "       [-6.55945864e-01, -2.36422799e-01],\n",
       "       [-3.98868969e-01, -1.32296178e-01],\n",
       "       [ 1.46537233e-01,  2.88714500e-02],\n",
       "       [ 8.34743614e-01,  2.78631269e-01],\n",
       "       [ 1.26455201e-01,  1.83894435e-02],\n",
       "       [ 2.01707556e-01,  6.38435019e-02],\n",
       "       [-2.67775720e-01,  4.92011507e-03],\n",
       "       [ 2.85085062e-01,  5.36128031e-02],\n",
       "       [-7.53418549e-01, -3.37531319e-01],\n",
       "       [ 5.29313417e-01,  2.45960831e-02],\n",
       "       [ 3.65577719e-01, -5.62717811e-02],\n",
       "       [ 3.62822350e-02, -1.71587143e-02],\n",
       "       [ 1.98139998e-01,  1.48806454e-01],\n",
       "       [-7.56673772e-01, -2.05864228e-01],\n",
       "       [ 1.15733262e-01, -2.55010922e-02],\n",
       "       [-1.81944537e-01, -8.98933373e-02],\n",
       "       [ 1.57198306e-01,  1.26124661e-01],\n",
       "       [ 5.83470370e-01,  2.37266716e-01],\n",
       "       [-9.46770213e-01, -2.88927090e-01],\n",
       "       [ 7.13140353e-01,  1.77219645e-01],\n",
       "       [ 1.30157187e+00,  6.24502445e-01],\n",
       "       [-5.49063710e-01, -4.44638605e-01],\n",
       "       [-4.29728257e-01, -2.50941856e-01],\n",
       "       [-3.86766308e-01, -2.66159401e-01],\n",
       "       [-6.57643258e-01, -8.45055625e-02],\n",
       "       [ 1.23961415e+00,  4.90659512e-01],\n",
       "       [ 3.18446596e-01,  4.12165000e-03],\n",
       "       [-8.98118949e-01, -2.10137581e-01],\n",
       "       [ 3.36881319e-01,  1.87961004e-01],\n",
       "       [-4.18452911e-01, -1.81336717e-01],\n",
       "       [ 2.36601159e-01,  3.39487039e-01],\n",
       "       [ 3.51319728e-01,  9.23282159e-02],\n",
       "       [ 1.35323942e+00,  4.19970027e-01],\n",
       "       [-8.34819518e-01, -2.00044213e-01],\n",
       "       [ 2.32938600e+00,  9.16366922e-01],\n",
       "       [ 4.67174434e-02,  2.49148699e-01],\n",
       "       [ 4.55373238e-01,  1.97896476e-01],\n",
       "       [-7.10684919e-01, -1.56607387e-02],\n",
       "       [-5.50095165e-02, -2.19243382e-01],\n",
       "       [-4.54554511e-01, -2.62307969e-01],\n",
       "       [-1.08213611e-01, -4.11131904e-02],\n",
       "       [-8.97552407e-01, -2.41129284e-01],\n",
       "       [ 7.34802491e-01,  8.56077609e-02],\n",
       "       [ 2.25266501e-01, -2.49531175e-01],\n",
       "       [-3.27438240e-01,  1.87561024e-01],\n",
       "       [ 1.20422548e+00,  2.89208121e-01],\n",
       "       [ 1.70331974e-01, -2.13212414e-01],\n",
       "       [ 1.00007930e+00,  3.60626507e-01],\n",
       "       [-6.71516563e-01, -7.20747636e-02],\n",
       "       [ 1.19221616e+00,  3.49379904e-01],\n",
       "       [ 2.40174205e-01,  1.32451266e-01],\n",
       "       [ 5.56592389e-01,  3.39247336e-01],\n",
       "       [-1.23113909e+00, -3.01572247e-01],\n",
       "       [ 1.52659926e-01, -3.22243331e-02],\n",
       "       [ 1.37611796e+00,  4.38905019e-01],\n",
       "       [-7.05213114e-01, -1.86923986e-01],\n",
       "       [-1.25035415e+00, -6.15852747e-01],\n",
       "       [-1.87651011e+00, -5.87438869e-01],\n",
       "       [-1.47105690e+00, -7.57686938e-01],\n",
       "       [-1.50346447e+00, -6.39175291e-01],\n",
       "       [-3.74317472e-01, -1.24473266e-01],\n",
       "       [ 8.78524826e-01,  3.86529047e-01],\n",
       "       [ 4.37960653e-02, -1.33600937e-01],\n",
       "       [ 5.45982844e-01,  9.78986853e-02],\n",
       "       [ 1.41569127e-01, -3.31934527e-02],\n",
       "       [ 6.35824494e-02,  2.60037422e-03],\n",
       "       [-8.87046213e-02, -5.08430872e-02],\n",
       "       [ 1.32411808e-01, -5.25896645e-02],\n",
       "       [ 4.29143144e-01,  1.39451520e-01],\n",
       "       [-5.62450166e-01, -3.55459800e-01],\n",
       "       [ 5.98293829e-01,  3.05358879e-01],\n",
       "       [-3.52669474e-01,  2.77872905e-01],\n",
       "       [ 2.92708138e-01, -5.88533723e-02],\n",
       "       [ 1.49216325e+00,  2.43746801e-01],\n",
       "       [-3.21136884e-01, -2.11988784e-01],\n",
       "       [-4.28741839e-01, -1.62431474e-01],\n",
       "       [ 5.56602182e-02,  4.72280460e-02],\n",
       "       [-1.86669080e-01, -5.75236287e-02],\n",
       "       [-3.15976890e-01, -1.35666133e-01],\n",
       "       [-9.52287292e-01, -2.03431276e-01],\n",
       "       [-6.17216871e-01, -1.68607956e-01],\n",
       "       [ 2.60724124e-01,  2.83827268e-01],\n",
       "       [-1.29606872e+00, -5.87501508e-01],\n",
       "       [ 1.30204436e-01,  1.06536600e-01],\n",
       "       [ 3.62026915e-02, -7.14259522e-02],\n",
       "       [ 4.51406829e-01,  2.20021746e-01],\n",
       "       [ 7.82343617e-01,  1.55836343e-01],\n",
       "       [-1.91527940e+00, -8.41226381e-01],\n",
       "       [ 1.33470527e+00,  1.77008275e-01],\n",
       "       [-5.57241554e-01,  9.78217703e-02],\n",
       "       [-2.54030157e-01,  6.53585666e-03],\n",
       "       [ 3.83426415e-02, -1.41592253e-01],\n",
       "       [ 1.66900682e+00,  2.58263884e-01],\n",
       "       [-4.01201302e-01, -1.24900651e-01],\n",
       "       [ 1.33980298e+00,  5.54699895e-01],\n",
       "       [ 3.12160775e-01,  1.70605436e-01],\n",
       "       [ 2.09517683e+00,  6.46487345e-01],\n",
       "       [-6.85653080e-01, -2.37525375e-01],\n",
       "       [-9.81232159e-01, -5.30795733e-01],\n",
       "       [ 3.81516151e-01,  2.16067601e-01],\n",
       "       [ 8.35386181e-02,  2.57654664e-01],\n",
       "       [ 1.56227043e-01,  1.07263711e-02],\n",
       "       [-8.98591326e-01, -4.65169769e-01],\n",
       "       [ 2.16673778e-01, -1.35265391e-01],\n",
       "       [ 3.99091276e-01,  1.86824524e-01],\n",
       "       [-3.90120284e-01, -5.57531130e-02],\n",
       "       [ 1.51136791e-01, -3.50017338e-02],\n",
       "       [-2.59947279e-02, -5.30194271e-02],\n",
       "       [-5.55678088e-01, -2.82320719e-01],\n",
       "       [-4.14437203e-01, -1.61157769e-01],\n",
       "       [-5.43696094e-01, -4.31161457e-01],\n",
       "       [ 1.42759145e+00,  5.34554140e-01],\n",
       "       [ 4.51861867e-01, -1.43502859e-01],\n",
       "       [ 8.07369404e-01,  1.44524192e-01],\n",
       "       [-4.61251208e-01, -3.08874028e-01],\n",
       "       [-1.06359448e-01,  2.40025629e-01],\n",
       "       [-1.09810334e+00, -5.66248687e-01],\n",
       "       [ 8.38408546e-01,  2.78380007e-01],\n",
       "       [ 3.12708310e-01, -1.06001233e-02],\n",
       "       [ 1.95587585e+00,  6.38224114e-01],\n",
       "       [-1.10830352e+00, -3.95053658e-01],\n",
       "       [ 3.98647206e-01,  2.31865526e-02]])"
      ]
     },
     "execution_count": 6,
     "metadata": {},
     "output_type": "execute_result"
    }
   ],
   "source": [
    "X"
   ]
  },
  {
   "cell_type": "markdown",
   "metadata": {},
   "source": [
    "The explained variance can also be considered geometrically. If we scale the principal component vectors so that they have length proportional to the standard deviation (the square root of the variance), then we can expect a particular percentage of the data points to lie within the limits of that vector. If the vector is three times the standard deviation then, assuming points are normally distributed, 99.8% of the data points should lie within an ellipse whose major and minor axes are the scaled principal components. This is shown in the figure below. In higher dimensions this will be an ellipsoid."
   ]
  },
  {
   "cell_type": "code",
   "execution_count": 7,
   "metadata": {},
   "outputs": [
    {
     "data": {
      "image/png": "[encoded data removed]",
      "text/plain": [
       "<Figure size 432x288 with 1 Axes>"
      ]
     },
     "metadata": {},
     "output_type": "display_data"
    }
   ],
   "source": [
    "def draw_vector(v0, v1, ax=None):\n",
    "    '''Function to draw a vector from v0 to v1 with an arrow head'''\n",
    "    ax = ax or plt.gca() # if ax is specified use these axes, otherwise get the current axes\n",
    "    # define a dictionary with the properties of the arrow, '->' is a one-sided arrow\n",
    "    arrowprops = dict(arrowstyle='->', linewidth=2) \n",
    "    # draw a line from v0 to v1 with the arrow properties, string to annotate figure is empty\n",
    "    ax.annotate('', v1, v0, arrowprops=arrowprops) \n",
    "\n",
    "plt.scatter(X[:,0], X[:,1], alpha=0.5) # scatter plot of data and specify transperancy\n",
    "# loop over the explained variance and the PCs\n",
    "for length, vector in zip(pca.explained_variance_, pca.components_): \n",
    "    v = vector * 3 *np.sqrt(length) # define a vector which is 3 times the standard deviation\n",
    "    draw_vector(pca.mean_, pca.mean_ + v) # draw the vector with an arrowhead\n",
    "theta = np.linspace(0,2*np.pi) # define an array from 0 to 2*pi\n",
    "# create a zero array of size (length of theta, 2) which will have \n",
    "# the ellipse coordinates\n",
    "Y = np.zeros((len(theta),2)) \n",
    "# first component of Y is the x coordinate which is proportional to the\n",
    "# standard deviation of the first PC\n",
    "Y[:,0] = 3*np.sqrt(pca.explained_variance_[0])*np.cos(theta)\n",
    "# first component of Y is the y coordinate which is proportional to the\n",
    "# standard deviation of the first PC\n",
    "Y[:,1] = 3*np.sqrt(pca.explained_variance_[1])*np.sin(theta)\n",
    "Z = pca.inverse_transform(Y) # transform Y from component space to feature space\n",
    "plt.plot(Z[:,0],Z[:,1],'--') # plot Z in component space as a dotted line\n",
    "plt.axis('equal'); # make the axis scales equals       return original data"
   ]
  },
  {
   "cell_type": "code",
   "execution_count": 8,
   "metadata": {},
   "outputs": [
    {
     "data": {
      "text/plain": [
       "array([-6.25301618e-01,  9.60695033e-01, -5.98543385e-01, -2.22805938e+00,\n",
       "       -4.61430060e-01, -9.58929028e-01, -6.73079909e-01,  1.30501861e+00,\n",
       "        3.74545597e-01, -1.82628627e+00,  6.68262284e-01, -5.82646676e-01,\n",
       "       -4.18128976e-01,  1.72209371e-01,  3.77116687e-01, -6.79396230e-01,\n",
       "        1.03148960e+00,  3.36041799e-01,  7.05745985e-01,  8.39511547e-01,\n",
       "        1.49882898e+00,  2.88356638e-01, -5.02935011e-01,  1.47921067e+00,\n",
       "       -4.44382429e-01, -5.33464228e-01, -6.16229422e-01,  7.46598965e-02,\n",
       "       -1.13637011e-01, -2.00717298e-02,  1.89582967e-01,  9.38466103e-01,\n",
       "       -3.66697989e-01, -8.93528486e-01, -1.31759571e+00, -3.81802782e-01,\n",
       "       -5.13790216e-01,  9.03737934e-01, -4.38875079e-01, -5.94170907e-01,\n",
       "       -3.12943931e-01, -3.00229089e-01, -5.99239320e-01,  2.20370036e-01,\n",
       "        5.25164844e-01,  5.56625011e-01,  1.35428157e+00, -6.83159806e-01,\n",
       "       -1.23325109e-01, -3.13175458e-01, -2.48838277e+00,  1.24996586e+00,\n",
       "        1.76764431e-01, -5.07808538e-01,  1.82738502e+00,  8.10156740e-01,\n",
       "        4.28494398e-01, -6.81124709e-02, -2.38085712e-01, -5.76511311e-01,\n",
       "        7.86579791e-01, -3.94028364e-01,  3.00281016e-01,  8.34354492e-01,\n",
       "        6.77025394e-01,  8.22858785e-01,  1.11060226e+00, -1.11056320e+00,\n",
       "       -3.25581172e-05,  9.01346004e-01,  6.13325282e-01,  1.00280321e+00,\n",
       "       -5.00300647e-01, -1.46839080e+00, -1.16559210e+00,  1.23290571e+00,\n",
       "       -8.71374166e-02,  1.32611731e+00, -6.55945864e-01, -3.98868969e-01,\n",
       "        1.46537233e-01,  8.34743614e-01,  1.26455201e-01,  2.01707556e-01,\n",
       "       -2.67775720e-01,  2.85085062e-01, -7.53418549e-01,  5.29313417e-01,\n",
       "        3.65577719e-01,  3.62822350e-02,  1.98139998e-01, -7.56673772e-01,\n",
       "        1.15733262e-01, -1.81944537e-01,  1.57198306e-01,  5.83470370e-01,\n",
       "       -9.46770213e-01,  7.13140353e-01,  1.30157187e+00, -5.49063710e-01,\n",
       "       -4.29728257e-01, -3.86766308e-01, -6.57643258e-01,  1.23961415e+00,\n",
       "        3.18446596e-01, -8.98118949e-01,  3.36881319e-01, -4.18452911e-01,\n",
       "        2.36601159e-01,  3.51319728e-01,  1.35323942e+00, -8.34819518e-01,\n",
       "        2.32938600e+00,  4.67174434e-02,  4.55373238e-01, -7.10684919e-01,\n",
       "       -5.50095165e-02, -4.54554511e-01, -1.08213611e-01, -8.97552407e-01,\n",
       "        7.34802491e-01,  2.25266501e-01, -3.27438240e-01,  1.20422548e+00,\n",
       "        1.70331974e-01,  1.00007930e+00, -6.71516563e-01,  1.19221616e+00,\n",
       "        2.40174205e-01,  5.56592389e-01, -1.23113909e+00,  1.52659926e-01,\n",
       "        1.37611796e+00, -7.05213114e-01, -1.25035415e+00, -1.87651011e+00,\n",
       "       -1.47105690e+00, -1.50346447e+00, -3.74317472e-01,  8.78524826e-01,\n",
       "        4.37960653e-02,  5.45982844e-01,  1.41569127e-01,  6.35824494e-02,\n",
       "       -8.87046213e-02,  1.32411808e-01,  4.29143144e-01, -5.62450166e-01,\n",
       "        5.98293829e-01, -3.52669474e-01,  2.92708138e-01,  1.49216325e+00,\n",
       "       -3.21136884e-01, -4.28741839e-01,  5.56602182e-02, -1.86669080e-01,\n",
       "       -3.15976890e-01, -9.52287292e-01, -6.17216871e-01,  2.60724124e-01,\n",
       "       -1.29606872e+00,  1.30204436e-01,  3.62026915e-02,  4.51406829e-01,\n",
       "        7.82343617e-01, -1.91527940e+00,  1.33470527e+00, -5.57241554e-01,\n",
       "       -2.54030157e-01,  3.83426415e-02,  1.66900682e+00, -4.01201302e-01,\n",
       "        1.33980298e+00,  3.12160775e-01,  2.09517683e+00, -6.85653080e-01,\n",
       "       -9.81232159e-01,  3.81516151e-01,  8.35386181e-02,  1.56227043e-01,\n",
       "       -8.98591326e-01,  2.16673778e-01,  3.99091276e-01, -3.90120284e-01,\n",
       "        1.51136791e-01, -2.59947279e-02, -5.55678088e-01, -4.14437203e-01,\n",
       "       -5.43696094e-01,  1.42759145e+00,  4.51861867e-01,  8.07369404e-01,\n",
       "       -4.61251208e-01, -1.06359448e-01, -1.09810334e+00,  8.38408546e-01,\n",
       "        3.12708310e-01,  1.95587585e+00, -1.10830352e+00,  3.98647206e-01])"
      ]
     },
     "execution_count": 8,
     "metadata": {},
     "output_type": "execute_result"
    }
   ],
   "source": [
    "X[:,0]"
   ]
  },
  {
   "cell_type": "code",
   "execution_count": 9,
   "metadata": {},
   "outputs": [
    {
     "data": {
      "text/plain": [
       "array([-1.70063657e-01,  5.90900597e-01, -4.02593393e-01, -5.32576740e-01,\n",
       "       -4.98867244e-01, -2.69331024e-01, -3.38308547e-01,  5.91357846e-01,\n",
       "       -9.85442049e-02, -4.06170254e-01,  3.36877396e-01, -1.77369217e-01,\n",
       "       -3.73811389e-01,  2.64668836e-01,  1.88442969e-01, -1.31601978e-01,\n",
       "        4.25550018e-01,  3.90982721e-02,  4.88730649e-01,  1.52125872e-01,\n",
       "        4.71380809e-01,  3.31334714e-02, -3.68665426e-01,  7.40445724e-01,\n",
       "       -1.65019364e-01, -6.02221911e-02, -2.11783922e-01, -6.14321077e-02,\n",
       "        7.32877678e-02,  6.09744586e-02,  1.99769369e-01,  5.41731132e-01,\n",
       "       -3.64971376e-02, -3.72814013e-01, -3.57581073e-01, -2.01252465e-01,\n",
       "       -5.05974086e-01,  2.49518260e-01, -1.50648130e-01, -9.41224109e-02,\n",
       "       -6.57312966e-04, -4.22050272e-01, -2.60398180e-01,  2.03914415e-01,\n",
       "        1.87026363e-01, -1.33745094e-01,  5.47397422e-01, -3.94693187e-01,\n",
       "       -1.04266539e-01, -6.98306619e-02, -8.44571249e-01,  5.85738115e-01,\n",
       "        1.10730208e-01, -3.15746300e-01,  6.20232502e-01,  1.77171194e-01,\n",
       "        1.29892407e-01, -1.83414149e-01,  3.20283053e-02, -4.61119558e-01,\n",
       "        2.40420951e-01, -1.13238995e-01,  4.05830103e-02,  3.63411695e-01,\n",
       "        8.62180588e-02,  7.95262868e-02,  8.38447209e-02, -2.21851614e-01,\n",
       "        2.52586287e-01,  4.66550032e-01,  2.29429972e-01,  2.67636970e-01,\n",
       "       -2.65194678e-01, -2.62591632e-01, -4.35658777e-01,  3.72644940e-01,\n",
       "       -7.68205362e-02,  4.23305575e-01, -2.36422799e-01, -1.32296178e-01,\n",
       "        2.88714500e-02,  2.78631269e-01,  1.83894435e-02,  6.38435019e-02,\n",
       "        4.92011507e-03,  5.36128031e-02, -3.37531319e-01,  2.45960831e-02,\n",
       "       -5.62717811e-02, -1.71587143e-02,  1.48806454e-01, -2.05864228e-01,\n",
       "       -2.55010922e-02, -8.98933373e-02,  1.26124661e-01,  2.37266716e-01,\n",
       "       -2.88927090e-01,  1.77219645e-01,  6.24502445e-01, -4.44638605e-01,\n",
       "       -2.50941856e-01, -2.66159401e-01, -8.45055625e-02,  4.90659512e-01,\n",
       "        4.12165000e-03, -2.10137581e-01,  1.87961004e-01, -1.81336717e-01,\n",
       "        3.39487039e-01,  9.23282159e-02,  4.19970027e-01, -2.00044213e-01,\n",
       "        9.16366922e-01,  2.49148699e-01,  1.97896476e-01, -1.56607387e-02,\n",
       "       -2.19243382e-01, -2.62307969e-01, -4.11131904e-02, -2.41129284e-01,\n",
       "        8.56077609e-02, -2.49531175e-01,  1.87561024e-01,  2.89208121e-01,\n",
       "       -2.13212414e-01,  3.60626507e-01, -7.20747636e-02,  3.49379904e-01,\n",
       "        1.32451266e-01,  3.39247336e-01, -3.01572247e-01, -3.22243331e-02,\n",
       "        4.38905019e-01, -1.86923986e-01, -6.15852747e-01, -5.87438869e-01,\n",
       "       -7.57686938e-01, -6.39175291e-01, -1.24473266e-01,  3.86529047e-01,\n",
       "       -1.33600937e-01,  9.78986853e-02, -3.31934527e-02,  2.60037422e-03,\n",
       "       -5.08430872e-02, -5.25896645e-02,  1.39451520e-01, -3.55459800e-01,\n",
       "        3.05358879e-01,  2.77872905e-01, -5.88533723e-02,  2.43746801e-01,\n",
       "       -2.11988784e-01, -1.62431474e-01,  4.72280460e-02, -5.75236287e-02,\n",
       "       -1.35666133e-01, -2.03431276e-01, -1.68607956e-01,  2.83827268e-01,\n",
       "       -5.87501508e-01,  1.06536600e-01, -7.14259522e-02,  2.20021746e-01,\n",
       "        1.55836343e-01, -8.41226381e-01,  1.77008275e-01,  9.78217703e-02,\n",
       "        6.53585666e-03, -1.41592253e-01,  2.58263884e-01, -1.24900651e-01,\n",
       "        5.54699895e-01,  1.70605436e-01,  6.46487345e-01, -2.37525375e-01,\n",
       "       -5.30795733e-01,  2.16067601e-01,  2.57654664e-01,  1.07263711e-02,\n",
       "       -4.65169769e-01, -1.35265391e-01,  1.86824524e-01, -5.57531130e-02,\n",
       "       -3.50017338e-02, -5.30194271e-02, -2.82320719e-01, -1.61157769e-01,\n",
       "       -4.31161457e-01,  5.34554140e-01, -1.43502859e-01,  1.44524192e-01,\n",
       "       -3.08874028e-01,  2.40025629e-01, -5.66248687e-01,  2.78380007e-01,\n",
       "       -1.06001233e-02,  6.38224114e-01, -3.95053658e-01,  2.31865526e-02])"
      ]
     },
     "execution_count": 9,
     "metadata": {},
     "output_type": "execute_result"
    }
   ],
   "source": [
    "X[:,1]"
   ]
  },
  {
   "cell_type": "code",
   "execution_count": 10,
   "metadata": {},
   "outputs": [
    {
     "data": {
      "text/plain": [
       "array([[-6.25301618e-01, -1.70063657e-01],\n",
       "       [ 9.60695033e-01,  5.90900597e-01],\n",
       "       [-5.98543385e-01, -4.02593393e-01],\n",
       "       [-2.22805938e+00, -5.32576740e-01],\n",
       "       [-4.61430060e-01, -4.98867244e-01],\n",
       "       [-9.58929028e-01, -2.69331024e-01],\n",
       "       [-6.73079909e-01, -3.38308547e-01],\n",
       "       [ 1.30501861e+00,  5.91357846e-01],\n",
       "       [ 3.74545597e-01, -9.85442049e-02],\n",
       "       [-1.82628627e+00, -4.06170254e-01],\n",
       "       [ 6.68262284e-01,  3.36877396e-01],\n",
       "       [-5.82646676e-01, -1.77369217e-01],\n",
       "       [-4.18128976e-01, -3.73811389e-01],\n",
       "       [ 1.72209371e-01,  2.64668836e-01],\n",
       "       [ 3.77116687e-01,  1.88442969e-01],\n",
       "       [-6.79396230e-01, -1.31601978e-01],\n",
       "       [ 1.03148960e+00,  4.25550018e-01],\n",
       "       [ 3.36041799e-01,  3.90982721e-02],\n",
       "       [ 7.05745985e-01,  4.88730649e-01],\n",
       "       [ 8.39511547e-01,  1.52125872e-01],\n",
       "       [ 1.49882898e+00,  4.71380809e-01],\n",
       "       [ 2.88356638e-01,  3.31334714e-02],\n",
       "       [-5.02935011e-01, -3.68665426e-01],\n",
       "       [ 1.47921067e+00,  7.40445724e-01],\n",
       "       [-4.44382429e-01, -1.65019364e-01],\n",
       "       [-5.33464228e-01, -6.02221911e-02],\n",
       "       [-6.16229422e-01, -2.11783922e-01],\n",
       "       [ 7.46598965e-02, -6.14321077e-02],\n",
       "       [-1.13637011e-01,  7.32877678e-02],\n",
       "       [-2.00717298e-02,  6.09744586e-02],\n",
       "       [ 1.89582967e-01,  1.99769369e-01],\n",
       "       [ 9.38466103e-01,  5.41731132e-01],\n",
       "       [-3.66697989e-01, -3.64971376e-02],\n",
       "       [-8.93528486e-01, -3.72814013e-01],\n",
       "       [-1.31759571e+00, -3.57581073e-01],\n",
       "       [-3.81802782e-01, -2.01252465e-01],\n",
       "       [-5.13790216e-01, -5.05974086e-01],\n",
       "       [ 9.03737934e-01,  2.49518260e-01],\n",
       "       [-4.38875079e-01, -1.50648130e-01],\n",
       "       [-5.94170907e-01, -9.41224109e-02],\n",
       "       [-3.12943931e-01, -6.57312966e-04],\n",
       "       [-3.00229089e-01, -4.22050272e-01],\n",
       "       [-5.99239320e-01, -2.60398180e-01],\n",
       "       [ 2.20370036e-01,  2.03914415e-01],\n",
       "       [ 5.25164844e-01,  1.87026363e-01],\n",
       "       [ 5.56625011e-01, -1.33745094e-01],\n",
       "       [ 1.35428157e+00,  5.47397422e-01],\n",
       "       [-6.83159806e-01, -3.94693187e-01],\n",
       "       [-1.23325109e-01, -1.04266539e-01],\n",
       "       [-3.13175458e-01, -6.98306619e-02],\n",
       "       [-2.48838277e+00, -8.44571249e-01],\n",
       "       [ 1.24996586e+00,  5.85738115e-01],\n",
       "       [ 1.76764431e-01,  1.10730208e-01],\n",
       "       [-5.07808538e-01, -3.15746300e-01],\n",
       "       [ 1.82738502e+00,  6.20232502e-01],\n",
       "       [ 8.10156740e-01,  1.77171194e-01],\n",
       "       [ 4.28494398e-01,  1.29892407e-01],\n",
       "       [-6.81124709e-02, -1.83414149e-01],\n",
       "       [-2.38085712e-01,  3.20283053e-02],\n",
       "       [-5.76511311e-01, -4.61119558e-01],\n",
       "       [ 7.86579791e-01,  2.40420951e-01],\n",
       "       [-3.94028364e-01, -1.13238995e-01],\n",
       "       [ 3.00281016e-01,  4.05830103e-02],\n",
       "       [ 8.34354492e-01,  3.63411695e-01],\n",
       "       [ 6.77025394e-01,  8.62180588e-02],\n",
       "       [ 8.22858785e-01,  7.95262868e-02],\n",
       "       [ 1.11060226e+00,  8.38447209e-02],\n",
       "       [-1.11056320e+00, -2.21851614e-01],\n",
       "       [-3.25581172e-05,  2.52586287e-01],\n",
       "       [ 9.01346004e-01,  4.66550032e-01],\n",
       "       [ 6.13325282e-01,  2.29429972e-01],\n",
       "       [ 1.00280321e+00,  2.67636970e-01],\n",
       "       [-5.00300647e-01, -2.65194678e-01],\n",
       "       [-1.46839080e+00, -2.62591632e-01],\n",
       "       [-1.16559210e+00, -4.35658777e-01],\n",
       "       [ 1.23290571e+00,  3.72644940e-01],\n",
       "       [-8.71374166e-02, -7.68205362e-02],\n",
       "       [ 1.32611731e+00,  4.23305575e-01],\n",
       "       [-6.55945864e-01, -2.36422799e-01],\n",
       "       [-3.98868969e-01, -1.32296178e-01],\n",
       "       [ 1.46537233e-01,  2.88714500e-02],\n",
       "       [ 8.34743614e-01,  2.78631269e-01],\n",
       "       [ 1.26455201e-01,  1.83894435e-02],\n",
       "       [ 2.01707556e-01,  6.38435019e-02],\n",
       "       [-2.67775720e-01,  4.92011507e-03],\n",
       "       [ 2.85085062e-01,  5.36128031e-02],\n",
       "       [-7.53418549e-01, -3.37531319e-01],\n",
       "       [ 5.29313417e-01,  2.45960831e-02],\n",
       "       [ 3.65577719e-01, -5.62717811e-02],\n",
       "       [ 3.62822350e-02, -1.71587143e-02],\n",
       "       [ 1.98139998e-01,  1.48806454e-01],\n",
       "       [-7.56673772e-01, -2.05864228e-01],\n",
       "       [ 1.15733262e-01, -2.55010922e-02],\n",
       "       [-1.81944537e-01, -8.98933373e-02],\n",
       "       [ 1.57198306e-01,  1.26124661e-01],\n",
       "       [ 5.83470370e-01,  2.37266716e-01],\n",
       "       [-9.46770213e-01, -2.88927090e-01],\n",
       "       [ 7.13140353e-01,  1.77219645e-01],\n",
       "       [ 1.30157187e+00,  6.24502445e-01],\n",
       "       [-5.49063710e-01, -4.44638605e-01],\n",
       "       [-4.29728257e-01, -2.50941856e-01],\n",
       "       [-3.86766308e-01, -2.66159401e-01],\n",
       "       [-6.57643258e-01, -8.45055625e-02],\n",
       "       [ 1.23961415e+00,  4.90659512e-01],\n",
       "       [ 3.18446596e-01,  4.12165000e-03],\n",
       "       [-8.98118949e-01, -2.10137581e-01],\n",
       "       [ 3.36881319e-01,  1.87961004e-01],\n",
       "       [-4.18452911e-01, -1.81336717e-01],\n",
       "       [ 2.36601159e-01,  3.39487039e-01],\n",
       "       [ 3.51319728e-01,  9.23282159e-02],\n",
       "       [ 1.35323942e+00,  4.19970027e-01],\n",
       "       [-8.34819518e-01, -2.00044213e-01],\n",
       "       [ 2.32938600e+00,  9.16366922e-01],\n",
       "       [ 4.67174434e-02,  2.49148699e-01],\n",
       "       [ 4.55373238e-01,  1.97896476e-01],\n",
       "       [-7.10684919e-01, -1.56607387e-02],\n",
       "       [-5.50095165e-02, -2.19243382e-01],\n",
       "       [-4.54554511e-01, -2.62307969e-01],\n",
       "       [-1.08213611e-01, -4.11131904e-02],\n",
       "       [-8.97552407e-01, -2.41129284e-01],\n",
       "       [ 7.34802491e-01,  8.56077609e-02],\n",
       "       [ 2.25266501e-01, -2.49531175e-01],\n",
       "       [-3.27438240e-01,  1.87561024e-01],\n",
       "       [ 1.20422548e+00,  2.89208121e-01],\n",
       "       [ 1.70331974e-01, -2.13212414e-01],\n",
       "       [ 1.00007930e+00,  3.60626507e-01],\n",
       "       [-6.71516563e-01, -7.20747636e-02],\n",
       "       [ 1.19221616e+00,  3.49379904e-01],\n",
       "       [ 2.40174205e-01,  1.32451266e-01],\n",
       "       [ 5.56592389e-01,  3.39247336e-01],\n",
       "       [-1.23113909e+00, -3.01572247e-01],\n",
       "       [ 1.52659926e-01, -3.22243331e-02],\n",
       "       [ 1.37611796e+00,  4.38905019e-01],\n",
       "       [-7.05213114e-01, -1.86923986e-01],\n",
       "       [-1.25035415e+00, -6.15852747e-01],\n",
       "       [-1.87651011e+00, -5.87438869e-01],\n",
       "       [-1.47105690e+00, -7.57686938e-01],\n",
       "       [-1.50346447e+00, -6.39175291e-01],\n",
       "       [-3.74317472e-01, -1.24473266e-01],\n",
       "       [ 8.78524826e-01,  3.86529047e-01],\n",
       "       [ 4.37960653e-02, -1.33600937e-01],\n",
       "       [ 5.45982844e-01,  9.78986853e-02],\n",
       "       [ 1.41569127e-01, -3.31934527e-02],\n",
       "       [ 6.35824494e-02,  2.60037422e-03],\n",
       "       [-8.87046213e-02, -5.08430872e-02],\n",
       "       [ 1.32411808e-01, -5.25896645e-02],\n",
       "       [ 4.29143144e-01,  1.39451520e-01],\n",
       "       [-5.62450166e-01, -3.55459800e-01],\n",
       "       [ 5.98293829e-01,  3.05358879e-01],\n",
       "       [-3.52669474e-01,  2.77872905e-01],\n",
       "       [ 2.92708138e-01, -5.88533723e-02],\n",
       "       [ 1.49216325e+00,  2.43746801e-01],\n",
       "       [-3.21136884e-01, -2.11988784e-01],\n",
       "       [-4.28741839e-01, -1.62431474e-01],\n",
       "       [ 5.56602182e-02,  4.72280460e-02],\n",
       "       [-1.86669080e-01, -5.75236287e-02],\n",
       "       [-3.15976890e-01, -1.35666133e-01],\n",
       "       [-9.52287292e-01, -2.03431276e-01],\n",
       "       [-6.17216871e-01, -1.68607956e-01],\n",
       "       [ 2.60724124e-01,  2.83827268e-01],\n",
       "       [-1.29606872e+00, -5.87501508e-01],\n",
       "       [ 1.30204436e-01,  1.06536600e-01],\n",
       "       [ 3.62026915e-02, -7.14259522e-02],\n",
       "       [ 4.51406829e-01,  2.20021746e-01],\n",
       "       [ 7.82343617e-01,  1.55836343e-01],\n",
       "       [-1.91527940e+00, -8.41226381e-01],\n",
       "       [ 1.33470527e+00,  1.77008275e-01],\n",
       "       [-5.57241554e-01,  9.78217703e-02],\n",
       "       [-2.54030157e-01,  6.53585666e-03],\n",
       "       [ 3.83426415e-02, -1.41592253e-01],\n",
       "       [ 1.66900682e+00,  2.58263884e-01],\n",
       "       [-4.01201302e-01, -1.24900651e-01],\n",
       "       [ 1.33980298e+00,  5.54699895e-01],\n",
       "       [ 3.12160775e-01,  1.70605436e-01],\n",
       "       [ 2.09517683e+00,  6.46487345e-01],\n",
       "       [-6.85653080e-01, -2.37525375e-01],\n",
       "       [-9.81232159e-01, -5.30795733e-01],\n",
       "       [ 3.81516151e-01,  2.16067601e-01],\n",
       "       [ 8.35386181e-02,  2.57654664e-01],\n",
       "       [ 1.56227043e-01,  1.07263711e-02],\n",
       "       [-8.98591326e-01, -4.65169769e-01],\n",
       "       [ 2.16673778e-01, -1.35265391e-01],\n",
       "       [ 3.99091276e-01,  1.86824524e-01],\n",
       "       [-3.90120284e-01, -5.57531130e-02],\n",
       "       [ 1.51136791e-01, -3.50017338e-02],\n",
       "       [-2.59947279e-02, -5.30194271e-02],\n",
       "       [-5.55678088e-01, -2.82320719e-01],\n",
       "       [-4.14437203e-01, -1.61157769e-01],\n",
       "       [-5.43696094e-01, -4.31161457e-01],\n",
       "       [ 1.42759145e+00,  5.34554140e-01],\n",
       "       [ 4.51861867e-01, -1.43502859e-01],\n",
       "       [ 8.07369404e-01,  1.44524192e-01],\n",
       "       [-4.61251208e-01, -3.08874028e-01],\n",
       "       [-1.06359448e-01,  2.40025629e-01],\n",
       "       [-1.09810334e+00, -5.66248687e-01],\n",
       "       [ 8.38408546e-01,  2.78380007e-01],\n",
       "       [ 3.12708310e-01, -1.06001233e-02],\n",
       "       [ 1.95587585e+00,  6.38224114e-01],\n",
       "       [-1.10830352e+00, -3.95053658e-01],\n",
       "       [ 3.98647206e-01,  2.31865526e-02]])"
      ]
     },
     "execution_count": 10,
     "metadata": {},
     "output_type": "execute_result"
    }
   ],
   "source": [
    "X"
   ]
  },
  {
   "cell_type": "markdown",
   "metadata": {},
   "source": [
    "The datapoints can also be viewed transformed into component space. If we denote each of the principal components as $P_1$ and $P_2$, then the values in component space for the $j^{th}$ sample, $X_j$, are $Y_{1,j}$, $Y_{2,j}$, where\n",
    "\n",
    "$$\n",
    "X_j = Y_{1,j}P_1 + Y_{2,j}P_2.\n",
    "$$\n",
    "\n",
    "We refer to $Y_{1,j}$ as *Component 1* and $Y_{2,j}$ as *Component 2*. These are the amplitudes of the principal components. This component space is just a translated, rotated and rescaled version of the original feature space. Now the ellipse which bounds the data points has the x-axis as the major axis and the y-axis as the minor axis."
   ]
  },
  {
   "cell_type": "code",
   "execution_count": 11,
   "metadata": {},
   "outputs": [
    {
     "data": {
      "text/plain": [
       "array([[-2.44068290e+00, -8.64978330e-01],\n",
       "       [-2.43750707e+00, -8.08658335e-01],\n",
       "       [-2.39375719e+00, -7.39127198e-01],\n",
       "       [-2.31015162e+00, -6.57526618e-01],\n",
       "       [-2.18806316e+00, -5.65196475e-01],\n",
       "       [-2.02949650e+00, -4.63652827e-01],\n",
       "       [-1.83705531e+00, -3.54563017e-01],\n",
       "       [-1.61389946e+00, -2.39718297e-01],\n",
       "       [-1.36369316e+00, -1.21004415e-01],\n",
       "       [-1.09054480e+00, -3.70649079e-04],\n",
       "       [-7.98939459e-01,  1.20202198e-01],\n",
       "       [-4.93665296e-01,  2.38734322e-01],\n",
       "       [-1.79734901e-01,  3.53279431e-01],\n",
       "       [ 1.37696996e-01,  4.61956696e-01],\n",
       "       [ 4.53418173e-01,  5.62981639e-01],\n",
       "       [ 7.62244497e-01,  6.54695434e-01],\n",
       "       [ 1.05910505e+00,  7.35592143e-01],\n",
       "       [ 1.33912539e+00,  8.04343444e-01],\n",
       "       [ 1.59770758e+00,  8.59820442e-01],\n",
       "       [ 1.83060572e+00,  9.01112208e-01],\n",
       "       [ 2.03399563e+00,  9.27540730e-01],\n",
       "       [ 2.20453765e+00,  9.38672054e-01],\n",
       "       [ 2.33943148e+00,  9.34323404e-01],\n",
       "       [ 2.43646217e+00,  9.14566184e-01],\n",
       "       [ 2.49403648e+00,  8.79724807e-01],\n",
       "       [ 2.51120904e+00,  8.30371368e-01],\n",
       "       [ 2.48769788e+00,  7.67316249e-01],\n",
       "       [ 2.42388905e+00,  6.91594813e-01],\n",
       "       [ 2.32083029e+00,  6.04450404e-01],\n",
       "       [ 2.18021382e+00,  5.07313931e-01],\n",
       "       [ 2.00434856e+00,  4.01780372e-01],\n",
       "       [ 1.79612221e+00,  2.89582584e-01],\n",
       "       [ 1.55895385e+00,  1.72562854e-01],\n",
       "       [ 1.29673777e+00,  5.26426411e-02],\n",
       "       [ 1.01377955e+00, -6.82089678e-02],\n",
       "       [ 7.14725364e-01, -1.88007593e-01],\n",
       "       [ 4.04485665e-01, -3.04786143e-01],\n",
       "       [ 8.81545832e-02, -4.16627119e-01],\n",
       "       [-2.29073734e-01, -5.21694095e-01],\n",
       "       [-5.41990405e-01, -6.18261873e-01],\n",
       "       [-8.45457348e-01, -7.04744813e-01],\n",
       "       [-1.13449164e+00, -7.79722868e-01],\n",
       "       [-1.40434736e+00, -8.41964901e-01],\n",
       "       [-1.65059347e+00, -8.90448899e-01],\n",
       "       [-1.86918661e+00, -9.24378755e-01],\n",
       "       [-2.05653751e+00, -9.43197343e-01],\n",
       "       [-2.20956985e+00, -9.46595663e-01],\n",
       "       [-2.32577086e+00, -9.34517912e-01],\n",
       "       [-2.40323252e+00, -9.07162409e-01],\n",
       "       [-2.44068290e+00, -8.64978330e-01]])"
      ]
     },
     "execution_count": 11,
     "metadata": {},
     "output_type": "execute_result"
    }
   ],
   "source": [
    "Z"
   ]
  },
  {
   "cell_type": "code",
   "execution_count": 12,
   "metadata": {},
   "outputs": [
    {
     "data": {
      "text/plain": [
       "array([-2.4406829 , -2.43750707, -2.39375719, -2.31015162, -2.18806316,\n",
       "       -2.0294965 , -1.83705531, -1.61389946, -1.36369316, -1.0905448 ,\n",
       "       -0.79893946, -0.4936653 , -0.1797349 ,  0.137697  ,  0.45341817,\n",
       "        0.7622445 ,  1.05910505,  1.33912539,  1.59770758,  1.83060572,\n",
       "        2.03399563,  2.20453765,  2.33943148,  2.43646217,  2.49403648,\n",
       "        2.51120904,  2.48769788,  2.42388905,  2.32083029,  2.18021382,\n",
       "        2.00434856,  1.79612221,  1.55895385,  1.29673777,  1.01377955,\n",
       "        0.71472536,  0.40448566,  0.08815458, -0.22907373, -0.54199041,\n",
       "       -0.84545735, -1.13449164, -1.40434736, -1.65059347, -1.86918661,\n",
       "       -2.05653751, -2.20956985, -2.32577086, -2.40323252, -2.4406829 ])"
      ]
     },
     "execution_count": 12,
     "metadata": {},
     "output_type": "execute_result"
    }
   ],
   "source": [
    "Z[:,0]"
   ]
  },
  {
   "cell_type": "code",
   "execution_count": 13,
   "metadata": {},
   "outputs": [
    {
     "data": {
      "text/plain": [
       "array([-8.64978330e-01, -8.08658335e-01, -7.39127198e-01, -6.57526618e-01,\n",
       "       -5.65196475e-01, -4.63652827e-01, -3.54563017e-01, -2.39718297e-01,\n",
       "       -1.21004415e-01, -3.70649079e-04,  1.20202198e-01,  2.38734322e-01,\n",
       "        3.53279431e-01,  4.61956696e-01,  5.62981639e-01,  6.54695434e-01,\n",
       "        7.35592143e-01,  8.04343444e-01,  8.59820442e-01,  9.01112208e-01,\n",
       "        9.27540730e-01,  9.38672054e-01,  9.34323404e-01,  9.14566184e-01,\n",
       "        8.79724807e-01,  8.30371368e-01,  7.67316249e-01,  6.91594813e-01,\n",
       "        6.04450404e-01,  5.07313931e-01,  4.01780372e-01,  2.89582584e-01,\n",
       "        1.72562854e-01,  5.26426411e-02, -6.82089678e-02, -1.88007593e-01,\n",
       "       -3.04786143e-01, -4.16627119e-01, -5.21694095e-01, -6.18261873e-01,\n",
       "       -7.04744813e-01, -7.79722868e-01, -8.41964901e-01, -8.90448899e-01,\n",
       "       -9.24378755e-01, -9.43197343e-01, -9.46595663e-01, -9.34517912e-01,\n",
       "       -9.07162409e-01, -8.64978330e-01])"
      ]
     },
     "execution_count": 13,
     "metadata": {},
     "output_type": "execute_result"
    }
   ],
   "source": [
    "Z[:,1]"
   ]
  },
  {
   "cell_type": "code",
   "execution_count": 14,
   "metadata": {},
   "outputs": [
    {
     "data": {
      "image/png": "[encoded data removed]",
      "text/plain": [
       "<Figure size 432x288 with 1 Axes>"
      ]
     },
     "metadata": {},
     "output_type": "display_data"
    }
   ],
   "source": [
    "Z = pca.transform(X) # transform X to component space\n",
    "plt.scatter(Z[:,0], Z[:,1], alpha=0.5) # scatter plot of data and specify transperancy\n",
    "plt.xlabel('Component 1') # add x label\n",
    "plt.ylabel('Component 2') # add y label\n",
    "# plot the ellipse defined in the previous cell\n",
    "plt.plot(Y[:,0],Y[:,1],'--');    # scaled by axis   pca ampitude"
   ]
  },
  {
   "cell_type": "markdown",
   "metadata": {},
   "source": [
    "If we only calculate one principal component then the dimension of the data is reduced. Storage is therefore reduced or compressed and any machine learning algorithm that is applied to the data is then significantly more efficient, as there is now only one feature. "
   ]
  },
  {
   "cell_type": "code",
   "execution_count": 15,
   "metadata": {},
   "outputs": [
    {
     "name": "stdout",
     "output_type": "stream",
     "text": [
      "Original shape:  (200, 2)\n",
      "Transformed shape:  (200, 1)\n"
     ]
    }
   ],
   "source": [
    "pca = PCA(n_components=1) # instantatiate PCA to calculate the first PC\n",
    "pca.fit(X) # fit the data\n",
    "Y = pca.transform(X) # transform the data to component space\n",
    "print('Original shape: ',X.shape) # print the size of the feature matrix\n",
    "print('Transformed shape: ', Y.shape) # print the size of the component space matrix reduce storage"
   ]
  },
  {
   "cell_type": "markdown",
   "metadata": {},
   "source": [
    "When we transform the reduced data back to the original feature space, we obtain an approximation to the original data where there is now only variation in the direction of the first principal component. Now\n",
    "\n",
    "$$\n",
    "X_j \\approx Y_{1,j}P_1.\n",
    "$$\n",
    "\n",
    "However, as the first principal component accounts for 97.6% of the variance of the data, we are only losing a small amount of information. In the figure below the blue dots are the original data points and the orange dots are the approximation using only the first principal component. The other way to consider this is that the data is being projected onto the first principal component, i.e., each data point is moved to the closest point on the first principal component."
   ]
  },
  {
   "cell_type": "code",
   "execution_count": 16,
   "metadata": {},
   "outputs": [
    {
     "data": {
      "image/png": "[encoded data removed]",
      "text/plain": [
       "<Figure size 432x288 with 1 Axes>"
      ]
     },
     "metadata": {},
     "output_type": "display_data"
    }
   ],
   "source": [
    "Z = pca.inverse_transform(Y) # transform the component space matrix back to feature space\n",
    "plt.scatter(X[:,0], X[:,1], alpha=0.5, label='Original data') # scatter plot of the original data\n",
    "plt.scatter(Z[:,0], Z[:,1], alpha=0.5, label='Compressed data') # scatter plot of the data using 1 PC\n",
    "plt.legend() # add legend based on labels in scatter plots\n",
    "plt.axis('equal'); # make the axis scales equal   compressed data follow one princle component lose variability with decreasing of component"
   ]
  },
  {
   "cell_type": "code",
   "execution_count": 17,
   "metadata": {},
   "outputs": [
    {
     "data": {
      "text/plain": [
       "array([-0.60566999,  1.0452307 , -0.65397264, -2.14785286, -0.56154772,\n",
       "       -0.93407737, -0.70050728,  1.35251105,  0.30839673, -1.75023588,\n",
       "        0.70553701, -0.56988901, -0.48410886,  0.24064357,  0.39976345,\n",
       "       -0.64198517,  1.05705933,  0.31677176,  0.78610394,  0.80095021,\n",
       "        1.48815318,  0.27238503, -0.55815912,  1.55416425, -0.44272351,\n",
       "       -0.48965864, -0.61052642,  0.05241574, -0.07373257,  0.00590642,\n",
       "        0.23599781,  1.01014146, -0.33353865, -0.90785815, -1.28140043,\n",
       "       -0.39814794, -0.61045903,  0.88846853, -0.43335047, -0.55433106,\n",
       "       -0.274466  , -0.39391363, -0.61045975,  0.26474655,  0.53138351,\n",
       "        0.45988708,  1.3828097 , -0.72699891, -0.13748261, -0.29614212,\n",
       "       -2.47689761,  1.30165949,  0.19692819, -0.54608162,  1.82742655,\n",
       "        0.78253898,  0.42742008, -0.11279799, -0.19754732, -0.6524849 ,\n",
       "        0.78113929, -0.38173615,  0.28533378,  0.86192768,  0.63555566,\n",
       "        0.76356285,  1.02157187, -1.05459948,  0.08325276,  0.95369589,\n",
       "        0.62318405,  0.98245885, -0.52369464, -1.38642821, -1.17004569,\n",
       "        1.22030321, -0.09668448,  1.31917217, -0.65360095, -0.39196884,\n",
       "        0.14455855,  0.83596115,  0.12339194,  0.20462518, -0.23244463,\n",
       "        0.27582301, -0.77192853,  0.48466995,  0.31351759,  0.03192396,\n",
       "        0.22781317, -0.73396619,  0.10020544, -0.18531038,  0.18425314,\n",
       "        0.59898563, -0.92931375,  0.6960149 ,  1.35972376, -0.62288624,\n",
       "       -0.45632   , -0.42272084, -0.60796391,  1.2629158 ,  0.29022092,\n",
       "       -0.86146237,  0.36372371, -0.42465872,  0.32130299,  0.34692093,\n",
       "        1.34232998, -0.80186623,  2.36712642,  0.12388707,  0.47250283,\n",
       "       -0.63390972, -0.11223054, -0.48199289, -0.10440193, -0.87057602,\n",
       "        0.68690371,  0.12837659, -0.22897696,  1.16882369,  0.0906471 ,\n",
       "        1.00889063, -0.61648077,  1.17678705,  0.26023168,  0.60666244,\n",
       "       -1.186897  ,  0.1310575 ,  1.36861467, -0.68218446, -1.30158137,\n",
       "       -1.85129684, -1.54247099, -1.53459581, -0.36764075,  0.90850287,\n",
       "        0.00248572,  0.52229038,  0.12086366,  0.0624086 , -0.09001971,\n",
       "        0.10667521,  0.43096566, -0.60714827,  0.63334226, -0.22345291,\n",
       "        0.24771628,  1.41155568, -0.34736591, -0.4279688 ,  0.06919319,\n",
       "       -0.17947799, -0.31907462, -0.90769935, -0.59800654,  0.32554546,\n",
       "       -1.33355953,  0.15409484,  0.01500988,  0.47583187,  0.75110775,\n",
       "       -1.96464824,  1.25038845, -0.46181543, -0.21968204, -0.00485906,\n",
       "        1.5738068 , -0.39175392,  1.37216122,  0.33628614,  2.07444707,\n",
       "       -0.68044216, -1.03512368,  0.41226176,  0.15937178,  0.14757016,\n",
       "       -0.94103904,  0.15617694,  0.41886258, -0.36040801,  0.12883682,\n",
       "       -0.03475764, -0.57840708, -0.41481367, -0.61391535,  1.44421628,\n",
       "        0.36340926,  0.76991989, -0.50241926, -0.01548988, -1.15037705,\n",
       "        0.83915231,  0.28053308,  1.94762518, -1.10634121,  0.36767753])"
      ]
     },
     "execution_count": 17,
     "metadata": {},
     "output_type": "execute_result"
    }
   ],
   "source": [
    "Z[:,0]"
   ]
  },
  {
   "cell_type": "code",
   "execution_count": 18,
   "metadata": {},
   "outputs": [
    {
     "data": {
      "text/plain": [
       "array([-0.22648439,  0.34794757, -0.24329133, -0.76308793, -0.21113202,\n",
       "       -0.34075396, -0.25948309,  0.45486597,  0.09156571, -0.62473684,\n",
       "        0.22975093, -0.21403438, -0.18418712,  0.06799096,  0.12335682,\n",
       "       -0.23912028,  0.35206335,  0.09447981,  0.25778425,  0.26295002,\n",
       "        0.50206274,  0.07903542, -0.20995296,  0.52503133, -0.16978706,\n",
       "       -0.18611817, -0.22817419,  0.00249696, -0.04139642, -0.01368599,\n",
       "        0.06637446,  0.33573825, -0.13179612, -0.33163096, -0.46160524,\n",
       "       -0.15427696, -0.22815074,  0.29340207, -0.16652571, -0.20862098,\n",
       "       -0.11124175, -0.15280363, -0.22815099,  0.07637761,  0.16915411,\n",
       "        0.14427688,  0.46540841, -0.26870087, -0.06357829, -0.11878397,\n",
       "       -0.87757926,  0.43717214,  0.05278016, -0.20575058,  0.62011313,\n",
       "        0.25654382,  0.13297997, -0.05498926, -0.08447785, -0.24277367,\n",
       "        0.25605679, -0.14856647,  0.08354094,  0.28416717,  0.20540088,\n",
       "        0.24994106,  0.33971547, -0.3826897 ,  0.01322672,  0.31609798,\n",
       "        0.20109617,  0.32610607, -0.19796102, -0.49814972, -0.42285929,\n",
       "        0.40886417, -0.04938256,  0.44326569, -0.24316201, -0.15212694,\n",
       "        0.03455811,  0.2751321 ,  0.02719318,  0.05545834, -0.09662039,\n",
       "        0.08023167, -0.28433416,  0.1529001 ,  0.09334752, -0.00463317,\n",
       "        0.06352661, -0.27112514,  0.01912542, -0.08022   ,  0.04836987,\n",
       "        0.19267631, -0.33909645,  0.22643771,  0.45737564, -0.2324748 ,\n",
       "       -0.17451797, -0.16282712, -0.22728257,  0.42369125,  0.08524143,\n",
       "       -0.31548752,  0.11081677, -0.16350141,  0.09605646,  0.10497023,\n",
       "        0.45132346, -0.294751  ,  0.80790205,  0.02736546,  0.14866654,\n",
       "       -0.23631043, -0.05479182, -0.18345087, -0.05206785, -0.31865862,\n",
       "        0.22326746,  0.02892759, -0.09541381,  0.39095184,  0.01579959,\n",
       "        0.33530302, -0.23024601,  0.39372269,  0.07480666,  0.19534746,\n",
       "       -0.42872271,  0.02986041,  0.46046924, -0.25310766, -0.46862721,\n",
       "       -0.65990107, -0.55244491, -0.54970474, -0.14366197,  0.30037303,\n",
       "       -0.01487622,  0.16599015,  0.02631346,  0.00597398, -0.04706355,\n",
       "        0.02137658,  0.13421365, -0.22699876,  0.20463072, -0.09349171,\n",
       "        0.07045191,  0.47541059, -0.13660732, -0.16465315,  0.00833469,\n",
       "       -0.07819061, -0.12676335, -0.33157571, -0.22381789,  0.09753263,\n",
       "       -0.47975403,  0.03787627, -0.01051843,  0.14982488,  0.2456073 ,\n",
       "       -0.69934176,  0.41933235, -0.17643011, -0.09217964, -0.01743184,\n",
       "        0.53186597, -0.15205216,  0.46170326,  0.10126985,  0.70606408,\n",
       "       -0.25250142, -0.37591309,  0.12770562,  0.03971238,  0.035606  ,\n",
       "       -0.34317627,  0.03860074,  0.13000238, -0.14114533,  0.02908773,\n",
       "       -0.02783507, -0.21699825, -0.16007581, -0.22935337,  0.48677486,\n",
       "        0.11070736,  0.252153  , -0.19055824, -0.02113084, -0.41601557,\n",
       "        0.27624246,  0.08187054,  0.66193632, -0.40069327,  0.11219251])"
      ]
     },
     "execution_count": 18,
     "metadata": {},
     "output_type": "execute_result"
    }
   ],
   "source": [
    "Z[:,1]"
   ]
  },
  {
   "cell_type": "code",
   "execution_count": 19,
   "metadata": {},
   "outputs": [
    {
     "data": {
      "text/plain": [
       "array([[-0.60566999, -0.22648439],\n",
       "       [ 1.0452307 ,  0.34794757],\n",
       "       [-0.65397264, -0.24329133],\n",
       "       [-2.14785286, -0.76308793],\n",
       "       [-0.56154772, -0.21113202],\n",
       "       [-0.93407737, -0.34075396],\n",
       "       [-0.70050728, -0.25948309],\n",
       "       [ 1.35251105,  0.45486597],\n",
       "       [ 0.30839673,  0.09156571],\n",
       "       [-1.75023588, -0.62473684],\n",
       "       [ 0.70553701,  0.22975093],\n",
       "       [-0.56988901, -0.21403438],\n",
       "       [-0.48410886, -0.18418712],\n",
       "       [ 0.24064357,  0.06799096],\n",
       "       [ 0.39976345,  0.12335682],\n",
       "       [-0.64198517, -0.23912028],\n",
       "       [ 1.05705933,  0.35206335],\n",
       "       [ 0.31677176,  0.09447981],\n",
       "       [ 0.78610394,  0.25778425],\n",
       "       [ 0.80095021,  0.26295002],\n",
       "       [ 1.48815318,  0.50206274],\n",
       "       [ 0.27238503,  0.07903542],\n",
       "       [-0.55815912, -0.20995296],\n",
       "       [ 1.55416425,  0.52503133],\n",
       "       [-0.44272351, -0.16978706],\n",
       "       [-0.48965864, -0.18611817],\n",
       "       [-0.61052642, -0.22817419],\n",
       "       [ 0.05241574,  0.00249696],\n",
       "       [-0.07373257, -0.04139642],\n",
       "       [ 0.00590642, -0.01368599],\n",
       "       [ 0.23599781,  0.06637446],\n",
       "       [ 1.01014146,  0.33573825],\n",
       "       [-0.33353865, -0.13179612],\n",
       "       [-0.90785815, -0.33163096],\n",
       "       [-1.28140043, -0.46160524],\n",
       "       [-0.39814794, -0.15427696],\n",
       "       [-0.61045903, -0.22815074],\n",
       "       [ 0.88846853,  0.29340207],\n",
       "       [-0.43335047, -0.16652571],\n",
       "       [-0.55433106, -0.20862098],\n",
       "       [-0.274466  , -0.11124175],\n",
       "       [-0.39391363, -0.15280363],\n",
       "       [-0.61045975, -0.22815099],\n",
       "       [ 0.26474655,  0.07637761],\n",
       "       [ 0.53138351,  0.16915411],\n",
       "       [ 0.45988708,  0.14427688],\n",
       "       [ 1.3828097 ,  0.46540841],\n",
       "       [-0.72699891, -0.26870087],\n",
       "       [-0.13748261, -0.06357829],\n",
       "       [-0.29614212, -0.11878397],\n",
       "       [-2.47689761, -0.87757926],\n",
       "       [ 1.30165949,  0.43717214],\n",
       "       [ 0.19692819,  0.05278016],\n",
       "       [-0.54608162, -0.20575058],\n",
       "       [ 1.82742655,  0.62011313],\n",
       "       [ 0.78253898,  0.25654382],\n",
       "       [ 0.42742008,  0.13297997],\n",
       "       [-0.11279799, -0.05498926],\n",
       "       [-0.19754732, -0.08447785],\n",
       "       [-0.6524849 , -0.24277367],\n",
       "       [ 0.78113929,  0.25605679],\n",
       "       [-0.38173615, -0.14856647],\n",
       "       [ 0.28533378,  0.08354094],\n",
       "       [ 0.86192768,  0.28416717],\n",
       "       [ 0.63555566,  0.20540088],\n",
       "       [ 0.76356285,  0.24994106],\n",
       "       [ 1.02157187,  0.33971547],\n",
       "       [-1.05459948, -0.3826897 ],\n",
       "       [ 0.08325276,  0.01322672],\n",
       "       [ 0.95369589,  0.31609798],\n",
       "       [ 0.62318405,  0.20109617],\n",
       "       [ 0.98245885,  0.32610607],\n",
       "       [-0.52369464, -0.19796102],\n",
       "       [-1.38642821, -0.49814972],\n",
       "       [-1.17004569, -0.42285929],\n",
       "       [ 1.22030321,  0.40886417],\n",
       "       [-0.09668448, -0.04938256],\n",
       "       [ 1.31917217,  0.44326569],\n",
       "       [-0.65360095, -0.24316201],\n",
       "       [-0.39196884, -0.15212694],\n",
       "       [ 0.14455855,  0.03455811],\n",
       "       [ 0.83596115,  0.2751321 ],\n",
       "       [ 0.12339194,  0.02719318],\n",
       "       [ 0.20462518,  0.05545834],\n",
       "       [-0.23244463, -0.09662039],\n",
       "       [ 0.27582301,  0.08023167],\n",
       "       [-0.77192853, -0.28433416],\n",
       "       [ 0.48466995,  0.1529001 ],\n",
       "       [ 0.31351759,  0.09334752],\n",
       "       [ 0.03192396, -0.00463317],\n",
       "       [ 0.22781317,  0.06352661],\n",
       "       [-0.73396619, -0.27112514],\n",
       "       [ 0.10020544,  0.01912542],\n",
       "       [-0.18531038, -0.08022   ],\n",
       "       [ 0.18425314,  0.04836987],\n",
       "       [ 0.59898563,  0.19267631],\n",
       "       [-0.92931375, -0.33909645],\n",
       "       [ 0.6960149 ,  0.22643771],\n",
       "       [ 1.35972376,  0.45737564],\n",
       "       [-0.62288624, -0.2324748 ],\n",
       "       [-0.45632   , -0.17451797],\n",
       "       [-0.42272084, -0.16282712],\n",
       "       [-0.60796391, -0.22728257],\n",
       "       [ 1.2629158 ,  0.42369125],\n",
       "       [ 0.29022092,  0.08524143],\n",
       "       [-0.86146237, -0.31548752],\n",
       "       [ 0.36372371,  0.11081677],\n",
       "       [-0.42465872, -0.16350141],\n",
       "       [ 0.32130299,  0.09605646],\n",
       "       [ 0.34692093,  0.10497023],\n",
       "       [ 1.34232998,  0.45132346],\n",
       "       [-0.80186623, -0.294751  ],\n",
       "       [ 2.36712642,  0.80790205],\n",
       "       [ 0.12388707,  0.02736546],\n",
       "       [ 0.47250283,  0.14866654],\n",
       "       [-0.63390972, -0.23631043],\n",
       "       [-0.11223054, -0.05479182],\n",
       "       [-0.48199289, -0.18345087],\n",
       "       [-0.10440193, -0.05206785],\n",
       "       [-0.87057602, -0.31865862],\n",
       "       [ 0.68690371,  0.22326746],\n",
       "       [ 0.12837659,  0.02892759],\n",
       "       [-0.22897696, -0.09541381],\n",
       "       [ 1.16882369,  0.39095184],\n",
       "       [ 0.0906471 ,  0.01579959],\n",
       "       [ 1.00889063,  0.33530302],\n",
       "       [-0.61648077, -0.23024601],\n",
       "       [ 1.17678705,  0.39372269],\n",
       "       [ 0.26023168,  0.07480666],\n",
       "       [ 0.60666244,  0.19534746],\n",
       "       [-1.186897  , -0.42872271],\n",
       "       [ 0.1310575 ,  0.02986041],\n",
       "       [ 1.36861467,  0.46046924],\n",
       "       [-0.68218446, -0.25310766],\n",
       "       [-1.30158137, -0.46862721],\n",
       "       [-1.85129684, -0.65990107],\n",
       "       [-1.54247099, -0.55244491],\n",
       "       [-1.53459581, -0.54970474],\n",
       "       [-0.36764075, -0.14366197],\n",
       "       [ 0.90850287,  0.30037303],\n",
       "       [ 0.00248572, -0.01487622],\n",
       "       [ 0.52229038,  0.16599015],\n",
       "       [ 0.12086366,  0.02631346],\n",
       "       [ 0.0624086 ,  0.00597398],\n",
       "       [-0.09001971, -0.04706355],\n",
       "       [ 0.10667521,  0.02137658],\n",
       "       [ 0.43096566,  0.13421365],\n",
       "       [-0.60714827, -0.22699876],\n",
       "       [ 0.63334226,  0.20463072],\n",
       "       [-0.22345291, -0.09349171],\n",
       "       [ 0.24771628,  0.07045191],\n",
       "       [ 1.41155568,  0.47541059],\n",
       "       [-0.34736591, -0.13660732],\n",
       "       [-0.4279688 , -0.16465315],\n",
       "       [ 0.06919319,  0.00833469],\n",
       "       [-0.17947799, -0.07819061],\n",
       "       [-0.31907462, -0.12676335],\n",
       "       [-0.90769935, -0.33157571],\n",
       "       [-0.59800654, -0.22381789],\n",
       "       [ 0.32554546,  0.09753263],\n",
       "       [-1.33355953, -0.47975403],\n",
       "       [ 0.15409484,  0.03787627],\n",
       "       [ 0.01500988, -0.01051843],\n",
       "       [ 0.47583187,  0.14982488],\n",
       "       [ 0.75110775,  0.2456073 ],\n",
       "       [-1.96464824, -0.69934176],\n",
       "       [ 1.25038845,  0.41933235],\n",
       "       [-0.46181543, -0.17643011],\n",
       "       [-0.21968204, -0.09217964],\n",
       "       [-0.00485906, -0.01743184],\n",
       "       [ 1.5738068 ,  0.53186597],\n",
       "       [-0.39175392, -0.15205216],\n",
       "       [ 1.37216122,  0.46170326],\n",
       "       [ 0.33628614,  0.10126985],\n",
       "       [ 2.07444707,  0.70606408],\n",
       "       [-0.68044216, -0.25250142],\n",
       "       [-1.03512368, -0.37591309],\n",
       "       [ 0.41226176,  0.12770562],\n",
       "       [ 0.15937178,  0.03971238],\n",
       "       [ 0.14757016,  0.035606  ],\n",
       "       [-0.94103904, -0.34317627],\n",
       "       [ 0.15617694,  0.03860074],\n",
       "       [ 0.41886258,  0.13000238],\n",
       "       [-0.36040801, -0.14114533],\n",
       "       [ 0.12883682,  0.02908773],\n",
       "       [-0.03475764, -0.02783507],\n",
       "       [-0.57840708, -0.21699825],\n",
       "       [-0.41481367, -0.16007581],\n",
       "       [-0.61391535, -0.22935337],\n",
       "       [ 1.44421628,  0.48677486],\n",
       "       [ 0.36340926,  0.11070736],\n",
       "       [ 0.76991989,  0.252153  ],\n",
       "       [-0.50241926, -0.19055824],\n",
       "       [-0.01548988, -0.02113084],\n",
       "       [-1.15037705, -0.41601557],\n",
       "       [ 0.83915231,  0.27624246],\n",
       "       [ 0.28053308,  0.08187054],\n",
       "       [ 1.94762518,  0.66193632],\n",
       "       [-1.10634121, -0.40069327],\n",
       "       [ 0.36767753,  0.11219251]])"
      ]
     },
     "execution_count": 19,
     "metadata": {},
     "output_type": "execute_result"
    }
   ],
   "source": [
    "Z"
   ]
  },
  {
   "cell_type": "markdown",
   "metadata": {},
   "source": [
    "### The iris dataset\n",
    "\n",
    "To investigate PCA further, it is helpful to have more than two features. Therefore we will load the iris data set which was investigated in previous notebooks. Here it is loaded from the `sklearn` datasets, so we first view the keys for each component of the dataset."
   ]
  },
  {
   "cell_type": "code",
   "execution_count": 20,
   "metadata": {},
   "outputs": [
    {
     "data": {
      "text/plain": [
       "dict_keys(['data', 'target', 'frame', 'target_names', 'DESCR', 'feature_names', 'filename'])"
      ]
     },
     "execution_count": 20,
     "metadata": {},
     "output_type": "execute_result"
    }
   ],
   "source": [
    "from sklearn.datasets import load_iris\n",
    "\n",
    "iris = load_iris() # load the iris data set\n",
    "iris.keys() # display the labels for the components of the data set"
   ]
  },
  {
   "cell_type": "markdown",
   "metadata": {},
   "source": [
    "Recall that the features are the dimensions of the sepal and petal, and the targets are the three types of iris. These can be displayed by printing `feature_names` and `target_names`."
   ]
  },
  {
   "cell_type": "code",
   "execution_count": 21,
   "metadata": {},
   "outputs": [
    {
     "name": "stdout",
     "output_type": "stream",
     "text": [
      "Feature names: ['sepal length (cm)', 'sepal width (cm)', 'petal length (cm)', 'petal width (cm)']\n",
      "Target names:  ['setosa' 'versicolor' 'virginica']\n"
     ]
    }
   ],
   "source": [
    "print('Feature names:',iris.feature_names) # print the feature names\n",
    "print('Target names: ',iris.target_names) # print the target names"
   ]
  },
  {
   "cell_type": "markdown",
   "metadata": {},
   "source": [
    "We can investigate how the three types of iris are separated in terms of the first two principal components. Recall that as there are four features, there will be four principal components. Fitting the data to the first two principal components, we see that these are vectors in four-dimensional space and both have length one. Each of the principal components can be thought of as a three-dimensional space embedded in four-dimensional space. The first principal component accounts for 92% of the variance in the data, while the second component accounts for 5% of the variance of the data."
   ]
  },
  {
   "cell_type": "code",
   "execution_count": 22,
   "metadata": {},
   "outputs": [
    {
     "name": "stdout",
     "output_type": "stream",
     "text": [
      "First PC: [ 0.36138659 -0.08452251  0.85667061  0.3582892 ]\n",
      "Length:  1.0\n",
      "Explained variance ratio:  0.925\n",
      "Second PC: [ 0.65658877  0.73016143 -0.17337266 -0.07548102]\n",
      "Length:  1.0\n",
      "Explained variance ratio:  0.053\n"
     ]
    }
   ],
   "source": [
    "X = iris.data # copy the iris features to an array \n",
    "y = iris.target # copy the iris target values to an array\n",
    "\n",
    "pca = PCA(n_components=2)  # instantatiate PCA to calculate the first two PCs\n",
    "X_pca = pca.fit_transform(X) # transform the data to component space\n",
    "# loop over the string array, the principal components and the explained variance ratio\n",
    "for ord, vector, ratio in zip(['First','Second'], pca.components_, pca.explained_variance_ratio_):\n",
    "    print('{0} PC: {1}'.format(ord,vector)) # print the PC\n",
    "    print('Length: ', np.round(np.linalg.norm(vector),3)) # print the length PC rounded to 3 figures\n",
    "    # print the contribution to the variance rounded to 3 figures\n",
    "    print('Explained variance ratio: ', np.round(ratio,3)) "
   ]
  },
  {
   "cell_type": "code",
   "execution_count": 23,
   "metadata": {},
   "outputs": [
    {
     "data": {
      "text/plain": [
       "array([[5.1, 3.5, 1.4, 0.2],\n",
       "       [4.9, 3. , 1.4, 0.2],\n",
       "       [4.7, 3.2, 1.3, 0.2],\n",
       "       [4.6, 3.1, 1.5, 0.2],\n",
       "       [5. , 3.6, 1.4, 0.2],\n",
       "       [5.4, 3.9, 1.7, 0.4],\n",
       "       [4.6, 3.4, 1.4, 0.3],\n",
       "       [5. , 3.4, 1.5, 0.2],\n",
       "       [4.4, 2.9, 1.4, 0.2],\n",
       "       [4.9, 3.1, 1.5, 0.1],\n",
       "       [5.4, 3.7, 1.5, 0.2],\n",
       "       [4.8, 3.4, 1.6, 0.2],\n",
       "       [4.8, 3. , 1.4, 0.1],\n",
       "       [4.3, 3. , 1.1, 0.1],\n",
       "       [5.8, 4. , 1.2, 0.2],\n",
       "       [5.7, 4.4, 1.5, 0.4],\n",
       "       [5.4, 3.9, 1.3, 0.4],\n",
       "       [5.1, 3.5, 1.4, 0.3],\n",
       "       [5.7, 3.8, 1.7, 0.3],\n",
       "       [5.1, 3.8, 1.5, 0.3],\n",
       "       [5.4, 3.4, 1.7, 0.2],\n",
       "       [5.1, 3.7, 1.5, 0.4],\n",
       "       [4.6, 3.6, 1. , 0.2],\n",
       "       [5.1, 3.3, 1.7, 0.5],\n",
       "       [4.8, 3.4, 1.9, 0.2],\n",
       "       [5. , 3. , 1.6, 0.2],\n",
       "       [5. , 3.4, 1.6, 0.4],\n",
       "       [5.2, 3.5, 1.5, 0.2],\n",
       "       [5.2, 3.4, 1.4, 0.2],\n",
       "       [4.7, 3.2, 1.6, 0.2],\n",
       "       [4.8, 3.1, 1.6, 0.2],\n",
       "       [5.4, 3.4, 1.5, 0.4],\n",
       "       [5.2, 4.1, 1.5, 0.1],\n",
       "       [5.5, 4.2, 1.4, 0.2],\n",
       "       [4.9, 3.1, 1.5, 0.2],\n",
       "       [5. , 3.2, 1.2, 0.2],\n",
       "       [5.5, 3.5, 1.3, 0.2],\n",
       "       [4.9, 3.6, 1.4, 0.1],\n",
       "       [4.4, 3. , 1.3, 0.2],\n",
       "       [5.1, 3.4, 1.5, 0.2],\n",
       "       [5. , 3.5, 1.3, 0.3],\n",
       "       [4.5, 2.3, 1.3, 0.3],\n",
       "       [4.4, 3.2, 1.3, 0.2],\n",
       "       [5. , 3.5, 1.6, 0.6],\n",
       "       [5.1, 3.8, 1.9, 0.4],\n",
       "       [4.8, 3. , 1.4, 0.3],\n",
       "       [5.1, 3.8, 1.6, 0.2],\n",
       "       [4.6, 3.2, 1.4, 0.2],\n",
       "       [5.3, 3.7, 1.5, 0.2],\n",
       "       [5. , 3.3, 1.4, 0.2],\n",
       "       [7. , 3.2, 4.7, 1.4],\n",
       "       [6.4, 3.2, 4.5, 1.5],\n",
       "       [6.9, 3.1, 4.9, 1.5],\n",
       "       [5.5, 2.3, 4. , 1.3],\n",
       "       [6.5, 2.8, 4.6, 1.5],\n",
       "       [5.7, 2.8, 4.5, 1.3],\n",
       "       [6.3, 3.3, 4.7, 1.6],\n",
       "       [4.9, 2.4, 3.3, 1. ],\n",
       "       [6.6, 2.9, 4.6, 1.3],\n",
       "       [5.2, 2.7, 3.9, 1.4],\n",
       "       [5. , 2. , 3.5, 1. ],\n",
       "       [5.9, 3. , 4.2, 1.5],\n",
       "       [6. , 2.2, 4. , 1. ],\n",
       "       [6.1, 2.9, 4.7, 1.4],\n",
       "       [5.6, 2.9, 3.6, 1.3],\n",
       "       [6.7, 3.1, 4.4, 1.4],\n",
       "       [5.6, 3. , 4.5, 1.5],\n",
       "       [5.8, 2.7, 4.1, 1. ],\n",
       "       [6.2, 2.2, 4.5, 1.5],\n",
       "       [5.6, 2.5, 3.9, 1.1],\n",
       "       [5.9, 3.2, 4.8, 1.8],\n",
       "       [6.1, 2.8, 4. , 1.3],\n",
       "       [6.3, 2.5, 4.9, 1.5],\n",
       "       [6.1, 2.8, 4.7, 1.2],\n",
       "       [6.4, 2.9, 4.3, 1.3],\n",
       "       [6.6, 3. , 4.4, 1.4],\n",
       "       [6.8, 2.8, 4.8, 1.4],\n",
       "       [6.7, 3. , 5. , 1.7],\n",
       "       [6. , 2.9, 4.5, 1.5],\n",
       "       [5.7, 2.6, 3.5, 1. ],\n",
       "       [5.5, 2.4, 3.8, 1.1],\n",
       "       [5.5, 2.4, 3.7, 1. ],\n",
       "       [5.8, 2.7, 3.9, 1.2],\n",
       "       [6. , 2.7, 5.1, 1.6],\n",
       "       [5.4, 3. , 4.5, 1.5],\n",
       "       [6. , 3.4, 4.5, 1.6],\n",
       "       [6.7, 3.1, 4.7, 1.5],\n",
       "       [6.3, 2.3, 4.4, 1.3],\n",
       "       [5.6, 3. , 4.1, 1.3],\n",
       "       [5.5, 2.5, 4. , 1.3],\n",
       "       [5.5, 2.6, 4.4, 1.2],\n",
       "       [6.1, 3. , 4.6, 1.4],\n",
       "       [5.8, 2.6, 4. , 1.2],\n",
       "       [5. , 2.3, 3.3, 1. ],\n",
       "       [5.6, 2.7, 4.2, 1.3],\n",
       "       [5.7, 3. , 4.2, 1.2],\n",
       "       [5.7, 2.9, 4.2, 1.3],\n",
       "       [6.2, 2.9, 4.3, 1.3],\n",
       "       [5.1, 2.5, 3. , 1.1],\n",
       "       [5.7, 2.8, 4.1, 1.3],\n",
       "       [6.3, 3.3, 6. , 2.5],\n",
       "       [5.8, 2.7, 5.1, 1.9],\n",
       "       [7.1, 3. , 5.9, 2.1],\n",
       "       [6.3, 2.9, 5.6, 1.8],\n",
       "       [6.5, 3. , 5.8, 2.2],\n",
       "       [7.6, 3. , 6.6, 2.1],\n",
       "       [4.9, 2.5, 4.5, 1.7],\n",
       "       [7.3, 2.9, 6.3, 1.8],\n",
       "       [6.7, 2.5, 5.8, 1.8],\n",
       "       [7.2, 3.6, 6.1, 2.5],\n",
       "       [6.5, 3.2, 5.1, 2. ],\n",
       "       [6.4, 2.7, 5.3, 1.9],\n",
       "       [6.8, 3. , 5.5, 2.1],\n",
       "       [5.7, 2.5, 5. , 2. ],\n",
       "       [5.8, 2.8, 5.1, 2.4],\n",
       "       [6.4, 3.2, 5.3, 2.3],\n",
       "       [6.5, 3. , 5.5, 1.8],\n",
       "       [7.7, 3.8, 6.7, 2.2],\n",
       "       [7.7, 2.6, 6.9, 2.3],\n",
       "       [6. , 2.2, 5. , 1.5],\n",
       "       [6.9, 3.2, 5.7, 2.3],\n",
       "       [5.6, 2.8, 4.9, 2. ],\n",
       "       [7.7, 2.8, 6.7, 2. ],\n",
       "       [6.3, 2.7, 4.9, 1.8],\n",
       "       [6.7, 3.3, 5.7, 2.1],\n",
       "       [7.2, 3.2, 6. , 1.8],\n",
       "       [6.2, 2.8, 4.8, 1.8],\n",
       "       [6.1, 3. , 4.9, 1.8],\n",
       "       [6.4, 2.8, 5.6, 2.1],\n",
       "       [7.2, 3. , 5.8, 1.6],\n",
       "       [7.4, 2.8, 6.1, 1.9],\n",
       "       [7.9, 3.8, 6.4, 2. ],\n",
       "       [6.4, 2.8, 5.6, 2.2],\n",
       "       [6.3, 2.8, 5.1, 1.5],\n",
       "       [6.1, 2.6, 5.6, 1.4],\n",
       "       [7.7, 3. , 6.1, 2.3],\n",
       "       [6.3, 3.4, 5.6, 2.4],\n",
       "       [6.4, 3.1, 5.5, 1.8],\n",
       "       [6. , 3. , 4.8, 1.8],\n",
       "       [6.9, 3.1, 5.4, 2.1],\n",
       "       [6.7, 3.1, 5.6, 2.4],\n",
       "       [6.9, 3.1, 5.1, 2.3],\n",
       "       [5.8, 2.7, 5.1, 1.9],\n",
       "       [6.8, 3.2, 5.9, 2.3],\n",
       "       [6.7, 3.3, 5.7, 2.5],\n",
       "       [6.7, 3. , 5.2, 2.3],\n",
       "       [6.3, 2.5, 5. , 1.9],\n",
       "       [6.5, 3. , 5.2, 2. ],\n",
       "       [6.2, 3.4, 5.4, 2.3],\n",
       "       [5.9, 3. , 5.1, 1.8]])"
      ]
     },
     "execution_count": 23,
     "metadata": {},
     "output_type": "execute_result"
    }
   ],
   "source": [
    "X"
   ]
  },
  {
   "cell_type": "code",
   "execution_count": 24,
   "metadata": {},
   "outputs": [
    {
     "data": {
      "text/plain": [
       "array([0, 0, 0, 0, 0, 0, 0, 0, 0, 0, 0, 0, 0, 0, 0, 0, 0, 0, 0, 0, 0, 0,\n",
       "       0, 0, 0, 0, 0, 0, 0, 0, 0, 0, 0, 0, 0, 0, 0, 0, 0, 0, 0, 0, 0, 0,\n",
       "       0, 0, 0, 0, 0, 0, 1, 1, 1, 1, 1, 1, 1, 1, 1, 1, 1, 1, 1, 1, 1, 1,\n",
       "       1, 1, 1, 1, 1, 1, 1, 1, 1, 1, 1, 1, 1, 1, 1, 1, 1, 1, 1, 1, 1, 1,\n",
       "       1, 1, 1, 1, 1, 1, 1, 1, 1, 1, 1, 1, 2, 2, 2, 2, 2, 2, 2, 2, 2, 2,\n",
       "       2, 2, 2, 2, 2, 2, 2, 2, 2, 2, 2, 2, 2, 2, 2, 2, 2, 2, 2, 2, 2, 2,\n",
       "       2, 2, 2, 2, 2, 2, 2, 2, 2, 2, 2, 2, 2, 2, 2, 2, 2, 2])"
      ]
     },
     "execution_count": 24,
     "metadata": {},
     "output_type": "execute_result"
    }
   ],
   "source": [
    "y"
   ]
  },
  {
   "cell_type": "markdown",
   "metadata": {},
   "source": [
    "Plotting the dataset in terms of the first two components, it is apparent that the data can largely be classified in terms of these two components. "
   ]
  },
  {
   "cell_type": "code",
   "execution_count": 25,
   "metadata": {},
   "outputs": [
    {
     "data": {
      "image/png": "[encoded data removed]",
      "text/plain": [
       "<Figure size 432x288 with 1 Axes>"
      ]
     },
     "metadata": {},
     "output_type": "display_data"
    }
   ],
   "source": [
    "# loop over (0,2) and the iris target names\n",
    "for i, target_name in zip(range(3), iris.target_names):\n",
    "    # scatter plot of the component values which match the particular species\n",
    "    # label this with the current target name\n",
    "    plt.scatter(X_pca[y == i, 0], X_pca[y == i, 1], label=target_name)\n",
    "plt.legend() # add a legend\n",
    "plt.xlabel('Component 1') # add a x label\n",
    "plt.ylabel('Component 2') # add a y label\n",
    "plt.axis('equal'); # make the axis scales equal"
   ]
  },
  {
   "cell_type": "markdown",
   "metadata": {},
   "source": [
    "As well as choosing the number of principal components we can choose the explained variance which we want to include in the model. `PCA` will then choose the number of principal components which account for that explained variance.\n",
    "\n",
    "To understand this consider the explained variance for all the principal components for the iris data set. We can plot the effect of including up to the $n^{th}$ principal component, by calculating the sum of the explained variance ratios up to that component. This is known as the cumulative sum, and gives the proportion of the variance which is accounted for by including $n$ principal components. This is shown in the figure below, and for the iris model if we want to account for 95% of the variance, we need to include two principal components. "
   ]
  },
  {
   "cell_type": "code",
   "execution_count": 26,
   "metadata": {},
   "outputs": [
    {
     "data": {
      "image/png": "[encoded data removed]",
      "text/plain": [
       "<Figure size 432x288 with 1 Axes>"
      ]
     },
     "metadata": {},
     "output_type": "display_data"
    }
   ],
   "source": [
    "pca = PCA().fit(X) # fit the X data using PCA and calculate all PCs\n",
    "# np.cumsum calculates the cumulative sum of an array\n",
    "# plot the cumulative sum of the explained variance ratio against the number of components\n",
    "plt.plot(range(1,5),np.cumsum(pca.explained_variance_ratio_))\n",
    "plt.xlabel('number of components') # add x label\n",
    "plt.ylabel('cumulative explained variance'); # add y label"
   ]
  },
  {
   "cell_type": "markdown",
   "metadata": {},
   "source": [
    "To specify the proportion of variance that is accounted for, we can set `n_components` to a floating number between 0 and 1. Then `PCA` will calculate the number of principal components required to account for this variance. If we set this equal to 0.95, i.e., account for 95% of the variance, then from the shape of the transformed array it can be seen that two principal components are calculated, as expected."
   ]
  },
  {
   "cell_type": "code",
   "execution_count": 27,
   "metadata": {},
   "outputs": [
    {
     "name": "stdout",
     "output_type": "stream",
     "text": [
      "original shape:  (150, 4)\n",
      "transformed shape: (150, 2)\n"
     ]
    }
   ],
   "source": [
    "# instantatiate PCA and calculate sufficient PCs such that 95% of the variance is accounted for \n",
    "pca = PCA(n_components=0.95) \n",
    "X_pca = pca.fit_transform(X) # transform the data to component space\n",
    "print(\"original shape: \",X.shape) # print the size of the feature matrix\n",
    "# print the size of the component matrix to show the number of components calculated\n",
    "print(\"transformed shape:\", X_pca.shape) "
   ]
  },
  {
   "cell_type": "markdown",
   "metadata": {},
   "source": [
    "This data set can be transformed back into feature space and compared against the first two features of the iris data. As is apparent, some information is lost by only using two principal components, however the approximation is reasonably accurate."
   ]
  },
  {
   "cell_type": "code",
   "execution_count": 28,
   "metadata": {},
   "outputs": [
    {
     "data": {
      "image/png": "[encoded data removed]",
      "text/plain": [
       "<Figure size 432x288 with 1 Axes>"
      ]
     },
     "metadata": {},
     "output_type": "display_data"
    }
   ],
   "source": [
    "plt.scatter(X[:, 0], X[:, 1]) # scatter plot of the original data\n",
    "Z = pca.inverse_transform(X_pca) # transform from component space back to feature space\n",
    "plt.scatter(Z[:, 0], Z[:, 1]) # plot the projection of the data using 2 PCs\n",
    "plt.xlabel('Sepal length (cm)') # add a x label\n",
    "plt.ylabel('Sepal width (cm)'); # add a y label "
   ]
  },
  {
   "cell_type": "markdown",
   "metadata": {},
   "source": [
    "### Image processing\n",
    "\n",
    "Finally, we investigate how PCA can be used for processing images. The `sklearn` digits dataset consists of a collection of 1,797 handwritten numbers from 0 to 9 each digitised onto an 8x8 grid of pixels. Hence we have 1,797 samples and 64 features. The targets are the number each image corresponds to. These can be used for training machine learning algorithms in image recognition. By printing the keys we can see the labels for each component of the dataset."
   ]
  },
  {
   "cell_type": "code",
   "execution_count": 29,
   "metadata": {},
   "outputs": [
    {
     "data": {
      "text/plain": [
       "dict_keys(['data', 'target', 'frame', 'feature_names', 'target_names', 'images', 'DESCR'])"
      ]
     },
     "execution_count": 29,
     "metadata": {},
     "output_type": "execute_result"
    }
   ],
   "source": [
    "from sklearn.datasets import load_digits\n",
    "\n",
    "digits = load_digits() # load the digits data set\n",
    "digits.keys() # display the labels for the components of the data set"
   ]
  },
  {
   "cell_type": "code",
   "execution_count": 30,
   "metadata": {},
   "outputs": [
    {
     "data": {
      "text/plain": [
       "(1797, 64)"
      ]
     },
     "execution_count": 30,
     "metadata": {},
     "output_type": "execute_result"
    }
   ],
   "source": [
    "digits.data.shape # display the size of feature matrix"
   ]
  },
  {
   "cell_type": "markdown",
   "metadata": {},
   "source": [
    "To understand the format of the images we can plot the first 40 together with the target values shown in the lower left side of the image."
   ]
  },
  {
   "cell_type": "code",
   "execution_count": 31,
   "metadata": {},
   "outputs": [
    {
     "data": {
      "image/png": "[encoded data removed]",
      "text/plain": [
       "<Figure size 720x360 with 40 Axes>"
      ]
     },
     "metadata": {},
     "output_type": "display_data"
    }
   ],
   "source": [
    "fig = plt.figure(figsize=(10,5)) # set up a figure of size 10 x 5\n",
    "\n",
    "for i in range(40): # loop over the first 40 images\n",
    "    # on a 4 x 10 grid add the next plot with no xticks or yticks\n",
    "    ax = fig.add_subplot(4,10,i+1,xticks=[],yticks=[]) \n",
    "    ax.imshow(digits.images[i], cmap=plt.cm.binary) # plot the image i of the digits and use binary colourmap\n",
    "    ax.text(0,7,str(digits.target[i])) # add the target value in the lower left corner"
   ]
  },
  {
   "cell_type": "markdown",
   "metadata": {},
   "source": [
    "We will first use `PCA` to undertake some simple unsupervised learning by plotting the classifications of the digits against the first three components. This reveals that each of the classes occupies a distinct region in the component space. This could then be used in conjunction with a regression algorithm to obtain an approximate classification of the images."
   ]
  },
  {
   "cell_type": "code",
   "execution_count": 32,
   "metadata": {},
   "outputs": [
    {
     "data": {
      "image/png": "[encoded data removed]",
      "text/plain": [
       "<Figure size 576x432 with 2 Axes>"
      ]
     },
     "metadata": {},
     "output_type": "display_data"
    }
   ],
   "source": [
    "from mpl_toolkits import mplot3d # import function to enable 3-dimensional plotting in matplotlib\n",
    "\n",
    "pca = PCA(n_components=3) # instantatiate PCA with 3 PCs\n",
    "projected = pca.fit_transform(digits.data) # fit the data and transform to component space\n",
    "\n",
    "fig = plt.figure(figsize=(8,6)) # set up a figure of size 8 x 6\n",
    "ax = plt.subplot(projection='3d') # initialize the 3d axes\n",
    "# 3d scatter plot with points coloured by their targets values\n",
    "p = ax.scatter3D(projected[:,0], projected[:,1], projected[:,2], c=digits.target)\n",
    "ax.set_xlabel('Component 1') # add x label\n",
    "ax.set_ylabel('Component 2') # add y label\n",
    "ax.set_zlabel('Component 3') # add z label\n",
    "fig.colorbar(p); # add colourbar to p"
   ]
  },
  {
   "cell_type": "markdown",
   "metadata": {},
   "source": [
    "For images the principal components can be interpreted as individual images. Each of these contribute to the variance of the collection of images. To illustrate this we can plot the 64 principal components in order of their contribution the variance. This is shown below where decreasing variance corresponds to left to right and then top to bottom. For the first few principal components there is information on almost every pixel, apart from the sides, but then as the importance decreases the amount of information decreases until the last row, where only one or two pixels are of importance for each principal component.\n",
    "\n",
    "Each individual sample can then be reconstructed from these principal components given their values in component space. If we denote each of the principal components as $P_1$, $P_2$, $\\dots$, $P_{64}$ and the values in component space for the $j^{th}$ sample as $Y_{1,j}$, $Y_{2,j}$, $\\dots$, $Y_{64,j}$, then\n",
    "\n",
    "$$\n",
    "X_j = Y_{1,j}P_1 + Y_{2,j}P_2 + \\cdots + Y_{64,j}P_{64}.\n",
    "$$\n",
    "\n",
    "If we only have $n$ principal components and we are projecting the data onto these components, then\n",
    "\n",
    "$$\n",
    "X_j \\approx Y_{1,j}P_1 + Y_{2,j}P_2 + \\cdots + Y_{n,j}P_{n}.\n",
    "$$\n"
   ]
  },
  {
   "cell_type": "code",
   "execution_count": 33,
   "metadata": {},
   "outputs": [
    {
     "data": {
      "image/png": "[encoded data removed]",
      "text/plain": [
       "<Figure size 504x504 with 64 Axes>"
      ]
     },
     "metadata": {},
     "output_type": "display_data"
    }
   ],
   "source": [
    "pca = PCA() # instantatiate PCA and calculate all PCs\n",
    "pca.fit(digits.data) # fit the digits data to PCA\n",
    "fig = plt.figure(figsize=(7, 7)) # set up a 7 x 7 figure\n",
    "# create some horizontal space and whitespace between the subplots\n",
    "fig.subplots_adjust(left=0,right=1,bottom=0,top=1,hspace=0.05,wspace=0.05) \n",
    "\n",
    "for i in range(64): # loop over all the PCs\n",
    "    # on a 8 x 8 grid add the next plot with no xticks or yticks\n",
    "    ax = fig.add_subplot(8,8,i+1,xticks=[],yticks=[])\n",
    "    # reshape the current PC into an 8 x 8 grid, plot as an image and use binary colourmap\n",
    "    ax.imshow(np.reshape(pca.components_[i,:],(8,8)), cmap=plt.cm.binary)"
   ]
  },
  {
   "cell_type": "markdown",
   "metadata": {},
   "source": [
    "If we view the cumulative explained variance, we see that 95% of the variance is accounted for by around 30 components."
   ]
  },
  {
   "cell_type": "code",
   "execution_count": 34,
   "metadata": {},
   "outputs": [
    {
     "data": {
      "image/png": "[encoded data removed]",
      "text/plain": [
       "<Figure size 432x288 with 1 Axes>"
      ]
     },
     "metadata": {},
     "output_type": "display_data"
    }
   ],
   "source": [
    "# plot the cumulative sum of the explained variance ratio against the number of components\n",
    "plt.plot(range(1,65),np.cumsum(pca.explained_variance_ratio_))\n",
    "plt.xlabel('number of components') # add x label\n",
    "plt.ylabel('cumulative explained variance'); # add y label"
   ]
  },
  {
   "cell_type": "markdown",
   "metadata": {},
   "source": [
    "To test this we can set `n_components` to 0.95 and PCA returns 29 components."
   ]
  },
  {
   "cell_type": "code",
   "execution_count": 35,
   "metadata": {},
   "outputs": [
    {
     "name": "stdout",
     "output_type": "stream",
     "text": [
      "Shape of transformed data:  (1797, 29)\n"
     ]
    }
   ],
   "source": [
    "# instantatiate PCA and calculate suffient PCs such that 95% of the variance is accounted for \n",
    "pca = PCA(n_components=0.95)\n",
    "digits_pca = pca.fit_transform(digits.data) # fit the digits data and transform to component space\n",
    "# print the shape of the component matrix to show number of components used\n",
    "print('Shape of transformed data: ',digits_pca.shape) "
   ]
  },
  {
   "cell_type": "markdown",
   "metadata": {},
   "source": [
    "If we reconstruct the digits with 29 modes and compare them with the original images, it is apparent that less than half of the components are reasonably able to model the digits."
   ]
  },
  {
   "cell_type": "code",
   "execution_count": 36,
   "metadata": {},
   "outputs": [
    {
     "data": {
      "image/png": "[encoded data removed]",
      "text/plain": [
       "<Figure size 720x180 with 20 Axes>"
      ]
     },
     "metadata": {},
     "output_type": "display_data"
    }
   ],
   "source": [
    "rdigits = pca.inverse_transform(digits_pca) # transform the component matrix back to feature space\n",
    "\n",
    "# intialize a 2 x 10 grid of plots on 10 x 2.5 figure\n",
    "# pass keywords to subplots so that don't have xticks or yticks\n",
    "fig, ax = plt.subplots(2,10, figsize=(10, 2.5),\n",
    "                      subplot_kw={'xticks':[], 'yticks':[]})\n",
    "\n",
    "for i in range(10): # loop over (0,9)\n",
    "    # reshape the digits data to a 8 x 8 matrix, plot as an image on the first row and use binary colourmap\n",
    "    ax[0,i].imshow(digits.data[i].reshape(8,8), cmap='binary')\n",
    "    # reshape the reduced digits data to a 8 x 8 matrix, plot as an image on the second row \n",
    "    # and use binary colourmap\n",
    "    ax[1,i].imshow(rdigits[i].reshape(8,8), cmap='binary')\n",
    "    \n",
    "ax[0,0].set_ylabel('full-dim\\n input') # label for the first row\n",
    "ax[1,0].set_ylabel('95% var \\n input'); # label for the second row\n"
   ]
  },
  {
   "cell_type": "markdown",
   "metadata": {},
   "source": [
    "Amongst other applications PCA can also be used to filter noisy data. Since noise is random the correlation across images will be very low, therefore the principal components associated with the noise signal will have minimal effect on the variance of the feature matrix. Hence if we choose a relatively low cutoff for the proportion of variance that we want the principal components to account for, this will remove much of the random noise. In the example below we choose a cutoff of 60%, which removes much of the noise which was added to the images."
   ]
  },
  {
   "cell_type": "code",
   "execution_count": 37,
   "metadata": {},
   "outputs": [
    {
     "data": {
      "image/png": "[encoded data removed]",
      "text/plain": [
       "<Figure size 720x180 with 20 Axes>"
      ]
     },
     "metadata": {},
     "output_type": "display_data"
    }
   ],
   "source": [
    "np.random.seed(42) # initialize a random number generator\n",
    "noisy = np.random.normal(digits.data, 4) # add normally distributed noise of amplitude 4 to the digits data\n",
    "# instantatiate PCA and calculate suffient PCs such that 60% of the variance is accounted for \n",
    "pca = PCA(0.6) \n",
    "digits_pca = pca.fit_transform(noisy) # fit the noisy data to the current model\n",
    "rdigits = pca.inverse_transform(digits_pca) # transform the component matrix back to feature space\n",
    "# intialize a 2 x 10 grid of plots on 10 x 2.5 figure\n",
    "# pass keywords to subplots so that don't have xticks or yticks\n",
    "fig, ax = plt.subplots(2,10, figsize=(10, 2.5),\n",
    "                      subplot_kw={'xticks':[], 'yticks':[]})\n",
    "for i in range(10): # loop over (0,9)\n",
    "    # reshape the noisy digits data to a 8 x 8 matrix, plot as an image on the first row and use binary colourmap\n",
    "    ax[0,i].imshow(noisy[i].reshape(8,8), cmap='binary') \n",
    "    # reshape the filtered noisy digits data to a 8 x 8 matrix, plot as an image on the second row \n",
    "    # and use binary colourmap\n",
    "    ax[1,i].imshow(rdigits[i].reshape(8,8), cmap='binary')\n",
    "    \n",
    "ax[0,0].set_ylabel('Noisy\\n data') # label for the first row\n",
    "ax[1,0].set_ylabel('80% var \\n input'); # label for the second row"
   ]
  },
  {
   "cell_type": "markdown",
   "metadata": {},
   "source": [
    "## Exercises"
   ]
  },
  {
   "cell_type": "markdown",
   "metadata": {},
   "source": [
    "For these exercises we will use the Wisconsin Breast Cancer Dataset from `sklearn`. This is the analysis of 30 properties of breast cancer cells, which have the classification of 'malignant' (0) or 'benign' (1)."
   ]
  },
  {
   "cell_type": "code",
   "execution_count": 55,
   "metadata": {},
   "outputs": [],
   "source": [
    "import pandas as pd\n",
    "from sklearn.datasets import load_breast_cancer\n",
    "\n",
    "wdbc = load_breast_cancer()\n",
    "X = pd.DataFrame(wdbc.data, columns=wdbc.feature_names)\n",
    "y = pd.Series(wdbc.target)"
   ]
  },
  {
   "cell_type": "code",
   "execution_count": 39,
   "metadata": {},
   "outputs": [
    {
     "data": {
      "text/html": [
       "<div>\n",
       "<style scoped>\n",
       "    .dataframe tbody tr th:only-of-type {\n",
       "        vertical-align: middle;\n",
       "    }\n",
       "\n",
       "    .dataframe tbody tr th {\n",
       "        vertical-align: top;\n",
       "    }\n",
       "\n",
       "    .dataframe thead th {\n",
       "        text-align: right;\n",
       "    }\n",
       "</style>\n",
       "<table border=\"1\" class=\"dataframe\">\n",
       "  <thead>\n",
       "    <tr style=\"text-align: right;\">\n",
       "      <th></th>\n",
       "      <th>mean radius</th>\n",
       "      <th>mean texture</th>\n",
       "      <th>mean perimeter</th>\n",
       "      <th>mean area</th>\n",
       "      <th>mean smoothness</th>\n",
       "      <th>mean compactness</th>\n",
       "      <th>mean concavity</th>\n",
       "      <th>mean concave points</th>\n",
       "      <th>mean symmetry</th>\n",
       "      <th>mean fractal dimension</th>\n",
       "      <th>...</th>\n",
       "      <th>worst radius</th>\n",
       "      <th>worst texture</th>\n",
       "      <th>worst perimeter</th>\n",
       "      <th>worst area</th>\n",
       "      <th>worst smoothness</th>\n",
       "      <th>worst compactness</th>\n",
       "      <th>worst concavity</th>\n",
       "      <th>worst concave points</th>\n",
       "      <th>worst symmetry</th>\n",
       "      <th>worst fractal dimension</th>\n",
       "    </tr>\n",
       "  </thead>\n",
       "  <tbody>\n",
       "    <tr>\n",
       "      <th>0</th>\n",
       "      <td>17.99</td>\n",
       "      <td>10.38</td>\n",
       "      <td>122.80</td>\n",
       "      <td>1001.0</td>\n",
       "      <td>0.11840</td>\n",
       "      <td>0.27760</td>\n",
       "      <td>0.30010</td>\n",
       "      <td>0.14710</td>\n",
       "      <td>0.2419</td>\n",
       "      <td>0.07871</td>\n",
       "      <td>...</td>\n",
       "      <td>25.380</td>\n",
       "      <td>17.33</td>\n",
       "      <td>184.60</td>\n",
       "      <td>2019.0</td>\n",
       "      <td>0.16220</td>\n",
       "      <td>0.66560</td>\n",
       "      <td>0.7119</td>\n",
       "      <td>0.2654</td>\n",
       "      <td>0.4601</td>\n",
       "      <td>0.11890</td>\n",
       "    </tr>\n",
       "    <tr>\n",
       "      <th>1</th>\n",
       "      <td>20.57</td>\n",
       "      <td>17.77</td>\n",
       "      <td>132.90</td>\n",
       "      <td>1326.0</td>\n",
       "      <td>0.08474</td>\n",
       "      <td>0.07864</td>\n",
       "      <td>0.08690</td>\n",
       "      <td>0.07017</td>\n",
       "      <td>0.1812</td>\n",
       "      <td>0.05667</td>\n",
       "      <td>...</td>\n",
       "      <td>24.990</td>\n",
       "      <td>23.41</td>\n",
       "      <td>158.80</td>\n",
       "      <td>1956.0</td>\n",
       "      <td>0.12380</td>\n",
       "      <td>0.18660</td>\n",
       "      <td>0.2416</td>\n",
       "      <td>0.1860</td>\n",
       "      <td>0.2750</td>\n",
       "      <td>0.08902</td>\n",
       "    </tr>\n",
       "    <tr>\n",
       "      <th>2</th>\n",
       "      <td>19.69</td>\n",
       "      <td>21.25</td>\n",
       "      <td>130.00</td>\n",
       "      <td>1203.0</td>\n",
       "      <td>0.10960</td>\n",
       "      <td>0.15990</td>\n",
       "      <td>0.19740</td>\n",
       "      <td>0.12790</td>\n",
       "      <td>0.2069</td>\n",
       "      <td>0.05999</td>\n",
       "      <td>...</td>\n",
       "      <td>23.570</td>\n",
       "      <td>25.53</td>\n",
       "      <td>152.50</td>\n",
       "      <td>1709.0</td>\n",
       "      <td>0.14440</td>\n",
       "      <td>0.42450</td>\n",
       "      <td>0.4504</td>\n",
       "      <td>0.2430</td>\n",
       "      <td>0.3613</td>\n",
       "      <td>0.08758</td>\n",
       "    </tr>\n",
       "    <tr>\n",
       "      <th>3</th>\n",
       "      <td>11.42</td>\n",
       "      <td>20.38</td>\n",
       "      <td>77.58</td>\n",
       "      <td>386.1</td>\n",
       "      <td>0.14250</td>\n",
       "      <td>0.28390</td>\n",
       "      <td>0.24140</td>\n",
       "      <td>0.10520</td>\n",
       "      <td>0.2597</td>\n",
       "      <td>0.09744</td>\n",
       "      <td>...</td>\n",
       "      <td>14.910</td>\n",
       "      <td>26.50</td>\n",
       "      <td>98.87</td>\n",
       "      <td>567.7</td>\n",
       "      <td>0.20980</td>\n",
       "      <td>0.86630</td>\n",
       "      <td>0.6869</td>\n",
       "      <td>0.2575</td>\n",
       "      <td>0.6638</td>\n",
       "      <td>0.17300</td>\n",
       "    </tr>\n",
       "    <tr>\n",
       "      <th>4</th>\n",
       "      <td>20.29</td>\n",
       "      <td>14.34</td>\n",
       "      <td>135.10</td>\n",
       "      <td>1297.0</td>\n",
       "      <td>0.10030</td>\n",
       "      <td>0.13280</td>\n",
       "      <td>0.19800</td>\n",
       "      <td>0.10430</td>\n",
       "      <td>0.1809</td>\n",
       "      <td>0.05883</td>\n",
       "      <td>...</td>\n",
       "      <td>22.540</td>\n",
       "      <td>16.67</td>\n",
       "      <td>152.20</td>\n",
       "      <td>1575.0</td>\n",
       "      <td>0.13740</td>\n",
       "      <td>0.20500</td>\n",
       "      <td>0.4000</td>\n",
       "      <td>0.1625</td>\n",
       "      <td>0.2364</td>\n",
       "      <td>0.07678</td>\n",
       "    </tr>\n",
       "    <tr>\n",
       "      <th>...</th>\n",
       "      <td>...</td>\n",
       "      <td>...</td>\n",
       "      <td>...</td>\n",
       "      <td>...</td>\n",
       "      <td>...</td>\n",
       "      <td>...</td>\n",
       "      <td>...</td>\n",
       "      <td>...</td>\n",
       "      <td>...</td>\n",
       "      <td>...</td>\n",
       "      <td>...</td>\n",
       "      <td>...</td>\n",
       "      <td>...</td>\n",
       "      <td>...</td>\n",
       "      <td>...</td>\n",
       "      <td>...</td>\n",
       "      <td>...</td>\n",
       "      <td>...</td>\n",
       "      <td>...</td>\n",
       "      <td>...</td>\n",
       "      <td>...</td>\n",
       "    </tr>\n",
       "    <tr>\n",
       "      <th>564</th>\n",
       "      <td>21.56</td>\n",
       "      <td>22.39</td>\n",
       "      <td>142.00</td>\n",
       "      <td>1479.0</td>\n",
       "      <td>0.11100</td>\n",
       "      <td>0.11590</td>\n",
       "      <td>0.24390</td>\n",
       "      <td>0.13890</td>\n",
       "      <td>0.1726</td>\n",
       "      <td>0.05623</td>\n",
       "      <td>...</td>\n",
       "      <td>25.450</td>\n",
       "      <td>26.40</td>\n",
       "      <td>166.10</td>\n",
       "      <td>2027.0</td>\n",
       "      <td>0.14100</td>\n",
       "      <td>0.21130</td>\n",
       "      <td>0.4107</td>\n",
       "      <td>0.2216</td>\n",
       "      <td>0.2060</td>\n",
       "      <td>0.07115</td>\n",
       "    </tr>\n",
       "    <tr>\n",
       "      <th>565</th>\n",
       "      <td>20.13</td>\n",
       "      <td>28.25</td>\n",
       "      <td>131.20</td>\n",
       "      <td>1261.0</td>\n",
       "      <td>0.09780</td>\n",
       "      <td>0.10340</td>\n",
       "      <td>0.14400</td>\n",
       "      <td>0.09791</td>\n",
       "      <td>0.1752</td>\n",
       "      <td>0.05533</td>\n",
       "      <td>...</td>\n",
       "      <td>23.690</td>\n",
       "      <td>38.25</td>\n",
       "      <td>155.00</td>\n",
       "      <td>1731.0</td>\n",
       "      <td>0.11660</td>\n",
       "      <td>0.19220</td>\n",
       "      <td>0.3215</td>\n",
       "      <td>0.1628</td>\n",
       "      <td>0.2572</td>\n",
       "      <td>0.06637</td>\n",
       "    </tr>\n",
       "    <tr>\n",
       "      <th>566</th>\n",
       "      <td>16.60</td>\n",
       "      <td>28.08</td>\n",
       "      <td>108.30</td>\n",
       "      <td>858.1</td>\n",
       "      <td>0.08455</td>\n",
       "      <td>0.10230</td>\n",
       "      <td>0.09251</td>\n",
       "      <td>0.05302</td>\n",
       "      <td>0.1590</td>\n",
       "      <td>0.05648</td>\n",
       "      <td>...</td>\n",
       "      <td>18.980</td>\n",
       "      <td>34.12</td>\n",
       "      <td>126.70</td>\n",
       "      <td>1124.0</td>\n",
       "      <td>0.11390</td>\n",
       "      <td>0.30940</td>\n",
       "      <td>0.3403</td>\n",
       "      <td>0.1418</td>\n",
       "      <td>0.2218</td>\n",
       "      <td>0.07820</td>\n",
       "    </tr>\n",
       "    <tr>\n",
       "      <th>567</th>\n",
       "      <td>20.60</td>\n",
       "      <td>29.33</td>\n",
       "      <td>140.10</td>\n",
       "      <td>1265.0</td>\n",
       "      <td>0.11780</td>\n",
       "      <td>0.27700</td>\n",
       "      <td>0.35140</td>\n",
       "      <td>0.15200</td>\n",
       "      <td>0.2397</td>\n",
       "      <td>0.07016</td>\n",
       "      <td>...</td>\n",
       "      <td>25.740</td>\n",
       "      <td>39.42</td>\n",
       "      <td>184.60</td>\n",
       "      <td>1821.0</td>\n",
       "      <td>0.16500</td>\n",
       "      <td>0.86810</td>\n",
       "      <td>0.9387</td>\n",
       "      <td>0.2650</td>\n",
       "      <td>0.4087</td>\n",
       "      <td>0.12400</td>\n",
       "    </tr>\n",
       "    <tr>\n",
       "      <th>568</th>\n",
       "      <td>7.76</td>\n",
       "      <td>24.54</td>\n",
       "      <td>47.92</td>\n",
       "      <td>181.0</td>\n",
       "      <td>0.05263</td>\n",
       "      <td>0.04362</td>\n",
       "      <td>0.00000</td>\n",
       "      <td>0.00000</td>\n",
       "      <td>0.1587</td>\n",
       "      <td>0.05884</td>\n",
       "      <td>...</td>\n",
       "      <td>9.456</td>\n",
       "      <td>30.37</td>\n",
       "      <td>59.16</td>\n",
       "      <td>268.6</td>\n",
       "      <td>0.08996</td>\n",
       "      <td>0.06444</td>\n",
       "      <td>0.0000</td>\n",
       "      <td>0.0000</td>\n",
       "      <td>0.2871</td>\n",
       "      <td>0.07039</td>\n",
       "    </tr>\n",
       "  </tbody>\n",
       "</table>\n",
       "<p>569 rows × 30 columns</p>\n",
       "</div>"
      ],
      "text/plain": [
       "     mean radius  mean texture  mean perimeter  mean area  mean smoothness  \\\n",
       "0          17.99         10.38          122.80     1001.0          0.11840   \n",
       "1          20.57         17.77          132.90     1326.0          0.08474   \n",
       "2          19.69         21.25          130.00     1203.0          0.10960   \n",
       "3          11.42         20.38           77.58      386.1          0.14250   \n",
       "4          20.29         14.34          135.10     1297.0          0.10030   \n",
       "..           ...           ...             ...        ...              ...   \n",
       "564        21.56         22.39          142.00     1479.0          0.11100   \n",
       "565        20.13         28.25          131.20     1261.0          0.09780   \n",
       "566        16.60         28.08          108.30      858.1          0.08455   \n",
       "567        20.60         29.33          140.10     1265.0          0.11780   \n",
       "568         7.76         24.54           47.92      181.0          0.05263   \n",
       "\n",
       "     mean compactness  mean concavity  mean concave points  mean symmetry  \\\n",
       "0             0.27760         0.30010              0.14710         0.2419   \n",
       "1             0.07864         0.08690              0.07017         0.1812   \n",
       "2             0.15990         0.19740              0.12790         0.2069   \n",
       "3             0.28390         0.24140              0.10520         0.2597   \n",
       "4             0.13280         0.19800              0.10430         0.1809   \n",
       "..                ...             ...                  ...            ...   \n",
       "564           0.11590         0.24390              0.13890         0.1726   \n",
       "565           0.10340         0.14400              0.09791         0.1752   \n",
       "566           0.10230         0.09251              0.05302         0.1590   \n",
       "567           0.27700         0.35140              0.15200         0.2397   \n",
       "568           0.04362         0.00000              0.00000         0.1587   \n",
       "\n",
       "     mean fractal dimension  ...  worst radius  worst texture  \\\n",
       "0                   0.07871  ...        25.380          17.33   \n",
       "1                   0.05667  ...        24.990          23.41   \n",
       "2                   0.05999  ...        23.570          25.53   \n",
       "3                   0.09744  ...        14.910          26.50   \n",
       "4                   0.05883  ...        22.540          16.67   \n",
       "..                      ...  ...           ...            ...   \n",
       "564                 0.05623  ...        25.450          26.40   \n",
       "565                 0.05533  ...        23.690          38.25   \n",
       "566                 0.05648  ...        18.980          34.12   \n",
       "567                 0.07016  ...        25.740          39.42   \n",
       "568                 0.05884  ...         9.456          30.37   \n",
       "\n",
       "     worst perimeter  worst area  worst smoothness  worst compactness  \\\n",
       "0             184.60      2019.0           0.16220            0.66560   \n",
       "1             158.80      1956.0           0.12380            0.18660   \n",
       "2             152.50      1709.0           0.14440            0.42450   \n",
       "3              98.87       567.7           0.20980            0.86630   \n",
       "4             152.20      1575.0           0.13740            0.20500   \n",
       "..               ...         ...               ...                ...   \n",
       "564           166.10      2027.0           0.14100            0.21130   \n",
       "565           155.00      1731.0           0.11660            0.19220   \n",
       "566           126.70      1124.0           0.11390            0.30940   \n",
       "567           184.60      1821.0           0.16500            0.86810   \n",
       "568            59.16       268.6           0.08996            0.06444   \n",
       "\n",
       "     worst concavity  worst concave points  worst symmetry  \\\n",
       "0             0.7119                0.2654          0.4601   \n",
       "1             0.2416                0.1860          0.2750   \n",
       "2             0.4504                0.2430          0.3613   \n",
       "3             0.6869                0.2575          0.6638   \n",
       "4             0.4000                0.1625          0.2364   \n",
       "..               ...                   ...             ...   \n",
       "564           0.4107                0.2216          0.2060   \n",
       "565           0.3215                0.1628          0.2572   \n",
       "566           0.3403                0.1418          0.2218   \n",
       "567           0.9387                0.2650          0.4087   \n",
       "568           0.0000                0.0000          0.2871   \n",
       "\n",
       "     worst fractal dimension  \n",
       "0                    0.11890  \n",
       "1                    0.08902  \n",
       "2                    0.08758  \n",
       "3                    0.17300  \n",
       "4                    0.07678  \n",
       "..                       ...  \n",
       "564                  0.07115  \n",
       "565                  0.06637  \n",
       "566                  0.07820  \n",
       "567                  0.12400  \n",
       "568                  0.07039  \n",
       "\n",
       "[569 rows x 30 columns]"
      ]
     },
     "execution_count": 39,
     "metadata": {},
     "output_type": "execute_result"
    }
   ],
   "source": [
    "X"
   ]
  },
  {
   "cell_type": "code",
   "execution_count": 40,
   "metadata": {},
   "outputs": [
    {
     "data": {
      "text/plain": [
       "0      0\n",
       "1      0\n",
       "2      0\n",
       "3      0\n",
       "4      0\n",
       "      ..\n",
       "564    0\n",
       "565    0\n",
       "566    0\n",
       "567    0\n",
       "568    1\n",
       "Length: 569, dtype: int32"
      ]
     },
     "execution_count": 40,
     "metadata": {},
     "output_type": "execute_result"
    }
   ],
   "source": [
    "y"
   ]
  },
  {
   "cell_type": "markdown",
   "metadata": {},
   "source": [
    "### Exercise 1"
   ]
  },
  {
   "cell_type": "markdown",
   "metadata": {},
   "source": [
    "Calculate the first two principal components for this dataset and plot the data points in terms of these two components, coloured by the target values. (2 marks)"
   ]
  },
  {
   "cell_type": "code",
   "execution_count": 41,
   "metadata": {},
   "outputs": [
    {
     "data": {
      "text/html": [
       "<div>\n",
       "<style scoped>\n",
       "    .dataframe tbody tr th:only-of-type {\n",
       "        vertical-align: middle;\n",
       "    }\n",
       "\n",
       "    .dataframe tbody tr th {\n",
       "        vertical-align: top;\n",
       "    }\n",
       "\n",
       "    .dataframe thead th {\n",
       "        text-align: right;\n",
       "    }\n",
       "</style>\n",
       "<table border=\"1\" class=\"dataframe\">\n",
       "  <thead>\n",
       "    <tr style=\"text-align: right;\">\n",
       "      <th></th>\n",
       "      <th>mean radius</th>\n",
       "      <th>mean texture</th>\n",
       "    </tr>\n",
       "  </thead>\n",
       "  <tbody>\n",
       "    <tr>\n",
       "      <th>0</th>\n",
       "      <td>17.99</td>\n",
       "      <td>10.38</td>\n",
       "    </tr>\n",
       "    <tr>\n",
       "      <th>1</th>\n",
       "      <td>20.57</td>\n",
       "      <td>17.77</td>\n",
       "    </tr>\n",
       "    <tr>\n",
       "      <th>2</th>\n",
       "      <td>19.69</td>\n",
       "      <td>21.25</td>\n",
       "    </tr>\n",
       "    <tr>\n",
       "      <th>3</th>\n",
       "      <td>11.42</td>\n",
       "      <td>20.38</td>\n",
       "    </tr>\n",
       "    <tr>\n",
       "      <th>4</th>\n",
       "      <td>20.29</td>\n",
       "      <td>14.34</td>\n",
       "    </tr>\n",
       "    <tr>\n",
       "      <th>...</th>\n",
       "      <td>...</td>\n",
       "      <td>...</td>\n",
       "    </tr>\n",
       "    <tr>\n",
       "      <th>564</th>\n",
       "      <td>21.56</td>\n",
       "      <td>22.39</td>\n",
       "    </tr>\n",
       "    <tr>\n",
       "      <th>565</th>\n",
       "      <td>20.13</td>\n",
       "      <td>28.25</td>\n",
       "    </tr>\n",
       "    <tr>\n",
       "      <th>566</th>\n",
       "      <td>16.60</td>\n",
       "      <td>28.08</td>\n",
       "    </tr>\n",
       "    <tr>\n",
       "      <th>567</th>\n",
       "      <td>20.60</td>\n",
       "      <td>29.33</td>\n",
       "    </tr>\n",
       "    <tr>\n",
       "      <th>568</th>\n",
       "      <td>7.76</td>\n",
       "      <td>24.54</td>\n",
       "    </tr>\n",
       "  </tbody>\n",
       "</table>\n",
       "<p>569 rows × 2 columns</p>\n",
       "</div>"
      ],
      "text/plain": [
       "     mean radius  mean texture\n",
       "0          17.99         10.38\n",
       "1          20.57         17.77\n",
       "2          19.69         21.25\n",
       "3          11.42         20.38\n",
       "4          20.29         14.34\n",
       "..           ...           ...\n",
       "564        21.56         22.39\n",
       "565        20.13         28.25\n",
       "566        16.60         28.08\n",
       "567        20.60         29.33\n",
       "568         7.76         24.54\n",
       "\n",
       "[569 rows x 2 columns]"
      ]
     },
     "execution_count": 41,
     "metadata": {},
     "output_type": "execute_result"
    }
   ],
   "source": [
    "first_two_pc=X.iloc[:, [0,1]]#select first two components\n",
    "first_two_pc"
   ]
  },
  {
   "cell_type": "code",
   "execution_count": null,
   "metadata": {},
   "outputs": [],
   "source": []
  },
  {
   "cell_type": "code",
   "execution_count": 46,
   "metadata": {},
   "outputs": [
    {
     "name": "stdout",
     "output_type": "stream",
     "text": [
      "First PC: [ 5.08623202e-03  2.19657026e-03  3.50763298e-02  5.16826469e-01\n",
      "  4.23694535e-06  4.05260047e-05  8.19399539e-05  4.77807775e-05\n",
      "  7.07804332e-06 -2.62155251e-06  3.13742507e-04 -6.50984008e-05\n",
      "  2.23634150e-03  5.57271669e-02 -8.05646029e-07  5.51918197e-06\n",
      "  8.87094462e-06  3.27915009e-06 -1.24101836e-06 -8.54530832e-08\n",
      "  7.15473257e-03  3.06736622e-03  4.94576447e-02  8.52063392e-01\n",
      "  6.42005481e-06  1.01275937e-04  1.68928625e-04  7.36658178e-05\n",
      "  1.78986262e-05  1.61356159e-06]\n",
      "Length:  1.0\n",
      "Explained variance ratio:  0.982\n",
      "Second PC: [ 9.28705650e-03 -2.88160658e-03  6.27480827e-02  8.51823720e-01\n",
      " -1.48194356e-05 -2.68862249e-06  7.51419574e-05  4.63501038e-05\n",
      " -2.52430431e-05 -1.61197148e-05 -5.38692831e-05  3.48370414e-04\n",
      "  8.19640791e-04  7.51112451e-03  1.49438131e-06  1.27357957e-05\n",
      "  2.86921009e-05  9.36007477e-06  1.22647432e-05  2.89683790e-07\n",
      " -5.68673345e-04 -1.32152605e-02 -1.85961117e-04 -5.19742358e-01\n",
      " -7.68565692e-05 -2.56104144e-04 -1.75471479e-04 -3.05051743e-05\n",
      " -1.57042845e-04 -5.53071662e-05]\n",
      "Length:  1.0\n",
      "Explained variance ratio:  0.016\n"
     ]
    }
   ],
   "source": [
    "pca = PCA(n_components=2)  # instantatiate PCA to calculate the first two PCs\n",
    "X_pca = pca.fit_transform(X) # transform the data to component space\n",
    "# loop over the string array, the principal components and the explained variance ratio\n",
    "for ord, vector, ratio in zip(['First','Second'], pca.components_, pca.explained_variance_ratio_):\n",
    "    print('{0} PC: {1}'.format(ord,vector)) # print the PC\n",
    "    print('Length: ', np.round(np.linalg.norm(vector),3)) # print the length PC rounded to 3 figures\n",
    "    # print the contribution to the variance rounded to 3 figures\n",
    "    print('Explained variance ratio: ', np.round(ratio,3)) "
   ]
  },
  {
   "cell_type": "code",
   "execution_count": 49,
   "metadata": {},
   "outputs": [
    {
     "data": {
      "image/png": "[encoded data removed]",
      "text/plain": [
       "<Figure size 432x288 with 1 Axes>"
      ]
     },
     "metadata": {},
     "output_type": "display_data"
    }
   ],
   "source": [
    "\n",
    "for i, target_name in zip(range(3), wdbc.target_names):\n",
    "    # scatter plot of the component values which match the particular species\n",
    "    # label this with the current target name\n",
    "    plt.scatter(X_pca[y == i, 0], X_pca[y == i, 1], label=target_name)\n",
    "plt.legend() # add a legend\n",
    "plt.xlabel('Component 1') # add a x label\n",
    "plt.ylabel('Component 2') # add a y label\n",
    "plt.axis('equal'); # make the axis scales equal"
   ]
  },
  {
   "cell_type": "markdown",
   "metadata": {},
   "source": [
    "### Exercise 2"
   ]
  },
  {
   "cell_type": "markdown",
   "metadata": {},
   "source": [
    "Repeat the plot from Exercise 1, but in this case plot the projection of the data on to the first two principal components. (2 marks)"
   ]
  },
  {
   "cell_type": "code",
   "execution_count": 50,
   "metadata": {},
   "outputs": [
    {
     "data": {
      "text/html": [
       "<div>\n",
       "<style scoped>\n",
       "    .dataframe tbody tr th:only-of-type {\n",
       "        vertical-align: middle;\n",
       "    }\n",
       "\n",
       "    .dataframe tbody tr th {\n",
       "        vertical-align: top;\n",
       "    }\n",
       "\n",
       "    .dataframe thead th {\n",
       "        text-align: right;\n",
       "    }\n",
       "</style>\n",
       "<table border=\"1\" class=\"dataframe\">\n",
       "  <thead>\n",
       "    <tr style=\"text-align: right;\">\n",
       "      <th></th>\n",
       "      <th>mean radius</th>\n",
       "      <th>mean texture</th>\n",
       "    </tr>\n",
       "  </thead>\n",
       "  <tbody>\n",
       "    <tr>\n",
       "      <th>0</th>\n",
       "      <td>17.99</td>\n",
       "      <td>10.38</td>\n",
       "    </tr>\n",
       "    <tr>\n",
       "      <th>1</th>\n",
       "      <td>20.57</td>\n",
       "      <td>17.77</td>\n",
       "    </tr>\n",
       "    <tr>\n",
       "      <th>2</th>\n",
       "      <td>19.69</td>\n",
       "      <td>21.25</td>\n",
       "    </tr>\n",
       "    <tr>\n",
       "      <th>3</th>\n",
       "      <td>11.42</td>\n",
       "      <td>20.38</td>\n",
       "    </tr>\n",
       "    <tr>\n",
       "      <th>4</th>\n",
       "      <td>20.29</td>\n",
       "      <td>14.34</td>\n",
       "    </tr>\n",
       "    <tr>\n",
       "      <th>...</th>\n",
       "      <td>...</td>\n",
       "      <td>...</td>\n",
       "    </tr>\n",
       "    <tr>\n",
       "      <th>564</th>\n",
       "      <td>21.56</td>\n",
       "      <td>22.39</td>\n",
       "    </tr>\n",
       "    <tr>\n",
       "      <th>565</th>\n",
       "      <td>20.13</td>\n",
       "      <td>28.25</td>\n",
       "    </tr>\n",
       "    <tr>\n",
       "      <th>566</th>\n",
       "      <td>16.60</td>\n",
       "      <td>28.08</td>\n",
       "    </tr>\n",
       "    <tr>\n",
       "      <th>567</th>\n",
       "      <td>20.60</td>\n",
       "      <td>29.33</td>\n",
       "    </tr>\n",
       "    <tr>\n",
       "      <th>568</th>\n",
       "      <td>7.76</td>\n",
       "      <td>24.54</td>\n",
       "    </tr>\n",
       "  </tbody>\n",
       "</table>\n",
       "<p>569 rows × 2 columns</p>\n",
       "</div>"
      ],
      "text/plain": [
       "     mean radius  mean texture\n",
       "0          17.99         10.38\n",
       "1          20.57         17.77\n",
       "2          19.69         21.25\n",
       "3          11.42         20.38\n",
       "4          20.29         14.34\n",
       "..           ...           ...\n",
       "564        21.56         22.39\n",
       "565        20.13         28.25\n",
       "566        16.60         28.08\n",
       "567        20.60         29.33\n",
       "568         7.76         24.54\n",
       "\n",
       "[569 rows x 2 columns]"
      ]
     },
     "execution_count": 50,
     "metadata": {},
     "output_type": "execute_result"
    }
   ],
   "source": [
    "first_two_pc"
   ]
  },
  {
   "cell_type": "code",
   "execution_count": 51,
   "metadata": {},
   "outputs": [
    {
     "name": "stdout",
     "output_type": "stream",
     "text": [
      "First PC: [0.48651773 0.8736707 ]\n",
      "Length:  1.0\n",
      "Explained variance ratio:  0.687\n",
      "Second PC: [ 0.8736707  -0.48651773]\n",
      "Length:  1.0\n",
      "Explained variance ratio:  0.313\n"
     ]
    }
   ],
   "source": [
    "pca = PCA(n_components=2)  # instantatiate PCA to calculate the first two PCs\n",
    "X_pca = pca.fit_transform(first_two_pc) # transform the data to component space\n",
    "# loop over the string array, the principal components and the explained variance ratio\n",
    "for ord, vector, ratio in zip(['First','Second'], pca.components_, pca.explained_variance_ratio_):\n",
    "    print('{0} PC: {1}'.format(ord,vector)) # print the PC\n",
    "    print('Length: ', np.round(np.linalg.norm(vector),3)) # print the length PC rounded to 3 figures\n",
    "    # print the contribution to the variance rounded to 3 figures\n",
    "    print('Explained variance ratio: ', np.round(ratio,3)) "
   ]
  },
  {
   "cell_type": "code",
   "execution_count": 53,
   "metadata": {},
   "outputs": [
    {
     "data": {
      "image/png": "[encoded data removed]",
      "text/plain": [
       "<Figure size 432x288 with 1 Axes>"
      ]
     },
     "metadata": {},
     "output_type": "display_data"
    }
   ],
   "source": [
    "for i, target_name in zip(range(3), wdbc.target_names):\n",
    "    # scatter plot of the component values which match the particular species\n",
    "    # label this with the current target name\n",
    "    plt.scatter(X_pca[y == i, 0], X_pca[y == i, 1], label=target_name)\n",
    "plt.legend() # add a legend\n",
    "plt.xlabel('Component 1') # add a x label\n",
    "plt.ylabel('Component 2') # add a y label\n",
    "plt.axis('equal'); # make the axis scales equal"
   ]
  },
  {
   "cell_type": "markdown",
   "metadata": {},
   "source": [
    "Calculate and plot the cumulative explained variance as a function of the number of principal components. How many principal components are required to account for 99% of the variance? (2 marks)"
   ]
  },
  {
   "cell_type": "code",
   "execution_count": 61,
   "metadata": {},
   "outputs": [
    {
     "name": "stdout",
     "output_type": "stream",
     "text": [
      "Original shape:  (569, 30)\n",
      "Transformed shape:  (569, 1)\n"
     ]
    }
   ],
   "source": [
    "pca = PCA(n_components=1) # instantatiate PCA to calculate the first PC\n",
    "pca.fit(X) # fit the data\n",
    "Y = pca.transform(X) # transform the data to component space\n",
    "print('Original shape: ',X.shape) # print the size of the feature matrix\n",
    "print('Transformed shape: ', Y.shape) # print the size of the component space matrix reduce storage"
   ]
  },
  {
   "cell_type": "code",
   "execution_count": 69,
   "metadata": {},
   "outputs": [
    {
     "data": {
      "text/plain": [
       "array([[ 1.16014257e+03],\n",
       "       [ 1.26912244e+03],\n",
       "       [ 9.95793889e+02],\n",
       "       [-4.07180803e+02],\n",
       "       [ 9.30341180e+02],\n",
       "       [-2.11591259e+02],\n",
       "       [ 8.21210900e+02],\n",
       "       [-2.50899776e+01],\n",
       "       [-1.91292834e+02],\n",
       "       [-2.38292863e+02],\n",
       "       [ 3.04687818e+02],\n",
       "       [ 4.24361128e+02],\n",
       "       [ 6.34514335e+02],\n",
       "       [ 6.30426906e+01],\n",
       "       [-1.96441210e+02],\n",
       "       [ 5.60046828e+01],\n",
       "       [ 2.35858120e+02],\n",
       "       [ 4.47392780e+02],\n",
       "       [ 1.61509345e+03],\n",
       "       [-1.91621045e+02],\n",
       "       [-2.85051275e+02],\n",
       "       [-6.83583952e+02],\n",
       "       [ 1.12560459e+02],\n",
       "       [ 1.87373312e+03],\n",
       "       [ 1.27373066e+03],\n",
       "       [ 6.34879769e+02],\n",
       "       [ 8.59184126e+00],\n",
       "       [ 6.77784526e+02],\n",
       "       [ 3.73719881e+02],\n",
       "       [ 4.53678089e+02],\n",
       "       [ 9.03981279e+02],\n",
       "       [-1.03689312e+02],\n",
       "       [ 5.24945203e+02],\n",
       "       [ 1.06217159e+03],\n",
       "       [ 4.04385934e+02],\n",
       "       [ 4.10049756e+02],\n",
       "       [-8.06577946e+01],\n",
       "       [-3.55877850e+02],\n",
       "       [-1.28973156e+02],\n",
       "       [-1.70245723e+02],\n",
       "       [-1.27994761e+02],\n",
       "       [-4.62028008e+02],\n",
       "       [ 8.97027427e+02],\n",
       "       [-3.43752015e+01],\n",
       "       [-1.84707363e+02],\n",
       "       [ 8.07564573e+02],\n",
       "       [-7.83838668e+02],\n",
       "       [-1.66757183e+02],\n",
       "       [-3.62699507e+02],\n",
       "       [-2.05111744e+02],\n",
       "       [-4.30034080e+02],\n",
       "       [-2.35893530e+02],\n",
       "       [-4.16469507e+02],\n",
       "       [ 5.76360308e+02],\n",
       "       [ 1.57404079e+02],\n",
       "       [-4.48982719e+02],\n",
       "       [ 1.34213857e+03],\n",
       "       [ 9.09989494e+01],\n",
       "       [-2.86145436e+02],\n",
       "       [-7.44091835e+02],\n",
       "       [-6.16729721e+02],\n",
       "       [-7.45600808e+02],\n",
       "       [ 6.44083862e+01],\n",
       "       [-6.93961699e+02],\n",
       "       [-7.42768046e+01],\n",
       "       [ 4.51754297e+01],\n",
       "       [-6.72376704e+02],\n",
       "       [-4.90879529e+02],\n",
       "       [-6.87223199e+02],\n",
       "       [-3.58981873e+02],\n",
       "       [ 1.09240105e+03],\n",
       "       [-7.24662583e+02],\n",
       "       [ 8.28581198e+02],\n",
       "       [-9.55563616e+01],\n",
       "       [-3.27215523e+02],\n",
       "       [ 3.79602387e+02],\n",
       "       [-2.85278119e+02],\n",
       "       [ 8.11390005e+02],\n",
       "       [ 9.46865858e+02],\n",
       "       [-2.99250196e+02],\n",
       "       [-4.36503939e+02],\n",
       "       [-2.98362656e+02],\n",
       "       [ 2.07740594e+03],\n",
       "       [ 6.06824327e+02],\n",
       "       [-3.78661386e+02],\n",
       "       [ 8.38236034e+02],\n",
       "       [-6.44630843e+01],\n",
       "       [ 8.54613799e+02],\n",
       "       [-3.60500123e+02],\n",
       "       [-6.67916271e+01],\n",
       "       [-6.19424844e+01],\n",
       "       [-4.73708321e+00],\n",
       "       [-9.65562522e+01],\n",
       "       [-2.07477212e+02],\n",
       "       [ 1.50753037e+02],\n",
       "       [ 1.06220376e+03],\n",
       "       [-4.36373547e+02],\n",
       "       [-6.28769296e+02],\n",
       "       [-4.42121250e+02],\n",
       "       [-5.31055528e+01],\n",
       "       [-1.50970253e+01],\n",
       "       [-8.63142308e+02],\n",
       "       [-3.88027039e+02],\n",
       "       [-6.31210194e+02],\n",
       "       [-5.75375594e+02],\n",
       "       [-1.10478362e+02],\n",
       "       [-4.33855875e+02],\n",
       "       [-3.87258589e+02],\n",
       "       [ 1.71641922e+03],\n",
       "       [-4.45594260e+02],\n",
       "       [-6.29930932e+02],\n",
       "       [-3.93495618e+02],\n",
       "       [-1.59550090e+02],\n",
       "       [-6.00774542e+02],\n",
       "       [-7.32350558e+02],\n",
       "       [-3.67752309e+02],\n",
       "       [-7.36744006e+02],\n",
       "       [ 1.98250721e+02],\n",
       "       [ 4.02217870e+02],\n",
       "       [ 4.95886901e+02],\n",
       "       [-4.48932547e+02],\n",
       "       [ 7.93467305e+02],\n",
       "       [ 1.60479840e+03],\n",
       "       [-1.23524596e+02],\n",
       "       [-2.66553320e+02],\n",
       "       [-1.67747128e+02],\n",
       "       [-7.06506347e+01],\n",
       "       [ 8.15324159e+02],\n",
       "       [-9.02469696e+01],\n",
       "       [ 8.85999273e+02],\n",
       "       [-3.91368534e+02],\n",
       "       [ 2.84948132e+02],\n",
       "       [ 3.32775688e+02],\n",
       "       [ 9.11666092e+01],\n",
       "       [ 8.26132127e+02],\n",
       "       [-2.72443965e+02],\n",
       "       [-4.06046033e+02],\n",
       "       [-4.92118676e+02],\n",
       "       [ 9.36953428e+01],\n",
       "       [-5.23163457e+02],\n",
       "       [-6.52274806e+02],\n",
       "       [ 3.85449591e+02],\n",
       "       [-4.57449129e+02],\n",
       "       [-2.77648999e+02],\n",
       "       [-5.32841585e+02],\n",
       "       [-4.33332099e+02],\n",
       "       [-3.63460535e+02],\n",
       "       [-4.23585520e+01],\n",
       "       [-1.05468675e+02],\n",
       "       [-1.69629355e+02],\n",
       "       [-2.96311445e+02],\n",
       "       [-7.76088604e+02],\n",
       "       [-6.11750001e+02],\n",
       "       [-5.19561601e+02],\n",
       "       [-2.34884741e+02],\n",
       "       [-3.73013711e+02],\n",
       "       [ 5.23876767e+02],\n",
       "       [ 2.47070962e+02],\n",
       "       [-4.06209055e+02],\n",
       "       [-5.02293565e+02],\n",
       "       [-4.09978422e+02],\n",
       "       [ 7.90621392e+02],\n",
       "       [ 1.44842836e+03],\n",
       "       [-3.79990840e+02],\n",
       "       [ 1.83936889e+03],\n",
       "       [-6.71063180e+01],\n",
       "       [-5.55406210e+02],\n",
       "       [ 4.46202676e+02],\n",
       "       [ 8.42414450e+02],\n",
       "       [-5.88924817e+01],\n",
       "       [-3.83867453e+02],\n",
       "       [ 5.04877075e+01],\n",
       "       [ 2.32515164e+02],\n",
       "       [-5.62095002e+02],\n",
       "       [-5.63845042e+02],\n",
       "       [-7.55967624e+02],\n",
       "       [-6.03444135e+02],\n",
       "       [ 1.78688536e+02],\n",
       "       [-3.00734139e+02],\n",
       "       [-3.42038877e+02],\n",
       "       [ 2.82824144e+03],\n",
       "       [ 1.37639231e+03],\n",
       "       [ 3.90199157e+02],\n",
       "       [-4.86023943e+02],\n",
       "       [ 1.07058280e+02],\n",
       "       [-5.55748840e+02],\n",
       "       [ 6.52582105e+02],\n",
       "       [-4.30248093e+02],\n",
       "       [-4.53465837e+02],\n",
       "       [-3.86067386e+02],\n",
       "       [-1.24350866e+02],\n",
       "       [-3.33298359e+02],\n",
       "       [-6.85469642e+02],\n",
       "       [-1.87830802e+02],\n",
       "       [-7.31331619e+01],\n",
       "       [-3.12697321e+02],\n",
       "       [-9.61624219e+01],\n",
       "       [ 4.90818029e+02],\n",
       "       [ 9.47873219e+02],\n",
       "       [ 1.32419751e+02],\n",
       "       [-3.08525888e+02],\n",
       "       [ 4.61217812e+02],\n",
       "       [ 1.48260886e+03],\n",
       "       [ 2.04418599e+02],\n",
       "       [-2.63623436e+02],\n",
       "       [ 1.24670054e+02],\n",
       "       [-6.58207460e+02],\n",
       "       [ 4.12942923e+02],\n",
       "       [-2.72412738e+02],\n",
       "       [ 8.02698919e+01],\n",
       "       [ 9.97051472e+02],\n",
       "       [-4.05092970e+02],\n",
       "       [ 2.36670071e+03],\n",
       "       [ 2.73638271e+02],\n",
       "       [-8.19335858e+01],\n",
       "       [-1.51621888e+02],\n",
       "       [-4.15428109e+02],\n",
       "       [-5.82354150e+02],\n",
       "       [ 1.26795997e+03],\n",
       "       [ 1.66281535e+03],\n",
       "       [-1.94876522e+02],\n",
       "       [-2.15206500e+02],\n",
       "       [-6.11093115e+02],\n",
       "       [ 2.32615719e+02],\n",
       "       [-2.04015093e+02],\n",
       "       [-1.27813836e+01],\n",
       "       [-5.85755132e+02],\n",
       "       [-4.69995973e+01],\n",
       "       [-3.02943962e+02],\n",
       "       [-2.28327736e+02],\n",
       "       [ 3.88504338e+02],\n",
       "       [-5.02721083e+02],\n",
       "       [-4.91150894e+02],\n",
       "       [ 1.19401173e+03],\n",
       "       [-6.62870513e+02],\n",
       "       [-1.68802906e+02],\n",
       "       [ 2.29647999e+03],\n",
       "       [ 1.08392975e+03],\n",
       "       [-1.16086235e+02],\n",
       "       [ 5.89796832e+02],\n",
       "       [-2.10733365e+02],\n",
       "       [-3.82931152e+02],\n",
       "       [-4.87582338e+02],\n",
       "       [-1.82892462e+02],\n",
       "       [ 7.19906380e+02],\n",
       "       [-5.74574508e+02],\n",
       "       [-2.98650717e+02],\n",
       "       [-2.81255737e+02],\n",
       "       [-5.24769159e+02],\n",
       "       [-4.62960334e+02],\n",
       "       [ 1.33889845e+03],\n",
       "       [-4.47248939e+02],\n",
       "       [ 1.18853270e+03],\n",
       "       [ 4.33729775e+02],\n",
       "       [ 1.20143758e+03],\n",
       "       [-7.38862448e+01],\n",
       "       [ 1.18493051e+03],\n",
       "       [ 7.33575437e+01],\n",
       "       [ 3.63607158e+02],\n",
       "       [ 1.78606495e+02],\n",
       "       [ 1.15307437e+03],\n",
       "       [ 4.33284771e+02],\n",
       "       [ 5.09679673e+02],\n",
       "       [ 1.45369683e+02],\n",
       "       [ 6.17242967e+02],\n",
       "       [ 2.58482814e+03],\n",
       "       [-5.50815536e+02],\n",
       "       [-2.36592219e+02],\n",
       "       [-3.17447230e+02],\n",
       "       [-5.64288141e+02],\n",
       "       [-1.80884386e+02],\n",
       "       [-5.02158572e+02],\n",
       "       [ 1.72609476e+03],\n",
       "       [-6.40723401e+02],\n",
       "       [ 5.54793060e+02],\n",
       "       [-4.62647856e+02],\n",
       "       [-4.97118080e+02],\n",
       "       [ 5.35852305e+02],\n",
       "       [-1.64873302e+02],\n",
       "       [-2.16054890e+02],\n",
       "       [ 9.73891551e+02],\n",
       "       [-4.15133649e+02],\n",
       "       [ 8.94419140e+02],\n",
       "       [ 2.06700123e+02],\n",
       "       [-3.16321408e+02],\n",
       "       [-3.57935747e+02],\n",
       "       [-3.97834640e+02],\n",
       "       [-3.33456289e+02],\n",
       "       [-5.14676563e+02],\n",
       "       [-4.96155389e+02],\n",
       "       [-9.66263442e+01],\n",
       "       [-4.41507077e+01],\n",
       "       [-3.27023019e+02],\n",
       "       [-4.27173310e+02],\n",
       "       [-3.65512135e+02],\n",
       "       [-2.26423133e+02],\n",
       "       [-5.70885077e+02],\n",
       "       [-3.95512449e+02],\n",
       "       [-6.43442992e+01],\n",
       "       [-6.10885098e+02],\n",
       "       [ 1.29923246e+03],\n",
       "       [-3.77510342e+02],\n",
       "       [ 1.01001071e+03],\n",
       "       [-6.00574132e+02],\n",
       "       [-4.65988360e+02],\n",
       "       [-4.70296059e+02],\n",
       "       [-2.70868078e+02],\n",
       "       [-7.23567560e+02],\n",
       "       [-2.02784223e+02],\n",
       "       [-2.43066638e+02],\n",
       "       [-4.64330683e+02],\n",
       "       [-2.95306512e+01],\n",
       "       [-3.02989062e+02],\n",
       "       [-4.82500226e+02],\n",
       "       [-7.75054946e+02],\n",
       "       [-3.79352925e+02],\n",
       "       [-4.16348258e+02],\n",
       "       [ 7.10453791e+02],\n",
       "       [-7.13269922e+02],\n",
       "       [-4.04813013e+02],\n",
       "       [-5.92300476e+02],\n",
       "       [ 9.87023111e+02],\n",
       "       [-3.19483750e+02],\n",
       "       [ 1.22221252e+03],\n",
       "       [-3.57812660e+02],\n",
       "       [-3.48765803e+02],\n",
       "       [-1.32657995e+02],\n",
       "       [-4.15424310e+02],\n",
       "       [ 2.88844429e+02],\n",
       "       [ 1.71325412e+02],\n",
       "       [ 2.33819327e+02],\n",
       "       [-2.84451886e+02],\n",
       "       [-5.20429177e+02],\n",
       "       [-4.70842227e+02],\n",
       "       [-3.88138950e+02],\n",
       "       [ 5.51656022e+02],\n",
       "       [-3.34955591e+02],\n",
       "       [ 1.07804794e+03],\n",
       "       [-6.05035298e+02],\n",
       "       [ 2.30421759e+03],\n",
       "       [-2.30141426e+01],\n",
       "       [-6.47016431e+02],\n",
       "       [-5.24429248e+02],\n",
       "       [ 8.45947142e+02],\n",
       "       [-4.34234474e+02],\n",
       "       [-6.22255336e+02],\n",
       "       [-3.82097430e+02],\n",
       "       [ 7.11501655e+00],\n",
       "       [-4.78899996e+02],\n",
       "       [-4.47998868e+02],\n",
       "       [-4.11614689e+02],\n",
       "       [ 8.49318901e+01],\n",
       "       [ 2.72100090e+03],\n",
       "       [ 1.78493416e+02],\n",
       "       [-5.06414893e+02],\n",
       "       [-3.73291881e+02],\n",
       "       [-3.22378849e+02],\n",
       "       [-1.92016715e+02],\n",
       "       [-7.10878225e+02],\n",
       "       [-5.73512756e+02],\n",
       "       [-3.37662831e+02],\n",
       "       [-2.79264179e+02],\n",
       "       [-3.40809359e+02],\n",
       "       [ 2.04757006e+02],\n",
       "       [-2.40380402e+02],\n",
       "       [ 1.10217709e+03],\n",
       "       [ 9.80521469e+02],\n",
       "       [-3.22054014e+02],\n",
       "       [ 2.40494229e+03],\n",
       "       [ 1.58612829e+03],\n",
       "       [ 3.40252376e+02],\n",
       "       [-2.42145805e+01],\n",
       "       [ 9.39399721e+02],\n",
       "       [ 1.26588250e+03],\n",
       "       [-2.20141640e+02],\n",
       "       [ 5.21529369e+01],\n",
       "       [-6.18289177e+02],\n",
       "       [-2.20454409e+02],\n",
       "       [-2.31153056e+02],\n",
       "       [-4.71867248e+02],\n",
       "       [-4.86648595e+02],\n",
       "       [-5.18977293e+02],\n",
       "       [-4.44380417e+02],\n",
       "       [-3.40081211e+02],\n",
       "       [-2.79529558e+02],\n",
       "       [-9.97697592e+01],\n",
       "       [-4.01127519e+02],\n",
       "       [-1.46890514e+02],\n",
       "       [-5.05808135e+02],\n",
       "       [ 6.41497926e+02],\n",
       "       [-5.90719281e+02],\n",
       "       [-7.01731349e+02],\n",
       "       [ 4.57687259e+02],\n",
       "       [ 1.41897688e+03],\n",
       "       [-3.83907762e+02],\n",
       "       [-1.92915575e+02],\n",
       "       [-2.26835333e+02],\n",
       "       [-3.24223054e+02],\n",
       "       [-4.73757538e+02],\n",
       "       [-3.89230260e+02],\n",
       "       [ 5.39399089e+02],\n",
       "       [-3.60470743e+02],\n",
       "       [-2.89405492e+02],\n",
       "       [-3.34306607e+02],\n",
       "       [-3.94359342e+02],\n",
       "       [-4.97861513e+02],\n",
       "       [ 1.32173362e+02],\n",
       "       [-2.73669212e+02],\n",
       "       [ 5.76209588e+02],\n",
       "       [-3.30164205e+02],\n",
       "       [-4.41247952e+02],\n",
       "       [-4.97867645e+02],\n",
       "       [-6.98452816e+02],\n",
       "       [ 8.28217694e+00],\n",
       "       [ 7.73496363e+01],\n",
       "       [-4.21863664e+02],\n",
       "       [-6.46308854e+02],\n",
       "       [ 8.26211142e+02],\n",
       "       [-3.52599928e+02],\n",
       "       [-5.05324890e+02],\n",
       "       [-4.36338009e+02],\n",
       "       [-5.91573734e+01],\n",
       "       [-4.75742905e+02],\n",
       "       [-1.89064489e+02],\n",
       "       [-6.17194385e+02],\n",
       "       [-6.13829443e+02],\n",
       "       [-5.44413156e+02],\n",
       "       [-4.88804882e+02],\n",
       "       [-5.37173976e+02],\n",
       "       [-3.31993064e+02],\n",
       "       [-2.48657913e+01],\n",
       "       [-4.10186841e+02],\n",
       "       [ 8.21589728e+02],\n",
       "       [ 8.57390181e+02],\n",
       "       [-7.91889284e+01],\n",
       "       [-3.91209726e+01],\n",
       "       [-2.93170335e+02],\n",
       "       [-1.34669890e+02],\n",
       "       [-1.45250730e+02],\n",
       "       [-1.90164936e+02],\n",
       "       [-4.93690843e+02],\n",
       "       [ 4.88376228e+02],\n",
       "       [-1.85145247e+02],\n",
       "       [-6.04822971e+02],\n",
       "       [ 5.25706888e+02],\n",
       "       [-4.25633512e+02],\n",
       "       [ 6.46046225e+02],\n",
       "       [-3.43241415e+01],\n",
       "       [-4.10213185e+01],\n",
       "       [ 1.35645994e+03],\n",
       "       [-4.36192585e+02],\n",
       "       [ 7.41384890e+02],\n",
       "       [-4.16941153e+02],\n",
       "       [-1.17871335e+02],\n",
       "       [-2.96968964e+02],\n",
       "       [-2.00880953e+02],\n",
       "       [-4.27105870e+02],\n",
       "       [-2.73821557e+02],\n",
       "       [-2.86588766e+02],\n",
       "       [-6.44928887e+02],\n",
       "       [ 8.03716112e+02],\n",
       "       [ 3.86717805e+03],\n",
       "       [-1.30334367e+02],\n",
       "       [-4.57054159e+02],\n",
       "       [-2.27411027e+02],\n",
       "       [-1.83928135e+02],\n",
       "       [-2.25395498e+02],\n",
       "       [-6.20872171e+02],\n",
       "       [ 6.48811118e+02],\n",
       "       [-4.29748209e+02],\n",
       "       [-6.15058977e+02],\n",
       "       [-3.73872299e+02],\n",
       "       [ 3.81305542e+01],\n",
       "       [-3.73893334e+02],\n",
       "       [-5.38116442e+02],\n",
       "       [-3.13282620e+02],\n",
       "       [-6.34926725e+01],\n",
       "       [-1.68343867e+02],\n",
       "       [-4.84481541e+02],\n",
       "       [ 1.34503261e+02],\n",
       "       [-3.89808953e+02],\n",
       "       [-7.04629661e+01],\n",
       "       [-2.46258593e+02],\n",
       "       [-2.10513421e+02],\n",
       "       [ 2.44347066e+01],\n",
       "       [-3.49091838e+02],\n",
       "       [-3.76290741e+01],\n",
       "       [ 1.00214850e+03],\n",
       "       [-4.05353203e+02],\n",
       "       [ 2.78679418e+02],\n",
       "       [-3.19372507e+02],\n",
       "       [ 4.57339406e+02],\n",
       "       [ 6.52244528e+02],\n",
       "       [-3.89694528e+02],\n",
       "       [-2.59641710e+02],\n",
       "       [-7.02344941e+01],\n",
       "       [-3.00030110e+02],\n",
       "       [-3.25928982e+02],\n",
       "       [ 8.32609773e+02],\n",
       "       [ 1.09948689e+03],\n",
       "       [-2.30675677e+00],\n",
       "       [-1.09464701e+02],\n",
       "       [-3.74935084e+02],\n",
       "       [ 2.16618517e+03],\n",
       "       [-7.08652366e+02],\n",
       "       [-6.72591115e+02],\n",
       "       [-4.18653294e+02],\n",
       "       [-5.52979663e+02],\n",
       "       [ 1.25261547e+02],\n",
       "       [ 6.45965121e+01],\n",
       "       [-4.68335643e+02],\n",
       "       [-9.05470582e+01],\n",
       "       [-8.17538714e+01],\n",
       "       [-1.38829918e+01],\n",
       "       [ 9.83555360e+01],\n",
       "       [-4.82149027e+02],\n",
       "       [ 7.31367197e+02],\n",
       "       [ 9.46295946e+02],\n",
       "       [-2.60052625e+02],\n",
       "       [-3.03492556e+02],\n",
       "       [-6.81583641e+02],\n",
       "       [ 2.12701809e+03],\n",
       "       [-5.20808520e+02],\n",
       "       [-1.96893522e+02],\n",
       "       [-6.20561204e+02],\n",
       "       [-7.45022121e+02],\n",
       "       [-1.92430670e+02],\n",
       "       [-3.68577841e+02],\n",
       "       [-2.25523469e+02],\n",
       "       [-3.92929018e+02],\n",
       "       [-4.01674388e+02],\n",
       "       [-4.07535831e+02],\n",
       "       [-1.34103392e+02],\n",
       "       [ 9.91378730e+02],\n",
       "       [-5.56616798e+02],\n",
       "       [ 1.13558195e+03],\n",
       "       [-1.43994567e+02],\n",
       "       [-4.65866538e+02],\n",
       "       [-7.90313242e+02],\n",
       "       [-8.15980267e+02],\n",
       "       [-4.93647933e+02],\n",
       "       [-6.07825117e+01],\n",
       "       [-3.96620719e+01],\n",
       "       [-2.76257863e+02],\n",
       "       [-2.01254078e+02],\n",
       "       [-1.71841169e+02],\n",
       "       [-5.97225414e+02],\n",
       "       [-6.23076493e+02],\n",
       "       [-6.35064042e+02],\n",
       "       [-4.73472752e+02],\n",
       "       [-5.54764270e+02],\n",
       "       [-5.24660056e+02],\n",
       "       [-3.22054342e+02],\n",
       "       [-7.04967034e+02],\n",
       "       [-3.17926338e+02],\n",
       "       [-6.22214536e+02],\n",
       "       [-6.36046256e+02],\n",
       "       [-6.70677027e+02],\n",
       "       [-1.25245136e+02],\n",
       "       [-4.79335707e+02],\n",
       "       [-1.77242816e+02],\n",
       "       [-5.18011863e+02],\n",
       "       [ 6.19407986e+01],\n",
       "       [ 1.16713698e+03],\n",
       "       [ 1.41412668e+03],\n",
       "       [ 1.04501885e+03],\n",
       "       [ 3.14501756e+02],\n",
       "       [ 1.12485812e+03],\n",
       "       [-7.71527622e+02]])"
      ]
     },
     "execution_count": 69,
     "metadata": {},
     "output_type": "execute_result"
    }
   ],
   "source": [
    "Y"
   ]
  },
  {
   "cell_type": "code",
   "execution_count": 60,
   "metadata": {},
   "outputs": [
    {
     "data": {
      "image/png": "[encoded data removed]",
      "text/plain": [
       "<Figure size 432x288 with 1 Axes>"
      ]
     },
     "metadata": {},
     "output_type": "display_data"
    }
   ],
   "source": [
    "pca = PCA().fit(X) # fit the X data using PCA and calculate all PCs\n",
    "# np.cumsum calculates the cumulative sum of an array\n",
    "# plot the cumulative sum of the explained variance ratio against the number of components\n",
    "plt.plot(range(1,31),np.cumsum(pca.explained_variance_ratio_))\n",
    "plt.xlabel('number of components') # add x label\n",
    "plt.ylabel('cumulative explained variance'); # add y label"
   ]
  },
  {
   "cell_type": "markdown",
   "metadata": {},
   "source": [
    "Number of components for 99% variance is:"
   ]
  },
  {
   "cell_type": "code",
   "execution_count": null,
   "metadata": {},
   "outputs": [],
   "source": [
    "2"
   ]
  },
  {
   "cell_type": "markdown",
   "metadata": {},
   "source": [
    "### Exercise 4"
   ]
  },
  {
   "cell_type": "markdown",
   "metadata": {},
   "source": [
    "Model this data using a logistic regression model, with `solver='liblinear'` and an 80/20 testing/training split. Calculate the accuracy of the model using two principal components and all the data features. Also calculate the elapsed time taken for each model run using the magic command `%%timeit`. To use `%%timeit` in cell-mode, put the code that you want to time in a separate cell with `%%timeit` as the first line in the cell. (4 marks)"
   ]
  },
  {
   "cell_type": "code",
   "execution_count": 62,
   "metadata": {},
   "outputs": [],
   "source": [
    "from sklearn.linear_model import LogisticRegression\n",
    "from sklearn.metrics import accuracy_score\n",
    "from sklearn.model_selection import train_test_split"
   ]
  },
  {
   "cell_type": "markdown",
   "metadata": {},
   "source": [
    "Calculations for full logistic regression."
   ]
  },
  {
   "cell_type": "code",
   "execution_count": 63,
   "metadata": {},
   "outputs": [
    {
     "name": "stdout",
     "output_type": "stream",
     "text": [
      "Model coefficient: [[ 1.837  0.098  0.052 -0.005 -0.125 -0.367 -0.528 -0.267 -0.238 -0.026\n",
      "   0.026  0.994  0.137 -0.108 -0.007 -0.012 -0.046 -0.029 -0.035  0.005\n",
      "   1.463 -0.304 -0.228 -0.022 -0.213 -1.162 -1.551 -0.542 -0.622 -0.124]]\n",
      "Model intercept: [0.369]\n"
     ]
    }
   ],
   "source": [
    "X_train1,X_test1,y_train1,y_test1= train_test_split(X,y,train_size=0.8,random_state=0)\n",
    "logreg=LogisticRegression(solver='liblinear')\n",
    "logreg.fit(X_train1,y_train1)\n",
    "print('Model coefficient:',np.round(logreg.coef_,3))\n",
    "print('Model intercept:',np.round(logreg.intercept_,3))"
   ]
  },
  {
   "cell_type": "code",
   "execution_count": 64,
   "metadata": {},
   "outputs": [
    {
     "name": "stdout",
     "output_type": "stream",
     "text": [
      "9.22 ms ± 1.92 ms per loop (mean ± std. dev. of 7 runs, 100 loops each)\n"
     ]
    }
   ],
   "source": [
    "%%timeit\n",
    "X_train1,X_test1,y_train1,y_test1= train_test_split(X,y,train_size=0.8,random_state=0)\n",
    "logreg=LogisticRegression(solver='liblinear')\n",
    "logreg.fit(X_train1,y_train1)\n"
   ]
  },
  {
   "cell_type": "markdown",
   "metadata": {},
   "source": [
    "Calculate accuracy for full logistic regression."
   ]
  },
  {
   "cell_type": "code",
   "execution_count": 68,
   "metadata": {},
   "outputs": [
    {
     "name": "stdout",
     "output_type": "stream",
     "text": [
      "Accuracy 0.956\n"
     ]
    }
   ],
   "source": [
    "y_pred=logreg.predict(X_test1)\n",
    "from sklearn.metrics import accuracy_score,precision_score,recall_score\n",
    "print(\"Accuracy\",np.round(accuracy_score(y_test1,y_pred),3))"
   ]
  },
  {
   "cell_type": "markdown",
   "metadata": {},
   "source": [
    "Calculations for logistic regression with PCA."
   ]
  },
  {
   "cell_type": "code",
   "execution_count": null,
   "metadata": {},
   "outputs": [],
   "source": [
    "choose the component you want, transform your data into into princle comonent set, do logistic regression of number of components"
   ]
  },
  {
   "cell_type": "code",
   "execution_count": 70,
   "metadata": {},
   "outputs": [],
   "source": [
    "from sklearn.preprocessing import StandardScaler \n",
    "sc = StandardScaler() \n",
    "  \n",
    "X_train_PCA = sc.fit_transform(X_train1) \n",
    "X_test_PCA = sc.transform(X_test1)"
   ]
  },
  {
   "cell_type": "code",
   "execution_count": 71,
   "metadata": {},
   "outputs": [
    {
     "name": "stdout",
     "output_type": "stream",
     "text": [
      "(455, 30)\n",
      "(114, 30)\n"
     ]
    }
   ],
   "source": [
    "print(X_train_PCA.shape)\n",
    "print(X_test_PCA.shape)"
   ]
  },
  {
   "cell_type": "code",
   "execution_count": 73,
   "metadata": {},
   "outputs": [
    {
     "data": {
      "text/plain": [
       "array([0.68751244, 0.31248756])"
      ]
     },
     "execution_count": 73,
     "metadata": {},
     "output_type": "execute_result"
    }
   ],
   "source": [
    "from sklearn.decomposition import PCA \n",
    "  \n",
    "pca = PCA(n_components = 2) \n",
    "  \n",
    "X_train_PCA2 = pca.fit_transform(X_train_PCA) \n",
    "X_test_PCA2 = pca.transform(X_test_PCA) \n",
    "pca.fit(X_train_PCA2)\n",
    "explained_variance = pca.explained_variance_ratio_ \n",
    "explained_variance"
   ]
  },
  {
   "cell_type": "markdown",
   "metadata": {},
   "source": [
    "Calculate accuracy for logistic regression with PCA."
   ]
  },
  {
   "cell_type": "code",
   "execution_count": 76,
   "metadata": {},
   "outputs": [
    {
     "name": "stderr",
     "output_type": "stream",
     "text": [
      "C:\\Users\\wsm\\Downloads\\a\\lib\\site-packages\\sklearn\\linear_model\\_logistic.py:763: ConvergenceWarning: lbfgs failed to converge (status=1):\n",
      "STOP: TOTAL NO. of ITERATIONS REACHED LIMIT.\n",
      "\n",
      "Increase the number of iterations (max_iter) or scale the data as shown in:\n",
      "    https://scikit-learn.org/stable/modules/preprocessing.html\n",
      "Please also refer to the documentation for alternative solver options:\n",
      "    https://scikit-learn.org/stable/modules/linear_model.html#logistic-regression\n",
      "  n_iter_i = _check_optimize_result(\n"
     ]
    }
   ],
   "source": [
    "from sklearn import model_selection\n",
    "from sklearn.pipeline import make_pipeline\n",
    "from sklearn.linear_model import LogisticRegression\n",
    "from sklearn.model_selection import GridSearchCV\n",
    "\n",
    "Parameteres = {'C': np.power(10.0, np.arange(-3, 3))}\n",
    "LR = LogisticRegression(warm_start = True)\n",
    "LR_Grid2 = GridSearchCV(LR, param_grid = Parameteres, scoring = 'roc_auc', n_jobs = -1, cv=2)\n",
    "\n",
    "LR_Grid2.fit(X_train1, y_train1) \n",
    "y_pred_LRC2 = LR_Grid2.predict(X_test1)"
   ]
  },
  {
   "cell_type": "code",
   "execution_count": 78,
   "metadata": {},
   "outputs": [
    {
     "name": "stdout",
     "output_type": "stream",
     "text": [
      "Recall Training data:      0.969\n",
      "Precision Training data:   0.959\n",
      "----------------------------------------------------------------------\n",
      "Recall Test data:          0.9254\n",
      "Precision Test data:       0.9688\n",
      "----------------------------------------------------------------------\n",
      "Confusion Matrix Test data\n",
      "[[45  2]\n",
      " [ 5 62]]\n",
      "----------------------------------------------------------------------\n",
      "              precision    recall  f1-score   support\n",
      "\n",
      "           0       0.90      0.96      0.93        47\n",
      "           1       0.97      0.93      0.95        67\n",
      "\n",
      "    accuracy                           0.94       114\n",
      "   macro avg       0.93      0.94      0.94       114\n",
      "weighted avg       0.94      0.94      0.94       114\n",
      "\n"
     ]
    },
    {
     "data": {
      "image/png": "[encoded data removed]",
      "text/plain": [
       "<Figure size 432x288 with 1 Axes>"
      ]
     },
     "metadata": {},
     "output_type": "display_data"
    },
    {
     "name": "stdout",
     "output_type": "stream",
     "text": [
      "auc 0.9595109558590028\n"
     ]
    }
   ],
   "source": [
    "from sklearn import metrics\n",
    "from sklearn.metrics import classification_report, confusion_matrix\n",
    "from sklearn.metrics import confusion_matrix, log_loss, auc, roc_curve, roc_auc_score, recall_score, precision_recall_curve\n",
    "from sklearn.metrics import make_scorer, precision_score, fbeta_score, f1_score, classification_report\n",
    "\n",
    "print(\"Recall Training data:     \", np.round(recall_score(y_train1, LR_Grid2.predict(X_train1)), decimals=4))\n",
    "print(\"Precision Training data:  \", np.round(precision_score(y_train1, LR_Grid2.predict(X_train1)), decimals=4))\n",
    "print(\"----------------------------------------------------------------------\")\n",
    "print(\"Recall Test data:         \", np.round(recall_score(y_test1, LR_Grid2.predict(X_test1)), decimals=4)) \n",
    "print(\"Precision Test data:      \", np.round(precision_score(y_test1, LR_Grid2.predict(X_test1)), decimals=4))\n",
    "print(\"----------------------------------------------------------------------\")\n",
    "print(\"Confusion Matrix Test data\")\n",
    "print(confusion_matrix(y_test1, LR_Grid2.predict(X_test1)))\n",
    "print(\"----------------------------------------------------------------------\")\n",
    "print(classification_report(y_test1, LR_Grid2.predict(X_test1)))\n",
    "y_pred_proba = LR_Grid2.predict_proba(X_test1)[::,1]\n",
    "fpr, tpr, _ = metrics.roc_curve(y_test1,  y_pred)\n",
    "auc = metrics.roc_auc_score(y_test1, y_pred)\n",
    "plt.plot(fpr, tpr, label='Logistic Regression (auc = %0.2f)' % auc)\n",
    "plt.xlabel('False Positive Rate',color='grey', fontsize = 13)\n",
    "plt.ylabel('True Positive Rate',color='grey', fontsize = 13)\n",
    "plt.title('Receiver operating characteristic')\n",
    "plt.legend(loc=\"lower right\")\n",
    "plt.legend(loc=4)\n",
    "plt.plot([0, 1], [0, 1],'r--')\n",
    "plt.show()\n",
    "print('auc',auc)"
   ]
  }
 ],
 "metadata": {
  "kernelspec": {
   "display_name": "Python 3",
   "language": "python",
   "name": "python3"
  },
  "language_info": {
   "codemirror_mode": {
    "name": "ipython",
    "version": 3
   },
   "file_extension": ".py",
   "mimetype": "text/x-python",
   "name": "python",
   "nbconvert_exporter": "python",
   "pygments_lexer": "ipython3",
   "version": "3.8.8"
  }
 },
 "nbformat": 4,
 "nbformat_minor": 4
}
