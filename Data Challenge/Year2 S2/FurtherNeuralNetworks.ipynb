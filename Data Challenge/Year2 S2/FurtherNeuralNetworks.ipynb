{
  "cells": [
    {
      "cell_type": "markdown",
      "metadata": {
        "id": "D7yCkG9n5dea"
      },
      "source": [
        "# Neural Networks - Part 3"
      ]
    },
    {
      "cell_type": "markdown",
      "metadata": {
        "id": "fJezGsVR5dea"
      },
      "source": [
        "### Contents\n",
        "\n",
        "* MNIST\n",
        "* Sequential API\n",
        "* Saving and restoring models\n",
        "* Using callbacks\n",
        "* Exercises"
      ]
    },
    {
      "cell_type": "markdown",
      "metadata": {
        "id": "tlizysa45deb"
      },
      "source": [
        "In the previous exercise we set up a Multilayer Perceptron to model the Iris Dataset. Here we consider the [MNIST handwritten digits database](https://en.wikipedia.org/wiki/MNIST_database) to investigate further aspects of setting up Neural Networks. This is a collection of 60,000 training images and 10,000 testing images, which have been digitised onto a 28x28 grid. "
      ]
    },
    {
      "cell_type": "markdown",
      "metadata": {
        "id": "Vu_FglXk5def"
      },
      "source": [
        "First we import Tensorflow and Keras."
      ]
    },
    {
      "cell_type": "code",
      "execution_count": null,
      "metadata": {
        "id": "3jW28YZ_5deg"
      },
      "outputs": [],
      "source": [
        "import tensorflow as tf\n",
        "from tensorflow import keras"
      ]
    },
    {
      "cell_type": "markdown",
      "metadata": {
        "id": "DMJ28arx5deg"
      },
      "source": [
        "We import from `keras` a built-in function to load the MNIST data set. From `keras` we introduce the functions `Sequential`, which creates a feed-forward neural network and `Dense` which creates a fully connected network for each layer. We also introduce `SGD` which implements stochastic gradient descent.\n",
        "\n",
        "Finally, we introduce the usual suspects."
      ]
    },
    {
      "cell_type": "code",
      "execution_count": null,
      "metadata": {
        "id": "DxDJvr2u5deh"
      },
      "outputs": [],
      "source": [
        "from tensorflow.keras.datasets import mnist\n",
        "from sklearn.model_selection import train_test_split\n",
        "from sklearn.metrics import classification_report, confusion_matrix\n",
        "from tensorflow.keras.models import Sequential\n",
        "from tensorflow.keras.layers import Flatten, Dense\n",
        "from tensorflow.keras.optimizers import SGD\n",
        "import numpy as np\n",
        "import pandas as pd\n",
        "import seaborn as sns\n",
        "import matplotlib.pyplot as plt"
      ]
    },
    {
      "cell_type": "markdown",
      "metadata": {
        "id": "Y4zHboec5deh"
      },
      "source": [
        "## MNIST"
      ]
    },
    {
      "cell_type": "markdown",
      "metadata": {
        "id": "9Teu_uXt5deh"
      },
      "source": [
        "We first load the MNIST data. This comes already split into a training and testing set. The features are black and white images which are pixellated onto a 28x28 grid, with intensities ranging from 0 to 255. The targets values are the digit (0-9) that each image corresponds to."
      ]
    },
    {
      "cell_type": "code",
      "execution_count": null,
      "metadata": {
        "id": "RLi5DfnE5deh",
        "colab": {
          "base_uri": "https://localhost:8080/"
        },
        "outputId": "d2f6939e-768f-4adb-9e53-a3b212ee822a"
      },
      "outputs": [
        {
          "output_type": "stream",
          "name": "stdout",
          "text": [
            "Downloading data from https://storage.googleapis.com/tensorflow/tf-keras-datasets/mnist.npz\n",
            "11490434/11490434 [==============================] - 0s 0us/step\n"
          ]
        }
      ],
      "source": [
        "(X_train_full, y_train_full), (X_test, y_test) = mnist.load_data()"
      ]
    },
    {
      "cell_type": "code",
      "execution_count": null,
      "metadata": {
        "colab": {
          "base_uri": "https://localhost:8080/"
        },
        "id": "bJhZM_3HB6dR",
        "outputId": "eea1dafd-7027-4d25-8530-b49478bf0a9a"
      },
      "outputs": [
        {
          "output_type": "execute_result",
          "data": {
            "text/plain": [
              "(60000, 28, 28)"
            ]
          },
          "metadata": {},
          "execution_count": 4
        }
      ],
      "source": [
        "X_train_full.shape"
      ]
    },
    {
      "cell_type": "code",
      "execution_count": null,
      "metadata": {
        "colab": {
          "base_uri": "https://localhost:8080/"
        },
        "id": "eN9VpYh6B6dS",
        "outputId": "bd42ab77-93e3-4081-e147-4516a9e067e2"
      },
      "outputs": [
        {
          "output_type": "execute_result",
          "data": {
            "text/plain": [
              "(60000,)"
            ]
          },
          "metadata": {},
          "execution_count": 5
        }
      ],
      "source": [
        "y_train_full.shape"
      ]
    },
    {
      "cell_type": "markdown",
      "metadata": {
        "id": "IbgY7HweaHht"
      },
      "source": [
        "We can plot the first 40 images in the training set, along with their target values."
      ]
    },
    {
      "cell_type": "code",
      "execution_count": null,
      "metadata": {
        "colab": {
          "base_uri": "https://localhost:8080/",
          "height": 294
        },
        "id": "7MvtEVQUZmdA",
        "outputId": "834312ee-88d3-44b4-c7fd-783c83fbb887"
      },
      "outputs": [
        {
          "output_type": "display_data",
          "data": {
            "text/plain": [
              "<Figure size 720x360 with 40 Axes>"
            ],
            "image/png": "[encoded data removed]"
          },
          "metadata": {}
        }
      ],
      "source": [
        "fig = plt.figure(figsize=(10,5)) # set up a figure of size 10 x 5\n",
        "\n",
        "for i in range(40): # loop over the first 40 images\n",
        "    # on a 4 x 10 grid add the next plot with no xticks or yticks\n",
        "    ax = fig.add_subplot(4,10,i+1,xticks=[],yticks=[]) \n",
        "    # plot the image i of the digits and use binary colourmap\n",
        "    ax.imshow(X_train_full[i], cmap=plt.cm.binary) \n",
        "    ax.text(0,7,str(y_train_full[i])) # add the target value in the lower left corner"
      ]
    },
    {
      "cell_type": "markdown",
      "metadata": {
        "id": "nUGv9Bp6aTsH"
      },
      "source": [
        "This is now split into a training set and a validation set, and the features are normalized so that the pixel values ranges from 0 to 1."
      ]
    },
    {
      "cell_type": "code",
      "execution_count": null,
      "metadata": {
        "id": "Y4GH5Y1eB6dS"
      },
      "outputs": [],
      "source": [
        "X_valid = X_train_full[:5000]/255.0\n",
        "X_train = X_train_full[5000:]/255.0\n",
        "y_valid = y_train_full[:5000]\n",
        "y_train = y_train_full[5000:]"
      ]
    },
    {
      "cell_type": "markdown",
      "metadata": {
        "id": "PRdlLf0uB6dT"
      },
      "source": [
        "## Sequential API"
      ]
    },
    {
      "cell_type": "markdown",
      "metadata": {
        "id": "5OGnLaVXezgk"
      },
      "source": [
        "Previously we used a single call to initialize the Neural Network, however a cleaner way to do this is to initialize the model and then use the `model.add()` method to sequentially add layers. We need to specify the input shape is a 28x28 matrix, _flatten_ that to convert it to a vector and that the output corresponds to 10 possible categories. The number of hidden layers and the number of neurons in each hidden layer is then arbitrary. For each of the nodes in the hidden layers the ReLU activation function is used.\n",
        "\n",
        "We store the weights and biases of the model using `model.get_weights()`, so that we can reset the model for later runs.\n",
        "\n",
        "There is also a Functional API to create models, which allows the creation of more complex Neural Networks. "
      ]
    },
    {
      "cell_type": "code",
      "execution_count": null,
      "metadata": {
        "colab": {
          "base_uri": "https://localhost:8080/"
        },
        "id": "1q1IOwDltBO6",
        "outputId": "7a114992-10ee-4133-9f34-713b8fc9ed35"
      },
      "outputs": [
        {
          "output_type": "stream",
          "name": "stdout",
          "text": [
            "Model: \"sequential\"\n",
            "_________________________________________________________________\n",
            " Layer (type)                Output Shape              Param #   \n",
            "=================================================================\n",
            " flatten (Flatten)           (None, 784)               0         \n",
            "                                                                 \n",
            " dense (Dense)               (None, 300)               235500    \n",
            "                                                                 \n",
            " dense_1 (Dense)             (None, 100)               30100     \n",
            "                                                                 \n",
            " dense_2 (Dense)             (None, 10)                1010      \n",
            "                                                                 \n",
            "=================================================================\n",
            "Total params: 266,610\n",
            "Trainable params: 266,610\n",
            "Non-trainable params: 0\n",
            "_________________________________________________________________\n"
          ]
        }
      ],
      "source": [
        "model = Sequential()\n",
        "model.add(Flatten(input_shape=[28, 28]))\n",
        "model.add(Dense(300, activation=\"relu\"))\n",
        "model.add(Dense(100, activation=\"relu\"))\n",
        "model.add(Dense(10, activation=\"softmax\"))\n",
        "\n",
        "weights = model.get_weights(); \n",
        "\n",
        "model.summary()"
      ]
    },
    {
      "cell_type": "markdown",
      "metadata": {
        "id": "lyOeMV3MgplU"
      },
      "source": [
        "To compile the model we use the loss function `sparse_categorical_crossentropy`, as we have mutually exclusive target values for the variables ranging from 0-9. For the Iris data set we used one-hot encoding which created a binary table with each column corresponding to whether or not that instance corresponds to a particular species. In that case with one-hot encoding the appropriate loss function is `categorical_crossentropy`.\n",
        "\n",
        "We will use SGD with the default learning rate of `lr=0.01` and decay rate of `decay=0`."
      ]
    },
    {
      "cell_type": "code",
      "execution_count": null,
      "metadata": {
        "id": "VyqADWHs5dej"
      },
      "outputs": [],
      "source": [
        "opt = SGD(learning_rate=0.01)\n",
        "model.compile(loss='sparse_categorical_crossentropy', optimizer=opt, metrics=[\"accuracy\"])"
      ]
    },
    {
      "cell_type": "markdown",
      "metadata": {
        "id": "ws_9hcDFjjTA"
      },
      "source": [
        "Finally we can train the model. In this example we use only 50 epochs (iterations) and use explicit validation datasets. Previously, we specified what proportion of the training set should be used for validation. Due to the large size of the input data (784 features compared with 4 features for the Iris data), training takes significantly longer. For each epoch only 32 randomly chosen instances (the default batch size) are chosen for training the model."
      ]
    },
    {
      "cell_type": "code",
      "execution_count": null,
      "metadata": {
        "colab": {
          "base_uri": "https://localhost:8080/"
        },
        "id": "YQkmotJf5dej",
        "outputId": "6919b945-461e-495d-a0b4-f37ceee22cfa"
      },
      "outputs": [
        {
          "output_type": "stream",
          "name": "stdout",
          "text": [
            "Epoch 1/50\n",
            "1719/1719 - 12s - loss: 0.6102 - accuracy: 0.8422 - val_loss: 0.3023 - val_accuracy: 0.9182 - 12s/epoch - 7ms/step\n",
            "Epoch 2/50\n",
            "1719/1719 - 11s - loss: 0.2875 - accuracy: 0.9175 - val_loss: 0.2427 - val_accuracy: 0.9352 - 11s/epoch - 6ms/step\n",
            "Epoch 3/50\n",
            "1719/1719 - 11s - loss: 0.2353 - accuracy: 0.9329 - val_loss: 0.2056 - val_accuracy: 0.9438 - 11s/epoch - 6ms/step\n",
            "Epoch 4/50\n",
            "1719/1719 - 7s - loss: 0.2018 - accuracy: 0.9421 - val_loss: 0.1803 - val_accuracy: 0.9516 - 7s/epoch - 4ms/step\n",
            "Epoch 5/50\n",
            "1719/1719 - 7s - loss: 0.1769 - accuracy: 0.9494 - val_loss: 0.1649 - val_accuracy: 0.9556 - 7s/epoch - 4ms/step\n",
            "Epoch 6/50\n",
            "1719/1719 - 7s - loss: 0.1573 - accuracy: 0.9548 - val_loss: 0.1478 - val_accuracy: 0.9596 - 7s/epoch - 4ms/step\n",
            "Epoch 7/50\n",
            "1719/1719 - 7s - loss: 0.1408 - accuracy: 0.9599 - val_loss: 0.1362 - val_accuracy: 0.9620 - 7s/epoch - 4ms/step\n",
            "Epoch 8/50\n",
            "1719/1719 - 7s - loss: 0.1277 - accuracy: 0.9635 - val_loss: 0.1250 - val_accuracy: 0.9666 - 7s/epoch - 4ms/step\n",
            "Epoch 9/50\n",
            "1719/1719 - 7s - loss: 0.1160 - accuracy: 0.9671 - val_loss: 0.1196 - val_accuracy: 0.9676 - 7s/epoch - 4ms/step\n",
            "Epoch 10/50\n",
            "1719/1719 - 7s - loss: 0.1062 - accuracy: 0.9699 - val_loss: 0.1123 - val_accuracy: 0.9698 - 7s/epoch - 4ms/step\n",
            "Epoch 11/50\n",
            "1719/1719 - 7s - loss: 0.0980 - accuracy: 0.9731 - val_loss: 0.1021 - val_accuracy: 0.9722 - 7s/epoch - 4ms/step\n",
            "Epoch 12/50\n",
            "1719/1719 - 7s - loss: 0.0904 - accuracy: 0.9747 - val_loss: 0.1000 - val_accuracy: 0.9730 - 7s/epoch - 4ms/step\n",
            "Epoch 13/50\n",
            "1719/1719 - 7s - loss: 0.0834 - accuracy: 0.9767 - val_loss: 0.0972 - val_accuracy: 0.9726 - 7s/epoch - 4ms/step\n",
            "Epoch 14/50\n",
            "1719/1719 - 8s - loss: 0.0778 - accuracy: 0.9779 - val_loss: 0.0925 - val_accuracy: 0.9744 - 8s/epoch - 5ms/step\n",
            "Epoch 15/50\n",
            "1719/1719 - 7s - loss: 0.0724 - accuracy: 0.9798 - val_loss: 0.0883 - val_accuracy: 0.9764 - 7s/epoch - 4ms/step\n",
            "Epoch 16/50\n",
            "1719/1719 - 6s - loss: 0.0673 - accuracy: 0.9818 - val_loss: 0.0858 - val_accuracy: 0.9756 - 6s/epoch - 4ms/step\n",
            "Epoch 17/50\n",
            "1719/1719 - 7s - loss: 0.0628 - accuracy: 0.9832 - val_loss: 0.0826 - val_accuracy: 0.9766 - 7s/epoch - 4ms/step\n",
            "Epoch 18/50\n",
            "1719/1719 - 7s - loss: 0.0591 - accuracy: 0.9841 - val_loss: 0.0812 - val_accuracy: 0.9780 - 7s/epoch - 4ms/step\n",
            "Epoch 19/50\n",
            "1719/1719 - 7s - loss: 0.0549 - accuracy: 0.9851 - val_loss: 0.0790 - val_accuracy: 0.9778 - 7s/epoch - 4ms/step\n",
            "Epoch 20/50\n",
            "1719/1719 - 7s - loss: 0.0517 - accuracy: 0.9865 - val_loss: 0.0767 - val_accuracy: 0.9780 - 7s/epoch - 4ms/step\n",
            "Epoch 21/50\n",
            "1719/1719 - 7s - loss: 0.0484 - accuracy: 0.9876 - val_loss: 0.0764 - val_accuracy: 0.9786 - 7s/epoch - 4ms/step\n",
            "Epoch 22/50\n",
            "1719/1719 - 6s - loss: 0.0455 - accuracy: 0.9880 - val_loss: 0.0728 - val_accuracy: 0.9792 - 6s/epoch - 4ms/step\n",
            "Epoch 23/50\n",
            "1719/1719 - 6s - loss: 0.0428 - accuracy: 0.9889 - val_loss: 0.0717 - val_accuracy: 0.9794 - 6s/epoch - 4ms/step\n",
            "Epoch 24/50\n",
            "1719/1719 - 7s - loss: 0.0403 - accuracy: 0.9900 - val_loss: 0.0713 - val_accuracy: 0.9794 - 7s/epoch - 4ms/step\n",
            "Epoch 25/50\n",
            "1719/1719 - 6s - loss: 0.0379 - accuracy: 0.9906 - val_loss: 0.0729 - val_accuracy: 0.9794 - 6s/epoch - 4ms/step\n",
            "Epoch 26/50\n",
            "1719/1719 - 6s - loss: 0.0358 - accuracy: 0.9913 - val_loss: 0.0707 - val_accuracy: 0.9804 - 6s/epoch - 4ms/step\n",
            "Epoch 27/50\n",
            "1719/1719 - 6s - loss: 0.0337 - accuracy: 0.9919 - val_loss: 0.0682 - val_accuracy: 0.9808 - 6s/epoch - 4ms/step\n",
            "Epoch 28/50\n",
            "1719/1719 - 7s - loss: 0.0317 - accuracy: 0.9925 - val_loss: 0.0693 - val_accuracy: 0.9800 - 7s/epoch - 4ms/step\n",
            "Epoch 29/50\n",
            "1719/1719 - 6s - loss: 0.0300 - accuracy: 0.9932 - val_loss: 0.0679 - val_accuracy: 0.9798 - 6s/epoch - 4ms/step\n",
            "Epoch 30/50\n",
            "1719/1719 - 7s - loss: 0.0284 - accuracy: 0.9935 - val_loss: 0.0679 - val_accuracy: 0.9798 - 7s/epoch - 4ms/step\n",
            "Epoch 31/50\n",
            "1719/1719 - 6s - loss: 0.0266 - accuracy: 0.9943 - val_loss: 0.0705 - val_accuracy: 0.9794 - 6s/epoch - 4ms/step\n",
            "Epoch 32/50\n",
            "1719/1719 - 7s - loss: 0.0252 - accuracy: 0.9947 - val_loss: 0.0680 - val_accuracy: 0.9794 - 7s/epoch - 4ms/step\n",
            "Epoch 33/50\n",
            "1719/1719 - 7s - loss: 0.0239 - accuracy: 0.9951 - val_loss: 0.0689 - val_accuracy: 0.9810 - 7s/epoch - 4ms/step\n",
            "Epoch 34/50\n",
            "1719/1719 - 7s - loss: 0.0226 - accuracy: 0.9954 - val_loss: 0.0680 - val_accuracy: 0.9794 - 7s/epoch - 4ms/step\n",
            "Epoch 35/50\n",
            "1719/1719 - 7s - loss: 0.0213 - accuracy: 0.9959 - val_loss: 0.0657 - val_accuracy: 0.9806 - 7s/epoch - 4ms/step\n",
            "Epoch 36/50\n",
            "1719/1719 - 7s - loss: 0.0203 - accuracy: 0.9963 - val_loss: 0.0662 - val_accuracy: 0.9818 - 7s/epoch - 4ms/step\n",
            "Epoch 37/50\n",
            "1719/1719 - 7s - loss: 0.0191 - accuracy: 0.9968 - val_loss: 0.0661 - val_accuracy: 0.9800 - 7s/epoch - 4ms/step\n",
            "Epoch 38/50\n",
            "1719/1719 - 7s - loss: 0.0182 - accuracy: 0.9969 - val_loss: 0.0656 - val_accuracy: 0.9810 - 7s/epoch - 4ms/step\n",
            "Epoch 39/50\n",
            "1719/1719 - 7s - loss: 0.0173 - accuracy: 0.9971 - val_loss: 0.0681 - val_accuracy: 0.9816 - 7s/epoch - 4ms/step\n",
            "Epoch 40/50\n",
            "1719/1719 - 6s - loss: 0.0163 - accuracy: 0.9975 - val_loss: 0.0661 - val_accuracy: 0.9784 - 6s/epoch - 4ms/step\n",
            "Epoch 41/50\n",
            "1719/1719 - 7s - loss: 0.0155 - accuracy: 0.9980 - val_loss: 0.0648 - val_accuracy: 0.9804 - 7s/epoch - 4ms/step\n",
            "Epoch 42/50\n",
            "1719/1719 - 6s - loss: 0.0147 - accuracy: 0.9980 - val_loss: 0.0656 - val_accuracy: 0.9808 - 6s/epoch - 4ms/step\n",
            "Epoch 43/50\n",
            "1719/1719 - 6s - loss: 0.0142 - accuracy: 0.9981 - val_loss: 0.0648 - val_accuracy: 0.9824 - 6s/epoch - 4ms/step\n",
            "Epoch 44/50\n",
            "1719/1719 - 7s - loss: 0.0134 - accuracy: 0.9984 - val_loss: 0.0653 - val_accuracy: 0.9814 - 7s/epoch - 4ms/step\n",
            "Epoch 45/50\n",
            "1719/1719 - 7s - loss: 0.0129 - accuracy: 0.9984 - val_loss: 0.0656 - val_accuracy: 0.9808 - 7s/epoch - 4ms/step\n",
            "Epoch 46/50\n",
            "1719/1719 - 7s - loss: 0.0123 - accuracy: 0.9985 - val_loss: 0.0659 - val_accuracy: 0.9822 - 7s/epoch - 4ms/step\n",
            "Epoch 47/50\n",
            "1719/1719 - 7s - loss: 0.0117 - accuracy: 0.9987 - val_loss: 0.0666 - val_accuracy: 0.9800 - 7s/epoch - 4ms/step\n",
            "Epoch 48/50\n",
            "1719/1719 - 7s - loss: 0.0111 - accuracy: 0.9988 - val_loss: 0.0663 - val_accuracy: 0.9800 - 7s/epoch - 4ms/step\n",
            "Epoch 49/50\n",
            "1719/1719 - 7s - loss: 0.0106 - accuracy: 0.9989 - val_loss: 0.0662 - val_accuracy: 0.9814 - 7s/epoch - 4ms/step\n",
            "Epoch 50/50\n",
            "1719/1719 - 7s - loss: 0.0101 - accuracy: 0.9990 - val_loss: 0.0660 - val_accuracy: 0.9818 - 7s/epoch - 4ms/step\n"
          ]
        }
      ],
      "source": [
        "history = model.fit(X_train, y_train, epochs=50, \n",
        "                    validation_data=(X_valid, y_valid), verbose=2);"
      ]
    },
    {
      "cell_type": "markdown",
      "metadata": {
        "id": "kgjTFiLH5dej"
      },
      "source": [
        "The loss and accuracy of the training and validation sets are stored in history and can now be plotted as a function of the epochs of the model. The behaviour looks reasonable where there is no significant difference between the testing and validation data, and the accuracy is generally monotonically increasing, while the loss is monotonically decreasing. However, the validation loss and accuracy appear to not have any significant changes after approximately 20 epochs. "
      ]
    },
    {
      "cell_type": "code",
      "execution_count": null,
      "metadata": {
        "colab": {
          "base_uri": "https://localhost:8080/",
          "height": 350
        },
        "id": "xXp-VzYl5dek",
        "outputId": "34fb1fd8-535c-4308-a788-e2c78aee72c5",
        "scrolled": true
      },
      "outputs": [
        {
          "output_type": "display_data",
          "data": {
            "text/plain": [
              "<Figure size 576x360 with 1 Axes>"
            ],
            "image/png": "[encoded data removed]"
          },
          "metadata": {
            "needs_background": "light"
          }
        }
      ],
      "source": [
        "pd.DataFrame(history.history).plot(figsize=(8,5))\n",
        "plt.grid(True)\n",
        "plt.xlabel('Epochs')\n",
        "plt.title('Evolution of sequential neural network for MNIST');"
      ]
    },
    {
      "cell_type": "markdown",
      "metadata": {
        "id": "eVHbflp75dek"
      },
      "source": [
        "Finally we can use the testing set to determine the accuracy of the model. This can be done using the `evaluate` function for the model. As can be seen the accuracy for the test set is consistent with the accuracy of the validation set."
      ]
    },
    {
      "cell_type": "code",
      "execution_count": null,
      "metadata": {
        "colab": {
          "base_uri": "https://localhost:8080/"
        },
        "id": "U1HXy8T35dek",
        "outputId": "e2aaef07-038e-4e91-cd58-a69adbc54675"
      },
      "outputs": [
        {
          "output_type": "stream",
          "name": "stdout",
          "text": [
            "313/313 [==============================] - 1s 3ms/step - loss: 14.7797 - accuracy: 0.9765\n"
          ]
        },
        {
          "output_type": "execute_result",
          "data": {
            "text/plain": [
              "[14.779656410217285, 0.9764999747276306]"
            ]
          },
          "metadata": {},
          "execution_count": 12
        }
      ],
      "source": [
        "model.evaluate(X_test, y_test)"
      ]
    },
    {
      "cell_type": "markdown",
      "metadata": {
        "id": "hUcCF4cv5dek"
      },
      "source": [
        "We can also investigate other measures of the accuracy using the actual classifications of the model. The model predicts the probability of a particular classification. To find the actual classification we then just need to find the column in each row with the maximum probability using the function `argmax()`. The precision gives an indication of what percentage of the predictions of that digit are correct, while the recall gives an indication of what percentage of the actual samples for that digit are predicted correctly. The F1-score gives a weighted average of the precision and recall. For a perfect model all of these would be 1.\n",
        "\n",
        "The support is the number of actual samples for that digit.\n",
        "\n",
        "As can be seen, for this model the recall for 3 is the lowest and the precision for 8 is the lowest."
      ]
    },
    {
      "cell_type": "code",
      "execution_count": null,
      "metadata": {
        "colab": {
          "base_uri": "https://localhost:8080/"
        },
        "id": "oWqxyMOj5dek",
        "outputId": "04f44d20-7ac9-4882-ce86-d0d317919321"
      },
      "outputs": [
        {
          "output_type": "stream",
          "name": "stdout",
          "text": [
            "313/313 [==============================] - 1s 3ms/step\n"
          ]
        },
        {
          "output_type": "execute_result",
          "data": {
            "text/plain": [
              "(10000,)"
            ]
          },
          "metadata": {},
          "execution_count": 13
        }
      ],
      "source": [
        "proba = model.predict(X_test)\n",
        "y_test.shape"
      ]
    },
    {
      "cell_type": "code",
      "execution_count": null,
      "metadata": {
        "colab": {
          "base_uri": "https://localhost:8080/"
        },
        "id": "vKjGQXa_E6ux",
        "outputId": "455a4e8e-94c8-4ee6-c82d-d934d2d5b8b8"
      },
      "outputs": [
        {
          "output_type": "stream",
          "name": "stdout",
          "text": [
            "              precision    recall  f1-score   support\n",
            "\n",
            "           0       0.99      0.97      0.98       997\n",
            "           1       0.99      0.99      0.99      1130\n",
            "           2       0.98      0.98      0.98      1032\n",
            "           3       0.98      0.95      0.97      1041\n",
            "           4       0.97      0.98      0.98       971\n",
            "           5       0.97      0.99      0.98       873\n",
            "           6       0.98      0.98      0.98       958\n",
            "           7       0.99      0.96      0.97      1062\n",
            "           8       0.95      0.99      0.97       938\n",
            "           9       0.97      0.98      0.97       998\n",
            "\n",
            "    accuracy                           0.98     10000\n",
            "   macro avg       0.98      0.98      0.98     10000\n",
            "weighted avg       0.98      0.98      0.98     10000\n",
            "\n"
          ]
        }
      ],
      "source": [
        "print(classification_report(proba.argmax(axis=1), y_test))"
      ]
    },
    {
      "cell_type": "markdown",
      "metadata": {
        "id": "AGvhauXu5del"
      },
      "source": [
        "The overall accuracy can also be investigated by plotting the confusion matrix for the classifications. Here we see the same conclusions as from the classification report. The main problem appears to be 3 being predicted as 5 or 8."
      ]
    },
    {
      "cell_type": "code",
      "execution_count": null,
      "metadata": {
        "colab": {
          "base_uri": "https://localhost:8080/",
          "height": 404
        },
        "id": "Xuh045bE5del",
        "outputId": "81f1369c-76b4-4f64-c8ab-75e3f7cdae46"
      },
      "outputs": [
        {
          "output_type": "display_data",
          "data": {
            "text/plain": [
              "<Figure size 504x432 with 2 Axes>"
            ],
            "image/png": "[encoded data removed]"
          },
          "metadata": {
            "needs_background": "light"
          }
        }
      ],
      "source": [
        "def plt_confusion_matrix(cnf_matrix, cats, method):\n",
        "    \"\"\"\n",
        "    Plots a sklearn confusion matrix with categories 'cats' for a classifier 'method'\n",
        "    \"\"\"\n",
        "    # write the confusion matrix to a dataframe with row and column names as the categories, \n",
        "    # which are already defined\n",
        "    cmatrix = pd.DataFrame(cnf_matrix,columns=cats,index=cats) \n",
        "    f, ax = plt.subplots(figsize=(7,6)) # initialise the plots and axes\n",
        "    sns.heatmap(cmatrix, annot=True, linewidths=.5) # plot the confusion matrix as a heatmap\n",
        "    plt.title('Confusion matrix for '+method) # add a title, + concatenates two strings\n",
        "    plt.ylabel('Actual label') # add a ylabel\n",
        "    plt.xlabel('Predicted label') # add a xlabel\n",
        "    # adjust the bottom and top of the figure, so we can view all of it\n",
        "    bottom, top = ax.get_ylim()  # get the y axis limits\n",
        "    ax.set_ylim(bottom + 0.5, top - 0.5); # adjust the y axis limits\n",
        "\n",
        "# create a confusion matrix for our actual and predicted values\n",
        "cnf_matrix = confusion_matrix(proba.argmax(axis=1), y_test) \n",
        "plt_confusion_matrix(cnf_matrix, ['0','1','2','3','4','5','6','7','8','9'], 'Neural Network')"
      ]
    },
    {
      "cell_type": "markdown",
      "metadata": {
        "id": "xtqmkHwAIjDv"
      },
      "source": [
        "## Saving the model"
      ]
    },
    {
      "cell_type": "markdown",
      "metadata": {
        "id": "tTkvlXKLInK4"
      },
      "source": [
        "Since the models take a while to run, we don't want to repeat the training every time we are using the model. We can therefore use `model.save()` to save all the parameters and hyperparameters for the model in HDF5 (a scientific data format)."
      ]
    },
    {
      "cell_type": "code",
      "execution_count": null,
      "metadata": {
        "colab": {
          "base_uri": "https://localhost:8080/"
        },
        "id": "5c9gscmyI_OL",
        "outputId": "e47445bc-d8a7-4bca-e3be-20fb6858c95e"
      },
      "outputs": [
        {
          "output_type": "stream",
          "name": "stdout",
          "text": [
            "KerasMnistModel.hd5  sample_data\n"
          ]
        }
      ],
      "source": [
        "model.save(\"KerasMnistModel.hd5\")\n",
        "!ls"
      ]
    },
    {
      "cell_type": "markdown",
      "metadata": {
        "id": "CAfxOGIIoPIu"
      },
      "source": [
        "Then next time we can load the model using `load_model()`. As can be seen this gives the same accuracy on our testing set."
      ]
    },
    {
      "cell_type": "code",
      "execution_count": null,
      "metadata": {
        "colab": {
          "base_uri": "https://localhost:8080/"
        },
        "id": "kUSDGC2XJJVV",
        "outputId": "d6bff4c4-0066-4788-af4e-b0d0e8fe0335"
      },
      "outputs": [
        {
          "output_type": "stream",
          "name": "stdout",
          "text": [
            "313/313 [==============================] - 1s 3ms/step - loss: 14.7797 - accuracy: 0.9765\n"
          ]
        },
        {
          "output_type": "execute_result",
          "data": {
            "text/plain": [
              "[14.779656410217285, 0.9764999747276306]"
            ]
          },
          "metadata": {},
          "execution_count": 17
        }
      ],
      "source": [
        "newmodel = keras.models.load_model(\"KerasMnistModel.hd5\")\n",
        "newmodel.evaluate(X_test, y_test)"
      ]
    },
    {
      "cell_type": "markdown",
      "metadata": {
        "id": "Iu_NlNhqolRR"
      },
      "source": [
        "We can also store the model after each epoch. For example, this might be useful on Google Colab if you have a very long training run which exceeds 12 hours. Then the last state of the model is saved before the run ends and the model training can be restarted from this last state. Alternatively, your computer might crash during a training run, and then you can restart the calculation at the last state.\n",
        "\n",
        "To store the model we use `ModelCheckpoint` to create a _callback_ for Keras which tells the program what to do at the beginning and end of each epoch. We also need to reinitialize the model, so that the weights are set randomly. Otherwise, the last values of the weights and biases would be used."
      ]
    },
    {
      "cell_type": "code",
      "execution_count": null,
      "metadata": {
        "colab": {
          "base_uri": "https://localhost:8080/"
        },
        "id": "7RCpcPPuJlfQ",
        "outputId": "31423da1-b8ed-473b-b3af-4aaafeeed290"
      },
      "outputs": [
        {
          "output_type": "stream",
          "name": "stdout",
          "text": [
            "Epoch 1/10\n",
            "1719/1719 - 8s - loss: 0.6107 - accuracy: 0.8425 - val_loss: 0.3108 - val_accuracy: 0.9126 - 8s/epoch - 5ms/step\n",
            "Epoch 2/10\n",
            "1719/1719 - 9s - loss: 0.2873 - accuracy: 0.9192 - val_loss: 0.2420 - val_accuracy: 0.9346 - 9s/epoch - 5ms/step\n",
            "Epoch 3/10\n",
            "1719/1719 - 8s - loss: 0.2356 - accuracy: 0.9326 - val_loss: 0.2018 - val_accuracy: 0.9442 - 8s/epoch - 4ms/step\n",
            "Epoch 4/10\n",
            "1719/1719 - 7s - loss: 0.2017 - accuracy: 0.9426 - val_loss: 0.1787 - val_accuracy: 0.9514 - 7s/epoch - 4ms/step\n",
            "Epoch 5/10\n",
            "1719/1719 - 7s - loss: 0.1764 - accuracy: 0.9492 - val_loss: 0.1579 - val_accuracy: 0.9568 - 7s/epoch - 4ms/step\n",
            "Epoch 6/10\n",
            "1719/1719 - 8s - loss: 0.1570 - accuracy: 0.9544 - val_loss: 0.1460 - val_accuracy: 0.9582 - 8s/epoch - 4ms/step\n",
            "Epoch 7/10\n",
            "1719/1719 - 8s - loss: 0.1408 - accuracy: 0.9602 - val_loss: 0.1326 - val_accuracy: 0.9636 - 8s/epoch - 5ms/step\n",
            "Epoch 8/10\n",
            "1719/1719 - 8s - loss: 0.1275 - accuracy: 0.9639 - val_loss: 0.1222 - val_accuracy: 0.9654 - 8s/epoch - 5ms/step\n",
            "Epoch 9/10\n",
            "1719/1719 - 8s - loss: 0.1156 - accuracy: 0.9673 - val_loss: 0.1179 - val_accuracy: 0.9660 - 8s/epoch - 5ms/step\n",
            "Epoch 10/10\n",
            "1719/1719 - 8s - loss: 0.1063 - accuracy: 0.9701 - val_loss: 0.1095 - val_accuracy: 0.9698 - 8s/epoch - 5ms/step\n"
          ]
        }
      ],
      "source": [
        "from tensorflow.keras.callbacks import ModelCheckpoint\n",
        "\n",
        "model.set_weights(weights)\n",
        "checkpoint_cb = ModelCheckpoint(\"KerasMnistModel.hd5\")\n",
        "history1 = model.fit(X_train, y_train, epochs=10, \n",
        "                    validation_data=(X_valid, y_valid), verbose=2,\n",
        "                    callbacks=[checkpoint_cb]);"
      ]
    },
    {
      "cell_type": "markdown",
      "metadata": {
        "id": "JblqFR2BqD8l"
      },
      "source": [
        "This can be refined by only saving models which have a better accuracy than any previous epochs by specifying `save_best_only=True`. Then the final model which is saved is the most accurate model from the training run. We also use the validation accurcay, rather than the validation loss. Now we see that for this simulation we run 20 epochs, but not all of the epochs are stored due to the accuracy not improving from previous epochs.\n",
        "\n",
        "We can also also suppress the model output by specifying `verbose=0`."
      ]
    },
    {
      "cell_type": "code",
      "execution_count": null,
      "metadata": {
        "colab": {
          "base_uri": "https://localhost:8080/"
        },
        "id": "XaFqTQksMG1p",
        "outputId": "0b194fc2-493a-4594-dc20-cc49366b077e"
      },
      "outputs": [
        {
          "output_type": "stream",
          "name": "stdout",
          "text": [
            "\n",
            "Epoch 1: val_accuracy improved from -inf to 0.91860, saving model to KerasMnistModel.hd5\n",
            "\n",
            "Epoch 2: val_accuracy improved from 0.91860 to 0.93520, saving model to KerasMnistModel.hd5\n",
            "\n",
            "Epoch 3: val_accuracy improved from 0.93520 to 0.94500, saving model to KerasMnistModel.hd5\n",
            "\n",
            "Epoch 4: val_accuracy improved from 0.94500 to 0.95240, saving model to KerasMnistModel.hd5\n",
            "\n",
            "Epoch 5: val_accuracy improved from 0.95240 to 0.95500, saving model to KerasMnistModel.hd5\n",
            "\n",
            "Epoch 6: val_accuracy improved from 0.95500 to 0.95760, saving model to KerasMnistModel.hd5\n",
            "\n",
            "Epoch 7: val_accuracy improved from 0.95760 to 0.96400, saving model to KerasMnistModel.hd5\n",
            "\n",
            "Epoch 8: val_accuracy improved from 0.96400 to 0.96500, saving model to KerasMnistModel.hd5\n",
            "\n",
            "Epoch 9: val_accuracy improved from 0.96500 to 0.96720, saving model to KerasMnistModel.hd5\n",
            "\n",
            "Epoch 10: val_accuracy improved from 0.96720 to 0.97040, saving model to KerasMnistModel.hd5\n",
            "\n",
            "Epoch 11: val_accuracy improved from 0.97040 to 0.97080, saving model to KerasMnistModel.hd5\n",
            "\n",
            "Epoch 12: val_accuracy improved from 0.97080 to 0.97320, saving model to KerasMnistModel.hd5\n",
            "\n",
            "Epoch 13: val_accuracy improved from 0.97320 to 0.97340, saving model to KerasMnistModel.hd5\n",
            "\n",
            "Epoch 14: val_accuracy improved from 0.97340 to 0.97440, saving model to KerasMnistModel.hd5\n",
            "\n",
            "Epoch 15: val_accuracy improved from 0.97440 to 0.97520, saving model to KerasMnistModel.hd5\n",
            "\n",
            "Epoch 16: val_accuracy improved from 0.97520 to 0.97740, saving model to KerasMnistModel.hd5\n",
            "\n",
            "Epoch 17: val_accuracy did not improve from 0.97740\n",
            "\n",
            "Epoch 18: val_accuracy did not improve from 0.97740\n",
            "\n",
            "Epoch 19: val_accuracy improved from 0.97740 to 0.97780, saving model to KerasMnistModel.hd5\n",
            "\n",
            "Epoch 20: val_accuracy did not improve from 0.97780\n"
          ]
        }
      ],
      "source": [
        "model.set_weights(weights)\n",
        "checkpoint_cb = ModelCheckpoint(\"KerasMnistModel.hd5\", monitor='val_accuracy', \n",
        "                                save_best_only=True, verbose=1)\n",
        "history2 = model.fit(X_train, y_train, epochs=20, \n",
        "                    validation_data=(X_valid, y_valid), verbose=0,\n",
        "                    callbacks=[checkpoint_cb]);"
      ]
    },
    {
      "cell_type": "markdown",
      "metadata": {
        "id": "9fC2vwneqQdJ"
      },
      "source": [
        "Callbacks can also be used to stop the training once the model accuracy is not improving. To do this we use the `EarlyStopping` method and specify the parameter `patience`. Here we use `patience=4`, which states that if the model accuracy (which is measured again using the validation accuracy) does not improve over the last 4 epochs, then the training is stopped. Consequently, the training is stopped at epoch 33."
      ]
    },
    {
      "cell_type": "code",
      "execution_count": null,
      "metadata": {
        "colab": {
          "base_uri": "https://localhost:8080/"
        },
        "id": "LAm3xETUMsTl",
        "outputId": "c86523a2-9f92-44ea-d0ec-29169d6f155a"
      },
      "outputs": [
        {
          "output_type": "stream",
          "name": "stdout",
          "text": [
            "Epoch 1/40\n",
            "1719/1719 - 8s - loss: 0.6096 - accuracy: 0.8420 - val_loss: 0.3075 - val_accuracy: 0.9156 - 8s/epoch - 4ms/step\n",
            "Epoch 2/40\n",
            "1719/1719 - 7s - loss: 0.2881 - accuracy: 0.9174 - val_loss: 0.2424 - val_accuracy: 0.9358 - 7s/epoch - 4ms/step\n",
            "Epoch 3/40\n",
            "1719/1719 - 7s - loss: 0.2355 - accuracy: 0.9326 - val_loss: 0.2019 - val_accuracy: 0.9456 - 7s/epoch - 4ms/step\n",
            "Epoch 4/40\n",
            "1719/1719 - 8s - loss: 0.2019 - accuracy: 0.9419 - val_loss: 0.1800 - val_accuracy: 0.9492 - 8s/epoch - 5ms/step\n",
            "Epoch 5/40\n",
            "1719/1719 - 8s - loss: 0.1763 - accuracy: 0.9498 - val_loss: 0.1585 - val_accuracy: 0.9556 - 8s/epoch - 5ms/step\n",
            "Epoch 6/40\n",
            "1719/1719 - 8s - loss: 0.1569 - accuracy: 0.9551 - val_loss: 0.1429 - val_accuracy: 0.9608 - 8s/epoch - 4ms/step\n",
            "Epoch 7/40\n",
            "1719/1719 - 7s - loss: 0.1407 - accuracy: 0.9597 - val_loss: 0.1371 - val_accuracy: 0.9626 - 7s/epoch - 4ms/step\n",
            "Epoch 8/40\n",
            "1719/1719 - 8s - loss: 0.1273 - accuracy: 0.9639 - val_loss: 0.1237 - val_accuracy: 0.9648 - 8s/epoch - 4ms/step\n",
            "Epoch 9/40\n",
            "1719/1719 - 7s - loss: 0.1159 - accuracy: 0.9673 - val_loss: 0.1170 - val_accuracy: 0.9668 - 7s/epoch - 4ms/step\n",
            "Epoch 10/40\n",
            "1719/1719 - 8s - loss: 0.1059 - accuracy: 0.9702 - val_loss: 0.1121 - val_accuracy: 0.9678 - 8s/epoch - 5ms/step\n",
            "Epoch 11/40\n",
            "1719/1719 - 7s - loss: 0.0977 - accuracy: 0.9724 - val_loss: 0.1040 - val_accuracy: 0.9698 - 7s/epoch - 4ms/step\n",
            "Epoch 12/40\n",
            "1719/1719 - 7s - loss: 0.0903 - accuracy: 0.9752 - val_loss: 0.0991 - val_accuracy: 0.9722 - 7s/epoch - 4ms/step\n",
            "Epoch 13/40\n",
            "1719/1719 - 8s - loss: 0.0834 - accuracy: 0.9773 - val_loss: 0.0961 - val_accuracy: 0.9738 - 8s/epoch - 5ms/step\n",
            "Epoch 14/40\n",
            "1719/1719 - 8s - loss: 0.0774 - accuracy: 0.9788 - val_loss: 0.0903 - val_accuracy: 0.9740 - 8s/epoch - 5ms/step\n",
            "Epoch 15/40\n",
            "1719/1719 - 7s - loss: 0.0718 - accuracy: 0.9803 - val_loss: 0.0961 - val_accuracy: 0.9722 - 7s/epoch - 4ms/step\n",
            "Epoch 16/40\n",
            "1719/1719 - 8s - loss: 0.0673 - accuracy: 0.9813 - val_loss: 0.0843 - val_accuracy: 0.9770 - 8s/epoch - 5ms/step\n",
            "Epoch 17/40\n",
            "1719/1719 - 6s - loss: 0.0625 - accuracy: 0.9834 - val_loss: 0.0828 - val_accuracy: 0.9766 - 6s/epoch - 4ms/step\n",
            "Epoch 18/40\n",
            "1719/1719 - 7s - loss: 0.0587 - accuracy: 0.9846 - val_loss: 0.0840 - val_accuracy: 0.9756 - 7s/epoch - 4ms/step\n",
            "Epoch 19/40\n",
            "1719/1719 - 7s - loss: 0.0549 - accuracy: 0.9854 - val_loss: 0.0779 - val_accuracy: 0.9782 - 7s/epoch - 4ms/step\n",
            "Epoch 20/40\n",
            "1719/1719 - 7s - loss: 0.0517 - accuracy: 0.9862 - val_loss: 0.0770 - val_accuracy: 0.9774 - 7s/epoch - 4ms/step\n",
            "Epoch 21/40\n",
            "1719/1719 - 7s - loss: 0.0485 - accuracy: 0.9873 - val_loss: 0.0741 - val_accuracy: 0.9780 - 7s/epoch - 4ms/step\n",
            "Epoch 22/40\n",
            "1719/1719 - 7s - loss: 0.0454 - accuracy: 0.9881 - val_loss: 0.0745 - val_accuracy: 0.9780 - 7s/epoch - 4ms/step\n",
            "Epoch 23/40\n",
            "1719/1719 - 7s - loss: 0.0428 - accuracy: 0.9886 - val_loss: 0.0747 - val_accuracy: 0.9786 - 7s/epoch - 4ms/step\n",
            "Epoch 24/40\n",
            "1719/1719 - 7s - loss: 0.0399 - accuracy: 0.9898 - val_loss: 0.0721 - val_accuracy: 0.9800 - 7s/epoch - 4ms/step\n",
            "Epoch 25/40\n",
            "1719/1719 - 7s - loss: 0.0378 - accuracy: 0.9904 - val_loss: 0.0709 - val_accuracy: 0.9782 - 7s/epoch - 4ms/step\n",
            "Epoch 26/40\n",
            "1719/1719 - 7s - loss: 0.0356 - accuracy: 0.9915 - val_loss: 0.0708 - val_accuracy: 0.9792 - 7s/epoch - 4ms/step\n",
            "Epoch 27/40\n",
            "1719/1719 - 7s - loss: 0.0337 - accuracy: 0.9916 - val_loss: 0.0704 - val_accuracy: 0.9796 - 7s/epoch - 4ms/step\n",
            "Epoch 28/40\n",
            "1719/1719 - 7s - loss: 0.0316 - accuracy: 0.9924 - val_loss: 0.0689 - val_accuracy: 0.9790 - 7s/epoch - 4ms/step\n",
            "Epoch 29/40\n",
            "1719/1719 - 6s - loss: 0.0299 - accuracy: 0.9934 - val_loss: 0.0687 - val_accuracy: 0.9786 - 6s/epoch - 4ms/step\n",
            "Epoch 30/40\n",
            "1719/1719 - 7s - loss: 0.0282 - accuracy: 0.9936 - val_loss: 0.0666 - val_accuracy: 0.9806 - 7s/epoch - 4ms/step\n",
            "Epoch 31/40\n",
            "1719/1719 - 7s - loss: 0.0266 - accuracy: 0.9945 - val_loss: 0.0665 - val_accuracy: 0.9804 - 7s/epoch - 4ms/step\n",
            "Epoch 32/40\n",
            "1719/1719 - 7s - loss: 0.0251 - accuracy: 0.9946 - val_loss: 0.0661 - val_accuracy: 0.9798 - 7s/epoch - 4ms/step\n",
            "Epoch 33/40\n",
            "1719/1719 - 7s - loss: 0.0238 - accuracy: 0.9949 - val_loss: 0.0666 - val_accuracy: 0.9800 - 7s/epoch - 4ms/step\n",
            "Epoch 34/40\n",
            "1719/1719 - 7s - loss: 0.0226 - accuracy: 0.9954 - val_loss: 0.0704 - val_accuracy: 0.9782 - 7s/epoch - 4ms/step\n",
            "Epoch 35/40\n",
            "1719/1719 - 7s - loss: 0.0212 - accuracy: 0.9959 - val_loss: 0.0656 - val_accuracy: 0.9798 - 7s/epoch - 4ms/step\n",
            "Epoch 36/40\n",
            "1719/1719 - 6s - loss: 0.0201 - accuracy: 0.9963 - val_loss: 0.0662 - val_accuracy: 0.9800 - 6s/epoch - 4ms/step\n",
            "Epoch 37/40\n",
            "1719/1719 - 6s - loss: 0.0191 - accuracy: 0.9967 - val_loss: 0.0659 - val_accuracy: 0.9798 - 6s/epoch - 4ms/step\n",
            "Epoch 38/40\n",
            "1719/1719 - 7s - loss: 0.0181 - accuracy: 0.9971 - val_loss: 0.0662 - val_accuracy: 0.9804 - 7s/epoch - 4ms/step\n",
            "Epoch 39/40\n",
            "1719/1719 - 8s - loss: 0.0172 - accuracy: 0.9974 - val_loss: 0.0659 - val_accuracy: 0.9820 - 8s/epoch - 4ms/step\n"
          ]
        }
      ],
      "source": [
        "from tensorflow.keras.callbacks import EarlyStopping\n",
        "\n",
        "model.set_weights(weights)\n",
        "checkpoint_cb = ModelCheckpoint(\"KerasMnistModel.hd5\", monitor='val_accuracy',\n",
        "                                save_best_only=True)\n",
        "early_stopping_cb = EarlyStopping(patience=4,\n",
        "                                  restore_best_weights=True)\n",
        "history3 = model.fit(X_train, y_train, epochs=40, \n",
        "                    validation_data=(X_valid, y_valid), verbose=2,\n",
        "                    callbacks=[checkpoint_cb, early_stopping_cb]);"
      ]
    },
    {
      "cell_type": "markdown",
      "metadata": {
        "id": "M_L1RWkIJU1I"
      },
      "source": [
        "Finally, callbacks can be used to modify the learning rate. This can be done by creating user defined functions in conjunction with `LearningRateScheduler` or by using `ReduceLROnPlateau`. We will just consider the latter here. In this case if the accuracy has plateaued over the recent epochs as specified by `patience`, then the learning rate can be reduced by the rate `factor`. Here we specify `factor=0.1`, which causes the learning rate to be reduced by a factor of 10 when the accuracy has plateaued. The rationale is that with a smaller learning rate the training will converge to a minimum, whereas for larger value the training will oscillate around the minimum."
      ]
    },
    {
      "cell_type": "code",
      "execution_count": null,
      "metadata": {
        "colab": {
          "base_uri": "https://localhost:8080/"
        },
        "id": "ucaBmZ3cDeUP",
        "outputId": "80112b8e-39ae-443b-fe54-a59fdd236a12"
      },
      "outputs": [
        {
          "output_type": "stream",
          "name": "stdout",
          "text": [
            "Epoch 1/30\n",
            "1719/1719 - 7s - loss: 0.6129 - accuracy: 0.8405 - val_loss: 0.3036 - val_accuracy: 0.9190 - lr: 0.0100 - 7s/epoch - 4ms/step\n",
            "Epoch 2/30\n",
            "1719/1719 - 7s - loss: 0.2870 - accuracy: 0.9186 - val_loss: 0.2380 - val_accuracy: 0.9358 - lr: 0.0100 - 7s/epoch - 4ms/step\n",
            "Epoch 3/30\n",
            "1719/1719 - 7s - loss: 0.2352 - accuracy: 0.9330 - val_loss: 0.2021 - val_accuracy: 0.9456 - lr: 0.0100 - 7s/epoch - 4ms/step\n",
            "Epoch 4/30\n",
            "1719/1719 - 6s - loss: 0.2016 - accuracy: 0.9426 - val_loss: 0.1815 - val_accuracy: 0.9488 - lr: 0.0100 - 6s/epoch - 4ms/step\n",
            "Epoch 5/30\n",
            "1719/1719 - 7s - loss: 0.1769 - accuracy: 0.9491 - val_loss: 0.1600 - val_accuracy: 0.9564 - lr: 0.0100 - 7s/epoch - 4ms/step\n",
            "Epoch 6/30\n",
            "1719/1719 - 7s - loss: 0.1574 - accuracy: 0.9552 - val_loss: 0.1458 - val_accuracy: 0.9592 - lr: 0.0100 - 7s/epoch - 4ms/step\n",
            "Epoch 7/30\n",
            "1719/1719 - 7s - loss: 0.1411 - accuracy: 0.9596 - val_loss: 0.1327 - val_accuracy: 0.9626 - lr: 0.0100 - 7s/epoch - 4ms/step\n",
            "Epoch 8/30\n",
            "1719/1719 - 8s - loss: 0.1278 - accuracy: 0.9637 - val_loss: 0.1225 - val_accuracy: 0.9662 - lr: 0.0100 - 8s/epoch - 4ms/step\n",
            "Epoch 9/30\n",
            "1719/1719 - 7s - loss: 0.1163 - accuracy: 0.9672 - val_loss: 0.1203 - val_accuracy: 0.9658 - lr: 0.0100 - 7s/epoch - 4ms/step\n",
            "Epoch 10/30\n",
            "1719/1719 - 7s - loss: 0.1065 - accuracy: 0.9699 - val_loss: 0.1128 - val_accuracy: 0.9682 - lr: 0.0100 - 7s/epoch - 4ms/step\n",
            "Epoch 11/30\n",
            "1719/1719 - 7s - loss: 0.0978 - accuracy: 0.9724 - val_loss: 0.1046 - val_accuracy: 0.9708 - lr: 0.0100 - 7s/epoch - 4ms/step\n",
            "Epoch 12/30\n",
            "1719/1719 - 7s - loss: 0.0904 - accuracy: 0.9744 - val_loss: 0.0996 - val_accuracy: 0.9730 - lr: 0.0100 - 7s/epoch - 4ms/step\n",
            "Epoch 13/30\n",
            "1719/1719 - 7s - loss: 0.0840 - accuracy: 0.9766 - val_loss: 0.0941 - val_accuracy: 0.9740 - lr: 0.0100 - 7s/epoch - 4ms/step\n",
            "Epoch 14/30\n",
            "1719/1719 - 7s - loss: 0.0778 - accuracy: 0.9789 - val_loss: 0.0935 - val_accuracy: 0.9734 - lr: 0.0100 - 7s/epoch - 4ms/step\n",
            "Epoch 15/30\n",
            "1719/1719 - 7s - loss: 0.0725 - accuracy: 0.9804 - val_loss: 0.0881 - val_accuracy: 0.9762 - lr: 0.0100 - 7s/epoch - 4ms/step\n",
            "Epoch 16/30\n",
            "1719/1719 - 7s - loss: 0.0676 - accuracy: 0.9814 - val_loss: 0.0843 - val_accuracy: 0.9760 - lr: 0.0100 - 7s/epoch - 4ms/step\n",
            "Epoch 17/30\n",
            "1719/1719 - 7s - loss: 0.0633 - accuracy: 0.9826 - val_loss: 0.0822 - val_accuracy: 0.9756 - lr: 0.0100 - 7s/epoch - 4ms/step\n",
            "Epoch 18/30\n",
            "1719/1719 - 7s - loss: 0.0589 - accuracy: 0.9847 - val_loss: 0.0798 - val_accuracy: 0.9778 - lr: 0.0100 - 7s/epoch - 4ms/step\n",
            "Epoch 19/30\n",
            "1719/1719 - 7s - loss: 0.0554 - accuracy: 0.9857 - val_loss: 0.0783 - val_accuracy: 0.9782 - lr: 0.0100 - 7s/epoch - 4ms/step\n",
            "Epoch 20/30\n",
            "1719/1719 - 7s - loss: 0.0519 - accuracy: 0.9865 - val_loss: 0.0773 - val_accuracy: 0.9784 - lr: 0.0100 - 7s/epoch - 4ms/step\n",
            "Epoch 21/30\n",
            "1719/1719 - 7s - loss: 0.0486 - accuracy: 0.9872 - val_loss: 0.0782 - val_accuracy: 0.9778 - lr: 0.0100 - 7s/epoch - 4ms/step\n",
            "Epoch 22/30\n",
            "1719/1719 - 7s - loss: 0.0457 - accuracy: 0.9883 - val_loss: 0.0739 - val_accuracy: 0.9788 - lr: 0.0100 - 7s/epoch - 4ms/step\n",
            "Epoch 23/30\n",
            "1719/1719 - 7s - loss: 0.0430 - accuracy: 0.9888 - val_loss: 0.0738 - val_accuracy: 0.9796 - lr: 0.0100 - 7s/epoch - 4ms/step\n",
            "Epoch 24/30\n",
            "1719/1719 - 7s - loss: 0.0405 - accuracy: 0.9897 - val_loss: 0.0748 - val_accuracy: 0.9794 - lr: 0.0100 - 7s/epoch - 4ms/step\n",
            "Epoch 25/30\n",
            "1719/1719 - 7s - loss: 0.0380 - accuracy: 0.9903 - val_loss: 0.0736 - val_accuracy: 0.9778 - lr: 0.0100 - 7s/epoch - 4ms/step\n",
            "Epoch 26/30\n",
            "1719/1719 - 8s - loss: 0.0357 - accuracy: 0.9911 - val_loss: 0.0710 - val_accuracy: 0.9786 - lr: 0.0100 - 8s/epoch - 4ms/step\n",
            "Epoch 27/30\n",
            "1719/1719 - 7s - loss: 0.0316 - accuracy: 0.9929 - val_loss: 0.0691 - val_accuracy: 0.9802 - lr: 1.0000e-03 - 7s/epoch - 4ms/step\n",
            "Epoch 28/30\n",
            "1719/1719 - 6s - loss: 0.0310 - accuracy: 0.9931 - val_loss: 0.0691 - val_accuracy: 0.9798 - lr: 1.0000e-03 - 6s/epoch - 4ms/step\n",
            "Epoch 29/30\n",
            "1719/1719 - 7s - loss: 0.0307 - accuracy: 0.9931 - val_loss: 0.0687 - val_accuracy: 0.9798 - lr: 1.0000e-03 - 7s/epoch - 4ms/step\n",
            "Epoch 30/30\n",
            "1719/1719 - 7s - loss: 0.0305 - accuracy: 0.9933 - val_loss: 0.0687 - val_accuracy: 0.9806 - lr: 1.0000e-03 - 7s/epoch - 4ms/step\n"
          ]
        }
      ],
      "source": [
        "from keras.callbacks import ReduceLROnPlateau\n",
        "\n",
        "model.set_weights(weights)\n",
        "reducelr_cb = ReduceLROnPlateau(monitor='val_accuracy', factor=0.1, patience=3)\n",
        "history4 = model.fit(X_train, y_train, epochs=30, \n",
        "                    validation_data=(X_valid, y_valid), verbose=2,\n",
        "                    callbacks=[reducelr_cb]);\n"
      ]
    },
    {
      "cell_type": "markdown",
      "metadata": {
        "id": "Q3ga_KZnL7e2"
      },
      "source": [
        "Plotting the learning rate, we see that the learning rate is reduced at least twice, though for this training run, this does not give any significant improvement in the validation accuracy."
      ]
    },
    {
      "cell_type": "code",
      "execution_count": null,
      "metadata": {
        "colab": {
          "base_uri": "https://localhost:8080/",
          "height": 313
        },
        "id": "XiYfNNAq0flu",
        "outputId": "6f57c9f1-727d-4929-c363-346bdeb05c29"
      },
      "outputs": [
        {
          "output_type": "display_data",
          "data": {
            "text/plain": [
              "<Figure size 576x504 with 0 Axes>"
            ]
          },
          "metadata": {}
        },
        {
          "output_type": "display_data",
          "data": {
            "text/plain": [
              "<Figure size 432x288 with 2 Axes>"
            ],
            "image/png": "[encoded data removed]"
          },
          "metadata": {
            "needs_background": "light"
          }
        }
      ],
      "source": [
        "plt.figure(figsize=(8,7))\n",
        "\n",
        "fig, axs = plt.subplots(2, 1)\n",
        "axs[0].plot(history.history['val_accuracy'])\n",
        "axs[0].plot(history4.history['val_accuracy'])\n",
        "axs[0].set_ylabel('Validation Accuracy')\n",
        "axs[0].xaxis.set_ticklabels([])\n",
        "\n",
        "axs[0].legend(['No callbacks', 'Callbacks'], loc='lower right')\n",
        "axs[0].grid(True)\n",
        "axs[0].set_title('Evolution of sequential neural network for MNIST');\n",
        "\n",
        "axs[1].plot(history4.history['lr'])\n",
        "axs[1].set_ylabel('Learning Rate')\n",
        "axs[1].set_xlabel('Epochs')\n",
        "axs[1].grid(True);\n"
      ]
    },
    {
      "cell_type": "markdown",
      "metadata": {
        "id": "C7tvM2b25del"
      },
      "source": [
        "## Exercises"
      ]
    },
    {
      "cell_type": "markdown",
      "metadata": {
        "id": "DZYJx1rEeSVT"
      },
      "source": [
        "### Exercise 1 (6 marks)"
      ]
    },
    {
      "cell_type": "markdown",
      "metadata": {
        "id": "o_rojchdeV05"
      },
      "source": [
        "First read the [EarlyStopping Documentation](https://keras.io/api/callbacks/early_stopping/).\n",
        "\n",
        "Run the Early Stopping version of the model twice, and use validation accuracy (val_accuracy) as the measure for stopping the model.  Use 40 epochs, a patience value of 5 and the two values for min_delta of 0.001 and 0.01.\n",
        "\n",
        "Your final comparison should be the accuracy of the model using the training set.\n",
        "\n",
        "As well as resetting the weights prior to each training run, you will need to reset the learning rate and recompile the model."
      ]
    },
    {
      "cell_type": "code",
      "execution_count": null,
      "metadata": {
        "id": "n7z-HgVGq1dZ",
        "colab": {
          "base_uri": "https://localhost:8080/"
        },
        "outputId": "72946dc4-117a-4b6f-f9f6-c91f4ca1b433"
      },
      "outputs": [
        {
          "output_type": "stream",
          "name": "stdout",
          "text": [
            "Epoch 1/40\n",
            "1719/1719 - 7s - loss: 0.6083 - accuracy: 0.8419 - val_loss: 0.3037 - val_accuracy: 0.9150 - 7s/epoch - 4ms/step\n",
            "Epoch 2/40\n",
            "1719/1719 - 6s - loss: 0.2879 - accuracy: 0.9180 - val_loss: 0.2449 - val_accuracy: 0.9344 - 6s/epoch - 4ms/step\n",
            "Epoch 3/40\n",
            "1719/1719 - 7s - loss: 0.2362 - accuracy: 0.9327 - val_loss: 0.2042 - val_accuracy: 0.9440 - 7s/epoch - 4ms/step\n",
            "Epoch 4/40\n",
            "1719/1719 - 7s - loss: 0.2026 - accuracy: 0.9419 - val_loss: 0.1787 - val_accuracy: 0.9494 - 7s/epoch - 4ms/step\n",
            "Epoch 5/40\n",
            "1719/1719 - 6s - loss: 0.1775 - accuracy: 0.9494 - val_loss: 0.1592 - val_accuracy: 0.9560 - 6s/epoch - 4ms/step\n",
            "Epoch 6/40\n",
            "1719/1719 - 6s - loss: 0.1573 - accuracy: 0.9551 - val_loss: 0.1459 - val_accuracy: 0.9594 - 6s/epoch - 4ms/step\n",
            "Epoch 7/40\n",
            "1719/1719 - 6s - loss: 0.1413 - accuracy: 0.9599 - val_loss: 0.1340 - val_accuracy: 0.9628 - 6s/epoch - 4ms/step\n",
            "Epoch 8/40\n",
            "1719/1719 - 7s - loss: 0.1275 - accuracy: 0.9642 - val_loss: 0.1265 - val_accuracy: 0.9644 - 7s/epoch - 4ms/step\n",
            "Epoch 9/40\n",
            "1719/1719 - 7s - loss: 0.1163 - accuracy: 0.9675 - val_loss: 0.1165 - val_accuracy: 0.9674 - 7s/epoch - 4ms/step\n",
            "Epoch 10/40\n",
            "1719/1719 - 7s - loss: 0.1065 - accuracy: 0.9699 - val_loss: 0.1106 - val_accuracy: 0.9686 - 7s/epoch - 4ms/step\n",
            "Epoch 11/40\n",
            "1719/1719 - 7s - loss: 0.0981 - accuracy: 0.9724 - val_loss: 0.1041 - val_accuracy: 0.9698 - 7s/epoch - 4ms/step\n",
            "Epoch 12/40\n",
            "1719/1719 - 6s - loss: 0.0904 - accuracy: 0.9749 - val_loss: 0.0998 - val_accuracy: 0.9724 - 6s/epoch - 4ms/step\n",
            "Epoch 13/40\n",
            "1719/1719 - 7s - loss: 0.0835 - accuracy: 0.9770 - val_loss: 0.0985 - val_accuracy: 0.9722 - 7s/epoch - 4ms/step\n",
            "Epoch 14/40\n",
            "1719/1719 - 7s - loss: 0.0777 - accuracy: 0.9787 - val_loss: 0.0917 - val_accuracy: 0.9728 - 7s/epoch - 4ms/step\n",
            "Epoch 15/40\n",
            "1719/1719 - 7s - loss: 0.0723 - accuracy: 0.9799 - val_loss: 0.0890 - val_accuracy: 0.9742 - 7s/epoch - 4ms/step\n",
            "Epoch 16/40\n",
            "1719/1719 - 7s - loss: 0.0675 - accuracy: 0.9813 - val_loss: 0.0889 - val_accuracy: 0.9744 - 7s/epoch - 4ms/step\n",
            "Epoch 17/40\n",
            "1719/1719 - 7s - loss: 0.0631 - accuracy: 0.9827 - val_loss: 0.0861 - val_accuracy: 0.9756 - 7s/epoch - 4ms/step\n",
            "Epoch 18/40\n",
            "1719/1719 - 7s - loss: 0.0590 - accuracy: 0.9837 - val_loss: 0.0821 - val_accuracy: 0.9762 - 7s/epoch - 4ms/step\n",
            "Epoch 19/40\n",
            "1719/1719 - 7s - loss: 0.0551 - accuracy: 0.9857 - val_loss: 0.0775 - val_accuracy: 0.9776 - 7s/epoch - 4ms/step\n",
            "Epoch 20/40\n",
            "1719/1719 - 7s - loss: 0.0519 - accuracy: 0.9860 - val_loss: 0.0784 - val_accuracy: 0.9774 - 7s/epoch - 4ms/step\n",
            "Epoch 21/40\n",
            "1719/1719 - 7s - loss: 0.0489 - accuracy: 0.9872 - val_loss: 0.0746 - val_accuracy: 0.9786 - 7s/epoch - 4ms/step\n",
            "Epoch 22/40\n",
            "1719/1719 - 7s - loss: 0.0455 - accuracy: 0.9879 - val_loss: 0.0749 - val_accuracy: 0.9776 - 7s/epoch - 4ms/step\n",
            "Epoch 23/40\n",
            "1719/1719 - 7s - loss: 0.0427 - accuracy: 0.9890 - val_loss: 0.0735 - val_accuracy: 0.9796 - 7s/epoch - 4ms/step\n",
            "Epoch 24/40\n",
            "1719/1719 - 7s - loss: 0.0404 - accuracy: 0.9897 - val_loss: 0.0726 - val_accuracy: 0.9784 - 7s/epoch - 4ms/step\n",
            "Epoch 25/40\n",
            "1719/1719 - 7s - loss: 0.0380 - accuracy: 0.9903 - val_loss: 0.0726 - val_accuracy: 0.9786 - 7s/epoch - 4ms/step\n",
            "Epoch 26/40\n",
            "1719/1719 - 7s - loss: 0.0358 - accuracy: 0.9915 - val_loss: 0.0697 - val_accuracy: 0.9790 - 7s/epoch - 4ms/step\n",
            "313/313 [==============================] - 1s 3ms/step - loss: 11.9001 - accuracy: 0.9750\n"
          ]
        },
        {
          "output_type": "execute_result",
          "data": {
            "text/plain": [
              "[11.900126457214355, 0.9750000238418579]"
            ]
          },
          "metadata": {},
          "execution_count": 23
        }
      ],
      "source": [
        "model.set_weights(weights)\n",
        "opt = SGD(learning_rate=0.01)\n",
        "model.compile(loss='sparse_categorical_crossentropy', optimizer=opt, metrics=[\"accuracy\"])\n",
        "callback1 = tf.keras.callbacks.EarlyStopping(monitor=\"val_accuracy\", patience=5, min_delta=0.001)\n",
        "\n",
        "\n",
        "history5 = model.fit(X_train, y_train, epochs=40, \n",
        "                    validation_data=(X_valid, y_valid), verbose=2,\n",
        "                    callbacks=[callback1]);\n",
        "model.evaluate(X_test, y_test)"
      ]
    },
    {
      "cell_type": "code",
      "execution_count": null,
      "metadata": {
        "id": "_efMweKyq18o",
        "colab": {
          "base_uri": "https://localhost:8080/"
        },
        "outputId": "f5d33faa-db48-469f-d520-543c2da6a8b8"
      },
      "outputs": [
        {
          "output_type": "stream",
          "name": "stdout",
          "text": [
            "Epoch 1/40\n",
            "1719/1719 - 11s - loss: 0.6102 - accuracy: 0.8418 - val_loss: 0.3011 - val_accuracy: 0.9162 - 11s/epoch - 6ms/step\n",
            "Epoch 2/40\n",
            "1719/1719 - 9s - loss: 0.2867 - accuracy: 0.9184 - val_loss: 0.2379 - val_accuracy: 0.9352 - 9s/epoch - 5ms/step\n",
            "Epoch 3/40\n",
            "1719/1719 - 6s - loss: 0.2350 - accuracy: 0.9325 - val_loss: 0.2033 - val_accuracy: 0.9436 - 6s/epoch - 4ms/step\n",
            "Epoch 4/40\n",
            "1719/1719 - 7s - loss: 0.2016 - accuracy: 0.9421 - val_loss: 0.1817 - val_accuracy: 0.9500 - 7s/epoch - 4ms/step\n",
            "Epoch 5/40\n",
            "1719/1719 - 7s - loss: 0.1769 - accuracy: 0.9495 - val_loss: 0.1648 - val_accuracy: 0.9534 - 7s/epoch - 4ms/step\n",
            "Epoch 6/40\n",
            "1719/1719 - 6s - loss: 0.1566 - accuracy: 0.9556 - val_loss: 0.1456 - val_accuracy: 0.9604 - 6s/epoch - 4ms/step\n",
            "313/313 [==============================] - 1s 3ms/step - loss: 20.9992 - accuracy: 0.9547\n"
          ]
        },
        {
          "output_type": "execute_result",
          "data": {
            "text/plain": [
              "[20.999248504638672, 0.9546999931335449]"
            ]
          },
          "metadata": {},
          "execution_count": 24
        }
      ],
      "source": [
        "model.set_weights(weights)\n",
        "opt = SGD(learning_rate=0.01)\n",
        "model.compile(loss='sparse_categorical_crossentropy', optimizer=opt, metrics=[\"accuracy\"])\n",
        "callback = tf.keras.callbacks.EarlyStopping(monitor=\"val_accuracy\", patience=5, min_delta=0.1)\n",
        "\n",
        "\n",
        "history5 = model.fit(X_train, y_train, epochs=40, \n",
        "                    validation_data=(X_valid, y_valid), verbose=2,\n",
        "                    callbacks=[callback]);\n",
        "model.evaluate(X_test, y_test)"
      ]
    },
    {
      "cell_type": "markdown",
      "metadata": {
        "id": "3ouUgQhdq4ge"
      },
      "source": [
        "### Exercise 2 (4 marks)"
      ]
    },
    {
      "cell_type": "markdown",
      "metadata": {
        "id": "U45lj5xAq7LC"
      },
      "source": [
        "First read the [ReduceLROnPlateau Documentation](https://keras.io/api/callbacks/reduce_lr_on_plateau/).\n",
        "\n",
        "Run the ReduceLROnPlateau version of the model, but use validation loss (val_loss) as the measure for stopping the model.  Use 50 epochs, a patience value of 4, reduce the learning rate by a factor of 2 once learning stagnates and set a minimum learning rate of 0.001.\n",
        "\n",
        "Plot the change in learning rate."
      ]
    },
    {
      "cell_type": "code",
      "execution_count": null,
      "metadata": {
        "id": "fRnx9Um0wdgR",
        "colab": {
          "base_uri": "https://localhost:8080/"
        },
        "outputId": "cfb34c3f-a92f-44dd-a0f2-249400ac0f4d"
      },
      "outputs": [
        {
          "output_type": "stream",
          "name": "stdout",
          "text": [
            "Epoch 1/50\n",
            "1719/1719 - 8s - loss: 0.6116 - accuracy: 0.8421 - val_loss: 0.3068 - val_accuracy: 0.9156 - lr: 0.0100 - 8s/epoch - 4ms/step\n",
            "Epoch 2/50\n",
            "1719/1719 - 7s - loss: 0.2868 - accuracy: 0.9189 - val_loss: 0.2392 - val_accuracy: 0.9344 - lr: 0.0100 - 7s/epoch - 4ms/step\n",
            "Epoch 3/50\n",
            "1719/1719 - 6s - loss: 0.2356 - accuracy: 0.9330 - val_loss: 0.2014 - val_accuracy: 0.9442 - lr: 0.0100 - 6s/epoch - 4ms/step\n",
            "Epoch 4/50\n",
            "1719/1719 - 8s - loss: 0.2021 - accuracy: 0.9427 - val_loss: 0.1773 - val_accuracy: 0.9518 - lr: 0.0100 - 8s/epoch - 4ms/step\n",
            "Epoch 5/50\n",
            "1719/1719 - 7s - loss: 0.1773 - accuracy: 0.9497 - val_loss: 0.1572 - val_accuracy: 0.9574 - lr: 0.0100 - 7s/epoch - 4ms/step\n",
            "Epoch 6/50\n",
            "1719/1719 - 10s - loss: 0.1573 - accuracy: 0.9548 - val_loss: 0.1535 - val_accuracy: 0.9590 - lr: 0.0100 - 10s/epoch - 6ms/step\n",
            "Epoch 7/50\n",
            "1719/1719 - 11s - loss: 0.1412 - accuracy: 0.9596 - val_loss: 0.1332 - val_accuracy: 0.9614 - lr: 0.0100 - 11s/epoch - 6ms/step\n",
            "Epoch 8/50\n",
            "1719/1719 - 7s - loss: 0.1275 - accuracy: 0.9638 - val_loss: 0.1266 - val_accuracy: 0.9642 - lr: 0.0100 - 7s/epoch - 4ms/step\n",
            "Epoch 9/50\n",
            "1719/1719 - 7s - loss: 0.1165 - accuracy: 0.9669 - val_loss: 0.1166 - val_accuracy: 0.9674 - lr: 0.0100 - 7s/epoch - 4ms/step\n",
            "Epoch 10/50\n",
            "1719/1719 - 6s - loss: 0.1065 - accuracy: 0.9697 - val_loss: 0.1095 - val_accuracy: 0.9686 - lr: 0.0100 - 6s/epoch - 4ms/step\n",
            "Epoch 11/50\n",
            "1719/1719 - 6s - loss: 0.0980 - accuracy: 0.9723 - val_loss: 0.1065 - val_accuracy: 0.9698 - lr: 0.0100 - 6s/epoch - 4ms/step\n",
            "Epoch 12/50\n",
            "1719/1719 - 6s - loss: 0.0907 - accuracy: 0.9745 - val_loss: 0.1005 - val_accuracy: 0.9716 - lr: 0.0100 - 6s/epoch - 4ms/step\n",
            "Epoch 13/50\n",
            "1719/1719 - 7s - loss: 0.0836 - accuracy: 0.9766 - val_loss: 0.0967 - val_accuracy: 0.9732 - lr: 0.0100 - 7s/epoch - 4ms/step\n",
            "Epoch 14/50\n",
            "1719/1719 - 7s - loss: 0.0777 - accuracy: 0.9790 - val_loss: 0.0920 - val_accuracy: 0.9750 - lr: 0.0100 - 7s/epoch - 4ms/step\n",
            "Epoch 15/50\n",
            "1719/1719 - 7s - loss: 0.0722 - accuracy: 0.9796 - val_loss: 0.0888 - val_accuracy: 0.9758 - lr: 0.0100 - 7s/epoch - 4ms/step\n",
            "Epoch 16/50\n",
            "1719/1719 - 7s - loss: 0.0673 - accuracy: 0.9811 - val_loss: 0.0846 - val_accuracy: 0.9766 - lr: 0.0100 - 7s/epoch - 4ms/step\n",
            "Epoch 17/50\n",
            "1719/1719 - 7s - loss: 0.0628 - accuracy: 0.9832 - val_loss: 0.0827 - val_accuracy: 0.9770 - lr: 0.0100 - 7s/epoch - 4ms/step\n",
            "Epoch 18/50\n",
            "1719/1719 - 6s - loss: 0.0588 - accuracy: 0.9839 - val_loss: 0.0822 - val_accuracy: 0.9770 - lr: 0.0100 - 6s/epoch - 4ms/step\n",
            "Epoch 19/50\n",
            "1719/1719 - 6s - loss: 0.0550 - accuracy: 0.9856 - val_loss: 0.0811 - val_accuracy: 0.9762 - lr: 0.0100 - 6s/epoch - 4ms/step\n",
            "Epoch 20/50\n",
            "1719/1719 - 7s - loss: 0.0517 - accuracy: 0.9865 - val_loss: 0.0764 - val_accuracy: 0.9774 - lr: 0.0100 - 7s/epoch - 4ms/step\n",
            "Epoch 21/50\n",
            "1719/1719 - 7s - loss: 0.0484 - accuracy: 0.9875 - val_loss: 0.0751 - val_accuracy: 0.9788 - lr: 0.0100 - 7s/epoch - 4ms/step\n",
            "Epoch 22/50\n",
            "1719/1719 - 8s - loss: 0.0456 - accuracy: 0.9882 - val_loss: 0.0744 - val_accuracy: 0.9794 - lr: 0.0100 - 8s/epoch - 5ms/step\n",
            "Epoch 23/50\n",
            "1719/1719 - 7s - loss: 0.0429 - accuracy: 0.9890 - val_loss: 0.0735 - val_accuracy: 0.9796 - lr: 0.0100 - 7s/epoch - 4ms/step\n",
            "Epoch 24/50\n",
            "1719/1719 - 7s - loss: 0.0402 - accuracy: 0.9898 - val_loss: 0.0729 - val_accuracy: 0.9790 - lr: 0.0100 - 7s/epoch - 4ms/step\n",
            "Epoch 25/50\n",
            "1719/1719 - 7s - loss: 0.0379 - accuracy: 0.9901 - val_loss: 0.0707 - val_accuracy: 0.9802 - lr: 0.0100 - 7s/epoch - 4ms/step\n",
            "Epoch 26/50\n",
            "1719/1719 - 8s - loss: 0.0359 - accuracy: 0.9912 - val_loss: 0.0714 - val_accuracy: 0.9788 - lr: 0.0100 - 8s/epoch - 5ms/step\n",
            "Epoch 27/50\n",
            "1719/1719 - 7s - loss: 0.0337 - accuracy: 0.9919 - val_loss: 0.0720 - val_accuracy: 0.9796 - lr: 0.0100 - 7s/epoch - 4ms/step\n",
            "Epoch 28/50\n",
            "1719/1719 - 7s - loss: 0.0318 - accuracy: 0.9923 - val_loss: 0.0695 - val_accuracy: 0.9804 - lr: 0.0100 - 7s/epoch - 4ms/step\n",
            "Epoch 29/50\n",
            "1719/1719 - 6s - loss: 0.0301 - accuracy: 0.9931 - val_loss: 0.0704 - val_accuracy: 0.9802 - lr: 0.0100 - 6s/epoch - 4ms/step\n",
            "Epoch 30/50\n",
            "1719/1719 - 7s - loss: 0.0283 - accuracy: 0.9938 - val_loss: 0.0681 - val_accuracy: 0.9796 - lr: 0.0100 - 7s/epoch - 4ms/step\n",
            "Epoch 31/50\n",
            "1719/1719 - 7s - loss: 0.0268 - accuracy: 0.9940 - val_loss: 0.0667 - val_accuracy: 0.9806 - lr: 0.0100 - 7s/epoch - 4ms/step\n",
            "Epoch 32/50\n",
            "1719/1719 - 6s - loss: 0.0252 - accuracy: 0.9946 - val_loss: 0.0669 - val_accuracy: 0.9804 - lr: 0.0100 - 6s/epoch - 4ms/step\n",
            "Epoch 33/50\n",
            "1719/1719 - 7s - loss: 0.0240 - accuracy: 0.9949 - val_loss: 0.0690 - val_accuracy: 0.9816 - lr: 0.0100 - 7s/epoch - 4ms/step\n",
            "Epoch 34/50\n",
            "1719/1719 - 7s - loss: 0.0226 - accuracy: 0.9955 - val_loss: 0.0676 - val_accuracy: 0.9792 - lr: 0.0100 - 7s/epoch - 4ms/step\n",
            "Epoch 35/50\n",
            "1719/1719 - 7s - loss: 0.0213 - accuracy: 0.9960 - val_loss: 0.0659 - val_accuracy: 0.9810 - lr: 0.0100 - 7s/epoch - 4ms/step\n",
            "Epoch 36/50\n",
            "1719/1719 - 6s - loss: 0.0202 - accuracy: 0.9961 - val_loss: 0.0674 - val_accuracy: 0.9816 - lr: 0.0100 - 6s/epoch - 4ms/step\n",
            "Epoch 37/50\n",
            "1719/1719 - 7s - loss: 0.0192 - accuracy: 0.9966 - val_loss: 0.0676 - val_accuracy: 0.9784 - lr: 0.0100 - 7s/epoch - 4ms/step\n",
            "Epoch 38/50\n",
            "1719/1719 - 7s - loss: 0.0183 - accuracy: 0.9971 - val_loss: 0.0683 - val_accuracy: 0.9810 - lr: 0.0100 - 7s/epoch - 4ms/step\n",
            "Epoch 39/50\n",
            "1719/1719 - 7s - loss: 0.0174 - accuracy: 0.9972 - val_loss: 0.0690 - val_accuracy: 0.9796 - lr: 0.0100 - 7s/epoch - 4ms/step\n",
            "Epoch 40/50\n",
            "1719/1719 - 7s - loss: 0.0156 - accuracy: 0.9979 - val_loss: 0.0655 - val_accuracy: 0.9810 - lr: 0.0050 - 7s/epoch - 4ms/step\n",
            "Epoch 41/50\n",
            "1719/1719 - 8s - loss: 0.0150 - accuracy: 0.9980 - val_loss: 0.0660 - val_accuracy: 0.9812 - lr: 0.0050 - 8s/epoch - 5ms/step\n",
            "Epoch 42/50\n",
            "1719/1719 - 7s - loss: 0.0147 - accuracy: 0.9981 - val_loss: 0.0654 - val_accuracy: 0.9814 - lr: 0.0050 - 7s/epoch - 4ms/step\n",
            "Epoch 43/50\n",
            "1719/1719 - 7s - loss: 0.0143 - accuracy: 0.9984 - val_loss: 0.0665 - val_accuracy: 0.9814 - lr: 0.0050 - 7s/epoch - 4ms/step\n",
            "Epoch 44/50\n",
            "1719/1719 - 7s - loss: 0.0140 - accuracy: 0.9983 - val_loss: 0.0663 - val_accuracy: 0.9816 - lr: 0.0050 - 7s/epoch - 4ms/step\n",
            "Epoch 45/50\n",
            "1719/1719 - 7s - loss: 0.0136 - accuracy: 0.9985 - val_loss: 0.0665 - val_accuracy: 0.9812 - lr: 0.0050 - 7s/epoch - 4ms/step\n",
            "Epoch 46/50\n",
            "1719/1719 - 7s - loss: 0.0133 - accuracy: 0.9986 - val_loss: 0.0663 - val_accuracy: 0.9808 - lr: 0.0050 - 7s/epoch - 4ms/step\n",
            "Epoch 47/50\n",
            "1719/1719 - 6s - loss: 0.0127 - accuracy: 0.9987 - val_loss: 0.0662 - val_accuracy: 0.9810 - lr: 0.0025 - 6s/epoch - 4ms/step\n",
            "Epoch 48/50\n",
            "1719/1719 - 6s - loss: 0.0125 - accuracy: 0.9987 - val_loss: 0.0652 - val_accuracy: 0.9812 - lr: 0.0025 - 6s/epoch - 4ms/step\n",
            "Epoch 49/50\n",
            "1719/1719 - 7s - loss: 0.0124 - accuracy: 0.9987 - val_loss: 0.0654 - val_accuracy: 0.9814 - lr: 0.0025 - 7s/epoch - 4ms/step\n",
            "Epoch 50/50\n",
            "1719/1719 - 7s - loss: 0.0122 - accuracy: 0.9988 - val_loss: 0.0657 - val_accuracy: 0.9814 - lr: 0.0025 - 7s/epoch - 4ms/step\n"
          ]
        }
      ],
      "source": [
        "model.set_weights(weights)\n",
        "opt = SGD(learning_rate=0.01)\n",
        "model.compile(loss='sparse_categorical_crossentropy', optimizer=opt, metrics=[\"accuracy\"])\n",
        "reduce_lr = ReduceLROnPlateau(monitor='val_loss', factor=0.5,\n",
        "                              patience=4, min_lr=0.001)\n",
        "history6 = model.fit(X_train, y_train, epochs=50, \n",
        "                    validation_data=(X_valid, y_valid), verbose=2,\n",
        "                    callbacks=[reduce_lr]);"
      ]
    },
    {
      "cell_type": "code",
      "execution_count": null,
      "metadata": {
        "id": "hnDOqK2lwd73",
        "colab": {
          "base_uri": "https://localhost:8080/",
          "height": 279
        },
        "outputId": "0316034e-5629-4c9c-bdb3-33caf9fdc1a5"
      },
      "outputs": [
        {
          "output_type": "display_data",
          "data": {
            "text/plain": [
              "<Figure size 432x288 with 1 Axes>"
            ],
            "image/png": "[encoded data removed]"
          },
          "metadata": {
            "needs_background": "light"
          }
        }
      ],
      "source": [
        "plt.plot(history4.history['lr'])\n",
        "plt.ylabel('learning rate')\n",
        "plt.xlabel('epochs')\n",
        "plt.grid(True);"
      ]
    },
    {
      "cell_type": "markdown",
      "source": [
        "The edge of change of learning rate will change after epoch greater than 25."
      ],
      "metadata": {
        "id": "Ludy_RbC1Isv"
      }
    }
  ],
  "metadata": {
    "colab": {
      "provenance": []
    },
    "kernelspec": {
      "display_name": "Python 3",
      "language": "python",
      "name": "python3"
    },
    "language_info": {
      "codemirror_mode": {
        "name": "ipython",
        "version": 3
      },
      "file_extension": ".py",
      "mimetype": "text/x-python",
      "name": "python",
      "nbconvert_exporter": "python",
      "pygments_lexer": "ipython3",
      "version": "3.7.4"
    }
  },
  "nbformat": 4,
  "nbformat_minor": 0
}