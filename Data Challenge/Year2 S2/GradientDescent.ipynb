{
  "cells": [
    {
      "cell_type": "markdown",
      "metadata": {
        "id": "8Rcwsjp9uFbO"
      },
      "source": [
        "# Gradient Descent "
      ]
    },
    {
      "cell_type": "markdown",
      "metadata": {
        "id": "lSp_4Jv7uFbY"
      },
      "source": [
        "Gradient descent algorithms underlie most of the optimization in Machine Learning. In this notebook we will go through some simple examples of how gradient descent is implemented, and the application of this to linear regression.\n",
        "\n",
        "We will use the [Diabetes dataset](https://gitlab.erc.monash.edu.au/bads/data-challenges-resources/-/blob/main/Machine-Learning/SGD/Diabetes_Data.csv). Make sure you download this file and save it or upload this to your working directory."
      ]
    },
    {
      "cell_type": "markdown",
      "metadata": {
        "id": "z-5A9O1puFba"
      },
      "source": [
        "## Contents\n",
        "\n",
        "* Vanilla Gradient Descent\n",
        "* Application to Linear Regression\n",
        "* Exercises"
      ]
    },
    {
      "cell_type": "markdown",
      "metadata": {
        "id": "kdTywGRyuFbb"
      },
      "source": [
        "## Vanilla Gradient Descent"
      ]
    },
    {
      "cell_type": "markdown",
      "metadata": {
        "id": "nvvJZk4xuFbb"
      },
      "source": [
        "Consider that we have $n$ independent features, which are denoted by $x_1, \\dots, x_n$, and a function $V(x_1,\\dots,x_n)$ which we want to minimize. If we have have a function $W(x_1,\\dots,x_n)$ that we want to maximize, then let $V = -W$ and ****minimizing $V$ is equivalent to maximizing $W$. **bold text**\n",
        "\n",
        "Since the name includes gradient, we first need to define the gradient. This is simply a vector which consists of all the first partial derivatives of the function $V$:\n",
        "\n",
        "$$\n",
        "\\nabla V ({\\textbf x}) = \\left( \\frac{\\partial V}{\\partial x_1}, \\dots, \\frac{\\partial V}{\\partial x_n}\\right).\n",
        "$$\n",
        "\n",
        "Recall that the partial derivative simply corresponds to the derivative with respect to that variable, with all other variables held constant.\n",
        "\n",
        "The first observation that we can make about a function that we want to minimize is that the gradient of the function at a point is in the direction that the function increases fastest. Hence, in the opposite direction the function will **decrease** the fastest. Therefore the most sensible direction to minimize the function is in the opposite direction to the gradient, and consequently we can let\n",
        "\n",
        "$$\n",
        "{\\textbf x}^{(n+1)} = {\\textbf x}^{(n)} - \\eta \\nabla V ({\\textbf x}^{(n)}).\n",
        "$$\n",
        "\n",
        "This forms the basis of the gradient descent method, and the parameter $\\eta > 0$ is called the learning rate. This is known as an **iterative method**. We have seen these types of methods previously, e.g., the k-Nearest Neighbours method.\n",
        "\n",
        "The following short function implements gradient descent. It takes as input a function which calculates the gradient, a starting point, a learning rate, the maxiumum number of iterations to take and the tolerance. Once the increments for the points decrease by less than the tolerance the algorithm returns."
      ]
    },
    {
      "cell_type": "code",
      "execution_count": null,
      "metadata": {
        "id": "59mNBNgquFbd"
      },
      "outputs": [],
      "source": [
        "import numpy as np\n",
        "import matplotlib.pyplot as plt\n",
        "\n",
        "def gradient_descent(gradient, start, learn_rate, n_iter=50, tolerance=1.e-6):\n",
        "    vector = start\n",
        "    for n in range(n_iter):\n",
        "        diff = -learn_rate * gradient(vector)\n",
        "        if np.sum(np.abs(diff)) <= tolerance:\n",
        "            break\n",
        "        vector = vector+diff\n",
        "    return vector"
      ]
    },
    {
      "cell_type": "markdown",
      "metadata": {
        "id": "z8ssmaxIuFbg"
      },
      "source": [
        "To implement this method we use as input the gradient of the quadratic function $V=x^2$. In this case the gradient is just the scalar $2x$. We do one iteration on each call to the gradient descent function, to enable plotting of the evolution of the updates. In this case for a small learning rate, the solution converges monotonically to the minimum at $x=0$."
      ]
    },
    {
      "cell_type": "code",
      "execution_count": null,
      "metadata": {
        "colab": {
          "base_uri": "https://localhost:8080/",
          "height": 295
        },
        "id": "hZxmN5VJuFbg",
        "outputId": "fbc3cca9-1f4b-42f9-cd1c-fa89cae96696"
      },
      "outputs": [
        {
          "output_type": "display_data",
          "data": {
            "text/plain": [
              "<Figure size 432x288 with 1 Axes>"
            ],
            "image/png": "[encoded data removed]"
          },
          "metadata": {
            "needs_background": "light"
          }
        }
      ],
      "source": [
        "quad_grad = lambda v: 2 * v\n",
        "quad = lambda v: v**2\n",
        "\n",
        "xa = np.zeros((21))\n",
        "xs = 5\n",
        "xa[0] = xs\n",
        "lrate = 0.1\n",
        "for ix in range(20):\n",
        "    xc = gradient_descent(quad_grad,xs,lrate,n_iter=1)\n",
        "    xa[ix+1] = xc\n",
        "    xs = xc\n",
        "\n",
        "xf = np.linspace(-6,6)\n",
        "plt.plot(xa, quad(xa), 'r.-')\n",
        "plt.plot(xf, quad(xf))\n",
        "plt.xlabel('x')\n",
        "plt.ylabel('f(x)')\n",
        "plt.title(f\"Learning rate %g\" % lrate);"
      ]
    },
    {
      "cell_type": "markdown",
      "metadata": {
        "id": "oZHj2-DzuFbi"
      },
      "source": [
        "If we make the learning rate larger, the iterations now oscillate between either side of the function, and the convergence is much slower. If the learning rate is larger than 1 for this example, the iterations will diverge."
      ]
    },
    {
      "cell_type": "code",
      "execution_count": null,
      "metadata": {
        "colab": {
          "base_uri": "https://localhost:8080/",
          "height": 295
        },
        "id": "Ch2gyxXRuFbj",
        "outputId": "fa639878-fcd0-4f32-e92c-593aa7eb9212"
      },
      "outputs": [
        {
          "output_type": "display_data",
          "data": {
            "text/plain": [
              "<Figure size 432x288 with 1 Axes>"
            ],
            "image/png": "[encoded data removed]"
          },
          "metadata": {
            "needs_background": "light"
          }
        }
      ],
      "source": [
        "xa = np.zeros((21))\n",
        "xs = 5\n",
        "xa[0] = xs\n",
        "lrate = 0.9\n",
        "for ix in range(20):\n",
        "    xc = gradient_descent(quad_grad,xs,lrate,n_iter=1)\n",
        "    xa[ix+1] = xc\n",
        "    xs = xc\n",
        "\n",
        "xf = np.linspace(-6,6)\n",
        "plt.plot(xa, quad(xa), 'r.-')\n",
        "plt.plot(xf, quad(xf))\n",
        "plt.xlabel('x')\n",
        "plt.ylabel('f(x)')\n",
        "plt.title(f\"Learning rate %g\" % lrate);"
      ]
    },
    {
      "cell_type": "markdown",
      "metadata": {
        "id": "tu6tLJJiuFbk"
      },
      "source": [
        "One problem that often occurs with gradient descent is that the solution can converge to a local minimum. For example, for the quartic function below we see that the solution converges to the local minimum at $x\\approx 1$. Whereas for a learning rate of half the given value the solution will converge to the global minimum. "
      ]
    },
    {
      "cell_type": "code",
      "execution_count": null,
      "metadata": {
        "colab": {
          "base_uri": "https://localhost:8080/",
          "height": 295
        },
        "id": "HdJOU1NduFbk",
        "outputId": "bc1f5ea6-bff7-4e6b-8608-df6ac55d5db7"
      },
      "outputs": [
        {
          "output_type": "display_data",
          "data": {
            "text/plain": [
              "<Figure size 432x288 with 1 Axes>"
            ],
            "image/png": "[encoded data removed]"
          },
          "metadata": {
            "needs_background": "light"
          }
        }
      ],
      "source": [
        "quart_grad = lambda x: 4*x**3+6*x**2-6*x-2\n",
        "quart = lambda x: x**4+2*x**3-3*x**2-2*x+1\n",
        "\n",
        "xa = np.zeros((21))\n",
        "xs = -3\n",
        "xa[0] = xs\n",
        "lrate = 0.1\n",
        "for ix in range(20):\n",
        "    xc = gradient_descent(quart_grad,xs,lrate,n_iter=1)\n",
        "    xa[ix+1] = xc\n",
        "    xs = xc\n",
        "\n",
        "xf = np.linspace(-4,4)\n",
        "plt.plot(xa, quart(xa), 'r.-')\n",
        "plt.plot(xf, quart(xf))\n",
        "plt.ylim(-20,20)\n",
        "plt.xlabel('x')\n",
        "plt.ylabel('f(x)')\n",
        "plt.title(f\"Learning rate %g\" % lrate);"
      ]
    },
    {
      "cell_type": "markdown",
      "metadata": {
        "id": "8n9Pm04buFbk"
      },
      "source": [
        "We can investigate convergence of gradient descent for functions of two variables. In this case the gradient will be a two-dimensional vector. Consider first a simple ellipse. In this case if we track the iterations, at each point the line to the next point is perpendicular to the contours, which is the direction of the gradient. Here a constant learning rate has been used, and consequently the iterations zig-zag about the minimum and never reach the minimum. If we add a mild decay to the learning rate, the solution eventually converges to the minimum."
      ]
    },
    {
      "cell_type": "code",
      "execution_count": null,
      "metadata": {
        "colab": {
          "base_uri": "https://localhost:8080/",
          "height": 334
        },
        "id": "njOGQgOiuFbl",
        "outputId": "926cdfb7-8c6d-4afb-aba1-9bad7fcad63c"
      },
      "outputs": [
        {
          "output_type": "display_data",
          "data": {
            "text/plain": [
              "<Figure size 432x360 with 1 Axes>"
            ],
            "image/png": "[encoded data removed]"
          },
          "metadata": {
            "needs_background": "light"
          }
        }
      ],
      "source": [
        "def ellipse(x):\n",
        "    ellipse = .125*x[0]**2 + x[1]**2\n",
        "    return ellipse\n",
        "\n",
        "def ellipse_grad(x):\n",
        "    ellipse_grad = np.array([.25*x[0], 2*x[1]])\n",
        "    return ellipse_grad\n",
        "\n",
        "xa = np.zeros((21, 2))\n",
        "xs = np.array([4,1])\n",
        "xa[0] = xs\n",
        "lrate = 1.\n",
        "decay = .0\n",
        "for ix in range(20):\n",
        "    lr = lrate/(1+decay*ix)\n",
        "    xc = gradient_descent(ellipse_grad,xs,lr,n_iter=1)\n",
        "    xa[ix+1] = xc\n",
        "    xs = xc\n",
        "\n",
        "xb = np.zeros((21, 2))\n",
        "xs = np.array([4,1])\n",
        "xb[0] = xs\n",
        "lrate = 1.\n",
        "decay = .01\n",
        "for ix in range(20):\n",
        "    lr = lrate/(1+decay*ix)\n",
        "    xc = gradient_descent(ellipse_grad,xs,lr,n_iter=1)\n",
        "    xb[ix+1] = xc\n",
        "    xs = xc\n",
        "\n",
        "fig, ax = plt.subplots(figsize=(6,5)) # initialise the plots and axes\n",
        "\n",
        "# Make data.\n",
        "X = np.arange(-5, 5, 0.25)\n",
        "Y = np.arange(-5, 5, 0.25)\n",
        "X, Y = np.meshgrid(X, Y)\n",
        "Z = ellipse(np.column_stack([X.ravel(), Y.ravel()]).T)  \n",
        "Z = Z.reshape(X.shape) \n",
        "# Plot the surface.\n",
        "ax.contourf(X, Y, Z, 21)\n",
        "plt.plot(xa[:,0], xa[:,1], 'r.-', label='Constant learning rate')\n",
        "plt.plot(xb[:,0], xb[:,1], 'b.-', label='Decaying learning rate')\n",
        "plt.xlabel('x')\n",
        "plt.ylabel('y')\n",
        "plt.legend();"
      ]
    },
    {
      "cell_type": "markdown",
      "metadata": {
        "id": "fP11M712uFbl"
      },
      "source": [
        "If we halve the learning rate, but don't include a decay rate, the iterations now converge rapidly to the minimum."
      ]
    },
    {
      "cell_type": "code",
      "execution_count": null,
      "metadata": {
        "colab": {
          "base_uri": "https://localhost:8080/",
          "height": 350
        },
        "id": "uPT4UXUHuFbl",
        "outputId": "3981cafb-933d-44d8-c3c1-81f63ae8c0a5"
      },
      "outputs": [
        {
          "output_type": "display_data",
          "data": {
            "text/plain": [
              "<Figure size 432x360 with 1 Axes>"
            ],
            "image/png": "[encoded data removed]"
          },
          "metadata": {
            "needs_background": "light"
          }
        }
      ],
      "source": [
        "xa = np.zeros((21, 2))\n",
        "xs = np.array([4,1])\n",
        "xa[0] = xs\n",
        "lrate = .5\n",
        "decay = .0\n",
        "for ix in range(20):\n",
        "    lr = lrate/(1+decay*ix)\n",
        "    xc = gradient_descent(ellipse_grad,xs,lr,n_iter=1)\n",
        "    xa[ix+1] = xc\n",
        "    xs = xc\n",
        "\n",
        "fig, ax = plt.subplots(figsize=(6,5)) # initialise the plots and axes\n",
        "\n",
        "# Make data.\n",
        "X = np.arange(-5, 5, 0.25)\n",
        "Y = np.arange(-5, 5, 0.25)\n",
        "X, Y = np.meshgrid(X, Y)\n",
        "Z = ellipse(np.column_stack([X.ravel(), Y.ravel()]).T)  \n",
        "Z = Z.reshape(X.shape) \n",
        "# Plot the surface.\n",
        "ax.contourf(X, Y, Z)\n",
        "plt.plot(xa[:,0], xa[:,1], 'r.-')\n",
        "plt.xlabel('x')\n",
        "plt.ylabel('y')\n",
        "plt.title(\"Decaying learning rate\");"
      ]
    },
    {
      "cell_type": "markdown",
      "metadata": {
        "id": "KrobpmkTuFbm"
      },
      "source": [
        "We can consider a more complicated function which have multiple minima and saddle points. In this example the solution that we converge to again depends on the starting point, even though the starting points are quite close."
      ]
    },
    {
      "cell_type": "code",
      "execution_count": null,
      "metadata": {
        "colab": {
          "base_uri": "https://localhost:8080/",
          "height": 349
        },
        "id": "CTzpQh9CuFbm",
        "outputId": "bba242e5-1596-4407-f243-81f3e970f1da"
      },
      "outputs": [
        {
          "output_type": "stream",
          "name": "stdout",
          "text": [
            "function minimum is -10.875\n"
          ]
        },
        {
          "output_type": "display_data",
          "data": {
            "text/plain": [
              "<Figure size 720x360 with 2 Axes>"
            ],
            "image/png": "[encoded data removed]"
          },
          "metadata": {
            "needs_background": "light"
          }
        }
      ],
      "source": [
        "def spoint(x):\n",
        "    ellipse = 1/8*x[0]**4 - 2*x[0]**2+x[0]+x[1]**2\n",
        "    return ellipse\n",
        "\n",
        "def spoint_grad(x):\n",
        "    ellipse_grad = np.array([.5*x[0]**3-4*x[0]+1, 2*x[1]])\n",
        "    return ellipse_grad\n",
        "\n",
        "xa = np.zeros((21, 2))\n",
        "xs = np.array([0, 3])\n",
        "xa[0] = xs\n",
        "lrate = .3\n",
        "decay = .02\n",
        "for ix in range(20):\n",
        "    lr = lrate/(1+decay*ix)\n",
        "    xc = gradient_descent(spoint_grad,xs,lr,n_iter=1)\n",
        "    xa[ix+1] = xc\n",
        "    xs = xc\n",
        "\n",
        "xb = np.zeros((21, 2))\n",
        "xs = np.array([.5, 3])\n",
        "xb[0] = xs\n",
        "lrate = .3\n",
        "decay = .02\n",
        "for ix in range(20):\n",
        "    lr = lrate/(1+decay*ix)\n",
        "    xc = gradient_descent(spoint_grad,xs,lr,n_iter=1)\n",
        "    xb[ix+1] = xc\n",
        "    xs = xc\n",
        "\n",
        "fig, (ax1, ax2) = plt.subplots(1,2,figsize=(10, 5)) # initialise the plots and axes\n",
        "\n",
        "# # Make data.\n",
        "X = np.arange(-5, 5, 0.25)\n",
        "Y = np.arange(-4, 4, 0.25)\n",
        "X, Y = np.meshgrid(X, Y)\n",
        "Z = spoint(np.column_stack([X.ravel(), Y.ravel()]).T)  \n",
        "Z = Z.reshape(X.shape) \n",
        "print('function minimum is',Z.min())\n",
        "# Plot the surface.\n",
        "ax1.contourf(X, Y, Z)\n",
        "\n",
        "ax1.plot(xa[:,0], xa[:,1], 'r.-')\n",
        "ax1.plot(xb[:,0], xb[:,1], 'g.-')\n",
        "ax1.set_xlabel('x')\n",
        "ax1.set_ylabel('y')\n",
        "ax1.set_title('Decaying learning rate')\n",
        "ax2.plot(spoint(xa.T), label='x0 = 0')\n",
        "ax2.plot(spoint(xb.T), label='x0 = 0.5')\n",
        "ax2.set_xlabel('Iterations')\n",
        "ax2.set_ylabel('f(x)')\n",
        "ax2.legend();\n",
        "fig.tight_layout(pad=3.0);"
      ]
    },
    {
      "cell_type": "markdown",
      "metadata": {
        "id": "0Bkt2VK4uFbn"
      },
      "source": [
        "## Application to Linear Regression"
      ]
    },
    {
      "cell_type": "markdown",
      "metadata": {
        "id": "Sm7IKnlGuFbn"
      },
      "source": [
        "Now import the Diabetes dataset. This consists of four physiological measurements, six blood serum measurements and the tendency to develop Diabetes one year after the measurements were taken. Hence, this is a regression problem, where we aim to predict the tendency 'Y' from the other variables."
      ]
    },
    {
      "cell_type": "code",
      "source": [
        "!ls\n"
      ],
      "metadata": {
        "colab": {
          "base_uri": "https://localhost:8080/"
        },
        "id": "ZdfWTLliGQ7Z",
        "outputId": "4e682aed-fe7d-4f91-abba-b3277861d1ba"
      },
      "execution_count": null,
      "outputs": [
        {
          "output_type": "stream",
          "name": "stdout",
          "text": [
            "'Diabetes_Data (3).csv'   sample_data\n"
          ]
        }
      ]
    },
    {
      "cell_type": "code",
      "source": [
        "from google.colab import files\n",
        "uploaded= files.upload()"
      ],
      "metadata": {
        "colab": {
          "resources": {
            "http://localhost:8080/nbextensions/google.colab/files.js": {
              "data": "Ly8gQ29weXJpZ2h0IDIwMTcgR29vZ2xlIExMQwovLwovLyBMaWNlbnNlZCB1bmRlciB0aGUgQXBhY2hlIExpY2Vuc2UsIFZlcnNpb24gMi4wICh0aGUgIkxpY2Vuc2UiKTsKLy8geW91IG1heSBub3QgdXNlIHRoaXMgZmlsZSBleGNlcHQgaW4gY29tcGxpYW5jZSB3aXRoIHRoZSBMaWNlbnNlLgovLyBZb3UgbWF5IG9idGFpbiBhIGNvcHkgb2YgdGhlIExpY2Vuc2UgYXQKLy8KLy8gICAgICBodHRwOi8vd3d3LmFwYWNoZS5vcmcvbGljZW5zZXMvTElDRU5TRS0yLjAKLy8KLy8gVW5sZXNzIHJlcXVpcmVkIGJ5IGFwcGxpY2FibGUgbGF3IG9yIGFncmVlZCB0byBpbiB3cml0aW5nLCBzb2Z0d2FyZQovLyBkaXN0cmlidXRlZCB1bmRlciB0aGUgTGljZW5zZSBpcyBkaXN0cmlidXRlZCBvbiBhbiAiQVMgSVMiIEJBU0lTLAovLyBXSVRIT1VUIFdBUlJBTlRJRVMgT1IgQ09ORElUSU9OUyBPRiBBTlkgS0lORCwgZWl0aGVyIGV4cHJlc3Mgb3IgaW1wbGllZC4KLy8gU2VlIHRoZSBMaWNlbnNlIGZvciB0aGUgc3BlY2lmaWMgbGFuZ3VhZ2UgZ292ZXJuaW5nIHBlcm1pc3Npb25zIGFuZAovLyBsaW1pdGF0aW9ucyB1bmRlciB0aGUgTGljZW5zZS4KCi8qKgogKiBAZmlsZW92ZXJ2aWV3IEhlbHBlcnMgZm9yIGdvb2dsZS5jb2xhYiBQeXRob24gbW9kdWxlLgogKi8KKGZ1bmN0aW9uKHNjb3BlKSB7CmZ1bmN0aW9uIHNwYW4odGV4dCwgc3R5bGVBdHRyaWJ1dGVzID0ge30pIHsKICBjb25zdCBlbGVtZW50ID0gZG9jdW1lbnQuY3JlYXRlRWxlbWVudCgnc3BhbicpOwogIGVsZW1lbnQudGV4dENvbnRlbnQgPSB0ZXh0OwogIGZvciAoY29uc3Qga2V5IG9mIE9iamVjdC5rZXlzKHN0eWxlQXR0cmlidXRlcykpIHsKICAgIGVsZW1lbnQuc3R5bGVba2V5XSA9IHN0eWxlQXR0cmlidXRlc1trZXldOwogIH0KICByZXR1cm4gZWxlbWVudDsKfQoKLy8gTWF4IG51bWJlciBvZiBieXRlcyB3aGljaCB3aWxsIGJlIHVwbG9hZGVkIGF0IGEgdGltZS4KY29uc3QgTUFYX1BBWUxPQURfU0laRSA9IDEwMCAqIDEwMjQ7CgpmdW5jdGlvbiBfdXBsb2FkRmlsZXMoaW5wdXRJZCwgb3V0cHV0SWQpIHsKICBjb25zdCBzdGVwcyA9IHVwbG9hZEZpbGVzU3RlcChpbnB1dElkLCBvdXRwdXRJZCk7CiAgY29uc3Qgb3V0cHV0RWxlbWVudCA9IGRvY3VtZW50LmdldEVsZW1lbnRCeUlkKG91dHB1dElkKTsKICAvLyBDYWNoZSBzdGVwcyBvbiB0aGUgb3V0cHV0RWxlbWVudCB0byBtYWtlIGl0IGF2YWlsYWJsZSBmb3IgdGhlIG5leHQgY2FsbAogIC8vIHRvIHVwbG9hZEZpbGVzQ29udGludWUgZnJvbSBQeXRob24uCiAgb3V0cHV0RWxlbWVudC5zdGVwcyA9IHN0ZXBzOwoKICByZXR1cm4gX3VwbG9hZEZpbGVzQ29udGludWUob3V0cHV0SWQpOwp9CgovLyBUaGlzIGlzIHJvdWdobHkgYW4gYXN5bmMgZ2VuZXJhdG9yIChub3Qgc3VwcG9ydGVkIGluIHRoZSBicm93c2VyIHlldCksCi8vIHdoZXJlIHRoZXJlIGFyZSBtdWx0aXBsZSBhc3luY2hyb25vdXMgc3RlcHMgYW5kIHRoZSBQeXRob24gc2lkZSBpcyBnb2luZwovLyB0byBwb2xsIGZvciBjb21wbGV0aW9uIG9mIGVhY2ggc3RlcC4KLy8gVGhpcyB1c2VzIGEgUHJvbWlzZSB0byBibG9jayB0aGUgcHl0aG9uIHNpZGUgb24gY29tcGxldGlvbiBvZiBlYWNoIHN0ZXAsCi8vIHRoZW4gcGFzc2VzIHRoZSByZXN1bHQgb2YgdGhlIHByZXZpb3VzIHN0ZXAgYXMgdGhlIGlucHV0IHRvIHRoZSBuZXh0IHN0ZXAuCmZ1bmN0aW9uIF91cGxvYWRGaWxlc0NvbnRpbnVlKG91dHB1dElkKSB7CiAgY29uc3Qgb3V0cHV0RWxlbWVudCA9IGRvY3VtZW50LmdldEVsZW1lbnRCeUlkKG91dHB1dElkKTsKICBjb25zdCBzdGVwcyA9IG91dHB1dEVsZW1lbnQuc3RlcHM7CgogIGNvbnN0IG5leHQgPSBzdGVwcy5uZXh0KG91dHB1dEVsZW1lbnQubGFzdFByb21pc2VWYWx1ZSk7CiAgcmV0dXJuIFByb21pc2UucmVzb2x2ZShuZXh0LnZhbHVlLnByb21pc2UpLnRoZW4oKHZhbHVlKSA9PiB7CiAgICAvLyBDYWNoZSB0aGUgbGFzdCBwcm9taXNlIHZhbHVlIHRvIG1ha2UgaXQgYXZhaWxhYmxlIHRvIHRoZSBuZXh0CiAgICAvLyBzdGVwIG9mIHRoZSBnZW5lcmF0b3IuCiAgICBvdXRwdXRFbGVtZW50Lmxhc3RQcm9taXNlVmFsdWUgPSB2YWx1ZTsKICAgIHJldHVybiBuZXh0LnZhbHVlLnJlc3BvbnNlOwogIH0pOwp9CgovKioKICogR2VuZXJhdG9yIGZ1bmN0aW9uIHdoaWNoIGlzIGNhbGxlZCBiZXR3ZWVuIGVhY2ggYXN5bmMgc3RlcCBvZiB0aGUgdXBsb2FkCiAqIHByb2Nlc3MuCiAqIEBwYXJhbSB7c3RyaW5nfSBpbnB1dElkIEVsZW1lbnQgSUQgb2YgdGhlIGlucHV0IGZpbGUgcGlja2VyIGVsZW1lbnQuCiAqIEBwYXJhbSB7c3RyaW5nfSBvdXRwdXRJZCBFbGVtZW50IElEIG9mIHRoZSBvdXRwdXQgZGlzcGxheS4KICogQHJldHVybiB7IUl0ZXJhYmxlPCFPYmplY3Q+fSBJdGVyYWJsZSBvZiBuZXh0IHN0ZXBzLgogKi8KZnVuY3Rpb24qIHVwbG9hZEZpbGVzU3RlcChpbnB1dElkLCBvdXRwdXRJZCkgewogIGNvbnN0IGlucHV0RWxlbWVudCA9IGRvY3VtZW50LmdldEVsZW1lbnRCeUlkKGlucHV0SWQpOwogIGlucHV0RWxlbWVudC5kaXNhYmxlZCA9IGZhbHNlOwoKICBjb25zdCBvdXRwdXRFbGVtZW50ID0gZG9jdW1lbnQuZ2V0RWxlbWVudEJ5SWQob3V0cHV0SWQpOwogIG91dHB1dEVsZW1lbnQuaW5uZXJIVE1MID0gJyc7CgogIGNvbnN0IHBpY2tlZFByb21pc2UgPSBuZXcgUHJvbWlzZSgocmVzb2x2ZSkgPT4gewogICAgaW5wdXRFbGVtZW50LmFkZEV2ZW50TGlzdGVuZXIoJ2NoYW5nZScsIChlKSA9PiB7CiAgICAgIHJlc29sdmUoZS50YXJnZXQuZmlsZXMpOwogICAgfSk7CiAgfSk7CgogIGNvbnN0IGNhbmNlbCA9IGRvY3VtZW50LmNyZWF0ZUVsZW1lbnQoJ2J1dHRvbicpOwogIGlucHV0RWxlbWVudC5wYXJlbnRFbGVtZW50LmFwcGVuZENoaWxkKGNhbmNlbCk7CiAgY2FuY2VsLnRleHRDb250ZW50ID0gJ0NhbmNlbCB1cGxvYWQnOwogIGNvbnN0IGNhbmNlbFByb21pc2UgPSBuZXcgUHJvbWlzZSgocmVzb2x2ZSkgPT4gewogICAgY2FuY2VsLm9uY2xpY2sgPSAoKSA9PiB7CiAgICAgIHJlc29sdmUobnVsbCk7CiAgICB9OwogIH0pOwoKICAvLyBXYWl0IGZvciB0aGUgdXNlciB0byBwaWNrIHRoZSBmaWxlcy4KICBjb25zdCBmaWxlcyA9IHlpZWxkIHsKICAgIHByb21pc2U6IFByb21pc2UucmFjZShbcGlja2VkUHJvbWlzZSwgY2FuY2VsUHJvbWlzZV0pLAogICAgcmVzcG9uc2U6IHsKICAgICAgYWN0aW9uOiAnc3RhcnRpbmcnLAogICAgfQogIH07CgogIGNhbmNlbC5yZW1vdmUoKTsKCiAgLy8gRGlzYWJsZSB0aGUgaW5wdXQgZWxlbWVudCBzaW5jZSBmdXJ0aGVyIHBpY2tzIGFyZSBub3QgYWxsb3dlZC4KICBpbnB1dEVsZW1lbnQuZGlzYWJsZWQgPSB0cnVlOwoKICBpZiAoIWZpbGVzKSB7CiAgICByZXR1cm4gewogICAgICByZXNwb25zZTogewogICAgICAgIGFjdGlvbjogJ2NvbXBsZXRlJywKICAgICAgfQogICAgfTsKICB9CgogIGZvciAoY29uc3QgZmlsZSBvZiBmaWxlcykgewogICAgY29uc3QgbGkgPSBkb2N1bWVudC5jcmVhdGVFbGVtZW50KCdsaScpOwogICAgbGkuYXBwZW5kKHNwYW4oZmlsZS5uYW1lLCB7Zm9udFdlaWdodDogJ2JvbGQnfSkpOwogICAgbGkuYXBwZW5kKHNwYW4oCiAgICAgICAgYCgke2ZpbGUudHlwZSB8fCAnbi9hJ30pIC0gJHtmaWxlLnNpemV9IGJ5dGVzLCBgICsKICAgICAgICBgbGFzdCBtb2RpZmllZDogJHsKICAgICAgICAgICAgZmlsZS5sYXN0TW9kaWZpZWREYXRlID8gZmlsZS5sYXN0TW9kaWZpZWREYXRlLnRvTG9jYWxlRGF0ZVN0cmluZygpIDoKICAgICAgICAgICAgICAgICAgICAgICAgICAgICAgICAgICAgJ24vYSd9IC0gYCkpOwogICAgY29uc3QgcGVyY2VudCA9IHNwYW4oJzAlIGRvbmUnKTsKICAgIGxpLmFwcGVuZENoaWxkKHBlcmNlbnQpOwoKICAgIG91dHB1dEVsZW1lbnQuYXBwZW5kQ2hpbGQobGkpOwoKICAgIGNvbnN0IGZpbGVEYXRhUHJvbWlzZSA9IG5ldyBQcm9taXNlKChyZXNvbHZlKSA9PiB7CiAgICAgIGNvbnN0IHJlYWRlciA9IG5ldyBGaWxlUmVhZGVyKCk7CiAgICAgIHJlYWRlci5vbmxvYWQgPSAoZSkgPT4gewogICAgICAgIHJlc29sdmUoZS50YXJnZXQucmVzdWx0KTsKICAgICAgfTsKICAgICAgcmVhZGVyLnJlYWRBc0FycmF5QnVmZmVyKGZpbGUpOwogICAgfSk7CiAgICAvLyBXYWl0IGZvciB0aGUgZGF0YSB0byBiZSByZWFkeS4KICAgIGxldCBmaWxlRGF0YSA9IHlpZWxkIHsKICAgICAgcHJvbWlzZTogZmlsZURhdGFQcm9taXNlLAogICAgICByZXNwb25zZTogewogICAgICAgIGFjdGlvbjogJ2NvbnRpbnVlJywKICAgICAgfQogICAgfTsKCiAgICAvLyBVc2UgYSBjaHVua2VkIHNlbmRpbmcgdG8gYXZvaWQgbWVzc2FnZSBzaXplIGxpbWl0cy4gU2VlIGIvNjIxMTU2NjAuCiAgICBsZXQgcG9zaXRpb24gPSAwOwogICAgZG8gewogICAgICBjb25zdCBsZW5ndGggPSBNYXRoLm1pbihmaWxlRGF0YS5ieXRlTGVuZ3RoIC0gcG9zaXRpb24sIE1BWF9QQVlMT0FEX1NJWkUpOwogICAgICBjb25zdCBjaHVuayA9IG5ldyBVaW50OEFycmF5KGZpbGVEYXRhLCBwb3NpdGlvbiwgbGVuZ3RoKTsKICAgICAgcG9zaXRpb24gKz0gbGVuZ3RoOwoKICAgICAgY29uc3QgYmFzZTY0ID0gYnRvYShTdHJpbmcuZnJvbUNoYXJDb2RlLmFwcGx5KG51bGwsIGNodW5rKSk7CiAgICAgIHlpZWxkIHsKICAgICAgICByZXNwb25zZTogewogICAgICAgICAgYWN0aW9uOiAnYXBwZW5kJywKICAgICAgICAgIGZpbGU6IGZpbGUubmFtZSwKICAgICAgICAgIGRhdGE6IGJhc2U2NCwKICAgICAgICB9LAogICAgICB9OwoKICAgICAgbGV0IHBlcmNlbnREb25lID0gZmlsZURhdGEuYnl0ZUxlbmd0aCA9PT0gMCA/CiAgICAgICAgICAxMDAgOgogICAgICAgICAgTWF0aC5yb3VuZCgocG9zaXRpb24gLyBmaWxlRGF0YS5ieXRlTGVuZ3RoKSAqIDEwMCk7CiAgICAgIHBlcmNlbnQudGV4dENvbnRlbnQgPSBgJHtwZXJjZW50RG9uZX0lIGRvbmVgOwoKICAgIH0gd2hpbGUgKHBvc2l0aW9uIDwgZmlsZURhdGEuYnl0ZUxlbmd0aCk7CiAgfQoKICAvLyBBbGwgZG9uZS4KICB5aWVsZCB7CiAgICByZXNwb25zZTogewogICAgICBhY3Rpb246ICdjb21wbGV0ZScsCiAgICB9CiAgfTsKfQoKc2NvcGUuZ29vZ2xlID0gc2NvcGUuZ29vZ2xlIHx8IHt9OwpzY29wZS5nb29nbGUuY29sYWIgPSBzY29wZS5nb29nbGUuY29sYWIgfHwge307CnNjb3BlLmdvb2dsZS5jb2xhYi5fZmlsZXMgPSB7CiAgX3VwbG9hZEZpbGVzLAogIF91cGxvYWRGaWxlc0NvbnRpbnVlLAp9Owp9KShzZWxmKTsK",
              "ok": true,
              "headers": [
                [
                  "content-type",
                  "application/javascript"
                ]
              ],
              "status": 200,
              "status_text": ""
            }
          },
          "base_uri": "https://localhost:8080/",
          "height": 75
        },
        "id": "cS7YnhgaFSwS",
        "outputId": "bf47e675-ba73-43f9-fb43-edb18e6d8fe9"
      },
      "execution_count": null,
      "outputs": [
        {
          "output_type": "display_data",
          "data": {
            "text/plain": [
              "<IPython.core.display.HTML object>"
            ],
            "text/html": [
              "\n",
              "     <input type=\"file\" id=\"files-7ef30fda-19f0-4622-893e-047d7c5e2a95\" name=\"files[]\" multiple disabled\n",
              "        style=\"border:none\" />\n",
              "     <output id=\"result-7ef30fda-19f0-4622-893e-047d7c5e2a95\">\n",
              "      Upload widget is only available when the cell has been executed in the\n",
              "      current browser session. Please rerun this cell to enable.\n",
              "      </output>\n",
              "      <script src=\"/nbextensions/google.colab/files.js\"></script> "
            ]
          },
          "metadata": {}
        },
        {
          "output_type": "stream",
          "name": "stdout",
          "text": [
            "Saving Diabetes_Data (3).csv to Diabetes_Data (3).csv\n"
          ]
        }
      ]
    },
    {
      "cell_type": "code",
      "source": [
        "!pwd\n"
      ],
      "metadata": {
        "colab": {
          "base_uri": "https://localhost:8080/"
        },
        "id": "tcI3uZOOGWuF",
        "outputId": "37524a45-4ae7-4e95-bdda-61ec24c55e3a"
      },
      "execution_count": null,
      "outputs": [
        {
          "output_type": "stream",
          "name": "stdout",
          "text": [
            "/content\n"
          ]
        }
      ]
    },
    {
      "cell_type": "code",
      "execution_count": null,
      "metadata": {
        "colab": {
          "base_uri": "https://localhost:8080/",
          "height": 317
        },
        "id": "QenOWUo6uFbn",
        "outputId": "25fa5b4a-0556-4bde-a1ac-2361512efb6a"
      },
      "outputs": [
        {
          "output_type": "execute_result",
          "data": {
            "text/plain": [
              "   AGE  SEX   BMI     BP   S1     S2    S3   S4      S5  S6  ...  Unnamed: 24  \\\n",
              "0   59    2  32.1  101.0  157   93.2  38.0  4.0  4.8598  87  ...          NaN   \n",
              "1   48    1  21.6   87.0  183  103.2  70.0  3.0  3.8918  69  ...          NaN   \n",
              "2   72    2  30.5   93.0  156   93.6  41.0  4.0  4.6728  85  ...          NaN   \n",
              "3   24    1  25.3   84.0  198  131.4  40.0  5.0  4.8903  89  ...          NaN   \n",
              "4   50    1  23.0  101.0  192  125.4  52.0  4.0  4.2905  80  ...          NaN   \n",
              "\n",
              "   Unnamed: 25 Unnamed: 26 Unnamed: 27 Unnamed: 28 Unnamed: 29  Unnamed: 30  \\\n",
              "0          NaN         NaN         NaN         NaN         NaN          NaN   \n",
              "1          NaN         NaN         NaN         NaN         NaN          NaN   \n",
              "2          NaN         NaN         NaN         NaN         NaN          NaN   \n",
              "3          NaN         NaN         NaN         NaN         NaN          NaN   \n",
              "4          NaN         NaN         NaN         NaN         NaN          NaN   \n",
              "\n",
              "   Unnamed: 31  Unnamed: 32  Unnamed: 33  \n",
              "0          NaN          NaN          NaN  \n",
              "1          NaN          NaN          NaN  \n",
              "2          NaN          NaN          NaN  \n",
              "3          NaN          NaN          NaN  \n",
              "4          NaN          NaN          NaN  \n",
              "\n",
              "[5 rows x 34 columns]"
            ],
            "text/html": [
              "\n",
              "  <div id=\"df-843202ba-7e61-4115-a0e8-9bb5abe3827c\">\n",
              "    <div class=\"colab-df-container\">\n",
              "      <div>\n",
              "<style scoped>\n",
              "    .dataframe tbody tr th:only-of-type {\n",
              "        vertical-align: middle;\n",
              "    }\n",
              "\n",
              "    .dataframe tbody tr th {\n",
              "        vertical-align: top;\n",
              "    }\n",
              "\n",
              "    .dataframe thead th {\n",
              "        text-align: right;\n",
              "    }\n",
              "</style>\n",
              "<table border=\"1\" class=\"dataframe\">\n",
              "  <thead>\n",
              "    <tr style=\"text-align: right;\">\n",
              "      <th></th>\n",
              "      <th>AGE</th>\n",
              "      <th>SEX</th>\n",
              "      <th>BMI</th>\n",
              "      <th>BP</th>\n",
              "      <th>S1</th>\n",
              "      <th>S2</th>\n",
              "      <th>S3</th>\n",
              "      <th>S4</th>\n",
              "      <th>S5</th>\n",
              "      <th>S6</th>\n",
              "      <th>...</th>\n",
              "      <th>Unnamed: 24</th>\n",
              "      <th>Unnamed: 25</th>\n",
              "      <th>Unnamed: 26</th>\n",
              "      <th>Unnamed: 27</th>\n",
              "      <th>Unnamed: 28</th>\n",
              "      <th>Unnamed: 29</th>\n",
              "      <th>Unnamed: 30</th>\n",
              "      <th>Unnamed: 31</th>\n",
              "      <th>Unnamed: 32</th>\n",
              "      <th>Unnamed: 33</th>\n",
              "    </tr>\n",
              "  </thead>\n",
              "  <tbody>\n",
              "    <tr>\n",
              "      <th>0</th>\n",
              "      <td>59</td>\n",
              "      <td>2</td>\n",
              "      <td>32.1</td>\n",
              "      <td>101.0</td>\n",
              "      <td>157</td>\n",
              "      <td>93.2</td>\n",
              "      <td>38.0</td>\n",
              "      <td>4.0</td>\n",
              "      <td>4.8598</td>\n",
              "      <td>87</td>\n",
              "      <td>...</td>\n",
              "      <td>NaN</td>\n",
              "      <td>NaN</td>\n",
              "      <td>NaN</td>\n",
              "      <td>NaN</td>\n",
              "      <td>NaN</td>\n",
              "      <td>NaN</td>\n",
              "      <td>NaN</td>\n",
              "      <td>NaN</td>\n",
              "      <td>NaN</td>\n",
              "      <td>NaN</td>\n",
              "    </tr>\n",
              "    <tr>\n",
              "      <th>1</th>\n",
              "      <td>48</td>\n",
              "      <td>1</td>\n",
              "      <td>21.6</td>\n",
              "      <td>87.0</td>\n",
              "      <td>183</td>\n",
              "      <td>103.2</td>\n",
              "      <td>70.0</td>\n",
              "      <td>3.0</td>\n",
              "      <td>3.8918</td>\n",
              "      <td>69</td>\n",
              "      <td>...</td>\n",
              "      <td>NaN</td>\n",
              "      <td>NaN</td>\n",
              "      <td>NaN</td>\n",
              "      <td>NaN</td>\n",
              "      <td>NaN</td>\n",
              "      <td>NaN</td>\n",
              "      <td>NaN</td>\n",
              "      <td>NaN</td>\n",
              "      <td>NaN</td>\n",
              "      <td>NaN</td>\n",
              "    </tr>\n",
              "    <tr>\n",
              "      <th>2</th>\n",
              "      <td>72</td>\n",
              "      <td>2</td>\n",
              "      <td>30.5</td>\n",
              "      <td>93.0</td>\n",
              "      <td>156</td>\n",
              "      <td>93.6</td>\n",
              "      <td>41.0</td>\n",
              "      <td>4.0</td>\n",
              "      <td>4.6728</td>\n",
              "      <td>85</td>\n",
              "      <td>...</td>\n",
              "      <td>NaN</td>\n",
              "      <td>NaN</td>\n",
              "      <td>NaN</td>\n",
              "      <td>NaN</td>\n",
              "      <td>NaN</td>\n",
              "      <td>NaN</td>\n",
              "      <td>NaN</td>\n",
              "      <td>NaN</td>\n",
              "      <td>NaN</td>\n",
              "      <td>NaN</td>\n",
              "    </tr>\n",
              "    <tr>\n",
              "      <th>3</th>\n",
              "      <td>24</td>\n",
              "      <td>1</td>\n",
              "      <td>25.3</td>\n",
              "      <td>84.0</td>\n",
              "      <td>198</td>\n",
              "      <td>131.4</td>\n",
              "      <td>40.0</td>\n",
              "      <td>5.0</td>\n",
              "      <td>4.8903</td>\n",
              "      <td>89</td>\n",
              "      <td>...</td>\n",
              "      <td>NaN</td>\n",
              "      <td>NaN</td>\n",
              "      <td>NaN</td>\n",
              "      <td>NaN</td>\n",
              "      <td>NaN</td>\n",
              "      <td>NaN</td>\n",
              "      <td>NaN</td>\n",
              "      <td>NaN</td>\n",
              "      <td>NaN</td>\n",
              "      <td>NaN</td>\n",
              "    </tr>\n",
              "    <tr>\n",
              "      <th>4</th>\n",
              "      <td>50</td>\n",
              "      <td>1</td>\n",
              "      <td>23.0</td>\n",
              "      <td>101.0</td>\n",
              "      <td>192</td>\n",
              "      <td>125.4</td>\n",
              "      <td>52.0</td>\n",
              "      <td>4.0</td>\n",
              "      <td>4.2905</td>\n",
              "      <td>80</td>\n",
              "      <td>...</td>\n",
              "      <td>NaN</td>\n",
              "      <td>NaN</td>\n",
              "      <td>NaN</td>\n",
              "      <td>NaN</td>\n",
              "      <td>NaN</td>\n",
              "      <td>NaN</td>\n",
              "      <td>NaN</td>\n",
              "      <td>NaN</td>\n",
              "      <td>NaN</td>\n",
              "      <td>NaN</td>\n",
              "    </tr>\n",
              "  </tbody>\n",
              "</table>\n",
              "<p>5 rows × 34 columns</p>\n",
              "</div>\n",
              "      <button class=\"colab-df-convert\" onclick=\"convertToInteractive('df-843202ba-7e61-4115-a0e8-9bb5abe3827c')\"\n",
              "              title=\"Convert this dataframe to an interactive table.\"\n",
              "              style=\"display:none;\">\n",
              "        \n",
              "  <svg xmlns=\"http://www.w3.org/2000/svg\" height=\"24px\"viewBox=\"0 0 24 24\"\n",
              "       width=\"24px\">\n",
              "    <path d=\"M0 0h24v24H0V0z\" fill=\"none\"/>\n",
              "    <path d=\"M18.56 5.44l.94 2.06.94-2.06 2.06-.94-2.06-.94-.94-2.06-.94 2.06-2.06.94zm-11 1L8.5 8.5l.94-2.06 2.06-.94-2.06-.94L8.5 2.5l-.94 2.06-2.06.94zm10 10l.94 2.06.94-2.06 2.06-.94-2.06-.94-.94-2.06-.94 2.06-2.06.94z\"/><path d=\"M17.41 7.96l-1.37-1.37c-.4-.4-.92-.59-1.43-.59-.52 0-1.04.2-1.43.59L10.3 9.45l-7.72 7.72c-.78.78-.78 2.05 0 2.83L4 21.41c.39.39.9.59 1.41.59.51 0 1.02-.2 1.41-.59l7.78-7.78 2.81-2.81c.8-.78.8-2.07 0-2.86zM5.41 20L4 18.59l7.72-7.72 1.47 1.35L5.41 20z\"/>\n",
              "  </svg>\n",
              "      </button>\n",
              "      \n",
              "  <style>\n",
              "    .colab-df-container {\n",
              "      display:flex;\n",
              "      flex-wrap:wrap;\n",
              "      gap: 12px;\n",
              "    }\n",
              "\n",
              "    .colab-df-convert {\n",
              "      background-color: #E8F0FE;\n",
              "      border: none;\n",
              "      border-radius: 50%;\n",
              "      cursor: pointer;\n",
              "      display: none;\n",
              "      fill: #1967D2;\n",
              "      height: 32px;\n",
              "      padding: 0 0 0 0;\n",
              "      width: 32px;\n",
              "    }\n",
              "\n",
              "    .colab-df-convert:hover {\n",
              "      background-color: #E2EBFA;\n",
              "      box-shadow: 0px 1px 2px rgba(60, 64, 67, 0.3), 0px 1px 3px 1px rgba(60, 64, 67, 0.15);\n",
              "      fill: #174EA6;\n",
              "    }\n",
              "\n",
              "    [theme=dark] .colab-df-convert {\n",
              "      background-color: #3B4455;\n",
              "      fill: #D2E3FC;\n",
              "    }\n",
              "\n",
              "    [theme=dark] .colab-df-convert:hover {\n",
              "      background-color: #434B5C;\n",
              "      box-shadow: 0px 1px 3px 1px rgba(0, 0, 0, 0.15);\n",
              "      filter: drop-shadow(0px 1px 2px rgba(0, 0, 0, 0.3));\n",
              "      fill: #FFFFFF;\n",
              "    }\n",
              "  </style>\n",
              "\n",
              "      <script>\n",
              "        const buttonEl =\n",
              "          document.querySelector('#df-843202ba-7e61-4115-a0e8-9bb5abe3827c button.colab-df-convert');\n",
              "        buttonEl.style.display =\n",
              "          google.colab.kernel.accessAllowed ? 'block' : 'none';\n",
              "\n",
              "        async function convertToInteractive(key) {\n",
              "          const element = document.querySelector('#df-843202ba-7e61-4115-a0e8-9bb5abe3827c');\n",
              "          const dataTable =\n",
              "            await google.colab.kernel.invokeFunction('convertToInteractive',\n",
              "                                                     [key], {});\n",
              "          if (!dataTable) return;\n",
              "\n",
              "          const docLinkHtml = 'Like what you see? Visit the ' +\n",
              "            '<a target=\"_blank\" href=https://colab.research.google.com/notebooks/data_table.ipynb>data table notebook</a>'\n",
              "            + ' to learn more about interactive tables.';\n",
              "          element.innerHTML = '';\n",
              "          dataTable['output_type'] = 'display_data';\n",
              "          await google.colab.output.renderOutput(dataTable, element);\n",
              "          const docLink = document.createElement('div');\n",
              "          docLink.innerHTML = docLinkHtml;\n",
              "          element.appendChild(docLink);\n",
              "        }\n",
              "      </script>\n",
              "    </div>\n",
              "  </div>\n",
              "  "
            ]
          },
          "metadata": {},
          "execution_count": 12
        }
      ],
      "source": [
        "import pandas as pd\n",
        "\n",
        "df = pd.read_csv('Diabetes_Data.csv') # read the Diabetes dataset in to a pandas dataframe\n",
        "df.head()"
      ]
    },
    {
      "cell_type": "markdown",
      "metadata": {
        "id": "4wDU_jL7uFbn"
      },
      "source": [
        "To illustrate the implementation of gradient descent we create a two-dimensional feature set with just the fields 'BMI' and 'BP'. As always we normalize the variables to improve the stability of the model. The target variable is stored in a data series 'Y'."
      ]
    },
    {
      "cell_type": "code",
      "execution_count": null,
      "metadata": {
        "id": "CDG5fCDguFbn"
      },
      "outputs": [],
      "source": [
        "X = df[['BMI', 'BP']] \n",
        "X = (X-X.mean())/X.std()\n",
        "Y = df['Y']              "
      ]
    },
    {
      "cell_type": "markdown",
      "metadata": {
        "id": "ESjijU2WuFbo"
      },
      "source": [
        "We then split the dataset into training and testing sets."
      ]
    },
    {
      "cell_type": "code",
      "execution_count": null,
      "metadata": {
        "id": "A0lEROePuFbo"
      },
      "outputs": [],
      "source": [
        "from sklearn.model_selection import train_test_split # for splitting the data into training and testing sets\n",
        "\n",
        "X_train, X_test, Y_train, Y_test = train_test_split(X, Y, test_size=0.8, random_state=42)\n"
      ]
    },
    {
      "cell_type": "code",
      "source": [
        "X_train"
      ],
      "metadata": {
        "colab": {
          "base_uri": "https://localhost:8080/",
          "height": 424
        },
        "id": "jZ9hMkshVL89",
        "outputId": "e32beb25-d843-4a40-df39-dcf16a0dbebc"
      },
      "execution_count": null,
      "outputs": [
        {
          "output_type": "execute_result",
          "data": {
            "text/plain": [
              "          BMI        BP\n",
              "212  0.073381  0.748520\n",
              "295  0.820305 -0.842078\n",
              "403  2.042544 -0.119079\n",
              "251  2.065178  1.833018\n",
              "431 -0.650908  0.459320\n",
              "..        ...       ...\n",
              "106 -1.601539 -0.914377\n",
              "270  0.639233  1.760718\n",
              "348 -0.424568 -0.119079\n",
              "435 -0.492470 -0.842078\n",
              "102  0.593965 -0.335978\n",
              "\n",
              "[88 rows x 2 columns]"
            ],
            "text/html": [
              "\n",
              "  <div id=\"df-e27eb967-b7d8-4827-9bbc-d0c86286872d\">\n",
              "    <div class=\"colab-df-container\">\n",
              "      <div>\n",
              "<style scoped>\n",
              "    .dataframe tbody tr th:only-of-type {\n",
              "        vertical-align: middle;\n",
              "    }\n",
              "\n",
              "    .dataframe tbody tr th {\n",
              "        vertical-align: top;\n",
              "    }\n",
              "\n",
              "    .dataframe thead th {\n",
              "        text-align: right;\n",
              "    }\n",
              "</style>\n",
              "<table border=\"1\" class=\"dataframe\">\n",
              "  <thead>\n",
              "    <tr style=\"text-align: right;\">\n",
              "      <th></th>\n",
              "      <th>BMI</th>\n",
              "      <th>BP</th>\n",
              "    </tr>\n",
              "  </thead>\n",
              "  <tbody>\n",
              "    <tr>\n",
              "      <th>212</th>\n",
              "      <td>0.073381</td>\n",
              "      <td>0.748520</td>\n",
              "    </tr>\n",
              "    <tr>\n",
              "      <th>295</th>\n",
              "      <td>0.820305</td>\n",
              "      <td>-0.842078</td>\n",
              "    </tr>\n",
              "    <tr>\n",
              "      <th>403</th>\n",
              "      <td>2.042544</td>\n",
              "      <td>-0.119079</td>\n",
              "    </tr>\n",
              "    <tr>\n",
              "      <th>251</th>\n",
              "      <td>2.065178</td>\n",
              "      <td>1.833018</td>\n",
              "    </tr>\n",
              "    <tr>\n",
              "      <th>431</th>\n",
              "      <td>-0.650908</td>\n",
              "      <td>0.459320</td>\n",
              "    </tr>\n",
              "    <tr>\n",
              "      <th>...</th>\n",
              "      <td>...</td>\n",
              "      <td>...</td>\n",
              "    </tr>\n",
              "    <tr>\n",
              "      <th>106</th>\n",
              "      <td>-1.601539</td>\n",
              "      <td>-0.914377</td>\n",
              "    </tr>\n",
              "    <tr>\n",
              "      <th>270</th>\n",
              "      <td>0.639233</td>\n",
              "      <td>1.760718</td>\n",
              "    </tr>\n",
              "    <tr>\n",
              "      <th>348</th>\n",
              "      <td>-0.424568</td>\n",
              "      <td>-0.119079</td>\n",
              "    </tr>\n",
              "    <tr>\n",
              "      <th>435</th>\n",
              "      <td>-0.492470</td>\n",
              "      <td>-0.842078</td>\n",
              "    </tr>\n",
              "    <tr>\n",
              "      <th>102</th>\n",
              "      <td>0.593965</td>\n",
              "      <td>-0.335978</td>\n",
              "    </tr>\n",
              "  </tbody>\n",
              "</table>\n",
              "<p>88 rows × 2 columns</p>\n",
              "</div>\n",
              "      <button class=\"colab-df-convert\" onclick=\"convertToInteractive('df-e27eb967-b7d8-4827-9bbc-d0c86286872d')\"\n",
              "              title=\"Convert this dataframe to an interactive table.\"\n",
              "              style=\"display:none;\">\n",
              "        \n",
              "  <svg xmlns=\"http://www.w3.org/2000/svg\" height=\"24px\"viewBox=\"0 0 24 24\"\n",
              "       width=\"24px\">\n",
              "    <path d=\"M0 0h24v24H0V0z\" fill=\"none\"/>\n",
              "    <path d=\"M18.56 5.44l.94 2.06.94-2.06 2.06-.94-2.06-.94-.94-2.06-.94 2.06-2.06.94zm-11 1L8.5 8.5l.94-2.06 2.06-.94-2.06-.94L8.5 2.5l-.94 2.06-2.06.94zm10 10l.94 2.06.94-2.06 2.06-.94-2.06-.94-.94-2.06-.94 2.06-2.06.94z\"/><path d=\"M17.41 7.96l-1.37-1.37c-.4-.4-.92-.59-1.43-.59-.52 0-1.04.2-1.43.59L10.3 9.45l-7.72 7.72c-.78.78-.78 2.05 0 2.83L4 21.41c.39.39.9.59 1.41.59.51 0 1.02-.2 1.41-.59l7.78-7.78 2.81-2.81c.8-.78.8-2.07 0-2.86zM5.41 20L4 18.59l7.72-7.72 1.47 1.35L5.41 20z\"/>\n",
              "  </svg>\n",
              "      </button>\n",
              "      \n",
              "  <style>\n",
              "    .colab-df-container {\n",
              "      display:flex;\n",
              "      flex-wrap:wrap;\n",
              "      gap: 12px;\n",
              "    }\n",
              "\n",
              "    .colab-df-convert {\n",
              "      background-color: #E8F0FE;\n",
              "      border: none;\n",
              "      border-radius: 50%;\n",
              "      cursor: pointer;\n",
              "      display: none;\n",
              "      fill: #1967D2;\n",
              "      height: 32px;\n",
              "      padding: 0 0 0 0;\n",
              "      width: 32px;\n",
              "    }\n",
              "\n",
              "    .colab-df-convert:hover {\n",
              "      background-color: #E2EBFA;\n",
              "      box-shadow: 0px 1px 2px rgba(60, 64, 67, 0.3), 0px 1px 3px 1px rgba(60, 64, 67, 0.15);\n",
              "      fill: #174EA6;\n",
              "    }\n",
              "\n",
              "    [theme=dark] .colab-df-convert {\n",
              "      background-color: #3B4455;\n",
              "      fill: #D2E3FC;\n",
              "    }\n",
              "\n",
              "    [theme=dark] .colab-df-convert:hover {\n",
              "      background-color: #434B5C;\n",
              "      box-shadow: 0px 1px 3px 1px rgba(0, 0, 0, 0.15);\n",
              "      filter: drop-shadow(0px 1px 2px rgba(0, 0, 0, 0.3));\n",
              "      fill: #FFFFFF;\n",
              "    }\n",
              "  </style>\n",
              "\n",
              "      <script>\n",
              "        const buttonEl =\n",
              "          document.querySelector('#df-e27eb967-b7d8-4827-9bbc-d0c86286872d button.colab-df-convert');\n",
              "        buttonEl.style.display =\n",
              "          google.colab.kernel.accessAllowed ? 'block' : 'none';\n",
              "\n",
              "        async function convertToInteractive(key) {\n",
              "          const element = document.querySelector('#df-e27eb967-b7d8-4827-9bbc-d0c86286872d');\n",
              "          const dataTable =\n",
              "            await google.colab.kernel.invokeFunction('convertToInteractive',\n",
              "                                                     [key], {});\n",
              "          if (!dataTable) return;\n",
              "\n",
              "          const docLinkHtml = 'Like what you see? Visit the ' +\n",
              "            '<a target=\"_blank\" href=https://colab.research.google.com/notebooks/data_table.ipynb>data table notebook</a>'\n",
              "            + ' to learn more about interactive tables.';\n",
              "          element.innerHTML = '';\n",
              "          dataTable['output_type'] = 'display_data';\n",
              "          await google.colab.output.renderOutput(dataTable, element);\n",
              "          const docLink = document.createElement('div');\n",
              "          docLink.innerHTML = docLinkHtml;\n",
              "          element.appendChild(docLink);\n",
              "        }\n",
              "      </script>\n",
              "    </div>\n",
              "  </div>\n",
              "  "
            ]
          },
          "metadata": {},
          "execution_count": 15
        }
      ]
    },
    {
      "cell_type": "markdown",
      "metadata": {
        "id": "khxg5cY0uFbo"
      },
      "source": [
        "To implement gradient descent we need to specify the function that is to be miminized and then calculate the gradient of this function. For linear regression the model creates a linear function\n",
        "\n",
        "$$\n",
        "y_m^{(i)} = a_1 x_1^{(i)} + a_2 x_2^{(i)} + b,\n",
        "$$\n",
        "\n",
        "where in this case $x_1$ and $x_2$ correspond respectively to 'BMI' and 'BP. The aim is to choose the unknowns $a_1$, $a_2$ and $b$ which minimize the Mean Square Error:\n",
        "\n",
        "$$\n",
        "E = \\sum_{i=1}^M (y_m^{(i)}-y^{(i)})^2, \n",
        "$$\n",
        "\n",
        "where $M$ is the number of instances in the dataset and $y^{(i)}$ are the observations.\n",
        "\n",
        "To calculate the gradient of $E$ with respect to the unknowns $a_1$, $a_2$ and $b$, we can use the Chain Rule, since $E$ is only dependent on this variables through $y_m^{(i)}$. For example the partial derivative with respect to $b$ is\n",
        "\n",
        "$$\n",
        "\\frac{\\partial E}{\\partial b} = \\sum_{i=1}^M \\frac{\\partial y_m^{(i)}}{\\partial b} 2(y_m^{(i)}-y^{(i)}) \n",
        "= \\sum_{i=1}^M 2(y_m^{(i)}-y^{(i)}).\n",
        "$$\n",
        "\n",
        "Similarly,\n",
        "\n",
        "$$\n",
        "\\frac{\\partial E}{\\partial a_1} = \\sum_{i=1}^M \\frac{\\partial y_m^{(i)}}{\\partial a_1} 2(y_m^{(i)}-y^{(i)}) \n",
        "= \\sum_{i=1}^M x_1^{(i)} 2(y_m^{(i)}-y^{(i)}),\n",
        "$$\n",
        "\n",
        "and therefore the gradient is\n",
        "\n",
        "$$\n",
        "\\nabla E = \\left(\\sum_{i=1}^M x_1^{(i)} 2(y_m^{(i)}-y^{(i)}), \\sum_{i=1}^M x_2^{(i)} 2(y_m^{(i)}-y^{(i)}), \\sum_{i=1}^M 2(y_m^{(i)}-y^{(i)}) \\right). \n",
        "$$\n",
        "\n",
        "The two functions below calculate the error and the gradient respectively, where $a = (a_1,a_2,b)$."
      ]
    },
    {
      "cell_type": "code",
      "execution_count": null,
      "metadata": {
        "id": "r4F9bskVuFbo"
      },
      "outputs": [],
      "source": [
        "def MSE(a):\n",
        "    yp = a[0]*X_train.iloc[:,0]+a[1]*X_train.iloc[:,1]+a[2]-Y_train\n",
        "    MSE = np.sum(yp**2)\n",
        "    return MSE\n",
        "\n",
        "def MSE_grad(a):\n",
        "    yp = a[0]*X_train.iloc[:,0]+a[1]*X_train.iloc[:,1]+a[2]-Y_train\n",
        "    MSE_grad = np.array([2*np.sum(yp*X_train.iloc[:,0]),\n",
        "                         2*np.sum(yp*X_train.iloc[:,1]),\n",
        "                         2*np.sum(yp)])\n",
        "    return MSE_grad"
      ]
    },
    {
      "cell_type": "markdown",
      "metadata": {
        "id": "Od0F7KrmuFbo"
      },
      "source": [
        "Now we can use gradient descent to solve for the unknowns of the model. For the given decay rate the model converges smoothly, and the evaluation of the function appears to show the function reaching a minimum. Note that we have only plotted the projection of the evolution of the model in $(a_1,a_2)$ space."
      ]
    },
    {
      "cell_type": "code",
      "execution_count": null,
      "metadata": {
        "colab": {
          "base_uri": "https://localhost:8080/",
          "height": 349
        },
        "id": "bM3tsnPWuFbp",
        "outputId": "66ccc34d-1293-435a-c90a-f4cbdf66c6a7"
      },
      "outputs": [
        {
          "output_type": "stream",
          "name": "stdout",
          "text": [
            "Model coefficients are  [ 35.157  26.541 139.42 ]\n"
          ]
        },
        {
          "output_type": "display_data",
          "data": {
            "text/plain": [
              "<Figure size 720x360 with 2 Axes>"
            ],
            "image/png": "[encoded data removed]"
          },
          "metadata": {
            "needs_background": "light"
          }
        }
      ],
      "source": [
        "xa = np.zeros((21, 3))\n",
        "xs = np.array([.0,.0,.0])\n",
        "xa[0] = xs\n",
        "lrate = .002\n",
        "decay = .0\n",
        "for ix in range(20):\n",
        "    lr = lrate/(1+decay*ix)\n",
        "    xc = gradient_descent(MSE_grad,xs,lr,n_iter=1)\n",
        "    xa[ix+1] = xc\n",
        "    xs = xc\n",
        "\n",
        "fig, (ax1, ax2) = plt.subplots(1,2,figsize=(10, 5)) # initialise the plots and axes\n",
        "\n",
        "# # Make data.\n",
        "ax1.plot(xa[:,0], xa[:,1], 'r.-')\n",
        "E = np.zeros((20,))\n",
        "for ix in range(20):\n",
        "    E[ix] = MSE(xa[ix,:])\n",
        "\n",
        "ax2.plot(E)\n",
        "print('Model coefficients are ',np.round(xa[20,:],3))\n",
        "\n",
        "ax1.set_xlabel('a1')\n",
        "ax1.set_ylabel('a2')\n",
        "ax2.set_xlabel('Iterations')\n",
        "ax2.set_ylabel('f(x)')\n",
        "fig.tight_layout(pad=3.0);"
      ]
    },
    {
      "cell_type": "markdown",
      "metadata": {
        "id": "NXvJJ-yDuFbp"
      },
      "source": [
        "We can compare the effectiveness of the model by plotting the predictions against observations, and calculating the correlation. As can be seen the model is reasonably effective, given that we have only used two features."
      ]
    },
    {
      "cell_type": "code",
      "execution_count": null,
      "metadata": {
        "colab": {
          "base_uri": "https://localhost:8080/",
          "height": 297
        },
        "id": "SQf8c0a2uFbp",
        "outputId": "91d6e2d8-4066-4e66-e4fb-ef95dfd8539c"
      },
      "outputs": [
        {
          "output_type": "stream",
          "name": "stdout",
          "text": [
            "Correlation is 0.619\n"
          ]
        },
        {
          "output_type": "display_data",
          "data": {
            "text/plain": [
              "<Figure size 432x288 with 1 Axes>"
            ],
            "image/png": "[encoded data removed]"
          },
          "metadata": {
            "needs_background": "light"
          }
        }
      ],
      "source": [
        "a = xa[20,:]\n",
        "yp = a[0]*X_test.iloc[:,0]+a[1]*X_test.iloc[:,1]+a[2]\n",
        "plt.plot(yp,Y_test,'.')\n",
        "plt.xlabel('Predictions')\n",
        "plt.ylabel('Observations')\n",
        "\n",
        "print('Correlation is',np.round(np.corrcoef(yp, Y_test)[0,1],3))"
      ]
    },
    {
      "cell_type": "markdown",
      "metadata": {
        "id": "Nl8jYR7TuFbp"
      },
      "source": [
        "## Exercises"
      ]
    },
    {
      "cell_type": "markdown",
      "metadata": {
        "id": "g_B5q-0IuFbp"
      },
      "source": [
        "### Exercise 1 (10 marks)"
      ]
    },
    {
      "cell_type": "markdown",
      "metadata": {
        "id": "IxNMfZLEuFbp"
      },
      "source": [
        "For linear regression with lasso regularization, the function to be minimized is\n",
        "\n",
        "$$\n",
        "E = \\sum_{i=1}^M (y_m^{(i)}-y^{(i)})^2 + \\alpha (|a_1|+|a_2|+\\cdots+|a_n|+|b|), \n",
        "$$\n",
        "\n",
        "where \n",
        "\n",
        "$$\n",
        "y_m^{(i)} = a_1 x_1^{(i)} + a_2 x_2^{(i)}+ \\cdots+  a_n x_n^{(i)} + b,\n",
        "$$\n",
        "\n",
        "and $\\alpha$ is the penalty weight. \n",
        "\n",
        "Repeat the calculations for the Diabetes dataset, but this time also include the blood serum measurement 'S5' and use lasso regularization with $\\alpha=2$. You should include the model coefficients and the correlation between the predicted and observed values for the training set.\n",
        "\n",
        "The derivative of $|x|$ is $\\hbox{sign} (x)$, which is $-1$ for $x<0$ and $1$ for $x\\ge 0$, and can be calculated using the function `np.sign()`.\n"
      ]
    },
    {
      "cell_type": "code",
      "execution_count": null,
      "metadata": {
        "id": "JWtGRUiauFbq"
      },
      "outputs": [],
      "source": [
        "X = df[['BMI', 'BP','S5']] \n",
        "X = (X-X.mean())/X.std()\n",
        "Y = df['Y']  "
      ]
    },
    {
      "cell_type": "code",
      "execution_count": null,
      "metadata": {
        "id": "E3OzRjsPuFbq"
      },
      "outputs": [],
      "source": [
        "from sklearn.model_selection import train_test_split # for splitting the data into training and testing sets\n",
        "\n",
        "X_train, X_test, Y_train, Y_test = train_test_split(X, Y, test_size=0.8, random_state=42)"
      ]
    },
    {
      "cell_type": "code",
      "source": [
        "X_train"
      ],
      "metadata": {
        "colab": {
          "base_uri": "https://localhost:8080/",
          "height": 424
        },
        "id": "z5iV0J_1U8yg",
        "outputId": "abe249e1-0de2-4ec7-c677-f8f76b6c6ef5"
      },
      "execution_count": null,
      "outputs": [
        {
          "output_type": "execute_result",
          "data": {
            "text/plain": [
              "          BMI        BP        S5\n",
              "212  0.073381  0.748520 -0.012846\n",
              "295  0.820305 -0.842078  0.342443\n",
              "403  2.042544 -0.119079  1.295370\n",
              "251  2.065178  1.833018  1.774322\n",
              "431 -0.650908  0.459320 -0.314154\n",
              "..        ...       ...       ...\n",
              "106 -1.601539 -0.914377 -1.248895\n",
              "270  0.639233  1.760718  0.181453\n",
              "348 -0.424568 -0.119079 -0.228968\n",
              "435 -0.492470 -0.842078 -0.807654\n",
              "102  0.593965 -0.335978 -0.107986\n",
              "\n",
              "[88 rows x 3 columns]"
            ],
            "text/html": [
              "\n",
              "  <div id=\"df-80fc38aa-1c3a-4cb4-8600-a0114036d174\">\n",
              "    <div class=\"colab-df-container\">\n",
              "      <div>\n",
              "<style scoped>\n",
              "    .dataframe tbody tr th:only-of-type {\n",
              "        vertical-align: middle;\n",
              "    }\n",
              "\n",
              "    .dataframe tbody tr th {\n",
              "        vertical-align: top;\n",
              "    }\n",
              "\n",
              "    .dataframe thead th {\n",
              "        text-align: right;\n",
              "    }\n",
              "</style>\n",
              "<table border=\"1\" class=\"dataframe\">\n",
              "  <thead>\n",
              "    <tr style=\"text-align: right;\">\n",
              "      <th></th>\n",
              "      <th>BMI</th>\n",
              "      <th>BP</th>\n",
              "      <th>S5</th>\n",
              "    </tr>\n",
              "  </thead>\n",
              "  <tbody>\n",
              "    <tr>\n",
              "      <th>212</th>\n",
              "      <td>0.073381</td>\n",
              "      <td>0.748520</td>\n",
              "      <td>-0.012846</td>\n",
              "    </tr>\n",
              "    <tr>\n",
              "      <th>295</th>\n",
              "      <td>0.820305</td>\n",
              "      <td>-0.842078</td>\n",
              "      <td>0.342443</td>\n",
              "    </tr>\n",
              "    <tr>\n",
              "      <th>403</th>\n",
              "      <td>2.042544</td>\n",
              "      <td>-0.119079</td>\n",
              "      <td>1.295370</td>\n",
              "    </tr>\n",
              "    <tr>\n",
              "      <th>251</th>\n",
              "      <td>2.065178</td>\n",
              "      <td>1.833018</td>\n",
              "      <td>1.774322</td>\n",
              "    </tr>\n",
              "    <tr>\n",
              "      <th>431</th>\n",
              "      <td>-0.650908</td>\n",
              "      <td>0.459320</td>\n",
              "      <td>-0.314154</td>\n",
              "    </tr>\n",
              "    <tr>\n",
              "      <th>...</th>\n",
              "      <td>...</td>\n",
              "      <td>...</td>\n",
              "      <td>...</td>\n",
              "    </tr>\n",
              "    <tr>\n",
              "      <th>106</th>\n",
              "      <td>-1.601539</td>\n",
              "      <td>-0.914377</td>\n",
              "      <td>-1.248895</td>\n",
              "    </tr>\n",
              "    <tr>\n",
              "      <th>270</th>\n",
              "      <td>0.639233</td>\n",
              "      <td>1.760718</td>\n",
              "      <td>0.181453</td>\n",
              "    </tr>\n",
              "    <tr>\n",
              "      <th>348</th>\n",
              "      <td>-0.424568</td>\n",
              "      <td>-0.119079</td>\n",
              "      <td>-0.228968</td>\n",
              "    </tr>\n",
              "    <tr>\n",
              "      <th>435</th>\n",
              "      <td>-0.492470</td>\n",
              "      <td>-0.842078</td>\n",
              "      <td>-0.807654</td>\n",
              "    </tr>\n",
              "    <tr>\n",
              "      <th>102</th>\n",
              "      <td>0.593965</td>\n",
              "      <td>-0.335978</td>\n",
              "      <td>-0.107986</td>\n",
              "    </tr>\n",
              "  </tbody>\n",
              "</table>\n",
              "<p>88 rows × 3 columns</p>\n",
              "</div>\n",
              "      <button class=\"colab-df-convert\" onclick=\"convertToInteractive('df-80fc38aa-1c3a-4cb4-8600-a0114036d174')\"\n",
              "              title=\"Convert this dataframe to an interactive table.\"\n",
              "              style=\"display:none;\">\n",
              "        \n",
              "  <svg xmlns=\"http://www.w3.org/2000/svg\" height=\"24px\"viewBox=\"0 0 24 24\"\n",
              "       width=\"24px\">\n",
              "    <path d=\"M0 0h24v24H0V0z\" fill=\"none\"/>\n",
              "    <path d=\"M18.56 5.44l.94 2.06.94-2.06 2.06-.94-2.06-.94-.94-2.06-.94 2.06-2.06.94zm-11 1L8.5 8.5l.94-2.06 2.06-.94-2.06-.94L8.5 2.5l-.94 2.06-2.06.94zm10 10l.94 2.06.94-2.06 2.06-.94-2.06-.94-.94-2.06-.94 2.06-2.06.94z\"/><path d=\"M17.41 7.96l-1.37-1.37c-.4-.4-.92-.59-1.43-.59-.52 0-1.04.2-1.43.59L10.3 9.45l-7.72 7.72c-.78.78-.78 2.05 0 2.83L4 21.41c.39.39.9.59 1.41.59.51 0 1.02-.2 1.41-.59l7.78-7.78 2.81-2.81c.8-.78.8-2.07 0-2.86zM5.41 20L4 18.59l7.72-7.72 1.47 1.35L5.41 20z\"/>\n",
              "  </svg>\n",
              "      </button>\n",
              "      \n",
              "  <style>\n",
              "    .colab-df-container {\n",
              "      display:flex;\n",
              "      flex-wrap:wrap;\n",
              "      gap: 12px;\n",
              "    }\n",
              "\n",
              "    .colab-df-convert {\n",
              "      background-color: #E8F0FE;\n",
              "      border: none;\n",
              "      border-radius: 50%;\n",
              "      cursor: pointer;\n",
              "      display: none;\n",
              "      fill: #1967D2;\n",
              "      height: 32px;\n",
              "      padding: 0 0 0 0;\n",
              "      width: 32px;\n",
              "    }\n",
              "\n",
              "    .colab-df-convert:hover {\n",
              "      background-color: #E2EBFA;\n",
              "      box-shadow: 0px 1px 2px rgba(60, 64, 67, 0.3), 0px 1px 3px 1px rgba(60, 64, 67, 0.15);\n",
              "      fill: #174EA6;\n",
              "    }\n",
              "\n",
              "    [theme=dark] .colab-df-convert {\n",
              "      background-color: #3B4455;\n",
              "      fill: #D2E3FC;\n",
              "    }\n",
              "\n",
              "    [theme=dark] .colab-df-convert:hover {\n",
              "      background-color: #434B5C;\n",
              "      box-shadow: 0px 1px 3px 1px rgba(0, 0, 0, 0.15);\n",
              "      filter: drop-shadow(0px 1px 2px rgba(0, 0, 0, 0.3));\n",
              "      fill: #FFFFFF;\n",
              "    }\n",
              "  </style>\n",
              "\n",
              "      <script>\n",
              "        const buttonEl =\n",
              "          document.querySelector('#df-80fc38aa-1c3a-4cb4-8600-a0114036d174 button.colab-df-convert');\n",
              "        buttonEl.style.display =\n",
              "          google.colab.kernel.accessAllowed ? 'block' : 'none';\n",
              "\n",
              "        async function convertToInteractive(key) {\n",
              "          const element = document.querySelector('#df-80fc38aa-1c3a-4cb4-8600-a0114036d174');\n",
              "          const dataTable =\n",
              "            await google.colab.kernel.invokeFunction('convertToInteractive',\n",
              "                                                     [key], {});\n",
              "          if (!dataTable) return;\n",
              "\n",
              "          const docLinkHtml = 'Like what you see? Visit the ' +\n",
              "            '<a target=\"_blank\" href=https://colab.research.google.com/notebooks/data_table.ipynb>data table notebook</a>'\n",
              "            + ' to learn more about interactive tables.';\n",
              "          element.innerHTML = '';\n",
              "          dataTable['output_type'] = 'display_data';\n",
              "          await google.colab.output.renderOutput(dataTable, element);\n",
              "          const docLink = document.createElement('div');\n",
              "          docLink.innerHTML = docLinkHtml;\n",
              "          element.appendChild(docLink);\n",
              "        }\n",
              "      </script>\n",
              "    </div>\n",
              "  </div>\n",
              "  "
            ]
          },
          "metadata": {},
          "execution_count": 21
        }
      ]
    },
    {
      "cell_type": "code",
      "source": [
        "def MSE(a):\n",
        "    yp = a[0]*X_train.iloc[:,0]+a[1]*X_train.iloc[:,1]+a[2]*X_train.iloc[:,2]+a[3]-Y_train\n",
        "    MSE = np.sum(yp**2)\n",
        "    return MSE\n",
        "\n",
        "def MSE_grad(a):\n",
        "    yp = a[0]*X_train.iloc[:,0]+a[1]*X_train.iloc[:,1]+a[2]*X_train.iloc[:,2]+a[3]-Y_train\n",
        "    MSE_grad = np.array(         [2*np.sum(yp*X_train.iloc[:,0])+2*np.sign(a[0]),\n",
        "                         2*np.sum(yp*X_train.iloc[:,1])+2*np.sign(a[1]),\n",
        "                         2*np.sum(yp*X_train.iloc[:,2])+2*np.sign(a[2]),\n",
        "                         2*np.sum(yp)]+2*np.sign(a[3]))\n",
        "    return MSE_grad"
      ],
      "metadata": {
        "id": "eTY1H7LpUa62"
      },
      "execution_count": null,
      "outputs": []
    },
    {
      "cell_type": "code",
      "source": [
        "xa = np.zeros((21, 4))\n",
        "xs = np.array([.0,.0,.0,.0])\n",
        "xa[0] = xs\n",
        "lrate = .002\n",
        "decay = .0\n",
        "for ix in range(20):\n",
        "    lr = lrate/(1+decay*ix)\n",
        "    xc = gradient_descent(MSE_grad,xs,lr,n_iter=1)\n",
        "    xa[ix+1] = xc\n",
        "    xs = xc"
      ],
      "metadata": {
        "id": "d_rWSZWLPJMu"
      },
      "execution_count": null,
      "outputs": []
    },
    {
      "cell_type": "code",
      "source": [
        "a = xa[20,:]\n",
        "yp = a[0]*X_test.iloc[:,0]+a[1]*X_test.iloc[:,1]+a[2]*X_test.iloc[:,2]+a[3]\n",
        "plt.plot(yp,Y_test,'.')\n",
        "plt.xlabel('Predictions')\n",
        "plt.ylabel('Observations')\n",
        "\n",
        "print('Correlation is',np.round(np.corrcoef(yp, Y_test)[0,1],3))"
      ],
      "metadata": {
        "colab": {
          "base_uri": "https://localhost:8080/",
          "height": 297
        },
        "id": "WkAq97hvUa-Y",
        "outputId": "e876c986-1e77-49fd-ca6b-53ffe2c072c2"
      },
      "execution_count": null,
      "outputs": [
        {
          "output_type": "stream",
          "name": "stdout",
          "text": [
            "Correlation is 0.668\n"
          ]
        },
        {
          "output_type": "display_data",
          "data": {
            "text/plain": [
              "<Figure size 432x288 with 1 Axes>"
            ],
            "image/png": "[encoded data removed]"
          },
          "metadata": {
            "needs_background": "light"
          }
        }
      ]
    },
    {
      "cell_type": "code",
      "source": [
        ""
      ],
      "metadata": {
        "id": "SrS0Z1LMUbID"
      },
      "execution_count": null,
      "outputs": []
    }
  ],
  "metadata": {
    "kernelspec": {
      "display_name": "Python 3",
      "language": "python",
      "name": "python3"
    },
    "language_info": {
      "codemirror_mode": {
        "name": "ipython",
        "version": 3
      },
      "file_extension": ".py",
      "mimetype": "text/x-python",
      "name": "python",
      "nbconvert_exporter": "python",
      "pygments_lexer": "ipython3",
      "version": "3.7.4"
    },
    "colab": {
      "name": "GradientDescent.ipynb",
      "provenance": []
    }
  },
  "nbformat": 4,
  "nbformat_minor": 0
}