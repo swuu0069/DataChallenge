{
  "cells": [
    {
      "cell_type": "markdown",
      "metadata": {
        "id": "eIlJvw51mbUq"
      },
      "source": [
        "# Model Interpretability"
      ]
    },
    {
      "cell_type": "code",
      "source": [
        "from google.colab import drive\n",
        "drive.mount('/content/drive')"
      ],
      "metadata": {
        "colab": {
          "base_uri": "https://localhost:8080/"
        },
        "id": "8yC4sXpHoVVg",
        "outputId": "8cf34568-cadb-453c-d124-939506fbab6f"
      },
      "execution_count": null,
      "outputs": [
        {
          "output_type": "stream",
          "name": "stdout",
          "text": [
            "Mounted at /content/drive\n"
          ]
        }
      ]
    },
    {
      "cell_type": "code",
      "source": [
        "%cd drive/MyDrive/ads2002_data/"
      ],
      "metadata": {
        "colab": {
          "base_uri": "https://localhost:8080/"
        },
        "id": "7CGDX0pdQPfC",
        "outputId": "fa2248cb-96f5-4125-c384-c29581fa1abb"
      },
      "execution_count": null,
      "outputs": [
        {
          "output_type": "stream",
          "name": "stdout",
          "text": [
            "/content/drive/MyDrive/ads2002_data\n"
          ]
        }
      ]
    },
    {
      "cell_type": "markdown",
      "metadata": {
        "id": "XsIL3S5VmbUv"
      },
      "source": [
        "One of the advantages of linear models is that it is simple to interpret the effect of features on the predictions of the model. By inspecting the coefficients you can determine the final effect of the model prediction. For example, for a linear regression model\n",
        "\n",
        "$$ y = c_1 x_1 + c_2 x_2 + \\cdots + c_n x_n, $$\n",
        "\n",
        "then if $x_1$ is changed by a small amount $\\Delta x$, then the resulting change in $y$ will be $c_1 \\Delta x$. For a classification problem this change in $y$ is then an input to the logistic function which determines the probability. If $c_1$ is negative then $y$ and $x_1$ are then negatively correlated, i.e., a positive value of $\\Delta x$ will decrease $y$. Hence, for a linear model, which includes Ridge and Lasso regularization, and linear SVM, the coefficients give us global and local interpretability. That is, they inform us about the consequence of small changes in the features for individual observations and for the overall output of the model. The other advantage of the coefficients of linear models, is that there is no extra cost to calculate these.\n",
        "\n",
        "We have also discussed model interpretability with tree based models such as Decision Trees and Random Forests. These models return the feature importance field, which determines how much a feature contributes to reducing the weighted Gini score (impurity) or entropy for classification problems, or the variance for regression problems. By ranking the features we can investigate which features have the most significant effect on creating the tree. Again this is easy to interpret and fast to calculate. However, these do not inform us about changes in individual observations, including the directionality of changes. The feature importance also favours continuous features or categorial features with a large number of options.\n",
        "\n",
        "For black box models such as k-Nearest Neighbours or artificial neural networks it becomes much more difficult to interpret the output of a model, and having such observations could be crucial in convincing a client of the suitability of a model, or trying to understand why a model predicts a medical condition.\n",
        "\n",
        "In this activity we will introduce two modern techniques for interpreting models: LIME and SHAP. "
      ]
    },
    {
      "cell_type": "markdown",
      "metadata": {
        "id": "mYHNaKozmbUw"
      },
      "source": [
        "## Contents\n",
        "\n",
        "* Problem setup\n",
        "* Coefficients of the linear model\n",
        "* Feature importance for tree models\n",
        "* LIME values\n",
        "* SHAP values\n",
        "* Exercises"
      ]
    },
    {
      "cell_type": "markdown",
      "metadata": {
        "id": "6iGFq9QmmbUw"
      },
      "source": [
        "## Problem setup "
      ]
    },
    {
      "cell_type": "markdown",
      "metadata": {
        "id": "taiu93H0CrGM"
      },
      "source": [
        "We will again use the Abalone dataset, which can be downloaded from [Monash Gitlab](https://gitlab.erc.monash.edu.au/bads/data-challenges-resources/-/tree/main/Machine-Learning/Imputation/abalone.csv). This will need to be saved in your working directory.\n",
        "\n",
        "You will probably need to uncomment the following cell to install the required packages."
      ]
    },
    {
      "cell_type": "code",
      "execution_count": null,
      "metadata": {
        "colab": {
          "base_uri": "https://localhost:8080/"
        },
        "id": "2PkF3EHAmbUx",
        "outputId": "356417aa-cb98-4e2e-d10a-5f635789bff3"
      },
      "outputs": [
        {
          "output_type": "stream",
          "name": "stdout",
          "text": [
            "Looking in indexes: https://pypi.org/simple, https://us-python.pkg.dev/colab-wheels/public/simple/\n",
            "Collecting lime\n",
            "  Downloading lime-0.2.0.1.tar.gz (275 kB)\n",
            "\u001b[K     |████████████████████████████████| 275 kB 4.7 MB/s \n",
            "\u001b[?25hRequirement already satisfied: matplotlib in /usr/local/lib/python3.7/dist-packages (from lime) (3.2.2)\n",
            "Requirement already satisfied: numpy in /usr/local/lib/python3.7/dist-packages (from lime) (1.21.6)\n",
            "Requirement already satisfied: scipy in /usr/local/lib/python3.7/dist-packages (from lime) (1.7.3)\n",
            "Requirement already satisfied: tqdm in /usr/local/lib/python3.7/dist-packages (from lime) (4.64.0)\n",
            "Requirement already satisfied: scikit-learn>=0.18 in /usr/local/lib/python3.7/dist-packages (from lime) (1.0.2)\n",
            "Requirement already satisfied: scikit-image>=0.12 in /usr/local/lib/python3.7/dist-packages (from lime) (0.18.3)\n",
            "Requirement already satisfied: imageio>=2.3.0 in /usr/local/lib/python3.7/dist-packages (from scikit-image>=0.12->lime) (2.9.0)\n",
            "Requirement already satisfied: pillow!=7.1.0,!=7.1.1,>=4.3.0 in /usr/local/lib/python3.7/dist-packages (from scikit-image>=0.12->lime) (7.1.2)\n",
            "Requirement already satisfied: tifffile>=2019.7.26 in /usr/local/lib/python3.7/dist-packages (from scikit-image>=0.12->lime) (2021.11.2)\n",
            "Requirement already satisfied: PyWavelets>=1.1.1 in /usr/local/lib/python3.7/dist-packages (from scikit-image>=0.12->lime) (1.3.0)\n",
            "Requirement already satisfied: networkx>=2.0 in /usr/local/lib/python3.7/dist-packages (from scikit-image>=0.12->lime) (2.6.3)\n",
            "Requirement already satisfied: pyparsing!=2.0.4,!=2.1.2,!=2.1.6,>=2.0.1 in /usr/local/lib/python3.7/dist-packages (from matplotlib->lime) (3.0.9)\n",
            "Requirement already satisfied: cycler>=0.10 in /usr/local/lib/python3.7/dist-packages (from matplotlib->lime) (0.11.0)\n",
            "Requirement already satisfied: python-dateutil>=2.1 in /usr/local/lib/python3.7/dist-packages (from matplotlib->lime) (2.8.2)\n",
            "Requirement already satisfied: kiwisolver>=1.0.1 in /usr/local/lib/python3.7/dist-packages (from matplotlib->lime) (1.4.4)\n",
            "Requirement already satisfied: typing-extensions in /usr/local/lib/python3.7/dist-packages (from kiwisolver>=1.0.1->matplotlib->lime) (4.1.1)\n",
            "Requirement already satisfied: six>=1.5 in /usr/local/lib/python3.7/dist-packages (from python-dateutil>=2.1->matplotlib->lime) (1.15.0)\n",
            "Requirement already satisfied: joblib>=0.11 in /usr/local/lib/python3.7/dist-packages (from scikit-learn>=0.18->lime) (1.1.0)\n",
            "Requirement already satisfied: threadpoolctl>=2.0.0 in /usr/local/lib/python3.7/dist-packages (from scikit-learn>=0.18->lime) (3.1.0)\n",
            "Building wheels for collected packages: lime\n",
            "  Building wheel for lime (setup.py) ... \u001b[?25l\u001b[?25hdone\n",
            "  Created wheel for lime: filename=lime-0.2.0.1-py3-none-any.whl size=283857 sha256=8838ff102ea4605d85966bee5d8840a00440b72e6e838108a9b5ae578e40a83c\n",
            "  Stored in directory: /root/.cache/pip/wheels/ca/cb/e5/ac701e12d365a08917bf4c6171c0961bc880a8181359c66aa7\n",
            "Successfully built lime\n",
            "Installing collected packages: lime\n",
            "Successfully installed lime-0.2.0.1\n",
            "Looking in indexes: https://pypi.org/simple, https://us-python.pkg.dev/colab-wheels/public/simple/\n",
            "Collecting shap\n",
            "  Downloading shap-0.41.0-cp37-cp37m-manylinux_2_12_x86_64.manylinux2010_x86_64.whl (569 kB)\n",
            "\u001b[K     |████████████████████████████████| 569 kB 5.0 MB/s \n",
            "\u001b[?25hRequirement already satisfied: numpy in /usr/local/lib/python3.7/dist-packages (from shap) (1.21.6)\n",
            "Requirement already satisfied: cloudpickle in /usr/local/lib/python3.7/dist-packages (from shap) (1.5.0)\n",
            "Requirement already satisfied: packaging>20.9 in /usr/local/lib/python3.7/dist-packages (from shap) (21.3)\n",
            "Requirement already satisfied: pandas in /usr/local/lib/python3.7/dist-packages (from shap) (1.3.5)\n",
            "Requirement already satisfied: scipy in /usr/local/lib/python3.7/dist-packages (from shap) (1.7.3)\n",
            "Requirement already satisfied: tqdm>4.25.0 in /usr/local/lib/python3.7/dist-packages (from shap) (4.64.0)\n",
            "Collecting slicer==0.0.7\n",
            "  Downloading slicer-0.0.7-py3-none-any.whl (14 kB)\n",
            "Requirement already satisfied: numba in /usr/local/lib/python3.7/dist-packages (from shap) (0.56.0)\n",
            "Requirement already satisfied: scikit-learn in /usr/local/lib/python3.7/dist-packages (from shap) (1.0.2)\n",
            "Requirement already satisfied: pyparsing!=3.0.5,>=2.0.2 in /usr/local/lib/python3.7/dist-packages (from packaging>20.9->shap) (3.0.9)\n",
            "Requirement already satisfied: setuptools in /usr/local/lib/python3.7/dist-packages (from numba->shap) (57.4.0)\n",
            "Requirement already satisfied: importlib-metadata in /usr/local/lib/python3.7/dist-packages (from numba->shap) (4.12.0)\n",
            "Requirement already satisfied: llvmlite<0.40,>=0.39.0dev0 in /usr/local/lib/python3.7/dist-packages (from numba->shap) (0.39.0)\n",
            "Requirement already satisfied: zipp>=0.5 in /usr/local/lib/python3.7/dist-packages (from importlib-metadata->numba->shap) (3.8.1)\n",
            "Requirement already satisfied: typing-extensions>=3.6.4 in /usr/local/lib/python3.7/dist-packages (from importlib-metadata->numba->shap) (4.1.1)\n",
            "Requirement already satisfied: pytz>=2017.3 in /usr/local/lib/python3.7/dist-packages (from pandas->shap) (2022.2.1)\n",
            "Requirement already satisfied: python-dateutil>=2.7.3 in /usr/local/lib/python3.7/dist-packages (from pandas->shap) (2.8.2)\n",
            "Requirement already satisfied: six>=1.5 in /usr/local/lib/python3.7/dist-packages (from python-dateutil>=2.7.3->pandas->shap) (1.15.0)\n",
            "Requirement already satisfied: joblib>=0.11 in /usr/local/lib/python3.7/dist-packages (from scikit-learn->shap) (1.1.0)\n",
            "Requirement already satisfied: threadpoolctl>=2.0.0 in /usr/local/lib/python3.7/dist-packages (from scikit-learn->shap) (3.1.0)\n",
            "Installing collected packages: slicer, shap\n",
            "Successfully installed shap-0.41.0 slicer-0.0.7\n",
            "Looking in indexes: https://pypi.org/simple, https://us-python.pkg.dev/colab-wheels/public/simple/\n",
            "Requirement already satisfied: seaborn in /usr/local/lib/python3.7/dist-packages (0.11.2)\n",
            "Requirement already satisfied: numpy>=1.15 in /usr/local/lib/python3.7/dist-packages (from seaborn) (1.21.6)\n",
            "Requirement already satisfied: matplotlib>=2.2 in /usr/local/lib/python3.7/dist-packages (from seaborn) (3.2.2)\n",
            "Requirement already satisfied: scipy>=1.0 in /usr/local/lib/python3.7/dist-packages (from seaborn) (1.7.3)\n",
            "Requirement already satisfied: pandas>=0.23 in /usr/local/lib/python3.7/dist-packages (from seaborn) (1.3.5)\n",
            "Requirement already satisfied: python-dateutil>=2.1 in /usr/local/lib/python3.7/dist-packages (from matplotlib>=2.2->seaborn) (2.8.2)\n",
            "Requirement already satisfied: kiwisolver>=1.0.1 in /usr/local/lib/python3.7/dist-packages (from matplotlib>=2.2->seaborn) (1.4.4)\n",
            "Requirement already satisfied: pyparsing!=2.0.4,!=2.1.2,!=2.1.6,>=2.0.1 in /usr/local/lib/python3.7/dist-packages (from matplotlib>=2.2->seaborn) (3.0.9)\n",
            "Requirement already satisfied: cycler>=0.10 in /usr/local/lib/python3.7/dist-packages (from matplotlib>=2.2->seaborn) (0.11.0)\n",
            "Requirement already satisfied: typing-extensions in /usr/local/lib/python3.7/dist-packages (from kiwisolver>=1.0.1->matplotlib>=2.2->seaborn) (4.1.1)\n",
            "Requirement already satisfied: pytz>=2017.3 in /usr/local/lib/python3.7/dist-packages (from pandas>=0.23->seaborn) (2022.2.1)\n",
            "Requirement already satisfied: six>=1.5 in /usr/local/lib/python3.7/dist-packages (from python-dateutil>=2.1->matplotlib>=2.2->seaborn) (1.15.0)\n"
          ]
        }
      ],
      "source": [
        "!pip3 install -U lime\n",
        "!pip3 install -U shap\n",
        "!pip3 install -U seaborn"
      ]
    },
    {
      "cell_type": "markdown",
      "metadata": {
        "id": "UM4qUGQ6mbUx"
      },
      "source": [
        "Now we import the usual libraries, and the LIME and SHAP libraries."
      ]
    },
    {
      "cell_type": "code",
      "execution_count": null,
      "metadata": {
        "id": "uv07U-n0CrGO"
      },
      "outputs": [],
      "source": [
        "import pandas as pd\n",
        "import numpy as np\n",
        "from matplotlib import pyplot as plt\n",
        "import seaborn as sns\n",
        "import lime\n",
        "import shap"
      ]
    },
    {
      "cell_type": "markdown",
      "metadata": {
        "id": "2JcMg_39mbUz"
      },
      "source": [
        "Then we can read in the abalone dataset and save to a dataframe. This is a clean dataset, so no need for any extensive preprocessing. Recall that the age can be calculated as $Age = Rings+1.5$."
      ]
    },
    {
      "cell_type": "code",
      "execution_count": null,
      "metadata": {
        "colab": {
          "base_uri": "https://localhost:8080/",
          "height": 206
        },
        "id": "hc4xjwCpCrGQ",
        "outputId": "b4b61001-193a-4122-c28b-d2e648fe552b"
      },
      "outputs": [
        {
          "output_type": "execute_result",
          "data": {
            "text/plain": [
              "  Sex  Length  Diameter  Height  Whole weight  Shucked weight  Viscera weight  \\\n",
              "0   M   0.455     0.365   0.095        0.5140          0.2245          0.1010   \n",
              "1   M   0.350     0.265   0.090        0.2255          0.0995          0.0485   \n",
              "2   F   0.530     0.420   0.135        0.6770          0.2565          0.1415   \n",
              "3   M   0.440     0.365   0.125        0.5160          0.2155          0.1140   \n",
              "4   I   0.330     0.255   0.080        0.2050          0.0895          0.0395   \n",
              "\n",
              "   Shell weight  Rings  \n",
              "0         0.150     15  \n",
              "1         0.070      7  \n",
              "2         0.210      9  \n",
              "3         0.155     10  \n",
              "4         0.055      7  "
            ],
            "text/html": [
              "\n",
              "  <div id=\"df-5972b992-b881-438a-b2e4-2cbf09165954\">\n",
              "    <div class=\"colab-df-container\">\n",
              "      <div>\n",
              "<style scoped>\n",
              "    .dataframe tbody tr th:only-of-type {\n",
              "        vertical-align: middle;\n",
              "    }\n",
              "\n",
              "    .dataframe tbody tr th {\n",
              "        vertical-align: top;\n",
              "    }\n",
              "\n",
              "    .dataframe thead th {\n",
              "        text-align: right;\n",
              "    }\n",
              "</style>\n",
              "<table border=\"1\" class=\"dataframe\">\n",
              "  <thead>\n",
              "    <tr style=\"text-align: right;\">\n",
              "      <th></th>\n",
              "      <th>Sex</th>\n",
              "      <th>Length</th>\n",
              "      <th>Diameter</th>\n",
              "      <th>Height</th>\n",
              "      <th>Whole weight</th>\n",
              "      <th>Shucked weight</th>\n",
              "      <th>Viscera weight</th>\n",
              "      <th>Shell weight</th>\n",
              "      <th>Rings</th>\n",
              "    </tr>\n",
              "  </thead>\n",
              "  <tbody>\n",
              "    <tr>\n",
              "      <th>0</th>\n",
              "      <td>M</td>\n",
              "      <td>0.455</td>\n",
              "      <td>0.365</td>\n",
              "      <td>0.095</td>\n",
              "      <td>0.5140</td>\n",
              "      <td>0.2245</td>\n",
              "      <td>0.1010</td>\n",
              "      <td>0.150</td>\n",
              "      <td>15</td>\n",
              "    </tr>\n",
              "    <tr>\n",
              "      <th>1</th>\n",
              "      <td>M</td>\n",
              "      <td>0.350</td>\n",
              "      <td>0.265</td>\n",
              "      <td>0.090</td>\n",
              "      <td>0.2255</td>\n",
              "      <td>0.0995</td>\n",
              "      <td>0.0485</td>\n",
              "      <td>0.070</td>\n",
              "      <td>7</td>\n",
              "    </tr>\n",
              "    <tr>\n",
              "      <th>2</th>\n",
              "      <td>F</td>\n",
              "      <td>0.530</td>\n",
              "      <td>0.420</td>\n",
              "      <td>0.135</td>\n",
              "      <td>0.6770</td>\n",
              "      <td>0.2565</td>\n",
              "      <td>0.1415</td>\n",
              "      <td>0.210</td>\n",
              "      <td>9</td>\n",
              "    </tr>\n",
              "    <tr>\n",
              "      <th>3</th>\n",
              "      <td>M</td>\n",
              "      <td>0.440</td>\n",
              "      <td>0.365</td>\n",
              "      <td>0.125</td>\n",
              "      <td>0.5160</td>\n",
              "      <td>0.2155</td>\n",
              "      <td>0.1140</td>\n",
              "      <td>0.155</td>\n",
              "      <td>10</td>\n",
              "    </tr>\n",
              "    <tr>\n",
              "      <th>4</th>\n",
              "      <td>I</td>\n",
              "      <td>0.330</td>\n",
              "      <td>0.255</td>\n",
              "      <td>0.080</td>\n",
              "      <td>0.2050</td>\n",
              "      <td>0.0895</td>\n",
              "      <td>0.0395</td>\n",
              "      <td>0.055</td>\n",
              "      <td>7</td>\n",
              "    </tr>\n",
              "  </tbody>\n",
              "</table>\n",
              "</div>\n",
              "      <button class=\"colab-df-convert\" onclick=\"convertToInteractive('df-5972b992-b881-438a-b2e4-2cbf09165954')\"\n",
              "              title=\"Convert this dataframe to an interactive table.\"\n",
              "              style=\"display:none;\">\n",
              "        \n",
              "  <svg xmlns=\"http://www.w3.org/2000/svg\" height=\"24px\"viewBox=\"0 0 24 24\"\n",
              "       width=\"24px\">\n",
              "    <path d=\"M0 0h24v24H0V0z\" fill=\"none\"/>\n",
              "    <path d=\"M18.56 5.44l.94 2.06.94-2.06 2.06-.94-2.06-.94-.94-2.06-.94 2.06-2.06.94zm-11 1L8.5 8.5l.94-2.06 2.06-.94-2.06-.94L8.5 2.5l-.94 2.06-2.06.94zm10 10l.94 2.06.94-2.06 2.06-.94-2.06-.94-.94-2.06-.94 2.06-2.06.94z\"/><path d=\"M17.41 7.96l-1.37-1.37c-.4-.4-.92-.59-1.43-.59-.52 0-1.04.2-1.43.59L10.3 9.45l-7.72 7.72c-.78.78-.78 2.05 0 2.83L4 21.41c.39.39.9.59 1.41.59.51 0 1.02-.2 1.41-.59l7.78-7.78 2.81-2.81c.8-.78.8-2.07 0-2.86zM5.41 20L4 18.59l7.72-7.72 1.47 1.35L5.41 20z\"/>\n",
              "  </svg>\n",
              "      </button>\n",
              "      \n",
              "  <style>\n",
              "    .colab-df-container {\n",
              "      display:flex;\n",
              "      flex-wrap:wrap;\n",
              "      gap: 12px;\n",
              "    }\n",
              "\n",
              "    .colab-df-convert {\n",
              "      background-color: #E8F0FE;\n",
              "      border: none;\n",
              "      border-radius: 50%;\n",
              "      cursor: pointer;\n",
              "      display: none;\n",
              "      fill: #1967D2;\n",
              "      height: 32px;\n",
              "      padding: 0 0 0 0;\n",
              "      width: 32px;\n",
              "    }\n",
              "\n",
              "    .colab-df-convert:hover {\n",
              "      background-color: #E2EBFA;\n",
              "      box-shadow: 0px 1px 2px rgba(60, 64, 67, 0.3), 0px 1px 3px 1px rgba(60, 64, 67, 0.15);\n",
              "      fill: #174EA6;\n",
              "    }\n",
              "\n",
              "    [theme=dark] .colab-df-convert {\n",
              "      background-color: #3B4455;\n",
              "      fill: #D2E3FC;\n",
              "    }\n",
              "\n",
              "    [theme=dark] .colab-df-convert:hover {\n",
              "      background-color: #434B5C;\n",
              "      box-shadow: 0px 1px 3px 1px rgba(0, 0, 0, 0.15);\n",
              "      filter: drop-shadow(0px 1px 2px rgba(0, 0, 0, 0.3));\n",
              "      fill: #FFFFFF;\n",
              "    }\n",
              "  </style>\n",
              "\n",
              "      <script>\n",
              "        const buttonEl =\n",
              "          document.querySelector('#df-5972b992-b881-438a-b2e4-2cbf09165954 button.colab-df-convert');\n",
              "        buttonEl.style.display =\n",
              "          google.colab.kernel.accessAllowed ? 'block' : 'none';\n",
              "\n",
              "        async function convertToInteractive(key) {\n",
              "          const element = document.querySelector('#df-5972b992-b881-438a-b2e4-2cbf09165954');\n",
              "          const dataTable =\n",
              "            await google.colab.kernel.invokeFunction('convertToInteractive',\n",
              "                                                     [key], {});\n",
              "          if (!dataTable) return;\n",
              "\n",
              "          const docLinkHtml = 'Like what you see? Visit the ' +\n",
              "            '<a target=\"_blank\" href=https://colab.research.google.com/notebooks/data_table.ipynb>data table notebook</a>'\n",
              "            + ' to learn more about interactive tables.';\n",
              "          element.innerHTML = '';\n",
              "          dataTable['output_type'] = 'display_data';\n",
              "          await google.colab.output.renderOutput(dataTable, element);\n",
              "          const docLink = document.createElement('div');\n",
              "          docLink.innerHTML = docLinkHtml;\n",
              "          element.appendChild(docLink);\n",
              "        }\n",
              "      </script>\n",
              "    </div>\n",
              "  </div>\n",
              "  "
            ]
          },
          "metadata": {},
          "execution_count": 5
        }
      ],
      "source": [
        "abalone = pd.read_csv(\"abalone.csv\")\n",
        "abalone.head()"
      ]
    },
    {
      "cell_type": "markdown",
      "metadata": {
        "id": "UYHlwOnombU1"
      },
      "source": [
        "The only requirement for modelling is that we convert the `Sex` field to categorical columns. This field has three values: `M` - male, `F` - female and `I` - infant. Then the `Sex` field can be dropped."
      ]
    },
    {
      "cell_type": "code",
      "execution_count": null,
      "metadata": {
        "colab": {
          "base_uri": "https://localhost:8080/",
          "height": 206
        },
        "id": "e64hMSoaCrGQ",
        "outputId": "3f020a6b-2c84-4ed7-b8c1-63cab4364b7a"
      },
      "outputs": [
        {
          "output_type": "execute_result",
          "data": {
            "text/plain": [
              "   Length  Diameter  Height  Whole weight  Shucked weight  Viscera weight  \\\n",
              "0   0.455     0.365   0.095        0.5140          0.2245          0.1010   \n",
              "1   0.350     0.265   0.090        0.2255          0.0995          0.0485   \n",
              "2   0.530     0.420   0.135        0.6770          0.2565          0.1415   \n",
              "3   0.440     0.365   0.125        0.5160          0.2155          0.1140   \n",
              "4   0.330     0.255   0.080        0.2050          0.0895          0.0395   \n",
              "\n",
              "   Shell weight  Rings  F  I  M  \n",
              "0         0.150     15  0  0  1  \n",
              "1         0.070      7  0  0  1  \n",
              "2         0.210      9  1  0  0  \n",
              "3         0.155     10  0  0  1  \n",
              "4         0.055      7  0  1  0  "
            ],
            "text/html": [
              "\n",
              "  <div id=\"df-55ee1654-a7a8-473b-87e8-aaf71383aace\">\n",
              "    <div class=\"colab-df-container\">\n",
              "      <div>\n",
              "<style scoped>\n",
              "    .dataframe tbody tr th:only-of-type {\n",
              "        vertical-align: middle;\n",
              "    }\n",
              "\n",
              "    .dataframe tbody tr th {\n",
              "        vertical-align: top;\n",
              "    }\n",
              "\n",
              "    .dataframe thead th {\n",
              "        text-align: right;\n",
              "    }\n",
              "</style>\n",
              "<table border=\"1\" class=\"dataframe\">\n",
              "  <thead>\n",
              "    <tr style=\"text-align: right;\">\n",
              "      <th></th>\n",
              "      <th>Length</th>\n",
              "      <th>Diameter</th>\n",
              "      <th>Height</th>\n",
              "      <th>Whole weight</th>\n",
              "      <th>Shucked weight</th>\n",
              "      <th>Viscera weight</th>\n",
              "      <th>Shell weight</th>\n",
              "      <th>Rings</th>\n",
              "      <th>F</th>\n",
              "      <th>I</th>\n",
              "      <th>M</th>\n",
              "    </tr>\n",
              "  </thead>\n",
              "  <tbody>\n",
              "    <tr>\n",
              "      <th>0</th>\n",
              "      <td>0.455</td>\n",
              "      <td>0.365</td>\n",
              "      <td>0.095</td>\n",
              "      <td>0.5140</td>\n",
              "      <td>0.2245</td>\n",
              "      <td>0.1010</td>\n",
              "      <td>0.150</td>\n",
              "      <td>15</td>\n",
              "      <td>0</td>\n",
              "      <td>0</td>\n",
              "      <td>1</td>\n",
              "    </tr>\n",
              "    <tr>\n",
              "      <th>1</th>\n",
              "      <td>0.350</td>\n",
              "      <td>0.265</td>\n",
              "      <td>0.090</td>\n",
              "      <td>0.2255</td>\n",
              "      <td>0.0995</td>\n",
              "      <td>0.0485</td>\n",
              "      <td>0.070</td>\n",
              "      <td>7</td>\n",
              "      <td>0</td>\n",
              "      <td>0</td>\n",
              "      <td>1</td>\n",
              "    </tr>\n",
              "    <tr>\n",
              "      <th>2</th>\n",
              "      <td>0.530</td>\n",
              "      <td>0.420</td>\n",
              "      <td>0.135</td>\n",
              "      <td>0.6770</td>\n",
              "      <td>0.2565</td>\n",
              "      <td>0.1415</td>\n",
              "      <td>0.210</td>\n",
              "      <td>9</td>\n",
              "      <td>1</td>\n",
              "      <td>0</td>\n",
              "      <td>0</td>\n",
              "    </tr>\n",
              "    <tr>\n",
              "      <th>3</th>\n",
              "      <td>0.440</td>\n",
              "      <td>0.365</td>\n",
              "      <td>0.125</td>\n",
              "      <td>0.5160</td>\n",
              "      <td>0.2155</td>\n",
              "      <td>0.1140</td>\n",
              "      <td>0.155</td>\n",
              "      <td>10</td>\n",
              "      <td>0</td>\n",
              "      <td>0</td>\n",
              "      <td>1</td>\n",
              "    </tr>\n",
              "    <tr>\n",
              "      <th>4</th>\n",
              "      <td>0.330</td>\n",
              "      <td>0.255</td>\n",
              "      <td>0.080</td>\n",
              "      <td>0.2050</td>\n",
              "      <td>0.0895</td>\n",
              "      <td>0.0395</td>\n",
              "      <td>0.055</td>\n",
              "      <td>7</td>\n",
              "      <td>0</td>\n",
              "      <td>1</td>\n",
              "      <td>0</td>\n",
              "    </tr>\n",
              "  </tbody>\n",
              "</table>\n",
              "</div>\n",
              "      <button class=\"colab-df-convert\" onclick=\"convertToInteractive('df-55ee1654-a7a8-473b-87e8-aaf71383aace')\"\n",
              "              title=\"Convert this dataframe to an interactive table.\"\n",
              "              style=\"display:none;\">\n",
              "        \n",
              "  <svg xmlns=\"http://www.w3.org/2000/svg\" height=\"24px\"viewBox=\"0 0 24 24\"\n",
              "       width=\"24px\">\n",
              "    <path d=\"M0 0h24v24H0V0z\" fill=\"none\"/>\n",
              "    <path d=\"M18.56 5.44l.94 2.06.94-2.06 2.06-.94-2.06-.94-.94-2.06-.94 2.06-2.06.94zm-11 1L8.5 8.5l.94-2.06 2.06-.94-2.06-.94L8.5 2.5l-.94 2.06-2.06.94zm10 10l.94 2.06.94-2.06 2.06-.94-2.06-.94-.94-2.06-.94 2.06-2.06.94z\"/><path d=\"M17.41 7.96l-1.37-1.37c-.4-.4-.92-.59-1.43-.59-.52 0-1.04.2-1.43.59L10.3 9.45l-7.72 7.72c-.78.78-.78 2.05 0 2.83L4 21.41c.39.39.9.59 1.41.59.51 0 1.02-.2 1.41-.59l7.78-7.78 2.81-2.81c.8-.78.8-2.07 0-2.86zM5.41 20L4 18.59l7.72-7.72 1.47 1.35L5.41 20z\"/>\n",
              "  </svg>\n",
              "      </button>\n",
              "      \n",
              "  <style>\n",
              "    .colab-df-container {\n",
              "      display:flex;\n",
              "      flex-wrap:wrap;\n",
              "      gap: 12px;\n",
              "    }\n",
              "\n",
              "    .colab-df-convert {\n",
              "      background-color: #E8F0FE;\n",
              "      border: none;\n",
              "      border-radius: 50%;\n",
              "      cursor: pointer;\n",
              "      display: none;\n",
              "      fill: #1967D2;\n",
              "      height: 32px;\n",
              "      padding: 0 0 0 0;\n",
              "      width: 32px;\n",
              "    }\n",
              "\n",
              "    .colab-df-convert:hover {\n",
              "      background-color: #E2EBFA;\n",
              "      box-shadow: 0px 1px 2px rgba(60, 64, 67, 0.3), 0px 1px 3px 1px rgba(60, 64, 67, 0.15);\n",
              "      fill: #174EA6;\n",
              "    }\n",
              "\n",
              "    [theme=dark] .colab-df-convert {\n",
              "      background-color: #3B4455;\n",
              "      fill: #D2E3FC;\n",
              "    }\n",
              "\n",
              "    [theme=dark] .colab-df-convert:hover {\n",
              "      background-color: #434B5C;\n",
              "      box-shadow: 0px 1px 3px 1px rgba(0, 0, 0, 0.15);\n",
              "      filter: drop-shadow(0px 1px 2px rgba(0, 0, 0, 0.3));\n",
              "      fill: #FFFFFF;\n",
              "    }\n",
              "  </style>\n",
              "\n",
              "      <script>\n",
              "        const buttonEl =\n",
              "          document.querySelector('#df-55ee1654-a7a8-473b-87e8-aaf71383aace button.colab-df-convert');\n",
              "        buttonEl.style.display =\n",
              "          google.colab.kernel.accessAllowed ? 'block' : 'none';\n",
              "\n",
              "        async function convertToInteractive(key) {\n",
              "          const element = document.querySelector('#df-55ee1654-a7a8-473b-87e8-aaf71383aace');\n",
              "          const dataTable =\n",
              "            await google.colab.kernel.invokeFunction('convertToInteractive',\n",
              "                                                     [key], {});\n",
              "          if (!dataTable) return;\n",
              "\n",
              "          const docLinkHtml = 'Like what you see? Visit the ' +\n",
              "            '<a target=\"_blank\" href=https://colab.research.google.com/notebooks/data_table.ipynb>data table notebook</a>'\n",
              "            + ' to learn more about interactive tables.';\n",
              "          element.innerHTML = '';\n",
              "          dataTable['output_type'] = 'display_data';\n",
              "          await google.colab.output.renderOutput(dataTable, element);\n",
              "          const docLink = document.createElement('div');\n",
              "          docLink.innerHTML = docLinkHtml;\n",
              "          element.appendChild(docLink);\n",
              "        }\n",
              "      </script>\n",
              "    </div>\n",
              "  </div>\n",
              "  "
            ]
          },
          "metadata": {},
          "execution_count": 6
        }
      ],
      "source": [
        "dummy = pd.get_dummies(abalone['Sex'])\n",
        "abalone = pd.concat([abalone, dummy], axis=1)\n",
        "abalone.drop(columns=['Sex'], inplace=True)\n",
        "abalone.head()"
      ]
    },
    {
      "cell_type": "markdown",
      "metadata": {
        "id": "ArhW0uOGYe9S"
      },
      "source": [
        "As this is a regression problem the simplest understanding comes from inspecting the correlation coefficients. We drop the categorical fields and then can compare the correlation for all the other variables. There is considerable multi-collinearity, especially between `Diameter` and `Length`, however we will ignore that here. We can set up reduced models, but these do not have the same accuracy as the full dataset. The length measurements all seem to have a similar effect on `Rings`, while the weight measurements have slightly varying effect."
      ]
    },
    {
      "cell_type": "code",
      "execution_count": null,
      "metadata": {
        "colab": {
          "base_uri": "https://localhost:8080/",
          "height": 552
        },
        "id": "hyYfXuxWWho6",
        "outputId": "2d054ab9-01dc-4274-c6c6-8737929eb400"
      },
      "outputs": [
        {
          "output_type": "display_data",
          "data": {
            "text/plain": [
              "<Figure size 720x576 with 2 Axes>"
            ],
            "image/png": "[encoded data removed]"
          },
          "metadata": {
            "needs_background": "light"
          }
        }
      ],
      "source": [
        "corrs = abalone.drop(columns=['M', 'F', 'I']).corr() # calculate the correlation table\n",
        "# as this is a symmetric table, set up a mask so that we only plot values below the main diagonal\n",
        "mask = np.triu(np.ones_like(corrs, dtype=bool)) \n",
        "f, ax = plt.subplots(figsize=(10, 8)) # initialise the plots and axes\n",
        "# plot the correlations as a seaborn heatmap, with a colourbar\n",
        "sns.heatmap(corrs, mask=mask, center=0, annot=True, square=True, linewidths=.5) \n",
        "# do some fiddling so that the top and bottom are not obscured\n",
        "bottom, top = ax.get_ylim() \n",
        "ax.set_ylim(bottom + 0.5, top - 0.5);"
      ]
    },
    {
      "cell_type": "markdown",
      "metadata": {
        "id": "R8QsLSgymbU2"
      },
      "source": [
        "## Coefficients of the linear model"
      ]
    },
    {
      "cell_type": "markdown",
      "metadata": {
        "id": "wGGGIABombU2"
      },
      "source": [
        "For the linear model we set up a features array and a target array. The routine `np.ravel()` flattens the target array to a vector. We can eliminate one of the variables `M`, `F` or `I`, since the sum of these is one. In this case we eliminate `I`. This is done to make all the coefficients of similar magnitude."
      ]
    },
    {
      "cell_type": "code",
      "execution_count": null,
      "metadata": {
        "id": "4uxyNnK7CrGQ"
      },
      "outputs": [],
      "source": [
        "Xf = abalone.drop(columns=['I', 'Rings'])\n",
        "Yf = np.ravel(abalone[['Rings']])"
      ]
    },
    {
      "cell_type": "markdown",
      "metadata": {
        "id": "UTDpVRNombU3"
      },
      "source": [
        "The creation of the linear model with `sklearn` follows the usual workflow: split the dataset, instantatiate the model, fit the training data to the model, create predictions for the testing set and compare these with the actual labels. The accuracy is reasonable, considering there is no tuning of the model."
      ]
    },
    {
      "cell_type": "code",
      "execution_count": null,
      "metadata": {
        "colab": {
          "base_uri": "https://localhost:8080/"
        },
        "id": "m8MGYd2gVORm",
        "outputId": "2a331485-8618-472b-8ff0-cfd0e31381d6"
      },
      "outputs": [
        {
          "output_type": "stream",
          "name": "stdout",
          "text": [
            "Testing score is 0.539\n"
          ]
        }
      ],
      "source": [
        "from sklearn.linear_model import LinearRegression\n",
        "from sklearn.model_selection import train_test_split\n",
        "from sklearn.metrics import r2_score\n",
        "\n",
        "X_train, X_test, Y_train, Y_test = train_test_split(Xf, Yf, test_size=0.2, random_state=0) \n",
        "\n",
        "linmodel = LinearRegression() \n",
        "linmodel.fit(X_train, Y_train)\n",
        "Y_pred = linmodel.predict(X_test) \n",
        "acc = r2_score(Y_test,Y_pred) \n",
        "print(\"Testing score is %5.3f\" % acc)"
      ]
    },
    {
      "cell_type": "markdown",
      "metadata": {
        "id": "nb0jujrhmbU3"
      },
      "source": [
        "By inspecting the coefficients we can now understand what features have the most significant effect on the output of the model. This shows that if the features increase by the same amount, then `Shucked weight`, followed by `Diameter` and `Viscera weight`, have the largest effect. However, we see that the model predicts that as `Shucked weight` and `Viscera weight` increase, then the age decreases, which appears to be counterintuitive."
      ]
    },
    {
      "cell_type": "code",
      "execution_count": null,
      "metadata": {
        "colab": {
          "base_uri": "https://localhost:8080/",
          "height": 279
        },
        "id": "M4Tq2DwQXsC1",
        "outputId": "a6e38cf2-77ba-4be9-e94e-e64d4216abee"
      },
      "outputs": [
        {
          "output_type": "display_data",
          "data": {
            "text/plain": [
              "<Figure size 432x288 with 1 Axes>"
            ],
            "image/png": "[encoded data removed]"
          },
          "metadata": {
            "needs_background": "light"
          }
        }
      ],
      "source": [
        "importances = linmodel.coef_\n",
        "indices = np.argsort(np.abs(importances))\n",
        "\n",
        "features = X_train.columns\n",
        "plt.barh(range(len(indices)), importances[indices], color='b', align='center')\n",
        "plt.yticks(range(len(indices)), [features[i] for i in indices])\n",
        "plt.xlabel('Model Coefficients');"
      ]
    },
    {
      "cell_type": "markdown",
      "metadata": {
        "id": "nBIL19ZImbU3"
      },
      "source": [
        "To understand the feature importance, i.e., the overall significance of the feature on the model, we need to take into account how much each variable changes, which is characterised by the standard deviation. For example, when `M` and `F` vary they will always vary by one, whereas the variation of all the other variables depends on the units they are measured in. Therefore we can calculate the feature importance by multiplying the coefficients by the standard deviation of each variable. This gives that for the linear model that `Whole weight` is the most significant variable. This is again to be expected as `Whole weight` is the sum of all the other weights, and so should have higher variance. The negative effects of `Shucked weight` and `Viscera weight` can then be understood as compensatory effects for the increase in `Whole weight`. Now the effect of the length variables drops in comparison to all the other variables."
      ]
    },
    {
      "cell_type": "code",
      "execution_count": null,
      "metadata": {
        "colab": {
          "base_uri": "https://localhost:8080/",
          "height": 279
        },
        "id": "WEcx9GqZmbU3",
        "outputId": "c1d82ca2-ac8c-4980-d13a-0c3a354864aa"
      },
      "outputs": [
        {
          "output_type": "display_data",
          "data": {
            "text/plain": [
              "<Figure size 432x288 with 1 Axes>"
            ],
            "image/png": "[encoded data removed]"
          },
          "metadata": {
            "needs_background": "light"
          }
        }
      ],
      "source": [
        "scaled_importances = importances*Xf.std()\n",
        "indices = np.argsort(np.abs(scaled_importances))\n",
        "\n",
        "features = X_train.columns\n",
        "plt.barh(range(len(indices)), scaled_importances[indices], color='b', align='center')\n",
        "plt.yticks(range(len(indices)), [features[i] for i in indices])\n",
        "plt.xlabel('Feature Importance');"
      ]
    },
    {
      "cell_type": "markdown",
      "metadata": {
        "id": "lNnCcERmmbU3"
      },
      "source": [
        "## Feature importance for tree models"
      ]
    },
    {
      "cell_type": "markdown",
      "metadata": {
        "id": "oPW6CfmQmbU4"
      },
      "source": [
        "To investigate feature importance for tree models we just need to access the corresponding field for the model. First, we will set up a simple Random Forest regression model. Since this is a nonlinear model, this gives an improved accuracy compared the linear regression model."
      ]
    },
    {
      "cell_type": "code",
      "execution_count": null,
      "metadata": {
        "colab": {
          "base_uri": "https://localhost:8080/"
        },
        "id": "DWGMjfVKCrGR",
        "outputId": "5f6f4c95-813b-4ef1-8123-fa6d297576ff"
      },
      "outputs": [
        {
          "output_type": "stream",
          "name": "stdout",
          "text": [
            "Testing score is 0.571\n"
          ]
        }
      ],
      "source": [
        "from sklearn.ensemble import RandomForestRegressor\n",
        "\n",
        "X_train, X_test, Y_train, Y_test = train_test_split(Xf, Yf, test_size=0.2, random_state=0) \n",
        "rfc = RandomForestRegressor() \n",
        "rfc.fit(X_train, Y_train) # fit the data to the model\n",
        "Y_pred = rfc.predict(X_test) \n",
        "acc = r2_score(Y_test,Y_pred) \n",
        "print(\"Testing score is %5.3f\" % acc)"
      ]
    },
    {
      "cell_type": "markdown",
      "metadata": {
        "id": "2m-_wIE4X83_"
      },
      "source": [
        "We can now access the feature importance. In this case it corresponds to the weighted effect on the splitting of the variance in creating the ensemble of trees. This is a relative effect, where the sum of the feature importance is one, hence there is no need to normalize this variable to understand the importance. Now we see that the feature importance generally follows the ranking that was obtained for the linear regression model. However, there is no indication of whether the particular variables have a positive or negative effect."
      ]
    },
    {
      "cell_type": "code",
      "execution_count": null,
      "metadata": {
        "colab": {
          "base_uri": "https://localhost:8080/",
          "height": 279
        },
        "id": "ltiNEHvgCrGR",
        "outputId": "5162f2ea-de41-40f8-862c-8c5c89770c7b"
      },
      "outputs": [
        {
          "output_type": "display_data",
          "data": {
            "text/plain": [
              "<Figure size 432x288 with 1 Axes>"
            ],
            "image/png": "[encoded data removed]"
          },
          "metadata": {
            "needs_background": "light"
          }
        }
      ],
      "source": [
        "importances = rfc.feature_importances_\n",
        "indices = np.argsort(importances)\n",
        "\n",
        "features = X_train.columns\n",
        "plt.barh(range(len(indices)), importances[indices], color='b', align='center')\n",
        "plt.yticks(range(len(indices)), [features[i] for i in indices])\n",
        "plt.xlabel('Relative Importance');"
      ]
    },
    {
      "cell_type": "markdown",
      "metadata": {
        "id": "WuIGHBS_mbU4"
      },
      "source": [
        "## LIME values"
      ]
    },
    {
      "cell_type": "markdown",
      "metadata": {
        "id": "n-B0jaZ5mbU4"
      },
      "source": [
        "Lime (local interpretable model-agnostic explanations) is a package which can be used to explain individual observations from a model. A full explanation of the package can be found on [github](https://github.com/marcotcr/lime). Essentially what the package does is to take observations in the vicinity of the observation of interest and create a linear model, where the importance of the other observations is weighted by distance from the observation of interest. This then causes any nonlinear regression or classification boundary to become linear. In terms of multivariable calculus, this can be thought of as taking the tangent to the model. Hence, Lime only gives local interpretability. However, its main advantage is that it is relatively quick to calculate and can be used for any machine learning model. \n",
        "\n",
        "Lime can be used for classification, multi-label classification and regression problems. We will just consider regression problems.\n",
        "\n",
        "The first step is to create an explainer for the model that you want to interpret. We will do this for the Random Forest model we previously created."
      ]
    },
    {
      "cell_type": "code",
      "execution_count": null,
      "metadata": {
        "id": "9GDeniqYN0bE"
      },
      "outputs": [],
      "source": [
        "import lime\n",
        "import lime.lime_tabular\n",
        "\n",
        "explainer = lime.lime_tabular.LimeTabularExplainer(np.array(X_train),\n",
        "                                                   feature_names=features,\n",
        "                                                   verbose=True,\n",
        "                                                   mode='regression')"
      ]
    },
    {
      "cell_type": "code",
      "source": [
        "features"
      ],
      "metadata": {
        "colab": {
          "base_uri": "https://localhost:8080/"
        },
        "id": "oj2IqzaIlBZd",
        "outputId": "6969b265-d88e-403f-f39b-c5a290a22ba9"
      },
      "execution_count": null,
      "outputs": [
        {
          "output_type": "execute_result",
          "data": {
            "text/plain": [
              "Index(['Length', 'Diameter', 'Height', 'Whole weight', 'Shucked weight',\n",
              "       'Viscera weight', 'Shell weight', 'F', 'M'],\n",
              "      dtype='object')"
            ]
          },
          "metadata": {},
          "execution_count": 15
        }
      ]
    },
    {
      "cell_type": "markdown",
      "metadata": {
        "id": "nrcWFKp4mcRQ"
      },
      "source": [
        "Then we use the explainer to interpret a particular instance for this model. We also need to pass the prediction function for the model, so that the labels around this particular instance can be calculated. The explainer outputs three diagnostics. The first is the intercept, which is the value for the local model when all Lime values are zero. The second value is the prediction of the linear model, and the third is the prediction of the nonlinear model (i.e., in this case the Random Forest regressor).\n",
        "\n",
        "Once we have instantatiated the explainer for this particular instance, we can print the Lime values as a list. The Lime values are the second value in the array, while the first field shows the variance of that particular feature. The Lime values can be thought of as the local linear feature importance for the nonlinear model, i.e., coefficients values multiplied by the standard deviation. In this particular instance we again see that the weights are the most important features. The `Whole weight`  and `Shell weight` have negative effects, and so, reduce the number of rings from the value at the intercept, whereas `Shucked weight` will increase the number of rings."
      ]
    },
    {
      "cell_type": "code",
      "source": [
        "X_test"
      ],
      "metadata": {
        "colab": {
          "base_uri": "https://localhost:8080/",
          "height": 424
        },
        "id": "PFe9cnoplMC2",
        "outputId": "b6b3e147-e431-40c9-b29f-12ff91a63ded"
      },
      "execution_count": null,
      "outputs": [
        {
          "output_type": "execute_result",
          "data": {
            "text/plain": [
              "      Length  Diameter  Height  Whole weight  Shucked weight  Viscera weight  \\\n",
              "668    0.550     0.425   0.155        0.9175          0.2775          0.2430   \n",
              "1580   0.500     0.400   0.120        0.6160          0.2610          0.1430   \n",
              "3784   0.620     0.480   0.155        1.2555          0.5270          0.3740   \n",
              "463    0.220     0.165   0.055        0.0545          0.0215          0.0120   \n",
              "2615   0.645     0.500   0.175        1.5105          0.6735          0.3755   \n",
              "...      ...       ...     ...           ...             ...             ...   \n",
              "575    0.610     0.475   0.140        1.1330          0.5275          0.2355   \n",
              "3231   0.410     0.325   0.120        0.3745          0.1580          0.0810   \n",
              "1084   0.445     0.345   0.105        0.4090          0.1675          0.1015   \n",
              "290    0.540     0.435   0.180        0.9960          0.3835          0.2260   \n",
              "2713   0.250     0.175   0.060        0.0635          0.0275          0.0080   \n",
              "\n",
              "      Shell weight  F  M  \n",
              "668         0.3350  0  1  \n",
              "1580        0.1935  0  0  \n",
              "3784        0.3175  0  1  \n",
              "463         0.0200  0  0  \n",
              "2615        0.3775  0  1  \n",
              "...            ... .. ..  \n",
              "575         0.3500  1  0  \n",
              "3231        0.1250  0  1  \n",
              "1084        0.1170  0  0  \n",
              "290         0.3250  0  1  \n",
              "2713        0.0200  0  0  \n",
              "\n",
              "[836 rows x 9 columns]"
            ],
            "text/html": [
              "\n",
              "  <div id=\"df-772abed1-322b-47b7-8fcb-924ed8404ff4\">\n",
              "    <div class=\"colab-df-container\">\n",
              "      <div>\n",
              "<style scoped>\n",
              "    .dataframe tbody tr th:only-of-type {\n",
              "        vertical-align: middle;\n",
              "    }\n",
              "\n",
              "    .dataframe tbody tr th {\n",
              "        vertical-align: top;\n",
              "    }\n",
              "\n",
              "    .dataframe thead th {\n",
              "        text-align: right;\n",
              "    }\n",
              "</style>\n",
              "<table border=\"1\" class=\"dataframe\">\n",
              "  <thead>\n",
              "    <tr style=\"text-align: right;\">\n",
              "      <th></th>\n",
              "      <th>Length</th>\n",
              "      <th>Diameter</th>\n",
              "      <th>Height</th>\n",
              "      <th>Whole weight</th>\n",
              "      <th>Shucked weight</th>\n",
              "      <th>Viscera weight</th>\n",
              "      <th>Shell weight</th>\n",
              "      <th>F</th>\n",
              "      <th>M</th>\n",
              "    </tr>\n",
              "  </thead>\n",
              "  <tbody>\n",
              "    <tr>\n",
              "      <th>668</th>\n",
              "      <td>0.550</td>\n",
              "      <td>0.425</td>\n",
              "      <td>0.155</td>\n",
              "      <td>0.9175</td>\n",
              "      <td>0.2775</td>\n",
              "      <td>0.2430</td>\n",
              "      <td>0.3350</td>\n",
              "      <td>0</td>\n",
              "      <td>1</td>\n",
              "    </tr>\n",
              "    <tr>\n",
              "      <th>1580</th>\n",
              "      <td>0.500</td>\n",
              "      <td>0.400</td>\n",
              "      <td>0.120</td>\n",
              "      <td>0.6160</td>\n",
              "      <td>0.2610</td>\n",
              "      <td>0.1430</td>\n",
              "      <td>0.1935</td>\n",
              "      <td>0</td>\n",
              "      <td>0</td>\n",
              "    </tr>\n",
              "    <tr>\n",
              "      <th>3784</th>\n",
              "      <td>0.620</td>\n",
              "      <td>0.480</td>\n",
              "      <td>0.155</td>\n",
              "      <td>1.2555</td>\n",
              "      <td>0.5270</td>\n",
              "      <td>0.3740</td>\n",
              "      <td>0.3175</td>\n",
              "      <td>0</td>\n",
              "      <td>1</td>\n",
              "    </tr>\n",
              "    <tr>\n",
              "      <th>463</th>\n",
              "      <td>0.220</td>\n",
              "      <td>0.165</td>\n",
              "      <td>0.055</td>\n",
              "      <td>0.0545</td>\n",
              "      <td>0.0215</td>\n",
              "      <td>0.0120</td>\n",
              "      <td>0.0200</td>\n",
              "      <td>0</td>\n",
              "      <td>0</td>\n",
              "    </tr>\n",
              "    <tr>\n",
              "      <th>2615</th>\n",
              "      <td>0.645</td>\n",
              "      <td>0.500</td>\n",
              "      <td>0.175</td>\n",
              "      <td>1.5105</td>\n",
              "      <td>0.6735</td>\n",
              "      <td>0.3755</td>\n",
              "      <td>0.3775</td>\n",
              "      <td>0</td>\n",
              "      <td>1</td>\n",
              "    </tr>\n",
              "    <tr>\n",
              "      <th>...</th>\n",
              "      <td>...</td>\n",
              "      <td>...</td>\n",
              "      <td>...</td>\n",
              "      <td>...</td>\n",
              "      <td>...</td>\n",
              "      <td>...</td>\n",
              "      <td>...</td>\n",
              "      <td>...</td>\n",
              "      <td>...</td>\n",
              "    </tr>\n",
              "    <tr>\n",
              "      <th>575</th>\n",
              "      <td>0.610</td>\n",
              "      <td>0.475</td>\n",
              "      <td>0.140</td>\n",
              "      <td>1.1330</td>\n",
              "      <td>0.5275</td>\n",
              "      <td>0.2355</td>\n",
              "      <td>0.3500</td>\n",
              "      <td>1</td>\n",
              "      <td>0</td>\n",
              "    </tr>\n",
              "    <tr>\n",
              "      <th>3231</th>\n",
              "      <td>0.410</td>\n",
              "      <td>0.325</td>\n",
              "      <td>0.120</td>\n",
              "      <td>0.3745</td>\n",
              "      <td>0.1580</td>\n",
              "      <td>0.0810</td>\n",
              "      <td>0.1250</td>\n",
              "      <td>0</td>\n",
              "      <td>1</td>\n",
              "    </tr>\n",
              "    <tr>\n",
              "      <th>1084</th>\n",
              "      <td>0.445</td>\n",
              "      <td>0.345</td>\n",
              "      <td>0.105</td>\n",
              "      <td>0.4090</td>\n",
              "      <td>0.1675</td>\n",
              "      <td>0.1015</td>\n",
              "      <td>0.1170</td>\n",
              "      <td>0</td>\n",
              "      <td>0</td>\n",
              "    </tr>\n",
              "    <tr>\n",
              "      <th>290</th>\n",
              "      <td>0.540</td>\n",
              "      <td>0.435</td>\n",
              "      <td>0.180</td>\n",
              "      <td>0.9960</td>\n",
              "      <td>0.3835</td>\n",
              "      <td>0.2260</td>\n",
              "      <td>0.3250</td>\n",
              "      <td>0</td>\n",
              "      <td>1</td>\n",
              "    </tr>\n",
              "    <tr>\n",
              "      <th>2713</th>\n",
              "      <td>0.250</td>\n",
              "      <td>0.175</td>\n",
              "      <td>0.060</td>\n",
              "      <td>0.0635</td>\n",
              "      <td>0.0275</td>\n",
              "      <td>0.0080</td>\n",
              "      <td>0.0200</td>\n",
              "      <td>0</td>\n",
              "      <td>0</td>\n",
              "    </tr>\n",
              "  </tbody>\n",
              "</table>\n",
              "<p>836 rows × 9 columns</p>\n",
              "</div>\n",
              "      <button class=\"colab-df-convert\" onclick=\"convertToInteractive('df-772abed1-322b-47b7-8fcb-924ed8404ff4')\"\n",
              "              title=\"Convert this dataframe to an interactive table.\"\n",
              "              style=\"display:none;\">\n",
              "        \n",
              "  <svg xmlns=\"http://www.w3.org/2000/svg\" height=\"24px\"viewBox=\"0 0 24 24\"\n",
              "       width=\"24px\">\n",
              "    <path d=\"M0 0h24v24H0V0z\" fill=\"none\"/>\n",
              "    <path d=\"M18.56 5.44l.94 2.06.94-2.06 2.06-.94-2.06-.94-.94-2.06-.94 2.06-2.06.94zm-11 1L8.5 8.5l.94-2.06 2.06-.94-2.06-.94L8.5 2.5l-.94 2.06-2.06.94zm10 10l.94 2.06.94-2.06 2.06-.94-2.06-.94-.94-2.06-.94 2.06-2.06.94z\"/><path d=\"M17.41 7.96l-1.37-1.37c-.4-.4-.92-.59-1.43-.59-.52 0-1.04.2-1.43.59L10.3 9.45l-7.72 7.72c-.78.78-.78 2.05 0 2.83L4 21.41c.39.39.9.59 1.41.59.51 0 1.02-.2 1.41-.59l7.78-7.78 2.81-2.81c.8-.78.8-2.07 0-2.86zM5.41 20L4 18.59l7.72-7.72 1.47 1.35L5.41 20z\"/>\n",
              "  </svg>\n",
              "      </button>\n",
              "      \n",
              "  <style>\n",
              "    .colab-df-container {\n",
              "      display:flex;\n",
              "      flex-wrap:wrap;\n",
              "      gap: 12px;\n",
              "    }\n",
              "\n",
              "    .colab-df-convert {\n",
              "      background-color: #E8F0FE;\n",
              "      border: none;\n",
              "      border-radius: 50%;\n",
              "      cursor: pointer;\n",
              "      display: none;\n",
              "      fill: #1967D2;\n",
              "      height: 32px;\n",
              "      padding: 0 0 0 0;\n",
              "      width: 32px;\n",
              "    }\n",
              "\n",
              "    .colab-df-convert:hover {\n",
              "      background-color: #E2EBFA;\n",
              "      box-shadow: 0px 1px 2px rgba(60, 64, 67, 0.3), 0px 1px 3px 1px rgba(60, 64, 67, 0.15);\n",
              "      fill: #174EA6;\n",
              "    }\n",
              "\n",
              "    [theme=dark] .colab-df-convert {\n",
              "      background-color: #3B4455;\n",
              "      fill: #D2E3FC;\n",
              "    }\n",
              "\n",
              "    [theme=dark] .colab-df-convert:hover {\n",
              "      background-color: #434B5C;\n",
              "      box-shadow: 0px 1px 3px 1px rgba(0, 0, 0, 0.15);\n",
              "      filter: drop-shadow(0px 1px 2px rgba(0, 0, 0, 0.3));\n",
              "      fill: #FFFFFF;\n",
              "    }\n",
              "  </style>\n",
              "\n",
              "      <script>\n",
              "        const buttonEl =\n",
              "          document.querySelector('#df-772abed1-322b-47b7-8fcb-924ed8404ff4 button.colab-df-convert');\n",
              "        buttonEl.style.display =\n",
              "          google.colab.kernel.accessAllowed ? 'block' : 'none';\n",
              "\n",
              "        async function convertToInteractive(key) {\n",
              "          const element = document.querySelector('#df-772abed1-322b-47b7-8fcb-924ed8404ff4');\n",
              "          const dataTable =\n",
              "            await google.colab.kernel.invokeFunction('convertToInteractive',\n",
              "                                                     [key], {});\n",
              "          if (!dataTable) return;\n",
              "\n",
              "          const docLinkHtml = 'Like what you see? Visit the ' +\n",
              "            '<a target=\"_blank\" href=https://colab.research.google.com/notebooks/data_table.ipynb>data table notebook</a>'\n",
              "            + ' to learn more about interactive tables.';\n",
              "          element.innerHTML = '';\n",
              "          dataTable['output_type'] = 'display_data';\n",
              "          await google.colab.output.renderOutput(dataTable, element);\n",
              "          const docLink = document.createElement('div');\n",
              "          docLink.innerHTML = docLinkHtml;\n",
              "          element.appendChild(docLink);\n",
              "        }\n",
              "      </script>\n",
              "    </div>\n",
              "  </div>\n",
              "  "
            ]
          },
          "metadata": {},
          "execution_count": 16
        }
      ]
    },
    {
      "cell_type": "code",
      "execution_count": null,
      "metadata": {
        "colab": {
          "base_uri": "https://localhost:8080/"
        },
        "id": "6NnIpoViSnrk",
        "outputId": "411f34ad-cf32-46b8-c7d8-d7d32cd60db5"
      },
      "outputs": [
        {
          "output_type": "stream",
          "name": "stdout",
          "text": [
            "Explainer diagnostics\n",
            "\n",
            "\n",
            "Intercept 12.142769179550353\n",
            "Prediction_local [11.3125015]\n",
            "Right: 10.12\n",
            "\n",
            "\n",
            "Lime values\n"
          ]
        },
        {
          "output_type": "stream",
          "name": "stderr",
          "text": [
            "X does not have valid feature names, but RandomForestRegressor was fitted with feature names\n"
          ]
        },
        {
          "output_type": "execute_result",
          "data": {
            "text/plain": [
              "[('0.13 < Shell weight <= 0.23', -0.6954348077272934),\n",
              " ('0.19 < Shucked weight <= 0.34', 0.6607966095735562),\n",
              " ('M <= 0.00', -0.4156677320396685),\n",
              " ('0.44 < Whole weight <= 0.81', -0.3731467983497486),\n",
              " ('F <= 0.00', -0.3283373634449262),\n",
              " ('0.45 < Length <= 0.55', 0.1692677292409755),\n",
              " ('0.09 < Viscera weight <= 0.17', 0.1164289608602028),\n",
              " ('0.35 < Diameter <= 0.42', 0.10741150176024945),\n",
              " ('0.12 < Height <= 0.14', -0.0715857767456299)]"
            ]
          },
          "metadata": {},
          "execution_count": 17
        }
      ],
      "source": [
        "print(\"Explainer diagnostics\")\n",
        "print(\"\\n\")\n",
        "exp = explainer.explain_instance(X_test.iloc[1,:], rfc.predict)\n",
        "print(\"\\n\")\n",
        "print(\"Lime values\")\n",
        "exp.as_list()"
      ]
    },
    {
      "cell_type": "markdown",
      "metadata": {
        "id": "DQJoqO5vmbU4"
      },
      "source": [
        "By summing the Intercept and Lime values, we obtain the Local Prediction (check this for yourself)."
      ]
    },
    {
      "cell_type": "markdown",
      "metadata": {
        "id": "NLd60iTdmbU4"
      },
      "source": [
        "A more useful way to show this is graphically as a `matplotlib` figure, by using the method `as_pyplot_figure()`. There is also a javascript method `show_in_notebook()`, which shows extra information. However, this is not as transferable. "
      ]
    },
    {
      "cell_type": "code",
      "execution_count": null,
      "metadata": {
        "colab": {
          "base_uri": "https://localhost:8080/",
          "height": 295
        },
        "id": "w8w-_iYymbU5",
        "outputId": "6ee68ba8-7254-4da6-f917-0df8610083da"
      },
      "outputs": [
        {
          "output_type": "display_data",
          "data": {
            "text/plain": [
              "<Figure size 432x288 with 1 Axes>"
            ],
            "image/png": "[encoded data removed]"
          },
          "metadata": {
            "needs_background": "light"
          }
        }
      ],
      "source": [
        "exp.as_pyplot_figure()\n",
        "plt.xlabel('Lime values');"
      ]
    },
    {
      "cell_type": "markdown",
      "metadata": {
        "id": "zJOb2NhImbU5"
      },
      "source": [
        "The javascript figure also shows where the nonlinear model value lies on the continuum of predicted values, and displays the Lime values graphically along with the feature values for this particular instance."
      ]
    },
    {
      "cell_type": "markdown",
      "metadata": {
        "id": "qMkmrkMbmbU5"
      },
      "source": [
        "For another instance the most important feature is now `Shell weight`, although the other variables have Lime values similar to previously."
      ]
    },
    {
      "cell_type": "code",
      "execution_count": null,
      "metadata": {
        "colab": {
          "base_uri": "https://localhost:8080/",
          "height": 366
        },
        "id": "PQ4edq1MoxEM",
        "outputId": "288a8530-ebfd-4494-c91d-37a275cafdf6"
      },
      "outputs": [
        {
          "output_type": "stream",
          "name": "stderr",
          "text": [
            "X does not have valid feature names, but RandomForestRegressor was fitted with feature names\n"
          ]
        },
        {
          "output_type": "stream",
          "name": "stdout",
          "text": [
            "Intercept 13.18137904910452\n",
            "Prediction_local [8.34970843]\n",
            "Right: 8.44\n"
          ]
        },
        {
          "output_type": "display_data",
          "data": {
            "text/plain": [
              "<Figure size 432x288 with 1 Axes>"
            ],
            "image/png": "[encoded data removed]"
          },
          "metadata": {
            "needs_background": "light"
          }
        }
      ],
      "source": [
        "exp = explainer.explain_instance(X_test.iloc[10,:], rfc.predict)\n",
        "exp.as_pyplot_figure()\n",
        "plt.xlabel('Lime values');"
      ]
    },
    {
      "cell_type": "markdown",
      "metadata": {
        "id": "hJVkqwbFm1Gr"
      },
      "source": [
        "## SHAP values"
      ]
    },
    {
      "cell_type": "markdown",
      "metadata": {
        "id": "_3FuWyN5mbU6"
      },
      "source": [
        "Although Lime values are fast to calculate, they only give local interpretability. A package which attempts to show both local and global interpretability is the Shap package. For a detailed description of this package see this [documentation](https://shap.readthedocs.io/en/latest/overviews.html). The output of this package is very helpful in interpreting models, but it has the disadvantages that:\n",
        "* It is very computationally expensive, especially for general nonlinear models. \n",
        "* Documentation is sketchy.\n",
        "* It may not work on laptops.\n",
        "\n",
        "What the Shap package calculates is the mean contribution of each feature to the deviation of the labels from the mean value, over all possible permutations of the features. If you have a large number of features you can see this will become very expensive to calculate. The output is the Shap values, which are similar to Lime values, in that they show how much the feature causes the label to change from the mean value for the dataset.\n",
        "\n",
        "The computationally expensive part is calculating the explainer, and then calculating the Shap values for the particular dataset. We use the testing dataset here, as it is signicantly smaller than the training set. Again we introduce the Shap values using the Random Forest regression model. As with the Lime package, the Shap package can also be used to interpret classification problems."
      ]
    },
    {
      "cell_type": "code",
      "execution_count": null,
      "metadata": {
        "id": "hr78uQmbpW4S"
      },
      "outputs": [],
      "source": [
        "explainer = shap.TreeExplainer(rfc)\n",
        "shap_values = explainer.shap_values(X_test)"
      ]
    },
    {
      "cell_type": "markdown",
      "metadata": {
        "id": "wIa-LtiumbU6"
      },
      "source": [
        "This can be used to inspect the overall feature importance, similar to what was done using the output of the Random Forest regression. The ranking of variables is similar to that from the Random Forest regression."
      ]
    },
    {
      "cell_type": "code",
      "execution_count": null,
      "metadata": {
        "colab": {
          "base_uri": "https://localhost:8080/",
          "height": 376
        },
        "id": "MIwUkQvRpzBS",
        "outputId": "90f40a8a-bb83-40e5-a68a-66e1acd50013"
      },
      "outputs": [
        {
          "output_type": "display_data",
          "data": {
            "text/plain": [
              "<Figure size 576x367.2 with 1 Axes>"
            ],
            "image/png": "[encoded data removed]"
          },
          "metadata": {
            "needs_background": "light"
          }
        }
      ],
      "source": [
        "shap.summary_plot(shap_values, X_test, plot_type=\"bar\")"
      ]
    },
    {
      "cell_type": "markdown",
      "metadata": {
        "id": "XLir2HgUmbU6"
      },
      "source": [
        "We can now inspect the Shap values for particular instances. The sum of the Shap values for a particular instance correspond to the difference between the mean label value for the dataset and the actual model value for this instance. Blue Shap values cause the model value to decrease, and red values cause the model value to increase. This is depicted by the arrow directions in the force plot. Then shown at the bottom of the figure are the feature values for this instance. Here the main contributers are `Shell weight` which has a value of 0.1935 and a negative effect, and `Shucked weight` which has a value of 0.261 and a positive effect. The overall 'force' from the red values in this case is greater than for the blue values, which causes the label value for this instance to be slightly higher than the mean."
      ]
    },
    {
      "cell_type": "code",
      "execution_count": null,
      "metadata": {
        "colab": {
          "base_uri": "https://localhost:8080/",
          "height": 273
        },
        "id": "iiQjymQTCrGS",
        "outputId": "698da227-6596-4e3a-a5ee-9479e5323192"
      },
      "outputs": [
        {
          "output_type": "display_data",
          "data": {
            "text/plain": [
              "<Figure size 1440x216 with 1 Axes>"
            ],
            "image/png": "[encoded data removed]"
          },
          "metadata": {
            "needs_background": "light"
          }
        }
      ],
      "source": [
        "shap.force_plot(explainer.expected_value, shap_values[1,:], X_test.iloc[1,:], matplotlib=True)"
      ]
    },
    {
      "cell_type": "markdown",
      "metadata": {
        "id": "Ye3Px_F3mbU7"
      },
      "source": [
        "For another instance we now see that the blue effects are much stronger than the red effects, which causes a significant decrease in the label value for this instance from the mean value. The value of `Shell weight` has decreased which has caused the magnitude of the Shap value to increase, whereas for `Shucked weight` the feature value has also decreased, but this has caused the magnitude of the Shap value to decrease."
      ]
    },
    {
      "cell_type": "code",
      "execution_count": null,
      "metadata": {
        "colab": {
          "base_uri": "https://localhost:8080/",
          "height": 273
        },
        "id": "eoJdUCg4CrGS",
        "outputId": "54ae9620-b5b0-44df-b52c-dbafdd6dca4a"
      },
      "outputs": [
        {
          "output_type": "display_data",
          "data": {
            "text/plain": [
              "<Figure size 1440x216 with 1 Axes>"
            ],
            "image/png": "[encoded data removed]"
          },
          "metadata": {
            "needs_background": "light"
          }
        }
      ],
      "source": [
        "shap.force_plot(explainer.expected_value, shap_values[20,:], X_test.iloc[20,:], matplotlib=True)#may contain outliners"
      ]
    },
    {
      "cell_type": "markdown",
      "metadata": {
        "id": "PAReqBFDmbU7"
      },
      "source": [
        "The global effect of all the Shap values can be demonstrated using the summary plot. This shows all the Shap values on a 'swarm' plot, where the thickness of the line corresponds to the density of instances for that value. Each individual point is then coloured by the relative feature value. To interpret this figure, we see that `Shell weight` has the widest distribution of Shap values, and consequently has the most significant effect on the variation of the label. For relatively low values of `Shell weight` the Shap value is negative, whereas for relatively high values of `Shell weight` the Shap value is positive. Whereas for the next ranked feature `Shucked weight` the opposite applies. Hence `Shucked weight` is a compensatory effect for `Shell weight`. For these two features the Shap values have a smooth distribution. However for all the features from `Viscera weight` downwards, the Shap values are centred about zero, which suggests that these features do not have a significant effect on the model output."
      ]
    },
    {
      "cell_type": "code",
      "execution_count": null,
      "metadata": {
        "colab": {
          "base_uri": "https://localhost:8080/",
          "height": 377
        },
        "id": "hEBCAjHkH7Bt",
        "outputId": "b4da72a1-ab5d-4bc9-c298-517398b04313"
      },
      "outputs": [
        {
          "output_type": "display_data",
          "data": {
            "text/plain": [
              "<Figure size 576x367.2 with 2 Axes>"
            ],
            "image/png": "[encoded data removed]"
          },
          "metadata": {
            "needs_background": "light"
          }
        }
      ],
      "source": [
        "shap.summary_plot(shap_values, X_test)"
      ]
    },
    {
      "cell_type": "markdown",
      "metadata": {
        "id": "yhdTRIdXmbU8"
      },
      "source": [
        "## Exercises"
      ]
    },
    {
      "cell_type": "markdown",
      "metadata": {
        "id": "lzIO3isTs7wh"
      },
      "source": [
        "## Exercise 1 (2 marks)"
      ]
    },
    {
      "cell_type": "markdown",
      "metadata": {
        "id": "a2rDG_rps_Mb"
      },
      "source": [
        "Fit a kNN regression model with 10 nearest neighbours to the abalone data and calculate the accuracy."
      ]
    },
    {
      "cell_type": "code",
      "execution_count": null,
      "metadata": {
        "id": "FzKPBmgJfFIw",
        "colab": {
          "base_uri": "https://localhost:8080/"
        },
        "outputId": "14f100ed-9955-46c9-a53d-15284a9cef73"
      },
      "outputs": [
        {
          "output_type": "execute_result",
          "data": {
            "text/plain": [
              "KNeighborsRegressor(n_neighbors=10)"
            ]
          },
          "metadata": {},
          "execution_count": 25
        }
      ],
      "source": [
        "from sklearn.neighbors import KNeighborsRegressor\n",
        "\n",
        "neigh = KNeighborsRegressor(n_neighbors=10)\n",
        "neigh.fit(Xf, Yf)\n"
      ]
    },
    {
      "cell_type": "code",
      "source": [
        "neigh"
      ],
      "metadata": {
        "colab": {
          "base_uri": "https://localhost:8080/"
        },
        "id": "gPPCA3kXNWN3",
        "outputId": "0c2bb280-0eae-426e-ed49-9707df777a82"
      },
      "execution_count": null,
      "outputs": [
        {
          "output_type": "execute_result",
          "data": {
            "text/plain": [
              "KNeighborsRegressor(n_neighbors=10)"
            ]
          },
          "metadata": {},
          "execution_count": 26
        }
      ]
    },
    {
      "cell_type": "code",
      "source": [
        "def reg_model_accuracy(model, features, labels, randomnumb=42):\n",
        "    '''Convenience function to fit an sklearn regression model and calculate the r2 score'''\n",
        "    import numpy as np\n",
        "    from sklearn.pipeline import make_pipeline\n",
        "    from sklearn.preprocessing import StandardScaler\n",
        "    from sklearn.metrics import r2_score # import the score functions \n",
        "    from sklearn.model_selection import train_test_split\n",
        "    \n",
        "    X_train, X_test, y_train, y_test = train_test_split(features, labels, random_state=randomnumb)\n",
        "    pipe = make_pipeline(StandardScaler(), model)\n",
        "    pipe.fit(X_train, y_train)  # apply scaling on training data\n",
        "    y_pred= pipe.predict(X_test) # calculate the predicted values of the model for the test features\n",
        "\n",
        "    rsq = np.round(r2_score(y_test, y_pred),3)\n",
        "\n",
        "    return rsq"
      ],
      "metadata": {
        "id": "RgDaw1UmVysH"
      },
      "execution_count": null,
      "outputs": []
    },
    {
      "cell_type": "code",
      "source": [
        "reg_model_accuracy(neigh, Xf, Yf, randomnumb=42)"
      ],
      "metadata": {
        "colab": {
          "base_uri": "https://localhost:8080/"
        },
        "id": "cgJzPOqLXMuj",
        "outputId": "38bfdbd9-546d-43ea-8362-531637078d4c"
      },
      "execution_count": null,
      "outputs": [
        {
          "output_type": "execute_result",
          "data": {
            "text/plain": [
              "0.527"
            ]
          },
          "metadata": {},
          "execution_count": 28
        }
      ]
    },
    {
      "cell_type": "code",
      "source": [
        "Y_pred = neigh.predict(X_test) \n",
        "acc = r2_score(Y_test,Y_pred) \n",
        "print(\"Testing score is %5.3f\" % acc)"
      ],
      "metadata": {
        "colab": {
          "base_uri": "https://localhost:8080/"
        },
        "id": "CzAtefDdkUjB",
        "outputId": "0a89bb0a-f33f-4f4f-a412-cf593463a186"
      },
      "execution_count": null,
      "outputs": [
        {
          "output_type": "stream",
          "name": "stdout",
          "text": [
            "Testing score is -0.024\n"
          ]
        },
        {
          "output_type": "stream",
          "name": "stderr",
          "text": [
            "X has feature names, but KNeighborsRegressor was fitted without feature names\n"
          ]
        }
      ]
    },
    {
      "cell_type": "markdown",
      "metadata": {
        "id": "ZpljtayHtNQS"
      },
      "source": [
        "## Exercise 2 (2 marks)"
      ]
    },
    {
      "cell_type": "markdown",
      "metadata": {
        "id": "l5aLpyoTtQhC"
      },
      "source": [
        "Calculate and display the Lime values for the kNN model for one particular instance of the test data. (You should be able to use similar code as used earlier in the notebook.)"
      ]
    },
    {
      "cell_type": "code",
      "source": [
        "abalone"
      ],
      "metadata": {
        "colab": {
          "base_uri": "https://localhost:8080/",
          "height": 424
        },
        "id": "NQTCTQ7BKiAH",
        "outputId": "a978de8c-f60d-415a-c4ef-eb4b4cc4af5e"
      },
      "execution_count": null,
      "outputs": [
        {
          "output_type": "execute_result",
          "data": {
            "text/plain": [
              "      Length  Diameter  Height  Whole weight  Shucked weight  Viscera weight  \\\n",
              "0      0.455     0.365   0.095        0.5140          0.2245          0.1010   \n",
              "1      0.350     0.265   0.090        0.2255          0.0995          0.0485   \n",
              "2      0.530     0.420   0.135        0.6770          0.2565          0.1415   \n",
              "3      0.440     0.365   0.125        0.5160          0.2155          0.1140   \n",
              "4      0.330     0.255   0.080        0.2050          0.0895          0.0395   \n",
              "...      ...       ...     ...           ...             ...             ...   \n",
              "4172   0.565     0.450   0.165        0.8870          0.3700          0.2390   \n",
              "4173   0.590     0.440   0.135        0.9660          0.4390          0.2145   \n",
              "4174   0.600     0.475   0.205        1.1760          0.5255          0.2875   \n",
              "4175   0.625     0.485   0.150        1.0945          0.5310          0.2610   \n",
              "4176   0.710     0.555   0.195        1.9485          0.9455          0.3765   \n",
              "\n",
              "      Shell weight  Rings  F  I  M  \n",
              "0           0.1500     15  0  0  1  \n",
              "1           0.0700      7  0  0  1  \n",
              "2           0.2100      9  1  0  0  \n",
              "3           0.1550     10  0  0  1  \n",
              "4           0.0550      7  0  1  0  \n",
              "...            ...    ... .. .. ..  \n",
              "4172        0.2490     11  1  0  0  \n",
              "4173        0.2605     10  0  0  1  \n",
              "4174        0.3080      9  0  0  1  \n",
              "4175        0.2960     10  1  0  0  \n",
              "4176        0.4950     12  0  0  1  \n",
              "\n",
              "[4177 rows x 11 columns]"
            ],
            "text/html": [
              "\n",
              "  <div id=\"df-504d44cc-be06-4a40-b18c-f2995b975967\">\n",
              "    <div class=\"colab-df-container\">\n",
              "      <div>\n",
              "<style scoped>\n",
              "    .dataframe tbody tr th:only-of-type {\n",
              "        vertical-align: middle;\n",
              "    }\n",
              "\n",
              "    .dataframe tbody tr th {\n",
              "        vertical-align: top;\n",
              "    }\n",
              "\n",
              "    .dataframe thead th {\n",
              "        text-align: right;\n",
              "    }\n",
              "</style>\n",
              "<table border=\"1\" class=\"dataframe\">\n",
              "  <thead>\n",
              "    <tr style=\"text-align: right;\">\n",
              "      <th></th>\n",
              "      <th>Length</th>\n",
              "      <th>Diameter</th>\n",
              "      <th>Height</th>\n",
              "      <th>Whole weight</th>\n",
              "      <th>Shucked weight</th>\n",
              "      <th>Viscera weight</th>\n",
              "      <th>Shell weight</th>\n",
              "      <th>Rings</th>\n",
              "      <th>F</th>\n",
              "      <th>I</th>\n",
              "      <th>M</th>\n",
              "    </tr>\n",
              "  </thead>\n",
              "  <tbody>\n",
              "    <tr>\n",
              "      <th>0</th>\n",
              "      <td>0.455</td>\n",
              "      <td>0.365</td>\n",
              "      <td>0.095</td>\n",
              "      <td>0.5140</td>\n",
              "      <td>0.2245</td>\n",
              "      <td>0.1010</td>\n",
              "      <td>0.1500</td>\n",
              "      <td>15</td>\n",
              "      <td>0</td>\n",
              "      <td>0</td>\n",
              "      <td>1</td>\n",
              "    </tr>\n",
              "    <tr>\n",
              "      <th>1</th>\n",
              "      <td>0.350</td>\n",
              "      <td>0.265</td>\n",
              "      <td>0.090</td>\n",
              "      <td>0.2255</td>\n",
              "      <td>0.0995</td>\n",
              "      <td>0.0485</td>\n",
              "      <td>0.0700</td>\n",
              "      <td>7</td>\n",
              "      <td>0</td>\n",
              "      <td>0</td>\n",
              "      <td>1</td>\n",
              "    </tr>\n",
              "    <tr>\n",
              "      <th>2</th>\n",
              "      <td>0.530</td>\n",
              "      <td>0.420</td>\n",
              "      <td>0.135</td>\n",
              "      <td>0.6770</td>\n",
              "      <td>0.2565</td>\n",
              "      <td>0.1415</td>\n",
              "      <td>0.2100</td>\n",
              "      <td>9</td>\n",
              "      <td>1</td>\n",
              "      <td>0</td>\n",
              "      <td>0</td>\n",
              "    </tr>\n",
              "    <tr>\n",
              "      <th>3</th>\n",
              "      <td>0.440</td>\n",
              "      <td>0.365</td>\n",
              "      <td>0.125</td>\n",
              "      <td>0.5160</td>\n",
              "      <td>0.2155</td>\n",
              "      <td>0.1140</td>\n",
              "      <td>0.1550</td>\n",
              "      <td>10</td>\n",
              "      <td>0</td>\n",
              "      <td>0</td>\n",
              "      <td>1</td>\n",
              "    </tr>\n",
              "    <tr>\n",
              "      <th>4</th>\n",
              "      <td>0.330</td>\n",
              "      <td>0.255</td>\n",
              "      <td>0.080</td>\n",
              "      <td>0.2050</td>\n",
              "      <td>0.0895</td>\n",
              "      <td>0.0395</td>\n",
              "      <td>0.0550</td>\n",
              "      <td>7</td>\n",
              "      <td>0</td>\n",
              "      <td>1</td>\n",
              "      <td>0</td>\n",
              "    </tr>\n",
              "    <tr>\n",
              "      <th>...</th>\n",
              "      <td>...</td>\n",
              "      <td>...</td>\n",
              "      <td>...</td>\n",
              "      <td>...</td>\n",
              "      <td>...</td>\n",
              "      <td>...</td>\n",
              "      <td>...</td>\n",
              "      <td>...</td>\n",
              "      <td>...</td>\n",
              "      <td>...</td>\n",
              "      <td>...</td>\n",
              "    </tr>\n",
              "    <tr>\n",
              "      <th>4172</th>\n",
              "      <td>0.565</td>\n",
              "      <td>0.450</td>\n",
              "      <td>0.165</td>\n",
              "      <td>0.8870</td>\n",
              "      <td>0.3700</td>\n",
              "      <td>0.2390</td>\n",
              "      <td>0.2490</td>\n",
              "      <td>11</td>\n",
              "      <td>1</td>\n",
              "      <td>0</td>\n",
              "      <td>0</td>\n",
              "    </tr>\n",
              "    <tr>\n",
              "      <th>4173</th>\n",
              "      <td>0.590</td>\n",
              "      <td>0.440</td>\n",
              "      <td>0.135</td>\n",
              "      <td>0.9660</td>\n",
              "      <td>0.4390</td>\n",
              "      <td>0.2145</td>\n",
              "      <td>0.2605</td>\n",
              "      <td>10</td>\n",
              "      <td>0</td>\n",
              "      <td>0</td>\n",
              "      <td>1</td>\n",
              "    </tr>\n",
              "    <tr>\n",
              "      <th>4174</th>\n",
              "      <td>0.600</td>\n",
              "      <td>0.475</td>\n",
              "      <td>0.205</td>\n",
              "      <td>1.1760</td>\n",
              "      <td>0.5255</td>\n",
              "      <td>0.2875</td>\n",
              "      <td>0.3080</td>\n",
              "      <td>9</td>\n",
              "      <td>0</td>\n",
              "      <td>0</td>\n",
              "      <td>1</td>\n",
              "    </tr>\n",
              "    <tr>\n",
              "      <th>4175</th>\n",
              "      <td>0.625</td>\n",
              "      <td>0.485</td>\n",
              "      <td>0.150</td>\n",
              "      <td>1.0945</td>\n",
              "      <td>0.5310</td>\n",
              "      <td>0.2610</td>\n",
              "      <td>0.2960</td>\n",
              "      <td>10</td>\n",
              "      <td>1</td>\n",
              "      <td>0</td>\n",
              "      <td>0</td>\n",
              "    </tr>\n",
              "    <tr>\n",
              "      <th>4176</th>\n",
              "      <td>0.710</td>\n",
              "      <td>0.555</td>\n",
              "      <td>0.195</td>\n",
              "      <td>1.9485</td>\n",
              "      <td>0.9455</td>\n",
              "      <td>0.3765</td>\n",
              "      <td>0.4950</td>\n",
              "      <td>12</td>\n",
              "      <td>0</td>\n",
              "      <td>0</td>\n",
              "      <td>1</td>\n",
              "    </tr>\n",
              "  </tbody>\n",
              "</table>\n",
              "<p>4177 rows × 11 columns</p>\n",
              "</div>\n",
              "      <button class=\"colab-df-convert\" onclick=\"convertToInteractive('df-504d44cc-be06-4a40-b18c-f2995b975967')\"\n",
              "              title=\"Convert this dataframe to an interactive table.\"\n",
              "              style=\"display:none;\">\n",
              "        \n",
              "  <svg xmlns=\"http://www.w3.org/2000/svg\" height=\"24px\"viewBox=\"0 0 24 24\"\n",
              "       width=\"24px\">\n",
              "    <path d=\"M0 0h24v24H0V0z\" fill=\"none\"/>\n",
              "    <path d=\"M18.56 5.44l.94 2.06.94-2.06 2.06-.94-2.06-.94-.94-2.06-.94 2.06-2.06.94zm-11 1L8.5 8.5l.94-2.06 2.06-.94-2.06-.94L8.5 2.5l-.94 2.06-2.06.94zm10 10l.94 2.06.94-2.06 2.06-.94-2.06-.94-.94-2.06-.94 2.06-2.06.94z\"/><path d=\"M17.41 7.96l-1.37-1.37c-.4-.4-.92-.59-1.43-.59-.52 0-1.04.2-1.43.59L10.3 9.45l-7.72 7.72c-.78.78-.78 2.05 0 2.83L4 21.41c.39.39.9.59 1.41.59.51 0 1.02-.2 1.41-.59l7.78-7.78 2.81-2.81c.8-.78.8-2.07 0-2.86zM5.41 20L4 18.59l7.72-7.72 1.47 1.35L5.41 20z\"/>\n",
              "  </svg>\n",
              "      </button>\n",
              "      \n",
              "  <style>\n",
              "    .colab-df-container {\n",
              "      display:flex;\n",
              "      flex-wrap:wrap;\n",
              "      gap: 12px;\n",
              "    }\n",
              "\n",
              "    .colab-df-convert {\n",
              "      background-color: #E8F0FE;\n",
              "      border: none;\n",
              "      border-radius: 50%;\n",
              "      cursor: pointer;\n",
              "      display: none;\n",
              "      fill: #1967D2;\n",
              "      height: 32px;\n",
              "      padding: 0 0 0 0;\n",
              "      width: 32px;\n",
              "    }\n",
              "\n",
              "    .colab-df-convert:hover {\n",
              "      background-color: #E2EBFA;\n",
              "      box-shadow: 0px 1px 2px rgba(60, 64, 67, 0.3), 0px 1px 3px 1px rgba(60, 64, 67, 0.15);\n",
              "      fill: #174EA6;\n",
              "    }\n",
              "\n",
              "    [theme=dark] .colab-df-convert {\n",
              "      background-color: #3B4455;\n",
              "      fill: #D2E3FC;\n",
              "    }\n",
              "\n",
              "    [theme=dark] .colab-df-convert:hover {\n",
              "      background-color: #434B5C;\n",
              "      box-shadow: 0px 1px 3px 1px rgba(0, 0, 0, 0.15);\n",
              "      filter: drop-shadow(0px 1px 2px rgba(0, 0, 0, 0.3));\n",
              "      fill: #FFFFFF;\n",
              "    }\n",
              "  </style>\n",
              "\n",
              "      <script>\n",
              "        const buttonEl =\n",
              "          document.querySelector('#df-504d44cc-be06-4a40-b18c-f2995b975967 button.colab-df-convert');\n",
              "        buttonEl.style.display =\n",
              "          google.colab.kernel.accessAllowed ? 'block' : 'none';\n",
              "\n",
              "        async function convertToInteractive(key) {\n",
              "          const element = document.querySelector('#df-504d44cc-be06-4a40-b18c-f2995b975967');\n",
              "          const dataTable =\n",
              "            await google.colab.kernel.invokeFunction('convertToInteractive',\n",
              "                                                     [key], {});\n",
              "          if (!dataTable) return;\n",
              "\n",
              "          const docLinkHtml = 'Like what you see? Visit the ' +\n",
              "            '<a target=\"_blank\" href=https://colab.research.google.com/notebooks/data_table.ipynb>data table notebook</a>'\n",
              "            + ' to learn more about interactive tables.';\n",
              "          element.innerHTML = '';\n",
              "          dataTable['output_type'] = 'display_data';\n",
              "          await google.colab.output.renderOutput(dataTable, element);\n",
              "          const docLink = document.createElement('div');\n",
              "          docLink.innerHTML = docLinkHtml;\n",
              "          element.appendChild(docLink);\n",
              "        }\n",
              "      </script>\n",
              "    </div>\n",
              "  </div>\n",
              "  "
            ]
          },
          "metadata": {},
          "execution_count": 30
        }
      ]
    },
    {
      "cell_type": "code",
      "source": [
        "explainer = lime.lime_tabular.LimeTabularExplainer(np.array(X_test),\n",
        "                                                   feature_names=features,\n",
        "                                                   verbose=True,\n",
        "                                                   mode='regression')"
      ],
      "metadata": {
        "id": "KDvGKms0fT-_"
      },
      "execution_count": null,
      "outputs": []
    },
    {
      "cell_type": "code",
      "source": [
        "exp = explainer.explain_instance(X_test.iloc[0], \n",
        "     neigh.predict, num_features=10)"
      ],
      "metadata": {
        "colab": {
          "base_uri": "https://localhost:8080/"
        },
        "id": "SP9Eyo0SrT7t",
        "outputId": "578502db-b2bd-4679-bc36-57bffa0d3a3b"
      },
      "execution_count": null,
      "outputs": [
        {
          "output_type": "stream",
          "name": "stdout",
          "text": [
            "Intercept 10.09828502049826\n",
            "Prediction_local [11.0100717]\n",
            "Right: 10.4\n"
          ]
        }
      ]
    },
    {
      "cell_type": "markdown",
      "metadata": {
        "id": "9RoLw2BJt6Vm"
      },
      "source": [
        "## Exercise 3 (2 marks)"
      ]
    },
    {
      "cell_type": "markdown",
      "metadata": {
        "id": "UaczWpcNt9wb"
      },
      "source": [
        "Using a random sample of 200 observations from the test data (use df.sample()), calculate the Shap values for the kNN model. You will need to use `shap.KernelExplainer()` (see the [documentation](https://shap-lrjball.readthedocs.io/en/latest/generated/shap.KernelExplainer.html), the two inputs are the model prediction and the feature sample). On Google Colab this calculation will take about 10 minutes."
      ]
    },
    {
      "cell_type": "code",
      "source": [
        "sam=X_test.sample(n=200)"
      ],
      "metadata": {
        "id": "CH6BLIbewTnA"
      },
      "execution_count": null,
      "outputs": []
    },
    {
      "cell_type": "code",
      "source": [
        "sam"
      ],
      "metadata": {
        "colab": {
          "base_uri": "https://localhost:8080/",
          "height": 424
        },
        "id": "hkZcH7qSI7Uy",
        "outputId": "d98b37b5-c7ca-4640-c3a1-8dd2faa4af50"
      },
      "execution_count": null,
      "outputs": [
        {
          "output_type": "execute_result",
          "data": {
            "text/plain": [
              "      Length  Diameter  Height  Whole weight  Shucked weight  Viscera weight  \\\n",
              "3774   0.580     0.420   0.140        0.7010          0.3285          0.1020   \n",
              "49     0.525     0.425   0.160        0.8355          0.3545          0.2135   \n",
              "2348   0.525     0.430   0.165        0.8645          0.3760          0.1945   \n",
              "1835   0.410     0.335   0.105        0.3305          0.1405          0.0640   \n",
              "2666   0.580     0.455   0.130        0.8520          0.4100          0.1725   \n",
              "...      ...       ...     ...           ...             ...             ...   \n",
              "4041   0.575     0.450   0.150        0.8580          0.4490          0.1660   \n",
              "14     0.470     0.355   0.100        0.4755          0.1675          0.0805   \n",
              "3956   0.515     0.395   0.140        0.6860          0.2810          0.1255   \n",
              "3706   0.675     0.535   0.185        1.5575          0.7035          0.4020   \n",
              "548    0.565     0.450   0.160        0.7950          0.3605          0.1555   \n",
              "\n",
              "      Shell weight  F  M  \n",
              "3774        0.2255  0  0  \n",
              "49          0.2450  1  0  \n",
              "2348        0.2515  0  1  \n",
              "1835        0.1050  0  0  \n",
              "2666        0.2250  0  1  \n",
              "...            ... .. ..  \n",
              "4041        0.2150  0  0  \n",
              "14          0.1850  1  0  \n",
              "3956        0.2200  1  0  \n",
              "3706        0.4000  1  0  \n",
              "548         0.2300  1  0  \n",
              "\n",
              "[200 rows x 9 columns]"
            ],
            "text/html": [
              "\n",
              "  <div id=\"df-d73df2e2-d691-45f0-98bd-01bd51332858\">\n",
              "    <div class=\"colab-df-container\">\n",
              "      <div>\n",
              "<style scoped>\n",
              "    .dataframe tbody tr th:only-of-type {\n",
              "        vertical-align: middle;\n",
              "    }\n",
              "\n",
              "    .dataframe tbody tr th {\n",
              "        vertical-align: top;\n",
              "    }\n",
              "\n",
              "    .dataframe thead th {\n",
              "        text-align: right;\n",
              "    }\n",
              "</style>\n",
              "<table border=\"1\" class=\"dataframe\">\n",
              "  <thead>\n",
              "    <tr style=\"text-align: right;\">\n",
              "      <th></th>\n",
              "      <th>Length</th>\n",
              "      <th>Diameter</th>\n",
              "      <th>Height</th>\n",
              "      <th>Whole weight</th>\n",
              "      <th>Shucked weight</th>\n",
              "      <th>Viscera weight</th>\n",
              "      <th>Shell weight</th>\n",
              "      <th>F</th>\n",
              "      <th>M</th>\n",
              "    </tr>\n",
              "  </thead>\n",
              "  <tbody>\n",
              "    <tr>\n",
              "      <th>3774</th>\n",
              "      <td>0.580</td>\n",
              "      <td>0.420</td>\n",
              "      <td>0.140</td>\n",
              "      <td>0.7010</td>\n",
              "      <td>0.3285</td>\n",
              "      <td>0.1020</td>\n",
              "      <td>0.2255</td>\n",
              "      <td>0</td>\n",
              "      <td>0</td>\n",
              "    </tr>\n",
              "    <tr>\n",
              "      <th>49</th>\n",
              "      <td>0.525</td>\n",
              "      <td>0.425</td>\n",
              "      <td>0.160</td>\n",
              "      <td>0.8355</td>\n",
              "      <td>0.3545</td>\n",
              "      <td>0.2135</td>\n",
              "      <td>0.2450</td>\n",
              "      <td>1</td>\n",
              "      <td>0</td>\n",
              "    </tr>\n",
              "    <tr>\n",
              "      <th>2348</th>\n",
              "      <td>0.525</td>\n",
              "      <td>0.430</td>\n",
              "      <td>0.165</td>\n",
              "      <td>0.8645</td>\n",
              "      <td>0.3760</td>\n",
              "      <td>0.1945</td>\n",
              "      <td>0.2515</td>\n",
              "      <td>0</td>\n",
              "      <td>1</td>\n",
              "    </tr>\n",
              "    <tr>\n",
              "      <th>1835</th>\n",
              "      <td>0.410</td>\n",
              "      <td>0.335</td>\n",
              "      <td>0.105</td>\n",
              "      <td>0.3305</td>\n",
              "      <td>0.1405</td>\n",
              "      <td>0.0640</td>\n",
              "      <td>0.1050</td>\n",
              "      <td>0</td>\n",
              "      <td>0</td>\n",
              "    </tr>\n",
              "    <tr>\n",
              "      <th>2666</th>\n",
              "      <td>0.580</td>\n",
              "      <td>0.455</td>\n",
              "      <td>0.130</td>\n",
              "      <td>0.8520</td>\n",
              "      <td>0.4100</td>\n",
              "      <td>0.1725</td>\n",
              "      <td>0.2250</td>\n",
              "      <td>0</td>\n",
              "      <td>1</td>\n",
              "    </tr>\n",
              "    <tr>\n",
              "      <th>...</th>\n",
              "      <td>...</td>\n",
              "      <td>...</td>\n",
              "      <td>...</td>\n",
              "      <td>...</td>\n",
              "      <td>...</td>\n",
              "      <td>...</td>\n",
              "      <td>...</td>\n",
              "      <td>...</td>\n",
              "      <td>...</td>\n",
              "    </tr>\n",
              "    <tr>\n",
              "      <th>4041</th>\n",
              "      <td>0.575</td>\n",
              "      <td>0.450</td>\n",
              "      <td>0.150</td>\n",
              "      <td>0.8580</td>\n",
              "      <td>0.4490</td>\n",
              "      <td>0.1660</td>\n",
              "      <td>0.2150</td>\n",
              "      <td>0</td>\n",
              "      <td>0</td>\n",
              "    </tr>\n",
              "    <tr>\n",
              "      <th>14</th>\n",
              "      <td>0.470</td>\n",
              "      <td>0.355</td>\n",
              "      <td>0.100</td>\n",
              "      <td>0.4755</td>\n",
              "      <td>0.1675</td>\n",
              "      <td>0.0805</td>\n",
              "      <td>0.1850</td>\n",
              "      <td>1</td>\n",
              "      <td>0</td>\n",
              "    </tr>\n",
              "    <tr>\n",
              "      <th>3956</th>\n",
              "      <td>0.515</td>\n",
              "      <td>0.395</td>\n",
              "      <td>0.140</td>\n",
              "      <td>0.6860</td>\n",
              "      <td>0.2810</td>\n",
              "      <td>0.1255</td>\n",
              "      <td>0.2200</td>\n",
              "      <td>1</td>\n",
              "      <td>0</td>\n",
              "    </tr>\n",
              "    <tr>\n",
              "      <th>3706</th>\n",
              "      <td>0.675</td>\n",
              "      <td>0.535</td>\n",
              "      <td>0.185</td>\n",
              "      <td>1.5575</td>\n",
              "      <td>0.7035</td>\n",
              "      <td>0.4020</td>\n",
              "      <td>0.4000</td>\n",
              "      <td>1</td>\n",
              "      <td>0</td>\n",
              "    </tr>\n",
              "    <tr>\n",
              "      <th>548</th>\n",
              "      <td>0.565</td>\n",
              "      <td>0.450</td>\n",
              "      <td>0.160</td>\n",
              "      <td>0.7950</td>\n",
              "      <td>0.3605</td>\n",
              "      <td>0.1555</td>\n",
              "      <td>0.2300</td>\n",
              "      <td>1</td>\n",
              "      <td>0</td>\n",
              "    </tr>\n",
              "  </tbody>\n",
              "</table>\n",
              "<p>200 rows × 9 columns</p>\n",
              "</div>\n",
              "      <button class=\"colab-df-convert\" onclick=\"convertToInteractive('df-d73df2e2-d691-45f0-98bd-01bd51332858')\"\n",
              "              title=\"Convert this dataframe to an interactive table.\"\n",
              "              style=\"display:none;\">\n",
              "        \n",
              "  <svg xmlns=\"http://www.w3.org/2000/svg\" height=\"24px\"viewBox=\"0 0 24 24\"\n",
              "       width=\"24px\">\n",
              "    <path d=\"M0 0h24v24H0V0z\" fill=\"none\"/>\n",
              "    <path d=\"M18.56 5.44l.94 2.06.94-2.06 2.06-.94-2.06-.94-.94-2.06-.94 2.06-2.06.94zm-11 1L8.5 8.5l.94-2.06 2.06-.94-2.06-.94L8.5 2.5l-.94 2.06-2.06.94zm10 10l.94 2.06.94-2.06 2.06-.94-2.06-.94-.94-2.06-.94 2.06-2.06.94z\"/><path d=\"M17.41 7.96l-1.37-1.37c-.4-.4-.92-.59-1.43-.59-.52 0-1.04.2-1.43.59L10.3 9.45l-7.72 7.72c-.78.78-.78 2.05 0 2.83L4 21.41c.39.39.9.59 1.41.59.51 0 1.02-.2 1.41-.59l7.78-7.78 2.81-2.81c.8-.78.8-2.07 0-2.86zM5.41 20L4 18.59l7.72-7.72 1.47 1.35L5.41 20z\"/>\n",
              "  </svg>\n",
              "      </button>\n",
              "      \n",
              "  <style>\n",
              "    .colab-df-container {\n",
              "      display:flex;\n",
              "      flex-wrap:wrap;\n",
              "      gap: 12px;\n",
              "    }\n",
              "\n",
              "    .colab-df-convert {\n",
              "      background-color: #E8F0FE;\n",
              "      border: none;\n",
              "      border-radius: 50%;\n",
              "      cursor: pointer;\n",
              "      display: none;\n",
              "      fill: #1967D2;\n",
              "      height: 32px;\n",
              "      padding: 0 0 0 0;\n",
              "      width: 32px;\n",
              "    }\n",
              "\n",
              "    .colab-df-convert:hover {\n",
              "      background-color: #E2EBFA;\n",
              "      box-shadow: 0px 1px 2px rgba(60, 64, 67, 0.3), 0px 1px 3px 1px rgba(60, 64, 67, 0.15);\n",
              "      fill: #174EA6;\n",
              "    }\n",
              "\n",
              "    [theme=dark] .colab-df-convert {\n",
              "      background-color: #3B4455;\n",
              "      fill: #D2E3FC;\n",
              "    }\n",
              "\n",
              "    [theme=dark] .colab-df-convert:hover {\n",
              "      background-color: #434B5C;\n",
              "      box-shadow: 0px 1px 3px 1px rgba(0, 0, 0, 0.15);\n",
              "      filter: drop-shadow(0px 1px 2px rgba(0, 0, 0, 0.3));\n",
              "      fill: #FFFFFF;\n",
              "    }\n",
              "  </style>\n",
              "\n",
              "      <script>\n",
              "        const buttonEl =\n",
              "          document.querySelector('#df-d73df2e2-d691-45f0-98bd-01bd51332858 button.colab-df-convert');\n",
              "        buttonEl.style.display =\n",
              "          google.colab.kernel.accessAllowed ? 'block' : 'none';\n",
              "\n",
              "        async function convertToInteractive(key) {\n",
              "          const element = document.querySelector('#df-d73df2e2-d691-45f0-98bd-01bd51332858');\n",
              "          const dataTable =\n",
              "            await google.colab.kernel.invokeFunction('convertToInteractive',\n",
              "                                                     [key], {});\n",
              "          if (!dataTable) return;\n",
              "\n",
              "          const docLinkHtml = 'Like what you see? Visit the ' +\n",
              "            '<a target=\"_blank\" href=https://colab.research.google.com/notebooks/data_table.ipynb>data table notebook</a>'\n",
              "            + ' to learn more about interactive tables.';\n",
              "          element.innerHTML = '';\n",
              "          dataTable['output_type'] = 'display_data';\n",
              "          await google.colab.output.renderOutput(dataTable, element);\n",
              "          const docLink = document.createElement('div');\n",
              "          docLink.innerHTML = docLinkHtml;\n",
              "          element.appendChild(docLink);\n",
              "        }\n",
              "      </script>\n",
              "    </div>\n",
              "  </div>\n",
              "  "
            ]
          },
          "metadata": {},
          "execution_count": 39
        }
      ]
    },
    {
      "cell_type": "code",
      "source": [],
      "metadata": {
        "id": "-vbZ5iUINQvt"
      },
      "execution_count": null,
      "outputs": []
    },
    {
      "cell_type": "code",
      "source": [
        "rf_shap_values = shap.KernelExplainer(neigh.predict,sam)\n",
        "abalone_shap_values = rf_shap_values.shap_values(sam)"
      ],
      "metadata": {
        "id": "38kM4VmBfXxz",
        "colab": {
          "base_uri": "https://localhost:8080/",
          "height": 87,
          "referenced_widgets": [
            "612cc152b8074f92be141459c57badd8",
            "7907b749326646dfb7da17575f786aee",
            "a5952f2b37ec43a39f533f041bcf9aed",
            "be2dbe80820f40c9b6df3aa7b241bda3",
            "86aec8743ed245c193f4dc0cfafc2d0b",
            "1b47b12766c84e81988302416724aa89",
            "57141d8a5d4c4ba79d1a0fef0845caf8",
            "867575f4d754461ca37347097523d6a8",
            "1721f9cbd04c441eaadbbe465d98e587",
            "a271438ba1924e00b7377ca99661877f",
            "18c74944f96d4807beab09761bb64779"
          ]
        },
        "outputId": "0f321907-94d2-4411-dd5a-ded08e21cf6d"
      },
      "execution_count": null,
      "outputs": [
        {
          "output_type": "stream",
          "name": "stderr",
          "text": [
            "WARNING:shap:Using 200 background data samples could cause slower run times. Consider using shap.sample(data, K) or shap.kmeans(data, K) to summarize the background as K samples.\n"
          ]
        },
        {
          "output_type": "display_data",
          "data": {
            "text/plain": [
              "  0%|          | 0/200 [00:00<?, ?it/s]"
            ],
            "application/vnd.jupyter.widget-view+json": {
              "version_major": 2,
              "version_minor": 0,
              "model_id": "612cc152b8074f92be141459c57badd8"
            }
          },
          "metadata": {}
        }
      ]
    },
    {
      "cell_type": "code",
      "source": [
        "abalone_shap_values"
      ],
      "metadata": {
        "colab": {
          "base_uri": "https://localhost:8080/"
        },
        "id": "TfQsIBVlIpe4",
        "outputId": "4527a7c1-0ea4-4294-dae4-6131ad17b0ca"
      },
      "execution_count": null,
      "outputs": [
        {
          "output_type": "execute_result",
          "data": {
            "text/plain": [
              "array([[-2.93519643e-01, -1.25913690e-01, -9.13154762e-03, ...,\n",
              "        -3.46446429e-02, -7.56636905e-02, -3.76833333e-02],\n",
              "       [-1.36051786e-01, -8.92327381e-02,  2.13690476e-02, ...,\n",
              "         1.23649405e-01,  1.16095238e-01,  1.56857738e-01],\n",
              "       [-1.21838095e-01, -6.51190476e-02, -2.22934524e-02, ...,\n",
              "         1.01067262e-01,  5.13750000e-02, -7.60648810e-02],\n",
              "       ...,\n",
              "       [-2.12998016e-01, -1.88817659e-01, -4.90849206e-02, ...,\n",
              "        -1.47652778e-02,  1.23715079e-01, -5.63492064e-05],\n",
              "       [ 2.00998016e-02,  2.33736111e-02,  1.15426587e-02, ...,\n",
              "         2.65992063e-01, -5.49454365e-01,  1.18000992e-01],\n",
              "       [-6.44597222e-02,  1.02777778e-02,  4.19194444e-02, ...,\n",
              "         8.59986111e-02,  3.38320635e-01,  1.23840873e-01]])"
            ]
          },
          "metadata": {},
          "execution_count": 44
        }
      ]
    },
    {
      "cell_type": "markdown",
      "metadata": {
        "id": "LvhA_4SsuWv8"
      },
      "source": [
        "## Exercise 4 (4 marks)"
      ]
    },
    {
      "cell_type": "markdown",
      "metadata": {
        "id": "Mod75SGTuZVz"
      },
      "source": [
        "Create a 'swarm' summary plot of the Shap values. List two significant conclusions regarding the model you can draw from this plot."
      ]
    },
    {
      "cell_type": "code",
      "execution_count": null,
      "metadata": {
        "id": "tS9swnByZcKg",
        "colab": {
          "base_uri": "https://localhost:8080/",
          "height": 377
        },
        "outputId": "b1fef51d-f38c-40c6-82a6-6ec14e3d59a8"
      },
      "outputs": [
        {
          "output_type": "display_data",
          "data": {
            "text/plain": [
              "<Figure size 576x367.2 with 2 Axes>"
            ],
            "image/png": "[encoded data removed]"
          },
          "metadata": {
            "needs_background": "light"
          }
        }
      ],
      "source": [
        "shap.summary_plot(abalone_shap_values, sam)"
      ]
    },
    {
      "cell_type": "code",
      "source": [
        "#whole weight has the largest SHAP, so it is the most important feature.\n",
        "#smoothness of distribution is not very high, maybe knn doesn't perform as good as random forest."
      ],
      "metadata": {
        "id": "WN1DbR0D5O8g"
      },
      "execution_count": null,
      "outputs": []
    },
    {
      "cell_type": "markdown",
      "metadata": {
        "id": "iBjVV7g35q5s"
      },
      "source": []
    }
  ],
  "metadata": {
    "colab": {
      "provenance": []
    },
    "kernelspec": {
      "display_name": "Python 3",
      "language": "python",
      "name": "python3"
    },
    "language_info": {
      "codemirror_mode": {
        "name": "ipython",
        "version": 3
      },
      "file_extension": ".py",
      "mimetype": "text/x-python",
      "name": "python",
      "nbconvert_exporter": "python",
      "pygments_lexer": "ipython3",
      "version": "3.7.6"
    },
    "widgets": {
      "application/vnd.jupyter.widget-state+json": {
        "612cc152b8074f92be141459c57badd8": {
          "model_module": "@jupyter-widgets/controls",
          "model_name": "HBoxModel",
          "model_module_version": "1.5.0",
          "state": {
            "_dom_classes": [],
            "_model_module": "@jupyter-widgets/controls",
            "_model_module_version": "1.5.0",
            "_model_name": "HBoxModel",
            "_view_count": null,
            "_view_module": "@jupyter-widgets/controls",
            "_view_module_version": "1.5.0",
            "_view_name": "HBoxView",
            "box_style": "",
            "children": [
              "IPY_MODEL_7907b749326646dfb7da17575f786aee",
              "IPY_MODEL_a5952f2b37ec43a39f533f041bcf9aed",
              "IPY_MODEL_be2dbe80820f40c9b6df3aa7b241bda3"
            ],
            "layout": "IPY_MODEL_86aec8743ed245c193f4dc0cfafc2d0b"
          }
        },
        "7907b749326646dfb7da17575f786aee": {
          "model_module": "@jupyter-widgets/controls",
          "model_name": "HTMLModel",
          "model_module_version": "1.5.0",
          "state": {
            "_dom_classes": [],
            "_model_module": "@jupyter-widgets/controls",
            "_model_module_version": "1.5.0",
            "_model_name": "HTMLModel",
            "_view_count": null,
            "_view_module": "@jupyter-widgets/controls",
            "_view_module_version": "1.5.0",
            "_view_name": "HTMLView",
            "description": "",
            "description_tooltip": null,
            "layout": "IPY_MODEL_1b47b12766c84e81988302416724aa89",
            "placeholder": "​",
            "style": "IPY_MODEL_57141d8a5d4c4ba79d1a0fef0845caf8",
            "value": "100%"
          }
        },
        "a5952f2b37ec43a39f533f041bcf9aed": {
          "model_module": "@jupyter-widgets/controls",
          "model_name": "FloatProgressModel",
          "model_module_version": "1.5.0",
          "state": {
            "_dom_classes": [],
            "_model_module": "@jupyter-widgets/controls",
            "_model_module_version": "1.5.0",
            "_model_name": "FloatProgressModel",
            "_view_count": null,
            "_view_module": "@jupyter-widgets/controls",
            "_view_module_version": "1.5.0",
            "_view_name": "ProgressView",
            "bar_style": "success",
            "description": "",
            "description_tooltip": null,
            "layout": "IPY_MODEL_867575f4d754461ca37347097523d6a8",
            "max": 200,
            "min": 0,
            "orientation": "horizontal",
            "style": "IPY_MODEL_1721f9cbd04c441eaadbbe465d98e587",
            "value": 200
          }
        },
        "be2dbe80820f40c9b6df3aa7b241bda3": {
          "model_module": "@jupyter-widgets/controls",
          "model_name": "HTMLModel",
          "model_module_version": "1.5.0",
          "state": {
            "_dom_classes": [],
            "_model_module": "@jupyter-widgets/controls",
            "_model_module_version": "1.5.0",
            "_model_name": "HTMLModel",
            "_view_count": null,
            "_view_module": "@jupyter-widgets/controls",
            "_view_module_version": "1.5.0",
            "_view_name": "HTMLView",
            "description": "",
            "description_tooltip": null,
            "layout": "IPY_MODEL_a271438ba1924e00b7377ca99661877f",
            "placeholder": "​",
            "style": "IPY_MODEL_18c74944f96d4807beab09761bb64779",
            "value": " 200/200 [12:14&lt;00:00,  3.57s/it]"
          }
        },
        "86aec8743ed245c193f4dc0cfafc2d0b": {
          "model_module": "@jupyter-widgets/base",
          "model_name": "LayoutModel",
          "model_module_version": "1.2.0",
          "state": {
            "_model_module": "@jupyter-widgets/base",
            "_model_module_version": "1.2.0",
            "_model_name": "LayoutModel",
            "_view_count": null,
            "_view_module": "@jupyter-widgets/base",
            "_view_module_version": "1.2.0",
            "_view_name": "LayoutView",
            "align_content": null,
            "align_items": null,
            "align_self": null,
            "border": null,
            "bottom": null,
            "display": null,
            "flex": null,
            "flex_flow": null,
            "grid_area": null,
            "grid_auto_columns": null,
            "grid_auto_flow": null,
            "grid_auto_rows": null,
            "grid_column": null,
            "grid_gap": null,
            "grid_row": null,
            "grid_template_areas": null,
            "grid_template_columns": null,
            "grid_template_rows": null,
            "height": null,
            "justify_content": null,
            "justify_items": null,
            "left": null,
            "margin": null,
            "max_height": null,
            "max_width": null,
            "min_height": null,
            "min_width": null,
            "object_fit": null,
            "object_position": null,
            "order": null,
            "overflow": null,
            "overflow_x": null,
            "overflow_y": null,
            "padding": null,
            "right": null,
            "top": null,
            "visibility": null,
            "width": null
          }
        },
        "1b47b12766c84e81988302416724aa89": {
          "model_module": "@jupyter-widgets/base",
          "model_name": "LayoutModel",
          "model_module_version": "1.2.0",
          "state": {
            "_model_module": "@jupyter-widgets/base",
            "_model_module_version": "1.2.0",
            "_model_name": "LayoutModel",
            "_view_count": null,
            "_view_module": "@jupyter-widgets/base",
            "_view_module_version": "1.2.0",
            "_view_name": "LayoutView",
            "align_content": null,
            "align_items": null,
            "align_self": null,
            "border": null,
            "bottom": null,
            "display": null,
            "flex": null,
            "flex_flow": null,
            "grid_area": null,
            "grid_auto_columns": null,
            "grid_auto_flow": null,
            "grid_auto_rows": null,
            "grid_column": null,
            "grid_gap": null,
            "grid_row": null,
            "grid_template_areas": null,
            "grid_template_columns": null,
            "grid_template_rows": null,
            "height": null,
            "justify_content": null,
            "justify_items": null,
            "left": null,
            "margin": null,
            "max_height": null,
            "max_width": null,
            "min_height": null,
            "min_width": null,
            "object_fit": null,
            "object_position": null,
            "order": null,
            "overflow": null,
            "overflow_x": null,
            "overflow_y": null,
            "padding": null,
            "right": null,
            "top": null,
            "visibility": null,
            "width": null
          }
        },
        "57141d8a5d4c4ba79d1a0fef0845caf8": {
          "model_module": "@jupyter-widgets/controls",
          "model_name": "DescriptionStyleModel",
          "model_module_version": "1.5.0",
          "state": {
            "_model_module": "@jupyter-widgets/controls",
            "_model_module_version": "1.5.0",
            "_model_name": "DescriptionStyleModel",
            "_view_count": null,
            "_view_module": "@jupyter-widgets/base",
            "_view_module_version": "1.2.0",
            "_view_name": "StyleView",
            "description_width": ""
          }
        },
        "867575f4d754461ca37347097523d6a8": {
          "model_module": "@jupyter-widgets/base",
          "model_name": "LayoutModel",
          "model_module_version": "1.2.0",
          "state": {
            "_model_module": "@jupyter-widgets/base",
            "_model_module_version": "1.2.0",
            "_model_name": "LayoutModel",
            "_view_count": null,
            "_view_module": "@jupyter-widgets/base",
            "_view_module_version": "1.2.0",
            "_view_name": "LayoutView",
            "align_content": null,
            "align_items": null,
            "align_self": null,
            "border": null,
            "bottom": null,
            "display": null,
            "flex": null,
            "flex_flow": null,
            "grid_area": null,
            "grid_auto_columns": null,
            "grid_auto_flow": null,
            "grid_auto_rows": null,
            "grid_column": null,
            "grid_gap": null,
            "grid_row": null,
            "grid_template_areas": null,
            "grid_template_columns": null,
            "grid_template_rows": null,
            "height": null,
            "justify_content": null,
            "justify_items": null,
            "left": null,
            "margin": null,
            "max_height": null,
            "max_width": null,
            "min_height": null,
            "min_width": null,
            "object_fit": null,
            "object_position": null,
            "order": null,
            "overflow": null,
            "overflow_x": null,
            "overflow_y": null,
            "padding": null,
            "right": null,
            "top": null,
            "visibility": null,
            "width": null
          }
        },
        "1721f9cbd04c441eaadbbe465d98e587": {
          "model_module": "@jupyter-widgets/controls",
          "model_name": "ProgressStyleModel",
          "model_module_version": "1.5.0",
          "state": {
            "_model_module": "@jupyter-widgets/controls",
            "_model_module_version": "1.5.0",
            "_model_name": "ProgressStyleModel",
            "_view_count": null,
            "_view_module": "@jupyter-widgets/base",
            "_view_module_version": "1.2.0",
            "_view_name": "StyleView",
            "bar_color": null,
            "description_width": ""
          }
        },
        "a271438ba1924e00b7377ca99661877f": {
          "model_module": "@jupyter-widgets/base",
          "model_name": "LayoutModel",
          "model_module_version": "1.2.0",
          "state": {
            "_model_module": "@jupyter-widgets/base",
            "_model_module_version": "1.2.0",
            "_model_name": "LayoutModel",
            "_view_count": null,
            "_view_module": "@jupyter-widgets/base",
            "_view_module_version": "1.2.0",
            "_view_name": "LayoutView",
            "align_content": null,
            "align_items": null,
            "align_self": null,
            "border": null,
            "bottom": null,
            "display": null,
            "flex": null,
            "flex_flow": null,
            "grid_area": null,
            "grid_auto_columns": null,
            "grid_auto_flow": null,
            "grid_auto_rows": null,
            "grid_column": null,
            "grid_gap": null,
            "grid_row": null,
            "grid_template_areas": null,
            "grid_template_columns": null,
            "grid_template_rows": null,
            "height": null,
            "justify_content": null,
            "justify_items": null,
            "left": null,
            "margin": null,
            "max_height": null,
            "max_width": null,
            "min_height": null,
            "min_width": null,
            "object_fit": null,
            "object_position": null,
            "order": null,
            "overflow": null,
            "overflow_x": null,
            "overflow_y": null,
            "padding": null,
            "right": null,
            "top": null,
            "visibility": null,
            "width": null
          }
        },
        "18c74944f96d4807beab09761bb64779": {
          "model_module": "@jupyter-widgets/controls",
          "model_name": "DescriptionStyleModel",
          "model_module_version": "1.5.0",
          "state": {
            "_model_module": "@jupyter-widgets/controls",
            "_model_module_version": "1.5.0",
            "_model_name": "DescriptionStyleModel",
            "_view_count": null,
            "_view_module": "@jupyter-widgets/base",
            "_view_module_version": "1.2.0",
            "_view_name": "StyleView",
            "description_width": ""
          }
        }
      }
    }
  },
  "nbformat": 4,
  "nbformat_minor": 0
}